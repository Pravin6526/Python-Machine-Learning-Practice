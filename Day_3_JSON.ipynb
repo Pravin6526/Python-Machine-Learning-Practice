{
 "cells": [
  {
   "cell_type": "code",
   "execution_count": 1,
   "id": "1f37dda5",
   "metadata": {},
   "outputs": [
    {
     "data": {
      "text/plain": [
       "'C:\\\\Users\\\\2000139\\\\Python practice\\\\Machine Lerning Practice'"
      ]
     },
     "execution_count": 1,
     "metadata": {},
     "output_type": "execute_result"
    }
   ],
   "source": [
    "pwd"
   ]
  },
  {
   "cell_type": "code",
   "execution_count": 2,
   "id": "b8225aad",
   "metadata": {},
   "outputs": [
    {
     "data": {
      "text/plain": [
       "'C:\\\\Users\\\\2000139\\\\Python practice\\\\Machine Lerning Practice'"
      ]
     },
     "execution_count": 2,
     "metadata": {},
     "output_type": "execute_result"
    }
   ],
   "source": [
    "import os\n",
    "os.getcwd()"
   ]
  },
  {
   "cell_type": "code",
   "execution_count": 3,
   "id": "60b5c69d",
   "metadata": {},
   "outputs": [],
   "source": [
    "#change directory \n",
    "os.chdir(\"C://Users//2000139//Downloads\")"
   ]
  },
  {
   "cell_type": "code",
   "execution_count": 4,
   "id": "4a87c582",
   "metadata": {},
   "outputs": [
    {
     "data": {
      "text/plain": [
       "'C:\\\\Users\\\\2000139\\\\Downloads'"
      ]
     },
     "execution_count": 4,
     "metadata": {},
     "output_type": "execute_result"
    }
   ],
   "source": [
    "pwd"
   ]
  },
  {
   "cell_type": "code",
   "execution_count": 5,
   "id": "6ee6bd3a",
   "metadata": {},
   "outputs": [],
   "source": [
    "import json\n",
    "data=json.load(open(\"data.json\"))"
   ]
  },
  {
   "cell_type": "code",
   "execution_count": 6,
   "id": "c3309226",
   "metadata": {},
   "outputs": [
    {
     "data": {
      "text/plain": [
       "list"
      ]
     },
     "execution_count": 6,
     "metadata": {},
     "output_type": "execute_result"
    }
   ],
   "source": [
    "type(data)"
   ]
  },
  {
   "cell_type": "code",
   "execution_count": 7,
   "id": "30eb5f7e",
   "metadata": {},
   "outputs": [
    {
     "data": {
      "text/plain": [
       "{'id': '0002',\n",
       " 'type': 'donut',\n",
       " 'name': 'Raised',\n",
       " 'ppu': 0.55,\n",
       " 'batters': {'batter': [{'id': '1001', 'type': 'Regular'}]},\n",
       " 'topping': [{'id': '5001', 'type': 'None'},\n",
       "  {'id': '5002', 'type': 'Glazed'},\n",
       "  {'id': '5005', 'type': 'Sugar'},\n",
       "  {'id': '5003', 'type': 'Chocolate'},\n",
       "  {'id': '5004', 'type': 'Maple'}]}"
      ]
     },
     "execution_count": 7,
     "metadata": {},
     "output_type": "execute_result"
    }
   ],
   "source": [
    "data[1]"
   ]
  },
  {
   "cell_type": "code",
   "execution_count": 8,
   "id": "ae8ce48a",
   "metadata": {},
   "outputs": [
    {
     "data": {
      "text/plain": [
       "'0002'"
      ]
     },
     "execution_count": 8,
     "metadata": {},
     "output_type": "execute_result"
    }
   ],
   "source": [
    "data[1]['id']"
   ]
  },
  {
   "cell_type": "code",
   "execution_count": 9,
   "id": "0d23e555",
   "metadata": {},
   "outputs": [
    {
     "data": {
      "text/plain": [
       "{'batter': [{'id': '1001', 'type': 'Regular'}]}"
      ]
     },
     "execution_count": 9,
     "metadata": {},
     "output_type": "execute_result"
    }
   ],
   "source": [
    "data[1]['batters']"
   ]
  },
  {
   "cell_type": "code",
   "execution_count": 10,
   "id": "c8d9af79",
   "metadata": {},
   "outputs": [
    {
     "name": "stdout",
     "output_type": "stream",
     "text": [
      "Enter your word :id\n"
     ]
    },
    {
     "ename": "TypeError",
     "evalue": "list indices must be integers or slices, not str",
     "output_type": "error",
     "traceback": [
      "\u001b[1;31m---------------------------------------------------------------------------\u001b[0m",
      "\u001b[1;31mTypeError\u001b[0m                                 Traceback (most recent call last)",
      "\u001b[1;32m~\\AppData\\Local\\Temp\\ipykernel_7436\\278599005.py\u001b[0m in \u001b[0;36m<cell line: 6>\u001b[1;34m()\u001b[0m\n\u001b[0;32m      4\u001b[0m     \u001b[1;32mreturn\u001b[0m \u001b[0mdata\u001b[0m\u001b[1;33m[\u001b[0m\u001b[0mw\u001b[0m\u001b[1;33m]\u001b[0m\u001b[1;33m\u001b[0m\u001b[1;33m\u001b[0m\u001b[0m\n\u001b[0;32m      5\u001b[0m \u001b[0mword\u001b[0m\u001b[1;33m=\u001b[0m\u001b[0minput\u001b[0m\u001b[1;33m(\u001b[0m\u001b[1;34m\"Enter your word :\"\u001b[0m\u001b[1;33m)\u001b[0m\u001b[1;33m\u001b[0m\u001b[1;33m\u001b[0m\u001b[0m\n\u001b[1;32m----> 6\u001b[1;33m \u001b[0mmeaning\u001b[0m\u001b[1;33m(\u001b[0m\u001b[0mword\u001b[0m\u001b[1;33m)\u001b[0m\u001b[1;33m\u001b[0m\u001b[1;33m\u001b[0m\u001b[0m\n\u001b[0m",
      "\u001b[1;32m~\\AppData\\Local\\Temp\\ipykernel_7436\\278599005.py\u001b[0m in \u001b[0;36mmeaning\u001b[1;34m(w)\u001b[0m\n\u001b[0;32m      2\u001b[0m \u001b[0mdata\u001b[0m\u001b[1;33m=\u001b[0m\u001b[0mjson\u001b[0m\u001b[1;33m.\u001b[0m\u001b[0mload\u001b[0m\u001b[1;33m(\u001b[0m\u001b[0mopen\u001b[0m\u001b[1;33m(\u001b[0m\u001b[1;34m\"data.json\"\u001b[0m\u001b[1;33m)\u001b[0m\u001b[1;33m)\u001b[0m\u001b[1;33m\u001b[0m\u001b[1;33m\u001b[0m\u001b[0m\n\u001b[0;32m      3\u001b[0m \u001b[1;32mdef\u001b[0m \u001b[0mmeaning\u001b[0m\u001b[1;33m(\u001b[0m\u001b[0mw\u001b[0m\u001b[1;33m)\u001b[0m\u001b[1;33m:\u001b[0m\u001b[1;33m\u001b[0m\u001b[1;33m\u001b[0m\u001b[0m\n\u001b[1;32m----> 4\u001b[1;33m     \u001b[1;32mreturn\u001b[0m \u001b[0mdata\u001b[0m\u001b[1;33m[\u001b[0m\u001b[0mw\u001b[0m\u001b[1;33m]\u001b[0m\u001b[1;33m\u001b[0m\u001b[1;33m\u001b[0m\u001b[0m\n\u001b[0m\u001b[0;32m      5\u001b[0m \u001b[0mword\u001b[0m\u001b[1;33m=\u001b[0m\u001b[0minput\u001b[0m\u001b[1;33m(\u001b[0m\u001b[1;34m\"Enter your word :\"\u001b[0m\u001b[1;33m)\u001b[0m\u001b[1;33m\u001b[0m\u001b[1;33m\u001b[0m\u001b[0m\n\u001b[0;32m      6\u001b[0m \u001b[0mmeaning\u001b[0m\u001b[1;33m(\u001b[0m\u001b[0mword\u001b[0m\u001b[1;33m)\u001b[0m\u001b[1;33m\u001b[0m\u001b[1;33m\u001b[0m\u001b[0m\n",
      "\u001b[1;31mTypeError\u001b[0m: list indices must be integers or slices, not str"
     ]
    }
   ],
   "source": [
    "import json\n",
    "data=json.load(open(\"data.json\"))\n",
    "def meaning(w):\n",
    "    return data[w]\n",
    "word=input(\"Enter your word :\")\n",
    "meaning(word)               "
   ]
  },
  {
   "cell_type": "code",
   "execution_count": 11,
   "id": "16ddfd49",
   "metadata": {},
   "outputs": [
    {
     "name": "stdout",
     "output_type": "stream",
     "text": [
      "Enter your word :id\n"
     ]
    },
    {
     "data": {
      "text/plain": [
       "'The word does not exists'"
      ]
     },
     "execution_count": 11,
     "metadata": {},
     "output_type": "execute_result"
    }
   ],
   "source": [
    "import json\n",
    "data=json.load(open(\"data.json\"))\n",
    "def meaning(w):\n",
    "    if w in data:\n",
    "        return data[w]\n",
    "    else:\n",
    "        return \"The word does not exists\"\n",
    "word=input(\"Enter your word :\")\n",
    "meaning(word) "
   ]
  },
  {
   "cell_type": "code",
   "execution_count": 13,
   "id": "c8a8c653",
   "metadata": {},
   "outputs": [
    {
     "name": "stdout",
     "output_type": "stream",
     "text": [
      "Enter your word :id\n"
     ]
    },
    {
     "data": {
      "text/plain": [
       "'The word does not exists'"
      ]
     },
     "execution_count": 13,
     "metadata": {},
     "output_type": "execute_result"
    }
   ],
   "source": [
    "import json\n",
    "data=json.load(open(\"data.json\"))\n",
    "def meaning(w):\n",
    "    w=w.lower()\n",
    "    if w in data:\n",
    "        return data[w]\n",
    "    else:\n",
    "        return \"The word does not exists\"\n",
    "word=input(\"Enter your word :\")\n",
    "meaning(word) "
   ]
  },
  {
   "cell_type": "code",
   "execution_count": null,
   "id": "c385d8bb",
   "metadata": {},
   "outputs": [],
   "source": [
    "#to check/to find similar suggestions\n",
    "import json\n",
    "from difflib import get_close_matches\n",
    "data=json.load(open(\"data.json\"))\n",
    "def meaning(w):\n",
    "    w=w.lower()\n",
    "    if w in data:\n",
    "        return data[w]\n",
    "    elif len(get_close_matches(w,data.keys()))>0:\n",
    "            return \"Did you mean %s instead ?\"%get_close_matches(w,data.keys())[0]\n",
    "    else:\n",
    "        return \"The word does not exists\"\n",
    "word=input(\"Enter your word :\")\n",
    "meaning(word)  "
   ]
  },
  {
   "cell_type": "code",
   "execution_count": null,
   "id": "08629578",
   "metadata": {},
   "outputs": [],
   "source": [
    "#get confrimation from user\n",
    "import json\n",
    "from difflib import get_close_matches\n",
    "data=json.load(open(\"data.json\"))\n",
    "def meaning(w):\n",
    "    w=w.lower()\n",
    "    if w in data:\n",
    "        return data[w]\n",
    "    elif len(get_close_matches(w,data.keys()))>0:\n",
    "            response= input(\"Did you mean %s instead ?(Enter y for Yes and n for No)\"%get_close_matches(w,data.keys())[0])\n",
    "            if response=='y':\n",
    "                return data[get_close_matches(w,data.keys())[0]]\n",
    "            elif response=='n': \n",
    "                return \"The word is not present.please double check it .\"\n",
    "            else:\n",
    "                return \"we didn't understand your entry...!!!\"\n",
    "    else:\n",
    "        return \"The word does not exists\"\n",
    "word=input(\"Enter your word :\")\n",
    "meaning(word) "
   ]
  },
  {
   "cell_type": "code",
   "execution_count": null,
   "id": "49e54193",
   "metadata": {},
   "outputs": [],
   "source": []
  }
 ],
 "metadata": {
  "kernelspec": {
   "display_name": "Python 3 (ipykernel)",
   "language": "python",
   "name": "python3"
  },
  "language_info": {
   "codemirror_mode": {
    "name": "ipython",
    "version": 3
   },
   "file_extension": ".py",
   "mimetype": "text/x-python",
   "name": "python",
   "nbconvert_exporter": "python",
   "pygments_lexer": "ipython3",
   "version": "3.8.10"
  }
 },
 "nbformat": 4,
 "nbformat_minor": 5
}
