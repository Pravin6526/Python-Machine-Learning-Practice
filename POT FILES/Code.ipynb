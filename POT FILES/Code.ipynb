{
 "cells": [
  {
   "cell_type": "code",
   "execution_count": 1,
   "id": "0fb126c6",
   "metadata": {},
   "outputs": [],
   "source": [
    "import warnings\n",
    "warnings.filterwarnings(\"ignore\")"
   ]
  },
  {
   "cell_type": "code",
   "execution_count": 2,
   "id": "1f635ac0",
   "metadata": {},
   "outputs": [],
   "source": [
    "import pandas as pd\n",
    "import numpy as np\n",
    "import matplotlib.pyplot as plt\n",
    "%matplotlib inline"
   ]
  },
  {
   "cell_type": "code",
   "execution_count": 74,
   "id": "f18ac800",
   "metadata": {},
   "outputs": [
    {
     "data": {
      "text/html": [
       "        <script type=\"text/javascript\">\n",
       "        window.PlotlyConfig = {MathJaxConfig: 'local'};\n",
       "        if (window.MathJax) {MathJax.Hub.Config({SVG: {font: \"STIX-Web\"}});}\n",
       "        if (typeof require !== 'undefined') {\n",
       "        require.undef(\"plotly\");\n",
       "        requirejs.config({\n",
       "            paths: {\n",
       "                'plotly': ['https://cdn.plot.ly/plotly-2.8.3.min']\n",
       "            }\n",
       "        });\n",
       "        require(['plotly'], function(Plotly) {\n",
       "            window._Plotly = Plotly;\n",
       "        });\n",
       "        }\n",
       "        </script>\n",
       "        "
      ]
     },
     "metadata": {},
     "output_type": "display_data"
    },
    {
     "data": {
      "text/html": [
       "        <script type=\"text/javascript\">\n",
       "        window.PlotlyConfig = {MathJaxConfig: 'local'};\n",
       "        if (window.MathJax) {MathJax.Hub.Config({SVG: {font: \"STIX-Web\"}});}\n",
       "        if (typeof require !== 'undefined') {\n",
       "        require.undef(\"plotly\");\n",
       "        requirejs.config({\n",
       "            paths: {\n",
       "                'plotly': ['https://cdn.plot.ly/plotly-2.8.3.min']\n",
       "            }\n",
       "        });\n",
       "        require(['plotly'], function(Plotly) {\n",
       "            window._Plotly = Plotly;\n",
       "        });\n",
       "        }\n",
       "        </script>\n",
       "        "
      ]
     },
     "metadata": {},
     "output_type": "display_data"
    }
   ],
   "source": [
    "#Working on plotly\n",
    "import chart_studio.plotly as py\n",
    "import cufflinks as cf\n",
    "import plotly.express as px\n",
    "import plotly.graph_objs as go\n",
    "from plotly.offline import download_plotlyjs, init_notebook_mode,plot,iplot\n",
    "init_notebook_mode(connected=True)\n",
    "cf.go_offline()"
   ]
  },
  {
   "cell_type": "code",
   "execution_count": 86,
   "id": "19ee2724",
   "metadata": {},
   "outputs": [
    {
     "data": {
      "text/html": [
       "<div>\n",
       "<style scoped>\n",
       "    .dataframe tbody tr th:only-of-type {\n",
       "        vertical-align: middle;\n",
       "    }\n",
       "\n",
       "    .dataframe tbody tr th {\n",
       "        vertical-align: top;\n",
       "    }\n",
       "\n",
       "    .dataframe thead th {\n",
       "        text-align: right;\n",
       "    }\n",
       "</style>\n",
       "<table border=\"1\" class=\"dataframe\">\n",
       "  <thead>\n",
       "    <tr style=\"text-align: right;\">\n",
       "      <th></th>\n",
       "      <th>Number of points: 8192</th>\n",
       "    </tr>\n",
       "  </thead>\n",
       "  <tbody>\n",
       "    <tr>\n",
       "      <th>0</th>\n",
       "      <td>Sampling rate(Hz): 1562.5</td>\n",
       "    </tr>\n",
       "    <tr>\n",
       "      <th>1</th>\n",
       "      <td>Time range: From: 07/01/2018 08:00:12; Until: ...</td>\n",
       "    </tr>\n",
       "    <tr>\n",
       "      <th>2</th>\n",
       "      <td>Units: g</td>\n",
       "    </tr>\n",
       "    <tr>\n",
       "      <th>3</th>\n",
       "      <td>01.07.2018 08:00:12.7250048\\t0.776226</td>\n",
       "    </tr>\n",
       "    <tr>\n",
       "      <th>4</th>\n",
       "      <td>01.07.2018 08:00:12.7256448\\t0.8002694</td>\n",
       "    </tr>\n",
       "  </tbody>\n",
       "</table>\n",
       "</div>"
      ],
      "text/plain": [
       "                              Number of points: 8192\n",
       "0                          Sampling rate(Hz): 1562.5\n",
       "1  Time range: From: 07/01/2018 08:00:12; Until: ...\n",
       "2                                           Units: g\n",
       "3              01.07.2018 08:00:12.7250048\\t0.776226\n",
       "4             01.07.2018 08:00:12.7256448\\t0.8002694"
      ]
     },
     "execution_count": 86,
     "metadata": {},
     "output_type": "execute_result"
    }
   ],
   "source": [
    "df=pd.read_csv(r\"C:\\Users\\1899647\\VA_HF\\ShurovoData_2018H2\\ENV3_1.txt\")\n",
    "df.head()"
   ]
  },
  {
   "cell_type": "code",
   "execution_count": 90,
   "id": "2e50d946",
   "metadata": {},
   "outputs": [
    {
     "data": {
      "text/html": [
       "<div>\n",
       "<style scoped>\n",
       "    .dataframe tbody tr th:only-of-type {\n",
       "        vertical-align: middle;\n",
       "    }\n",
       "\n",
       "    .dataframe tbody tr th {\n",
       "        vertical-align: top;\n",
       "    }\n",
       "\n",
       "    .dataframe thead th {\n",
       "        text-align: right;\n",
       "    }\n",
       "</style>\n",
       "<table border=\"1\" class=\"dataframe\">\n",
       "  <thead>\n",
       "    <tr style=\"text-align: right;\">\n",
       "      <th></th>\n",
       "      <th>ENV3_1</th>\n",
       "    </tr>\n",
       "  </thead>\n",
       "  <tbody>\n",
       "    <tr>\n",
       "      <th>0</th>\n",
       "      <td>Sampling rate(Hz): 1562.5</td>\n",
       "    </tr>\n",
       "    <tr>\n",
       "      <th>1</th>\n",
       "      <td>Time range: From: 07/01/2018 08:00:12; Until: ...</td>\n",
       "    </tr>\n",
       "    <tr>\n",
       "      <th>2</th>\n",
       "      <td>Units: g</td>\n",
       "    </tr>\n",
       "    <tr>\n",
       "      <th>3</th>\n",
       "      <td>01.07.2018 08:00:12.7250048\\t0.776226</td>\n",
       "    </tr>\n",
       "    <tr>\n",
       "      <th>4</th>\n",
       "      <td>01.07.2018 08:00:12.7256448\\t0.8002694</td>\n",
       "    </tr>\n",
       "  </tbody>\n",
       "</table>\n",
       "</div>"
      ],
      "text/plain": [
       "                                              ENV3_1\n",
       "0                          Sampling rate(Hz): 1562.5\n",
       "1  Time range: From: 07/01/2018 08:00:12; Until: ...\n",
       "2                                           Units: g\n",
       "3              01.07.2018 08:00:12.7250048\\t0.776226\n",
       "4             01.07.2018 08:00:12.7256448\\t0.8002694"
      ]
     },
     "execution_count": 90,
     "metadata": {},
     "output_type": "execute_result"
    }
   ],
   "source": [
    "df.columns=['ENV3_1']\n",
    "df.head()"
   ]
  },
  {
   "cell_type": "code",
   "execution_count": 91,
   "id": "266ca518",
   "metadata": {},
   "outputs": [],
   "source": [
    "#print(df[df['DISPL_X_MAX_T_1'].str.contains(r'[^A-Z^a-z]')])"
   ]
  },
  {
   "cell_type": "code",
   "execution_count": 92,
   "id": "72f6e664",
   "metadata": {},
   "outputs": [],
   "source": [
    "df = pd.DataFrame(df['ENV3_1'].str.split('\\t',2).tolist())"
   ]
  },
  {
   "cell_type": "code",
   "execution_count": 93,
   "id": "fd629d3a",
   "metadata": {},
   "outputs": [
    {
     "data": {
      "text/html": [
       "<div>\n",
       "<style scoped>\n",
       "    .dataframe tbody tr th:only-of-type {\n",
       "        vertical-align: middle;\n",
       "    }\n",
       "\n",
       "    .dataframe tbody tr th {\n",
       "        vertical-align: top;\n",
       "    }\n",
       "\n",
       "    .dataframe thead th {\n",
       "        text-align: right;\n",
       "    }\n",
       "</style>\n",
       "<table border=\"1\" class=\"dataframe\">\n",
       "  <thead>\n",
       "    <tr style=\"text-align: right;\">\n",
       "      <th></th>\n",
       "      <th>0</th>\n",
       "      <th>1</th>\n",
       "    </tr>\n",
       "  </thead>\n",
       "  <tbody>\n",
       "    <tr>\n",
       "      <th>0</th>\n",
       "      <td>Sampling rate(Hz): 1562.5</td>\n",
       "      <td>None</td>\n",
       "    </tr>\n",
       "    <tr>\n",
       "      <th>1</th>\n",
       "      <td>Time range: From: 07/01/2018 08:00:12; Until: ...</td>\n",
       "      <td>None</td>\n",
       "    </tr>\n",
       "    <tr>\n",
       "      <th>2</th>\n",
       "      <td>Units: g</td>\n",
       "      <td>None</td>\n",
       "    </tr>\n",
       "    <tr>\n",
       "      <th>3</th>\n",
       "      <td>01.07.2018 08:00:12.7250048</td>\n",
       "      <td>0.776226</td>\n",
       "    </tr>\n",
       "    <tr>\n",
       "      <th>4</th>\n",
       "      <td>01.07.2018 08:00:12.7256448</td>\n",
       "      <td>0.8002694</td>\n",
       "    </tr>\n",
       "  </tbody>\n",
       "</table>\n",
       "</div>"
      ],
      "text/plain": [
       "                                                   0          1\n",
       "0                          Sampling rate(Hz): 1562.5       None\n",
       "1  Time range: From: 07/01/2018 08:00:12; Until: ...       None\n",
       "2                                           Units: g       None\n",
       "3                        01.07.2018 08:00:12.7250048   0.776226\n",
       "4                        01.07.2018 08:00:12.7256448  0.8002694"
      ]
     },
     "execution_count": 93,
     "metadata": {},
     "output_type": "execute_result"
    }
   ],
   "source": [
    "df.head()"
   ]
  },
  {
   "cell_type": "code",
   "execution_count": 94,
   "id": "d3f7e43a",
   "metadata": {},
   "outputs": [],
   "source": [
    "df.dropna(inplace=True)"
   ]
  },
  {
   "cell_type": "code",
   "execution_count": 95,
   "id": "96e48365",
   "metadata": {},
   "outputs": [
    {
     "data": {
      "text/html": [
       "<div>\n",
       "<style scoped>\n",
       "    .dataframe tbody tr th:only-of-type {\n",
       "        vertical-align: middle;\n",
       "    }\n",
       "\n",
       "    .dataframe tbody tr th {\n",
       "        vertical-align: top;\n",
       "    }\n",
       "\n",
       "    .dataframe thead th {\n",
       "        text-align: right;\n",
       "    }\n",
       "</style>\n",
       "<table border=\"1\" class=\"dataframe\">\n",
       "  <thead>\n",
       "    <tr style=\"text-align: right;\">\n",
       "      <th></th>\n",
       "      <th>0</th>\n",
       "      <th>1</th>\n",
       "    </tr>\n",
       "  </thead>\n",
       "  <tbody>\n",
       "    <tr>\n",
       "      <th>3</th>\n",
       "      <td>01.07.2018 08:00:12.7250048</td>\n",
       "      <td>0.776226</td>\n",
       "    </tr>\n",
       "    <tr>\n",
       "      <th>4</th>\n",
       "      <td>01.07.2018 08:00:12.7256448</td>\n",
       "      <td>0.8002694</td>\n",
       "    </tr>\n",
       "    <tr>\n",
       "      <th>5</th>\n",
       "      <td>01.07.2018 08:00:12.7262848</td>\n",
       "      <td>0.6360357</td>\n",
       "    </tr>\n",
       "    <tr>\n",
       "      <th>6</th>\n",
       "      <td>01.07.2018 08:00:12.7269248</td>\n",
       "      <td>0.6401045</td>\n",
       "    </tr>\n",
       "    <tr>\n",
       "      <th>7</th>\n",
       "      <td>01.07.2018 08:00:12.7275648</td>\n",
       "      <td>0.6530509</td>\n",
       "    </tr>\n",
       "  </tbody>\n",
       "</table>\n",
       "</div>"
      ],
      "text/plain": [
       "                             0          1\n",
       "3  01.07.2018 08:00:12.7250048   0.776226\n",
       "4  01.07.2018 08:00:12.7256448  0.8002694\n",
       "5  01.07.2018 08:00:12.7262848  0.6360357\n",
       "6  01.07.2018 08:00:12.7269248  0.6401045\n",
       "7  01.07.2018 08:00:12.7275648  0.6530509"
      ]
     },
     "execution_count": 95,
     "metadata": {},
     "output_type": "execute_result"
    }
   ],
   "source": [
    "df.head()"
   ]
  },
  {
   "cell_type": "code",
   "execution_count": 96,
   "id": "0d51f050",
   "metadata": {},
   "outputs": [
    {
     "data": {
      "text/html": [
       "<div>\n",
       "<style scoped>\n",
       "    .dataframe tbody tr th:only-of-type {\n",
       "        vertical-align: middle;\n",
       "    }\n",
       "\n",
       "    .dataframe tbody tr th {\n",
       "        vertical-align: top;\n",
       "    }\n",
       "\n",
       "    .dataframe thead th {\n",
       "        text-align: right;\n",
       "    }\n",
       "</style>\n",
       "<table border=\"1\" class=\"dataframe\">\n",
       "  <thead>\n",
       "    <tr style=\"text-align: right;\">\n",
       "      <th></th>\n",
       "      <th>0</th>\n",
       "      <th>1</th>\n",
       "    </tr>\n",
       "  </thead>\n",
       "  <tbody>\n",
       "    <tr>\n",
       "      <th>3</th>\n",
       "      <td>2018-01-07 08:00:12.725004</td>\n",
       "      <td>0.776226</td>\n",
       "    </tr>\n",
       "    <tr>\n",
       "      <th>4</th>\n",
       "      <td>2018-01-07 08:00:12.725644</td>\n",
       "      <td>0.8002694</td>\n",
       "    </tr>\n",
       "    <tr>\n",
       "      <th>5</th>\n",
       "      <td>2018-01-07 08:00:12.726284</td>\n",
       "      <td>0.6360357</td>\n",
       "    </tr>\n",
       "    <tr>\n",
       "      <th>6</th>\n",
       "      <td>2018-01-07 08:00:12.726924</td>\n",
       "      <td>0.6401045</td>\n",
       "    </tr>\n",
       "    <tr>\n",
       "      <th>7</th>\n",
       "      <td>2018-01-07 08:00:12.727564</td>\n",
       "      <td>0.6530509</td>\n",
       "    </tr>\n",
       "  </tbody>\n",
       "</table>\n",
       "</div>"
      ],
      "text/plain": [
       "                           0          1\n",
       "3 2018-01-07 08:00:12.725004   0.776226\n",
       "4 2018-01-07 08:00:12.725644  0.8002694\n",
       "5 2018-01-07 08:00:12.726284  0.6360357\n",
       "6 2018-01-07 08:00:12.726924  0.6401045\n",
       "7 2018-01-07 08:00:12.727564  0.6530509"
      ]
     },
     "execution_count": 96,
     "metadata": {},
     "output_type": "execute_result"
    }
   ],
   "source": [
    "df[0]=pd.to_datetime(df[0])\n",
    "df.head()"
   ]
  },
  {
   "cell_type": "code",
   "execution_count": 97,
   "id": "237e5ea6",
   "metadata": {},
   "outputs": [
    {
     "data": {
      "text/html": [
       "<div>\n",
       "<style scoped>\n",
       "    .dataframe tbody tr th:only-of-type {\n",
       "        vertical-align: middle;\n",
       "    }\n",
       "\n",
       "    .dataframe tbody tr th {\n",
       "        vertical-align: top;\n",
       "    }\n",
       "\n",
       "    .dataframe thead th {\n",
       "        text-align: right;\n",
       "    }\n",
       "</style>\n",
       "<table border=\"1\" class=\"dataframe\">\n",
       "  <thead>\n",
       "    <tr style=\"text-align: right;\">\n",
       "      <th></th>\n",
       "      <th>0</th>\n",
       "      <th>1</th>\n",
       "    </tr>\n",
       "    <tr>\n",
       "      <th>0</th>\n",
       "      <th></th>\n",
       "      <th></th>\n",
       "    </tr>\n",
       "  </thead>\n",
       "  <tbody>\n",
       "    <tr>\n",
       "      <th>2018-01-07 08:00:12.725004</th>\n",
       "      <td>2018-01-07 08:00:12.725004</td>\n",
       "      <td>0.776226</td>\n",
       "    </tr>\n",
       "    <tr>\n",
       "      <th>2018-01-07 08:00:12.725644</th>\n",
       "      <td>2018-01-07 08:00:12.725644</td>\n",
       "      <td>0.8002694</td>\n",
       "    </tr>\n",
       "    <tr>\n",
       "      <th>2018-01-07 08:00:12.726284</th>\n",
       "      <td>2018-01-07 08:00:12.726284</td>\n",
       "      <td>0.6360357</td>\n",
       "    </tr>\n",
       "    <tr>\n",
       "      <th>2018-01-07 08:00:12.726924</th>\n",
       "      <td>2018-01-07 08:00:12.726924</td>\n",
       "      <td>0.6401045</td>\n",
       "    </tr>\n",
       "    <tr>\n",
       "      <th>2018-01-07 08:00:12.727564</th>\n",
       "      <td>2018-01-07 08:00:12.727564</td>\n",
       "      <td>0.6530509</td>\n",
       "    </tr>\n",
       "  </tbody>\n",
       "</table>\n",
       "</div>"
      ],
      "text/plain": [
       "                                                    0          1\n",
       "0                                                               \n",
       "2018-01-07 08:00:12.725004 2018-01-07 08:00:12.725004   0.776226\n",
       "2018-01-07 08:00:12.725644 2018-01-07 08:00:12.725644  0.8002694\n",
       "2018-01-07 08:00:12.726284 2018-01-07 08:00:12.726284  0.6360357\n",
       "2018-01-07 08:00:12.726924 2018-01-07 08:00:12.726924  0.6401045\n",
       "2018-01-07 08:00:12.727564 2018-01-07 08:00:12.727564  0.6530509"
      ]
     },
     "execution_count": 97,
     "metadata": {},
     "output_type": "execute_result"
    }
   ],
   "source": [
    "df.index=df[0]\n",
    "df.head()"
   ]
  },
  {
   "cell_type": "code",
   "execution_count": 98,
   "id": "9bb1a185",
   "metadata": {},
   "outputs": [
    {
     "data": {
      "text/html": [
       "<div>\n",
       "<style scoped>\n",
       "    .dataframe tbody tr th:only-of-type {\n",
       "        vertical-align: middle;\n",
       "    }\n",
       "\n",
       "    .dataframe tbody tr th {\n",
       "        vertical-align: top;\n",
       "    }\n",
       "\n",
       "    .dataframe thead th {\n",
       "        text-align: right;\n",
       "    }\n",
       "</style>\n",
       "<table border=\"1\" class=\"dataframe\">\n",
       "  <thead>\n",
       "    <tr style=\"text-align: right;\">\n",
       "      <th></th>\n",
       "      <th>0</th>\n",
       "      <th>1</th>\n",
       "    </tr>\n",
       "  </thead>\n",
       "  <tbody>\n",
       "    <tr>\n",
       "      <th>2018-01-07</th>\n",
       "      <td>2018-01-07 08:00:12.725004</td>\n",
       "      <td>0.776226</td>\n",
       "    </tr>\n",
       "    <tr>\n",
       "      <th>2018-01-07</th>\n",
       "      <td>2018-01-07 08:00:12.725644</td>\n",
       "      <td>0.8002694</td>\n",
       "    </tr>\n",
       "    <tr>\n",
       "      <th>2018-01-07</th>\n",
       "      <td>2018-01-07 08:00:12.726284</td>\n",
       "      <td>0.6360357</td>\n",
       "    </tr>\n",
       "    <tr>\n",
       "      <th>2018-01-07</th>\n",
       "      <td>2018-01-07 08:00:12.726924</td>\n",
       "      <td>0.6401045</td>\n",
       "    </tr>\n",
       "    <tr>\n",
       "      <th>2018-01-07</th>\n",
       "      <td>2018-01-07 08:00:12.727564</td>\n",
       "      <td>0.6530509</td>\n",
       "    </tr>\n",
       "    <tr>\n",
       "      <th>...</th>\n",
       "      <td>...</td>\n",
       "      <td>...</td>\n",
       "    </tr>\n",
       "    <tr>\n",
       "      <th>2018-01-12</th>\n",
       "      <td>2018-01-12 18:00:05.249676</td>\n",
       "      <td>1.004822</td>\n",
       "    </tr>\n",
       "    <tr>\n",
       "      <th>2018-01-12</th>\n",
       "      <td>2018-01-12 18:00:05.250316</td>\n",
       "      <td>1.018878</td>\n",
       "    </tr>\n",
       "    <tr>\n",
       "      <th>2018-01-12</th>\n",
       "      <td>2018-01-12 18:00:05.250956</td>\n",
       "      <td>1.004082</td>\n",
       "    </tr>\n",
       "    <tr>\n",
       "      <th>2018-01-12</th>\n",
       "      <td>2018-01-12 18:00:05.251596</td>\n",
       "      <td>1.064005</td>\n",
       "    </tr>\n",
       "    <tr>\n",
       "      <th>2018-01-12</th>\n",
       "      <td>2018-01-12 18:00:05.252236</td>\n",
       "      <td>0.9349113</td>\n",
       "    </tr>\n",
       "  </tbody>\n",
       "</table>\n",
       "<p>1893243 rows × 2 columns</p>\n",
       "</div>"
      ],
      "text/plain": [
       "                                    0          1\n",
       "2018-01-07 2018-01-07 08:00:12.725004   0.776226\n",
       "2018-01-07 2018-01-07 08:00:12.725644  0.8002694\n",
       "2018-01-07 2018-01-07 08:00:12.726284  0.6360357\n",
       "2018-01-07 2018-01-07 08:00:12.726924  0.6401045\n",
       "2018-01-07 2018-01-07 08:00:12.727564  0.6530509\n",
       "...                               ...        ...\n",
       "2018-01-12 2018-01-12 18:00:05.249676   1.004822\n",
       "2018-01-12 2018-01-12 18:00:05.250316   1.018878\n",
       "2018-01-12 2018-01-12 18:00:05.250956   1.004082\n",
       "2018-01-12 2018-01-12 18:00:05.251596   1.064005\n",
       "2018-01-12 2018-01-12 18:00:05.252236  0.9349113\n",
       "\n",
       "[1893243 rows x 2 columns]"
      ]
     },
     "execution_count": 98,
     "metadata": {},
     "output_type": "execute_result"
    }
   ],
   "source": [
    "df.index=df.index.date\n",
    "df"
   ]
  },
  {
   "cell_type": "code",
   "execution_count": 99,
   "id": "693e6c4c",
   "metadata": {},
   "outputs": [],
   "source": [
    "df.drop(columns=[0],inplace=True)"
   ]
  },
  {
   "cell_type": "code",
   "execution_count": 100,
   "id": "2d221836",
   "metadata": {},
   "outputs": [],
   "source": [
    "df.columns=['ENV3_1']"
   ]
  },
  {
   "cell_type": "code",
   "execution_count": 101,
   "id": "59172e95",
   "metadata": {},
   "outputs": [
    {
     "data": {
      "text/plain": [
       "ENV3_1    0\n",
       "dtype: int64"
      ]
     },
     "execution_count": 101,
     "metadata": {},
     "output_type": "execute_result"
    }
   ],
   "source": [
    "df.isnull().sum()"
   ]
  },
  {
   "cell_type": "code",
   "execution_count": 103,
   "id": "c91ab174",
   "metadata": {},
   "outputs": [
    {
     "name": "stdout",
     "output_type": "stream",
     "text": [
      "<class 'pandas.core.frame.DataFrame'>\n",
      "Index: 1893243 entries, 2018-01-07 to 2018-01-12\n",
      "Data columns (total 1 columns):\n",
      " #   Column  Dtype  \n",
      "---  ------  -----  \n",
      " 0   ENV3_1  float64\n",
      "dtypes: float64(1)\n",
      "memory usage: 28.9+ MB\n"
     ]
    }
   ],
   "source": [
    "df=df.astype({'ENV3_1':float,})\n",
    "df.info()"
   ]
  },
  {
   "cell_type": "code",
   "execution_count": 104,
   "id": "803d3c3a",
   "metadata": {},
   "outputs": [
    {
     "data": {
      "text/html": [
       "<div>\n",
       "<style scoped>\n",
       "    .dataframe tbody tr th:only-of-type {\n",
       "        vertical-align: middle;\n",
       "    }\n",
       "\n",
       "    .dataframe tbody tr th {\n",
       "        vertical-align: top;\n",
       "    }\n",
       "\n",
       "    .dataframe thead tr th {\n",
       "        text-align: left;\n",
       "    }\n",
       "</style>\n",
       "<table border=\"1\" class=\"dataframe\">\n",
       "  <thead>\n",
       "    <tr>\n",
       "      <th></th>\n",
       "      <th colspan=\"10\" halign=\"left\">ENV3_1</th>\n",
       "    </tr>\n",
       "    <tr>\n",
       "      <th></th>\n",
       "      <th>min</th>\n",
       "      <th>max</th>\n",
       "      <th>sum</th>\n",
       "      <th>mean</th>\n",
       "      <th>median</th>\n",
       "      <th>std</th>\n",
       "      <th>var</th>\n",
       "      <th>mad</th>\n",
       "      <th>prod</th>\n",
       "      <th>count</th>\n",
       "    </tr>\n",
       "  </thead>\n",
       "  <tbody>\n",
       "    <tr>\n",
       "      <th>2018-01-07</th>\n",
       "      <td>0.274278</td>\n",
       "      <td>1.709842</td>\n",
       "      <td>13520.819613</td>\n",
       "      <td>0.825245</td>\n",
       "      <td>0.805078</td>\n",
       "      <td>0.192405</td>\n",
       "      <td>0.037020</td>\n",
       "      <td>0.153314</td>\n",
       "      <td>0.0</td>\n",
       "      <td>16384</td>\n",
       "    </tr>\n",
       "    <tr>\n",
       "      <th>2018-01-09</th>\n",
       "      <td>0.226191</td>\n",
       "      <td>1.693937</td>\n",
       "      <td>20493.032722</td>\n",
       "      <td>0.833864</td>\n",
       "      <td>0.812846</td>\n",
       "      <td>0.196568</td>\n",
       "      <td>0.038639</td>\n",
       "      <td>0.155727</td>\n",
       "      <td>0.0</td>\n",
       "      <td>24576</td>\n",
       "    </tr>\n",
       "    <tr>\n",
       "      <th>2018-01-10</th>\n",
       "      <td>0.379328</td>\n",
       "      <td>1.679881</td>\n",
       "      <td>22067.573480</td>\n",
       "      <td>0.897932</td>\n",
       "      <td>0.879427</td>\n",
       "      <td>0.184195</td>\n",
       "      <td>0.033928</td>\n",
       "      <td>0.146896</td>\n",
       "      <td>0.0</td>\n",
       "      <td>24576</td>\n",
       "    </tr>\n",
       "    <tr>\n",
       "      <th>2018-01-12</th>\n",
       "      <td>0.321254</td>\n",
       "      <td>1.635494</td>\n",
       "      <td>21440.485619</td>\n",
       "      <td>0.872416</td>\n",
       "      <td>0.858343</td>\n",
       "      <td>0.199209</td>\n",
       "      <td>0.039684</td>\n",
       "      <td>0.159596</td>\n",
       "      <td>0.0</td>\n",
       "      <td>24576</td>\n",
       "    </tr>\n",
       "    <tr>\n",
       "      <th>2018-02-07</th>\n",
       "      <td>0.314966</td>\n",
       "      <td>1.599614</td>\n",
       "      <td>13646.657744</td>\n",
       "      <td>0.832926</td>\n",
       "      <td>0.812106</td>\n",
       "      <td>0.188584</td>\n",
       "      <td>0.035564</td>\n",
       "      <td>0.149501</td>\n",
       "      <td>0.0</td>\n",
       "      <td>16384</td>\n",
       "    </tr>\n",
       "    <tr>\n",
       "      <th>...</th>\n",
       "      <td>...</td>\n",
       "      <td>...</td>\n",
       "      <td>...</td>\n",
       "      <td>...</td>\n",
       "      <td>...</td>\n",
       "      <td>...</td>\n",
       "      <td>...</td>\n",
       "      <td>...</td>\n",
       "      <td>...</td>\n",
       "      <td>...</td>\n",
       "    </tr>\n",
       "    <tr>\n",
       "      <th>2018-11-25</th>\n",
       "      <td>0.299431</td>\n",
       "      <td>1.619588</td>\n",
       "      <td>20445.947631</td>\n",
       "      <td>0.831948</td>\n",
       "      <td>0.813955</td>\n",
       "      <td>0.187968</td>\n",
       "      <td>0.035332</td>\n",
       "      <td>0.149006</td>\n",
       "      <td>0.0</td>\n",
       "      <td>24576</td>\n",
       "    </tr>\n",
       "    <tr>\n",
       "      <th>2018-11-26</th>\n",
       "      <td>0.348627</td>\n",
       "      <td>1.651769</td>\n",
       "      <td>6918.387052</td>\n",
       "      <td>0.844530</td>\n",
       "      <td>0.828012</td>\n",
       "      <td>0.186348</td>\n",
       "      <td>0.034726</td>\n",
       "      <td>0.148620</td>\n",
       "      <td>0.0</td>\n",
       "      <td>8192</td>\n",
       "    </tr>\n",
       "    <tr>\n",
       "      <th>2018-11-27</th>\n",
       "      <td>0.360093</td>\n",
       "      <td>1.659907</td>\n",
       "      <td>14079.819181</td>\n",
       "      <td>0.859364</td>\n",
       "      <td>0.838738</td>\n",
       "      <td>0.181198</td>\n",
       "      <td>0.032833</td>\n",
       "      <td>0.144238</td>\n",
       "      <td>0.0</td>\n",
       "      <td>16384</td>\n",
       "    </tr>\n",
       "    <tr>\n",
       "      <th>2018-12-07</th>\n",
       "      <td>0.350106</td>\n",
       "      <td>1.698376</td>\n",
       "      <td>20429.163319</td>\n",
       "      <td>0.831265</td>\n",
       "      <td>0.810996</td>\n",
       "      <td>0.187895</td>\n",
       "      <td>0.035305</td>\n",
       "      <td>0.149296</td>\n",
       "      <td>0.0</td>\n",
       "      <td>24576</td>\n",
       "    </tr>\n",
       "    <tr>\n",
       "      <th>2018-12-09</th>\n",
       "      <td>0.353065</td>\n",
       "      <td>1.663975</td>\n",
       "      <td>21512.475905</td>\n",
       "      <td>0.875345</td>\n",
       "      <td>0.855939</td>\n",
       "      <td>0.186017</td>\n",
       "      <td>0.034602</td>\n",
       "      <td>0.148095</td>\n",
       "      <td>0.0</td>\n",
       "      <td>24576</td>\n",
       "    </tr>\n",
       "  </tbody>\n",
       "</table>\n",
       "<p>97 rows × 10 columns</p>\n",
       "</div>"
      ],
      "text/plain": [
       "              ENV3_1                                                        \\\n",
       "                 min       max           sum      mean    median       std   \n",
       "2018-01-07  0.274278  1.709842  13520.819613  0.825245  0.805078  0.192405   \n",
       "2018-01-09  0.226191  1.693937  20493.032722  0.833864  0.812846  0.196568   \n",
       "2018-01-10  0.379328  1.679881  22067.573480  0.897932  0.879427  0.184195   \n",
       "2018-01-12  0.321254  1.635494  21440.485619  0.872416  0.858343  0.199209   \n",
       "2018-02-07  0.314966  1.599614  13646.657744  0.832926  0.812106  0.188584   \n",
       "...              ...       ...           ...       ...       ...       ...   \n",
       "2018-11-25  0.299431  1.619588  20445.947631  0.831948  0.813955  0.187968   \n",
       "2018-11-26  0.348627  1.651769   6918.387052  0.844530  0.828012  0.186348   \n",
       "2018-11-27  0.360093  1.659907  14079.819181  0.859364  0.838738  0.181198   \n",
       "2018-12-07  0.350106  1.698376  20429.163319  0.831265  0.810996  0.187895   \n",
       "2018-12-09  0.353065  1.663975  21512.475905  0.875345  0.855939  0.186017   \n",
       "\n",
       "                                            \n",
       "                 var       mad prod  count  \n",
       "2018-01-07  0.037020  0.153314  0.0  16384  \n",
       "2018-01-09  0.038639  0.155727  0.0  24576  \n",
       "2018-01-10  0.033928  0.146896  0.0  24576  \n",
       "2018-01-12  0.039684  0.159596  0.0  24576  \n",
       "2018-02-07  0.035564  0.149501  0.0  16384  \n",
       "...              ...       ...  ...    ...  \n",
       "2018-11-25  0.035332  0.149006  0.0  24576  \n",
       "2018-11-26  0.034726  0.148620  0.0   8192  \n",
       "2018-11-27  0.032833  0.144238  0.0  16384  \n",
       "2018-12-07  0.035305  0.149296  0.0  24576  \n",
       "2018-12-09  0.034602  0.148095  0.0  24576  \n",
       "\n",
       "[97 rows x 10 columns]"
      ]
     },
     "execution_count": 104,
     "metadata": {},
     "output_type": "execute_result"
    }
   ],
   "source": [
    "final_df=df.groupby(df.index).agg({'ENV3_1':['min','max','sum','mean','median','std','var','mad','prod','count']})\n",
    "final_df"
   ]
  },
  {
   "cell_type": "code",
   "execution_count": 105,
   "id": "295ff906",
   "metadata": {},
   "outputs": [],
   "source": [
    "header = np.array(['Min','Max','Sum','Mean','Median', 'Standard deviation', 'Variance', 'Mean absolute deviation','Product','Count'])\n",
    "final_df.columns=header"
   ]
  },
  {
   "cell_type": "code",
   "execution_count": 106,
   "id": "33bf847a",
   "metadata": {},
   "outputs": [
    {
     "data": {
      "application/vnd.plotly.v1+json": {
       "config": {
        "plotlyServerURL": "https://plot.ly"
       },
       "data": [
        {
         "mode": "lines",
         "name": "ENV3_1(Max)",
         "type": "scatter",
         "x": [
          "2018-01-07",
          "2018-01-09",
          "2018-01-10",
          "2018-01-12",
          "2018-02-07",
          "2018-02-09",
          "2018-02-10",
          "2018-03-07",
          "2018-03-09",
          "2018-03-10",
          "2018-03-11",
          "2018-04-07",
          "2018-04-09",
          "2018-04-10",
          "2018-04-11",
          "2018-05-07",
          "2018-05-09",
          "2018-05-11",
          "2018-06-07",
          "2018-06-09",
          "2018-06-10",
          "2018-06-11",
          "2018-07-07",
          "2018-07-09",
          "2018-07-11",
          "2018-07-13",
          "2018-08-07",
          "2018-08-09",
          "2018-08-17",
          "2018-08-18",
          "2018-08-19",
          "2018-08-20",
          "2018-08-21",
          "2018-08-22",
          "2018-08-23",
          "2018-08-25",
          "2018-08-26",
          "2018-08-27",
          "2018-08-28",
          "2018-08-29",
          "2018-08-30",
          "2018-08-31",
          "2018-09-07",
          "2018-09-09",
          "2018-09-11",
          "2018-09-13",
          "2018-09-14",
          "2018-09-15",
          "2018-09-16",
          "2018-09-17",
          "2018-09-18",
          "2018-09-19",
          "2018-09-20",
          "2018-09-22",
          "2018-09-23",
          "2018-09-24",
          "2018-09-25",
          "2018-09-26",
          "2018-09-27",
          "2018-09-28",
          "2018-09-29",
          "2018-10-07",
          "2018-10-09",
          "2018-10-11",
          "2018-10-13",
          "2018-10-14",
          "2018-10-15",
          "2018-10-16",
          "2018-10-17",
          "2018-10-18",
          "2018-10-19",
          "2018-10-20",
          "2018-10-21",
          "2018-10-22",
          "2018-10-24",
          "2018-10-25",
          "2018-10-26",
          "2018-10-27",
          "2018-11-09",
          "2018-11-11",
          "2018-11-13",
          "2018-11-14",
          "2018-11-15",
          "2018-11-16",
          "2018-11-17",
          "2018-11-18",
          "2018-11-19",
          "2018-11-20",
          "2018-11-21",
          "2018-11-22",
          "2018-11-23",
          "2018-11-24",
          "2018-11-25",
          "2018-11-26",
          "2018-11-27",
          "2018-12-07",
          "2018-12-09"
         ],
         "y": [
          1.709842,
          1.693937,
          1.679881,
          1.635494,
          1.599614,
          1.651399,
          1.706144,
          1.605902,
          1.675072,
          1.677292,
          1.661386,
          1.547828,
          1.651399,
          1.736475,
          1.673223,
          1.669894,
          1.634384,
          1.626986,
          1.607012,
          1.657687,
          1.661016,
          1.691718,
          1.698006,
          1.68358,
          1.61367,
          1.634384,
          1.61219,
          1.705774,
          1.625507,
          1.623287,
          0.1784747,
          1.623287,
          1.668784,
          1.736475,
          1.669524,
          1.740174,
          1.680251,
          1.637713,
          1.625876,
          1.709473,
          1.686909,
          1.629205,
          1.593695,
          1.671004,
          1.686539,
          1.668414,
          0.01239157,
          1.600353,
          1.720569,
          1.695047,
          1.57779,
          1.632165,
          1.725748,
          1.604052,
          1.668414,
          1.68321,
          1.671374,
          1.645851,
          1.688759,
          1.68321,
          1.619588,
          1.732406,
          1.665455,
          1.618109,
          1.698376,
          1.657317,
          1.701705,
          1.674333,
          1.618848,
          1.669524,
          1.631795,
          1.703184,
          1.623657,
          1.68506,
          1.662866,
          1.722789,
          1.608491,
          1.68284,
          1.638083,
          1.618109,
          1.674333,
          1.631425,
          1.709473,
          1.68506,
          1.709473,
          1.615149,
          1.679141,
          1.709473,
          1.628835,
          1.609971,
          1.696156,
          1.643261,
          1.619588,
          1.651769,
          1.659907,
          1.698376,
          1.663975
         ]
        },
        {
         "mode": "lines",
         "name": "ENV3_1(Min)",
         "type": "scatter",
         "x": [
          "2018-01-07",
          "2018-01-09",
          "2018-01-10",
          "2018-01-12",
          "2018-02-07",
          "2018-02-09",
          "2018-02-10",
          "2018-03-07",
          "2018-03-09",
          "2018-03-10",
          "2018-03-11",
          "2018-04-07",
          "2018-04-09",
          "2018-04-10",
          "2018-04-11",
          "2018-05-07",
          "2018-05-09",
          "2018-05-11",
          "2018-06-07",
          "2018-06-09",
          "2018-06-10",
          "2018-06-11",
          "2018-07-07",
          "2018-07-09",
          "2018-07-11",
          "2018-07-13",
          "2018-08-07",
          "2018-08-09",
          "2018-08-17",
          "2018-08-18",
          "2018-08-19",
          "2018-08-20",
          "2018-08-21",
          "2018-08-22",
          "2018-08-23",
          "2018-08-25",
          "2018-08-26",
          "2018-08-27",
          "2018-08-28",
          "2018-08-29",
          "2018-08-30",
          "2018-08-31",
          "2018-09-07",
          "2018-09-09",
          "2018-09-11",
          "2018-09-13",
          "2018-09-14",
          "2018-09-15",
          "2018-09-16",
          "2018-09-17",
          "2018-09-18",
          "2018-09-19",
          "2018-09-20",
          "2018-09-22",
          "2018-09-23",
          "2018-09-24",
          "2018-09-25",
          "2018-09-26",
          "2018-09-27",
          "2018-09-28",
          "2018-09-29",
          "2018-10-07",
          "2018-10-09",
          "2018-10-11",
          "2018-10-13",
          "2018-10-14",
          "2018-10-15",
          "2018-10-16",
          "2018-10-17",
          "2018-10-18",
          "2018-10-19",
          "2018-10-20",
          "2018-10-21",
          "2018-10-22",
          "2018-10-24",
          "2018-10-25",
          "2018-10-26",
          "2018-10-27",
          "2018-11-09",
          "2018-11-11",
          "2018-11-13",
          "2018-11-14",
          "2018-11-15",
          "2018-11-16",
          "2018-11-17",
          "2018-11-18",
          "2018-11-19",
          "2018-11-20",
          "2018-11-21",
          "2018-11-22",
          "2018-11-23",
          "2018-11-24",
          "2018-11-25",
          "2018-11-26",
          "2018-11-27",
          "2018-12-07",
          "2018-12-09"
         ],
         "y": [
          0.2742777,
          0.2261913,
          0.379328,
          0.3212545,
          0.3149662,
          0.3863561,
          0.3604634,
          0.2875938,
          0.3715603,
          0.333461,
          0.3279126,
          0.046422,
          0.3800678,
          0.2528238,
          0.3319814,
          0.2139847,
          0.3634226,
          0.3275425,
          0.2672496,
          0.3952336,
          0.3149662,
          0.2498646,
          0.1732962,
          0.4055905,
          0.2406173,
          0.4577458,
          0.3704505,
          0.3985627,
          0.3833969,
          0.3726699,
          0.04272294,
          0.3789582,
          0.4007819,
          0.04605198,
          0.40818,
          0.3367901,
          0.3512161,
          0.326803,
          0.3985627,
          0.3552849,
          0.3526955,
          0.4233456,
          0.3534353,
          0.3345706,
          0.05529952,
          0.01017213,
          0.01017213,
          0.3608332,
          0.2309999,
          0.3752592,
          0.3545451,
          0.4037411,
          0.3719301,
          0.3819172,
          0.3930142,
          0.05603933,
          0.3541751,
          0.3001704,
          0.4018917,
          0.2276709,
          0.3164458,
          0.2953618,
          0.3885753,
          0.3819172,
          0.3190351,
          0.3641622,
          0.3612032,
          0.3593538,
          0.04235315,
          0.3830271,
          0.3948636,
          0.2879639,
          0.3216243,
          0.3626828,
          0.329762,
          0.3656418,
          0.3693409,
          0.2683594,
          0.3959734,
          0.3464074,
          0.2091761,
          0.1784747,
          0.3785882,
          0.3005402,
          0.1855028,
          0.2894435,
          0.3397491,
          0.2942519,
          0.4266746,
          0.3057189,
          0.3364201,
          0.248755,
          0.2994306,
          0.3486266,
          0.3600934,
          0.3501062,
          0.3530655
         ]
        },
        {
         "mode": "lines",
         "name": "ENV3_1(Sum)",
         "type": "scatter",
         "x": [
          "2018-01-07",
          "2018-01-09",
          "2018-01-10",
          "2018-01-12",
          "2018-02-07",
          "2018-02-09",
          "2018-02-10",
          "2018-03-07",
          "2018-03-09",
          "2018-03-10",
          "2018-03-11",
          "2018-04-07",
          "2018-04-09",
          "2018-04-10",
          "2018-04-11",
          "2018-05-07",
          "2018-05-09",
          "2018-05-11",
          "2018-06-07",
          "2018-06-09",
          "2018-06-10",
          "2018-06-11",
          "2018-07-07",
          "2018-07-09",
          "2018-07-11",
          "2018-07-13",
          "2018-08-07",
          "2018-08-09",
          "2018-08-17",
          "2018-08-18",
          "2018-08-19",
          "2018-08-20",
          "2018-08-21",
          "2018-08-22",
          "2018-08-23",
          "2018-08-25",
          "2018-08-26",
          "2018-08-27",
          "2018-08-28",
          "2018-08-29",
          "2018-08-30",
          "2018-08-31",
          "2018-09-07",
          "2018-09-09",
          "2018-09-11",
          "2018-09-13",
          "2018-09-14",
          "2018-09-15",
          "2018-09-16",
          "2018-09-17",
          "2018-09-18",
          "2018-09-19",
          "2018-09-20",
          "2018-09-22",
          "2018-09-23",
          "2018-09-24",
          "2018-09-25",
          "2018-09-26",
          "2018-09-27",
          "2018-09-28",
          "2018-09-29",
          "2018-10-07",
          "2018-10-09",
          "2018-10-11",
          "2018-10-13",
          "2018-10-14",
          "2018-10-15",
          "2018-10-16",
          "2018-10-17",
          "2018-10-18",
          "2018-10-19",
          "2018-10-20",
          "2018-10-21",
          "2018-10-22",
          "2018-10-24",
          "2018-10-25",
          "2018-10-26",
          "2018-10-27",
          "2018-11-09",
          "2018-11-11",
          "2018-11-13",
          "2018-11-14",
          "2018-11-15",
          "2018-11-16",
          "2018-11-17",
          "2018-11-18",
          "2018-11-19",
          "2018-11-20",
          "2018-11-21",
          "2018-11-22",
          "2018-11-23",
          "2018-11-24",
          "2018-11-25",
          "2018-11-26",
          "2018-11-27",
          "2018-12-07",
          "2018-12-09"
         ],
         "y": [
          13520.8196135,
          20493.0327218,
          22067.5734803,
          21440.4856192,
          13646.6577437,
          21577.0507343,
          21004.4449243,
          13470.7198857,
          7135.6186221,
          21816.3950851,
          20585.9960356,
          4036.17623488,
          21492.5140836,
          19117.2599435,
          20988.1817575,
          12597.4554837,
          14101.7906457,
          20416.7352016,
          12392.500716,
          21779.8205505,
          20873.387949,
          19758.0124825,
          12356.2524665,
          21889.367705,
          20478.5439927,
          7395.2313391,
          6906.823005,
          14150.7418769,
          6659.1475444,
          7113.0546301,
          553.49711204,
          20927.5839658,
          14455.6528102,
          15140.94108382,
          21851.4951813,
          14209.3418888,
          14467.2271465,
          21086.6501798,
          7125.2541437,
          21243.7519388,
          21487.2171383,
          14506.5097354,
          6894.9086901,
          20475.4387055,
          7492.06162668,
          8006.38689784,
          184.08198843,
          14528.6061579,
          20721.4862394,
          21571.9058743,
          7126.860212,
          14218.7838302,
          21462.1315677,
          7125.4265156,
          21868.5111211,
          15039.56414986,
          22012.6583668,
          6904.9920305,
          21976.8857255,
          20083.6267428,
          14616.774115,
          13667.7632516,
          7200.5252983,
          14238.5721123,
          21753.7025737,
          21637.5997106,
          13806.8380826,
          14420.5940377,
          5886.41941555,
          21275.8458655,
          21427.265936,
          14621.9667389,
          21518.1789062,
          22327.6229642,
          21291.8760451,
          21577.3836416,
          13913.6602605,
          19830.5881697,
          22090.4759294,
          13834.1737479,
          18996.2149743,
          19707.7551117,
          13901.7577422,
          20457.1525364,
          13449.6565424,
          20644.5472321,
          20718.6206272,
          20574.9121399,
          7146.5390298,
          21362.498321,
          20581.0979184,
          13114.9757002,
          20445.9476309,
          6918.3870521,
          14079.819181,
          20429.1633188,
          21512.4759051
         ]
        },
        {
         "mode": "lines",
         "name": "ENV3_1(Median)",
         "type": "scatter",
         "x": [
          "2018-01-07",
          "2018-01-09",
          "2018-01-10",
          "2018-01-12",
          "2018-02-07",
          "2018-02-09",
          "2018-02-10",
          "2018-03-07",
          "2018-03-09",
          "2018-03-10",
          "2018-03-11",
          "2018-04-07",
          "2018-04-09",
          "2018-04-10",
          "2018-04-11",
          "2018-05-07",
          "2018-05-09",
          "2018-05-11",
          "2018-06-07",
          "2018-06-09",
          "2018-06-10",
          "2018-06-11",
          "2018-07-07",
          "2018-07-09",
          "2018-07-11",
          "2018-07-13",
          "2018-08-07",
          "2018-08-09",
          "2018-08-17",
          "2018-08-18",
          "2018-08-19",
          "2018-08-20",
          "2018-08-21",
          "2018-08-22",
          "2018-08-23",
          "2018-08-25",
          "2018-08-26",
          "2018-08-27",
          "2018-08-28",
          "2018-08-29",
          "2018-08-30",
          "2018-08-31",
          "2018-09-07",
          "2018-09-09",
          "2018-09-11",
          "2018-09-13",
          "2018-09-14",
          "2018-09-15",
          "2018-09-16",
          "2018-09-17",
          "2018-09-18",
          "2018-09-19",
          "2018-09-20",
          "2018-09-22",
          "2018-09-23",
          "2018-09-24",
          "2018-09-25",
          "2018-09-26",
          "2018-09-27",
          "2018-09-28",
          "2018-09-29",
          "2018-10-07",
          "2018-10-09",
          "2018-10-11",
          "2018-10-13",
          "2018-10-14",
          "2018-10-15",
          "2018-10-16",
          "2018-10-17",
          "2018-10-18",
          "2018-10-19",
          "2018-10-20",
          "2018-10-21",
          "2018-10-22",
          "2018-10-24",
          "2018-10-25",
          "2018-10-26",
          "2018-10-27",
          "2018-11-09",
          "2018-11-11",
          "2018-11-13",
          "2018-11-14",
          "2018-11-15",
          "2018-11-16",
          "2018-11-17",
          "2018-11-18",
          "2018-11-19",
          "2018-11-20",
          "2018-11-21",
          "2018-11-22",
          "2018-11-23",
          "2018-11-24",
          "2018-11-25",
          "2018-11-26",
          "2018-11-27",
          "2018-12-07",
          "2018-12-09"
         ],
         "y": [
          0.8050778,
          0.8128457,
          0.879427,
          0.8583429,
          0.8121059,
          0.8590827,
          0.8342996,
          0.8043382,
          0.8494654,
          0.8694398,
          0.8146951,
          0.4769804,
          0.8527944,
          0.7569914,
          0.8354094,
          0.7460796000000001,
          0.8405879,
          0.8091466,
          0.7329483,
          0.865001,
          0.8291211,
          0.7847335,
          0.7362773,
          0.8690698,
          0.8146951,
          0.8875647,
          0.8228328,
          0.8413277,
          0.783994,
          0.8465061,
          0.06565642,
          0.8291211,
          0.8587127,
          0.7458947,
          0.8664806,
          0.8446567,
          0.8609321,
          0.83319,
          0.8490956,
          0.8442869,
          0.8531644,
          0.8635213,
          0.8232028,
          0.8084071,
          0.24672044999999998,
          0.5971966,
          0.01128197,
          0.8672204,
          0.8269017,
          0.8561234,
          0.850575,
          0.8465061,
          0.8524246,
          0.847616,
          0.8698096,
          0.7320234999999999,
          0.8760979,
          0.8180242,
          0.8735087,
          0.8021188,
          0.8727689,
          0.8143253,
          0.8579729,
          0.8531644,
          0.865371,
          0.8627815,
          0.8213532,
          0.8601923,
          0.14518406,
          0.8479857,
          0.8533493000000001,
          0.8762828,
          0.8594525,
          0.8923733,
          0.8470610000000001,
          0.8605623,
          0.8283813,
          0.7876928,
          0.8816464,
          0.8281963999999999,
          0.7544022,
          0.7821443,
          0.8243124,
          0.8111812,
          0.8061876,
          0.822093,
          0.8232028,
          0.8209834,
          0.850575,
          0.8524246,
          0.819134,
          0.7843637,
          0.8139553,
          0.8280115,
          0.8387384,
          0.8109963,
          0.85593855
         ]
        },
        {
         "mode": "lines",
         "name": "ENV3_1(Standard deviation)",
         "type": "scatter",
         "x": [
          "2018-01-07",
          "2018-01-09",
          "2018-01-10",
          "2018-01-12",
          "2018-02-07",
          "2018-02-09",
          "2018-02-10",
          "2018-03-07",
          "2018-03-09",
          "2018-03-10",
          "2018-03-11",
          "2018-04-07",
          "2018-04-09",
          "2018-04-10",
          "2018-04-11",
          "2018-05-07",
          "2018-05-09",
          "2018-05-11",
          "2018-06-07",
          "2018-06-09",
          "2018-06-10",
          "2018-06-11",
          "2018-07-07",
          "2018-07-09",
          "2018-07-11",
          "2018-07-13",
          "2018-08-07",
          "2018-08-09",
          "2018-08-17",
          "2018-08-18",
          "2018-08-19",
          "2018-08-20",
          "2018-08-21",
          "2018-08-22",
          "2018-08-23",
          "2018-08-25",
          "2018-08-26",
          "2018-08-27",
          "2018-08-28",
          "2018-08-29",
          "2018-08-30",
          "2018-08-31",
          "2018-09-07",
          "2018-09-09",
          "2018-09-11",
          "2018-09-13",
          "2018-09-14",
          "2018-09-15",
          "2018-09-16",
          "2018-09-17",
          "2018-09-18",
          "2018-09-19",
          "2018-09-20",
          "2018-09-22",
          "2018-09-23",
          "2018-09-24",
          "2018-09-25",
          "2018-09-26",
          "2018-09-27",
          "2018-09-28",
          "2018-09-29",
          "2018-10-07",
          "2018-10-09",
          "2018-10-11",
          "2018-10-13",
          "2018-10-14",
          "2018-10-15",
          "2018-10-16",
          "2018-10-17",
          "2018-10-18",
          "2018-10-19",
          "2018-10-20",
          "2018-10-21",
          "2018-10-22",
          "2018-10-24",
          "2018-10-25",
          "2018-10-26",
          "2018-10-27",
          "2018-11-09",
          "2018-11-11",
          "2018-11-13",
          "2018-11-14",
          "2018-11-15",
          "2018-11-16",
          "2018-11-17",
          "2018-11-18",
          "2018-11-19",
          "2018-11-20",
          "2018-11-21",
          "2018-11-22",
          "2018-11-23",
          "2018-11-24",
          "2018-11-25",
          "2018-11-26",
          "2018-11-27",
          "2018-12-07",
          "2018-12-09"
         ],
         "y": [
          0.19240506922796302,
          0.19656811420705508,
          0.18419495439376776,
          0.19920936070968517,
          0.1885839454209768,
          0.18881959815267363,
          0.19434450056928093,
          0.1917191649698558,
          0.18638109336330913,
          0.18580142649573914,
          0.19141157266122966,
          0.22364742639682922,
          0.1881594841974037,
          0.20442654412295905,
          0.19070269106871954,
          0.20368687827466356,
          0.18605780604445438,
          0.193593555786545,
          0.19140944213426014,
          0.186588652474823,
          0.18809676048009355,
          0.19473025292454843,
          0.2098464396018913,
          0.1891703265448301,
          0.19393777201577422,
          0.17808139309173912,
          0.18424974191159982,
          0.1879620787151432,
          0.19229863434083508,
          0.18948393675458594,
          0.011895954675382278,
          0.18651338232447132,
          0.19122263325767883,
          0.4146882575600654,
          0.1868748596307068,
          0.19162646846597647,
          0.19772925781783202,
          0.1911490331561107,
          0.18980458913473308,
          0.18851216431513426,
          0.18995229627443627,
          0.18386373466980657,
          0.18744699412781313,
          0.1997202649855543,
          0.39530293247807685,
          0.45141421907052415,
          0.00027357746425286515,
          0.18681325258122633,
          0.2050153795874772,
          0.1882334473049517,
          0.18685642691064167,
          0.18880722316176837,
          0.18229631405273244,
          0.18467818620912224,
          0.18688801741732008,
          0.4050183042831831,
          0.18558800472995876,
          0.20167912436565152,
          0.1889436571650169,
          0.2132979392477149,
          0.1894948875216954,
          0.1890642983402447,
          0.18852419849611862,
          0.18403137730660557,
          0.1853915102561847,
          0.18581481366616423,
          0.191890905023992,
          0.1842490039569061,
          0.34372933368633957,
          0.18318906529931503,
          0.18696984160157473,
          0.18915647659768356,
          0.1903037003303478,
          0.18881746924916518,
          0.18759288237530514,
          0.1873844109342962,
          0.18952284148172377,
          0.1944995925177477,
          0.18489032492841648,
          0.18777181155604106,
          0.20473964246257326,
          0.20139136730349377,
          0.19331460865974923,
          0.19092500254524442,
          0.20028085158610098,
          0.19297810865751044,
          0.18416269795839432,
          0.19242591235187823,
          0.18005776200299606,
          0.1832653364549737,
          0.18676616876813812,
          0.2053045646381693,
          0.18796799365080047,
          0.18634786464400754,
          0.18119829414097377,
          0.18789516790461983,
          0.18601696244883717
         ]
        },
        {
         "mode": "lines",
         "name": "ENV3_1(Variance)",
         "type": "scatter",
         "x": [
          "2018-01-07",
          "2018-01-09",
          "2018-01-10",
          "2018-01-12",
          "2018-02-07",
          "2018-02-09",
          "2018-02-10",
          "2018-03-07",
          "2018-03-09",
          "2018-03-10",
          "2018-03-11",
          "2018-04-07",
          "2018-04-09",
          "2018-04-10",
          "2018-04-11",
          "2018-05-07",
          "2018-05-09",
          "2018-05-11",
          "2018-06-07",
          "2018-06-09",
          "2018-06-10",
          "2018-06-11",
          "2018-07-07",
          "2018-07-09",
          "2018-07-11",
          "2018-07-13",
          "2018-08-07",
          "2018-08-09",
          "2018-08-17",
          "2018-08-18",
          "2018-08-19",
          "2018-08-20",
          "2018-08-21",
          "2018-08-22",
          "2018-08-23",
          "2018-08-25",
          "2018-08-26",
          "2018-08-27",
          "2018-08-28",
          "2018-08-29",
          "2018-08-30",
          "2018-08-31",
          "2018-09-07",
          "2018-09-09",
          "2018-09-11",
          "2018-09-13",
          "2018-09-14",
          "2018-09-15",
          "2018-09-16",
          "2018-09-17",
          "2018-09-18",
          "2018-09-19",
          "2018-09-20",
          "2018-09-22",
          "2018-09-23",
          "2018-09-24",
          "2018-09-25",
          "2018-09-26",
          "2018-09-27",
          "2018-09-28",
          "2018-09-29",
          "2018-10-07",
          "2018-10-09",
          "2018-10-11",
          "2018-10-13",
          "2018-10-14",
          "2018-10-15",
          "2018-10-16",
          "2018-10-17",
          "2018-10-18",
          "2018-10-19",
          "2018-10-20",
          "2018-10-21",
          "2018-10-22",
          "2018-10-24",
          "2018-10-25",
          "2018-10-26",
          "2018-10-27",
          "2018-11-09",
          "2018-11-11",
          "2018-11-13",
          "2018-11-14",
          "2018-11-15",
          "2018-11-16",
          "2018-11-17",
          "2018-11-18",
          "2018-11-19",
          "2018-11-20",
          "2018-11-21",
          "2018-11-22",
          "2018-11-23",
          "2018-11-24",
          "2018-11-25",
          "2018-11-26",
          "2018-11-27",
          "2018-12-07",
          "2018-12-09"
         ],
         "y": [
          0.03701971066461724,
          0.03863902352291785,
          0.03392778122412219,
          0.039684369394361464,
          0.03556390447054196,
          0.035652840646537155,
          0.03776978490152323,
          0.03675623821673879,
          0.03473791196330255,
          0.03452217008785155,
          0.0366383901486452,
          0.050018171333925145,
          0.03540399149343301,
          0.04179021194205612,
          0.03636751638085148,
          0.04148834438127761,
          0.0346175071900758,
          0.037478464842078105,
          0.03663757453814868,
          0.03481532523237027,
          0.035380391303105684,
          0.0379198714040586,
          0.04403552821359021,
          0.03578541244507765,
          0.037611859414442415,
          0.031712982565494506,
          0.033947967394491144,
          0.035329743034917684,
          0.0369787647693502,
          0.03590416228801592,
          0.0001415137376387495,
          0.034787241786114406,
          0.03656609547000073,
          0.17196635095820315,
          0.03492221316199637,
          0.03672070341674188,
          0.03909685939719069,
          0.03653795287651591,
          0.03602578205660484,
          0.035536836094776175,
          0.036081874859931216,
          0.033805872926729034,
          0.03513637560755241,
          0.03988818424590004,
          0.156264408425767,
          0.20377479717905117,
          7.484462894702772e-08,
          0.03489919133997706,
          0.04203130586739736,
          0.035431830684306026,
          0.03491532427781197,
          0.035648167518057806,
          0.03323194611721245,
          0.03410603246149123,
          0.03492713105417654,
          0.16403982680442508,
          0.0344429074996472,
          0.04067446920489593,
          0.03569970558289145,
          0.04549601088732187,
          0.035908312396859994,
          0.03574530890688906,
          0.03554137341860394,
          0.03386754783336622,
          0.03437001207506904,
          0.03452714497779134,
          0.03682211943092672,
          0.033947695459112005,
          0.11814985483645499,
          0.033558233645236704,
          0.034957721668517946,
          0.03578017263885001,
          0.03621549835942282,
          0.035652036693659434,
          0.035191089517875064,
          0.03511291746119319,
          0.0359189074433066,
          0.037830091489569895,
          0.034184432252135424,
          0.035258253215037394,
          0.04191832119570233,
          0.040558482824370745,
          0.03737053792127199,
          0.03645235659690159,
          0.04011241951205381,
          0.0372405504210299,
          0.033915899319314775,
          0.037027731744452716,
          0.03242079765752757,
          0.03358618354595471,
          0.034881601796328654,
          0.04214996426126823,
          0.035331966637107366,
          0.03472552665738136,
          0.03283282179959885,
          0.03530459412190527,
          0.0346023103186921
         ]
        },
        {
         "mode": "lines",
         "name": "ENV3_1(Mean absolute deviation)",
         "type": "scatter",
         "x": [
          "2018-01-07",
          "2018-01-09",
          "2018-01-10",
          "2018-01-12",
          "2018-02-07",
          "2018-02-09",
          "2018-02-10",
          "2018-03-07",
          "2018-03-09",
          "2018-03-10",
          "2018-03-11",
          "2018-04-07",
          "2018-04-09",
          "2018-04-10",
          "2018-04-11",
          "2018-05-07",
          "2018-05-09",
          "2018-05-11",
          "2018-06-07",
          "2018-06-09",
          "2018-06-10",
          "2018-06-11",
          "2018-07-07",
          "2018-07-09",
          "2018-07-11",
          "2018-07-13",
          "2018-08-07",
          "2018-08-09",
          "2018-08-17",
          "2018-08-18",
          "2018-08-19",
          "2018-08-20",
          "2018-08-21",
          "2018-08-22",
          "2018-08-23",
          "2018-08-25",
          "2018-08-26",
          "2018-08-27",
          "2018-08-28",
          "2018-08-29",
          "2018-08-30",
          "2018-08-31",
          "2018-09-07",
          "2018-09-09",
          "2018-09-11",
          "2018-09-13",
          "2018-09-14",
          "2018-09-15",
          "2018-09-16",
          "2018-09-17",
          "2018-09-18",
          "2018-09-19",
          "2018-09-20",
          "2018-09-22",
          "2018-09-23",
          "2018-09-24",
          "2018-09-25",
          "2018-09-26",
          "2018-09-27",
          "2018-09-28",
          "2018-09-29",
          "2018-10-07",
          "2018-10-09",
          "2018-10-11",
          "2018-10-13",
          "2018-10-14",
          "2018-10-15",
          "2018-10-16",
          "2018-10-17",
          "2018-10-18",
          "2018-10-19",
          "2018-10-20",
          "2018-10-21",
          "2018-10-22",
          "2018-10-24",
          "2018-10-25",
          "2018-10-26",
          "2018-10-27",
          "2018-11-09",
          "2018-11-11",
          "2018-11-13",
          "2018-11-14",
          "2018-11-15",
          "2018-11-16",
          "2018-11-17",
          "2018-11-18",
          "2018-11-19",
          "2018-11-20",
          "2018-11-21",
          "2018-11-22",
          "2018-11-23",
          "2018-11-24",
          "2018-11-25",
          "2018-11-26",
          "2018-11-27",
          "2018-12-07",
          "2018-12-09"
         ],
         "y": [
          0.1533138571642004,
          0.15572684256124367,
          0.14689627865583332,
          0.15959586077376473,
          0.14950063745263667,
          0.15017702304781574,
          0.15446216991957096,
          0.1520732325341843,
          0.14825658498701752,
          0.14755555945738155,
          0.15156173861482938,
          0.17401822623815538,
          0.15035335563327867,
          0.16234600415610373,
          0.1509671287795067,
          0.16094099954475538,
          0.14740034876967073,
          0.15390954719247818,
          0.15044786230604051,
          0.14818127051226296,
          0.14911099665374158,
          0.15454955949185956,
          0.16590320471488834,
          0.1507197184320993,
          0.1539351087158163,
          0.14175743081258535,
          0.14718325783091188,
          0.14985410360331758,
          0.1519664796882987,
          0.15083502578331828,
          0.009007155311037303,
          0.14770871768297356,
          0.1525122005654752,
          0.36512014711966095,
          0.14871409014598233,
          0.15251906889469624,
          0.15748702689051033,
          0.15200948969328407,
          0.15039425059500636,
          0.14989670268279712,
          0.1511610187645621,
          0.14647275741516796,
          0.14902680658694806,
          0.15840865621492894,
          0.37296410481898246,
          0.42898002335389984,
          0.00020517730680629653,
          0.1481376395571664,
          0.1615507425582826,
          0.15045045895034873,
          0.14829942054691314,
          0.1500941815741092,
          0.14469624501008094,
          0.1466940850393772,
          0.14874061890313328,
          0.3558477660324395,
          0.14792925698331993,
          0.1602615680966705,
          0.1500480577646163,
          0.1683900694775383,
          0.15107240441729577,
          0.1498752661062479,
          0.15067970612497927,
          0.1460012566643067,
          0.1475778331576248,
          0.14824616562977166,
          0.15275748581189216,
          0.1462777298896335,
          0.3102052265552774,
          0.1456652989482055,
          0.14922547812597486,
          0.1505357806882441,
          0.15178518284846546,
          0.1510239989660919,
          0.1499738654279563,
          0.14932201680145263,
          0.15106324834866897,
          0.15367944529624017,
          0.1478254749234365,
          0.1493991998192139,
          0.1620612109246423,
          0.15867883369839786,
          0.15372362288236768,
          0.15144472215809293,
          0.15945681645454168,
          0.15303113256975645,
          0.14580728964239756,
          0.15266869155385593,
          0.14319240763654711,
          0.14588904743146563,
          0.14839082991177244,
          0.16464867980771364,
          0.14900640911402835,
          0.14862011753956378,
          0.1442380745825082,
          0.1492964835113711,
          0.14809496298641264
         ]
        },
        {
         "mode": "lines",
         "name": "ENV3_1(Count)",
         "type": "scatter",
         "x": [
          "2018-01-07",
          "2018-01-09",
          "2018-01-10",
          "2018-01-12",
          "2018-02-07",
          "2018-02-09",
          "2018-02-10",
          "2018-03-07",
          "2018-03-09",
          "2018-03-10",
          "2018-03-11",
          "2018-04-07",
          "2018-04-09",
          "2018-04-10",
          "2018-04-11",
          "2018-05-07",
          "2018-05-09",
          "2018-05-11",
          "2018-06-07",
          "2018-06-09",
          "2018-06-10",
          "2018-06-11",
          "2018-07-07",
          "2018-07-09",
          "2018-07-11",
          "2018-07-13",
          "2018-08-07",
          "2018-08-09",
          "2018-08-17",
          "2018-08-18",
          "2018-08-19",
          "2018-08-20",
          "2018-08-21",
          "2018-08-22",
          "2018-08-23",
          "2018-08-25",
          "2018-08-26",
          "2018-08-27",
          "2018-08-28",
          "2018-08-29",
          "2018-08-30",
          "2018-08-31",
          "2018-09-07",
          "2018-09-09",
          "2018-09-11",
          "2018-09-13",
          "2018-09-14",
          "2018-09-15",
          "2018-09-16",
          "2018-09-17",
          "2018-09-18",
          "2018-09-19",
          "2018-09-20",
          "2018-09-22",
          "2018-09-23",
          "2018-09-24",
          "2018-09-25",
          "2018-09-26",
          "2018-09-27",
          "2018-09-28",
          "2018-09-29",
          "2018-10-07",
          "2018-10-09",
          "2018-10-11",
          "2018-10-13",
          "2018-10-14",
          "2018-10-15",
          "2018-10-16",
          "2018-10-17",
          "2018-10-18",
          "2018-10-19",
          "2018-10-20",
          "2018-10-21",
          "2018-10-22",
          "2018-10-24",
          "2018-10-25",
          "2018-10-26",
          "2018-10-27",
          "2018-11-09",
          "2018-11-11",
          "2018-11-13",
          "2018-11-14",
          "2018-11-15",
          "2018-11-16",
          "2018-11-17",
          "2018-11-18",
          "2018-11-19",
          "2018-11-20",
          "2018-11-21",
          "2018-11-22",
          "2018-11-23",
          "2018-11-24",
          "2018-11-25",
          "2018-11-26",
          "2018-11-27",
          "2018-12-07",
          "2018-12-09"
         ],
         "y": [
          16384,
          24576,
          24576,
          24576,
          16384,
          24576,
          24576,
          16384,
          8192,
          24576,
          24576,
          8192,
          24576,
          24576,
          24576,
          16384,
          16384,
          24576,
          16384,
          24576,
          24576,
          24576,
          16384,
          24576,
          24576,
          8192,
          8192,
          16384,
          8192,
          8192,
          8192,
          24576,
          16384,
          24576,
          24576,
          16384,
          16384,
          24576,
          8192,
          24576,
          24576,
          16384,
          8192,
          24576,
          16384,
          17275,
          16384,
          16384,
          24576,
          24576,
          8192,
          16384,
          24576,
          8192,
          24576,
          24576,
          24576,
          8192,
          24576,
          24576,
          16384,
          16384,
          8192,
          16384,
          24576,
          24576,
          16384,
          16384,
          16384,
          24576,
          24576,
          16384,
          24576,
          24576,
          24576,
          24576,
          16384,
          24576,
          24576,
          16384,
          24576,
          24576,
          16384,
          24576,
          16384,
          24576,
          24576,
          24576,
          8192,
          24576,
          24576,
          16384,
          24576,
          8192,
          16384,
          24576,
          24576
         ]
        }
       ],
       "layout": {
        "legend": {
         "title": {
          "text": "Statistical Parameters"
         }
        },
        "template": {
         "data": {
          "bar": [
           {
            "error_x": {
             "color": "#2a3f5f"
            },
            "error_y": {
             "color": "#2a3f5f"
            },
            "marker": {
             "line": {
              "color": "#E5ECF6",
              "width": 0.5
             },
             "pattern": {
              "fillmode": "overlay",
              "size": 10,
              "solidity": 0.2
             }
            },
            "type": "bar"
           }
          ],
          "barpolar": [
           {
            "marker": {
             "line": {
              "color": "#E5ECF6",
              "width": 0.5
             },
             "pattern": {
              "fillmode": "overlay",
              "size": 10,
              "solidity": 0.2
             }
            },
            "type": "barpolar"
           }
          ],
          "carpet": [
           {
            "aaxis": {
             "endlinecolor": "#2a3f5f",
             "gridcolor": "white",
             "linecolor": "white",
             "minorgridcolor": "white",
             "startlinecolor": "#2a3f5f"
            },
            "baxis": {
             "endlinecolor": "#2a3f5f",
             "gridcolor": "white",
             "linecolor": "white",
             "minorgridcolor": "white",
             "startlinecolor": "#2a3f5f"
            },
            "type": "carpet"
           }
          ],
          "choropleth": [
           {
            "colorbar": {
             "outlinewidth": 0,
             "ticks": ""
            },
            "type": "choropleth"
           }
          ],
          "contour": [
           {
            "colorbar": {
             "outlinewidth": 0,
             "ticks": ""
            },
            "colorscale": [
             [
              0,
              "#0d0887"
             ],
             [
              0.1111111111111111,
              "#46039f"
             ],
             [
              0.2222222222222222,
              "#7201a8"
             ],
             [
              0.3333333333333333,
              "#9c179e"
             ],
             [
              0.4444444444444444,
              "#bd3786"
             ],
             [
              0.5555555555555556,
              "#d8576b"
             ],
             [
              0.6666666666666666,
              "#ed7953"
             ],
             [
              0.7777777777777778,
              "#fb9f3a"
             ],
             [
              0.8888888888888888,
              "#fdca26"
             ],
             [
              1,
              "#f0f921"
             ]
            ],
            "type": "contour"
           }
          ],
          "contourcarpet": [
           {
            "colorbar": {
             "outlinewidth": 0,
             "ticks": ""
            },
            "type": "contourcarpet"
           }
          ],
          "heatmap": [
           {
            "colorbar": {
             "outlinewidth": 0,
             "ticks": ""
            },
            "colorscale": [
             [
              0,
              "#0d0887"
             ],
             [
              0.1111111111111111,
              "#46039f"
             ],
             [
              0.2222222222222222,
              "#7201a8"
             ],
             [
              0.3333333333333333,
              "#9c179e"
             ],
             [
              0.4444444444444444,
              "#bd3786"
             ],
             [
              0.5555555555555556,
              "#d8576b"
             ],
             [
              0.6666666666666666,
              "#ed7953"
             ],
             [
              0.7777777777777778,
              "#fb9f3a"
             ],
             [
              0.8888888888888888,
              "#fdca26"
             ],
             [
              1,
              "#f0f921"
             ]
            ],
            "type": "heatmap"
           }
          ],
          "heatmapgl": [
           {
            "colorbar": {
             "outlinewidth": 0,
             "ticks": ""
            },
            "colorscale": [
             [
              0,
              "#0d0887"
             ],
             [
              0.1111111111111111,
              "#46039f"
             ],
             [
              0.2222222222222222,
              "#7201a8"
             ],
             [
              0.3333333333333333,
              "#9c179e"
             ],
             [
              0.4444444444444444,
              "#bd3786"
             ],
             [
              0.5555555555555556,
              "#d8576b"
             ],
             [
              0.6666666666666666,
              "#ed7953"
             ],
             [
              0.7777777777777778,
              "#fb9f3a"
             ],
             [
              0.8888888888888888,
              "#fdca26"
             ],
             [
              1,
              "#f0f921"
             ]
            ],
            "type": "heatmapgl"
           }
          ],
          "histogram": [
           {
            "marker": {
             "pattern": {
              "fillmode": "overlay",
              "size": 10,
              "solidity": 0.2
             }
            },
            "type": "histogram"
           }
          ],
          "histogram2d": [
           {
            "colorbar": {
             "outlinewidth": 0,
             "ticks": ""
            },
            "colorscale": [
             [
              0,
              "#0d0887"
             ],
             [
              0.1111111111111111,
              "#46039f"
             ],
             [
              0.2222222222222222,
              "#7201a8"
             ],
             [
              0.3333333333333333,
              "#9c179e"
             ],
             [
              0.4444444444444444,
              "#bd3786"
             ],
             [
              0.5555555555555556,
              "#d8576b"
             ],
             [
              0.6666666666666666,
              "#ed7953"
             ],
             [
              0.7777777777777778,
              "#fb9f3a"
             ],
             [
              0.8888888888888888,
              "#fdca26"
             ],
             [
              1,
              "#f0f921"
             ]
            ],
            "type": "histogram2d"
           }
          ],
          "histogram2dcontour": [
           {
            "colorbar": {
             "outlinewidth": 0,
             "ticks": ""
            },
            "colorscale": [
             [
              0,
              "#0d0887"
             ],
             [
              0.1111111111111111,
              "#46039f"
             ],
             [
              0.2222222222222222,
              "#7201a8"
             ],
             [
              0.3333333333333333,
              "#9c179e"
             ],
             [
              0.4444444444444444,
              "#bd3786"
             ],
             [
              0.5555555555555556,
              "#d8576b"
             ],
             [
              0.6666666666666666,
              "#ed7953"
             ],
             [
              0.7777777777777778,
              "#fb9f3a"
             ],
             [
              0.8888888888888888,
              "#fdca26"
             ],
             [
              1,
              "#f0f921"
             ]
            ],
            "type": "histogram2dcontour"
           }
          ],
          "mesh3d": [
           {
            "colorbar": {
             "outlinewidth": 0,
             "ticks": ""
            },
            "type": "mesh3d"
           }
          ],
          "parcoords": [
           {
            "line": {
             "colorbar": {
              "outlinewidth": 0,
              "ticks": ""
             }
            },
            "type": "parcoords"
           }
          ],
          "pie": [
           {
            "automargin": true,
            "type": "pie"
           }
          ],
          "scatter": [
           {
            "marker": {
             "colorbar": {
              "outlinewidth": 0,
              "ticks": ""
             }
            },
            "type": "scatter"
           }
          ],
          "scatter3d": [
           {
            "line": {
             "colorbar": {
              "outlinewidth": 0,
              "ticks": ""
             }
            },
            "marker": {
             "colorbar": {
              "outlinewidth": 0,
              "ticks": ""
             }
            },
            "type": "scatter3d"
           }
          ],
          "scattercarpet": [
           {
            "marker": {
             "colorbar": {
              "outlinewidth": 0,
              "ticks": ""
             }
            },
            "type": "scattercarpet"
           }
          ],
          "scattergeo": [
           {
            "marker": {
             "colorbar": {
              "outlinewidth": 0,
              "ticks": ""
             }
            },
            "type": "scattergeo"
           }
          ],
          "scattergl": [
           {
            "marker": {
             "colorbar": {
              "outlinewidth": 0,
              "ticks": ""
             }
            },
            "type": "scattergl"
           }
          ],
          "scattermapbox": [
           {
            "marker": {
             "colorbar": {
              "outlinewidth": 0,
              "ticks": ""
             }
            },
            "type": "scattermapbox"
           }
          ],
          "scatterpolar": [
           {
            "marker": {
             "colorbar": {
              "outlinewidth": 0,
              "ticks": ""
             }
            },
            "type": "scatterpolar"
           }
          ],
          "scatterpolargl": [
           {
            "marker": {
             "colorbar": {
              "outlinewidth": 0,
              "ticks": ""
             }
            },
            "type": "scatterpolargl"
           }
          ],
          "scatterternary": [
           {
            "marker": {
             "colorbar": {
              "outlinewidth": 0,
              "ticks": ""
             }
            },
            "type": "scatterternary"
           }
          ],
          "surface": [
           {
            "colorbar": {
             "outlinewidth": 0,
             "ticks": ""
            },
            "colorscale": [
             [
              0,
              "#0d0887"
             ],
             [
              0.1111111111111111,
              "#46039f"
             ],
             [
              0.2222222222222222,
              "#7201a8"
             ],
             [
              0.3333333333333333,
              "#9c179e"
             ],
             [
              0.4444444444444444,
              "#bd3786"
             ],
             [
              0.5555555555555556,
              "#d8576b"
             ],
             [
              0.6666666666666666,
              "#ed7953"
             ],
             [
              0.7777777777777778,
              "#fb9f3a"
             ],
             [
              0.8888888888888888,
              "#fdca26"
             ],
             [
              1,
              "#f0f921"
             ]
            ],
            "type": "surface"
           }
          ],
          "table": [
           {
            "cells": {
             "fill": {
              "color": "#EBF0F8"
             },
             "line": {
              "color": "white"
             }
            },
            "header": {
             "fill": {
              "color": "#C8D4E3"
             },
             "line": {
              "color": "white"
             }
            },
            "type": "table"
           }
          ]
         },
         "layout": {
          "annotationdefaults": {
           "arrowcolor": "#2a3f5f",
           "arrowhead": 0,
           "arrowwidth": 1
          },
          "autotypenumbers": "strict",
          "coloraxis": {
           "colorbar": {
            "outlinewidth": 0,
            "ticks": ""
           }
          },
          "colorscale": {
           "diverging": [
            [
             0,
             "#8e0152"
            ],
            [
             0.1,
             "#c51b7d"
            ],
            [
             0.2,
             "#de77ae"
            ],
            [
             0.3,
             "#f1b6da"
            ],
            [
             0.4,
             "#fde0ef"
            ],
            [
             0.5,
             "#f7f7f7"
            ],
            [
             0.6,
             "#e6f5d0"
            ],
            [
             0.7,
             "#b8e186"
            ],
            [
             0.8,
             "#7fbc41"
            ],
            [
             0.9,
             "#4d9221"
            ],
            [
             1,
             "#276419"
            ]
           ],
           "sequential": [
            [
             0,
             "#0d0887"
            ],
            [
             0.1111111111111111,
             "#46039f"
            ],
            [
             0.2222222222222222,
             "#7201a8"
            ],
            [
             0.3333333333333333,
             "#9c179e"
            ],
            [
             0.4444444444444444,
             "#bd3786"
            ],
            [
             0.5555555555555556,
             "#d8576b"
            ],
            [
             0.6666666666666666,
             "#ed7953"
            ],
            [
             0.7777777777777778,
             "#fb9f3a"
            ],
            [
             0.8888888888888888,
             "#fdca26"
            ],
            [
             1,
             "#f0f921"
            ]
           ],
           "sequentialminus": [
            [
             0,
             "#0d0887"
            ],
            [
             0.1111111111111111,
             "#46039f"
            ],
            [
             0.2222222222222222,
             "#7201a8"
            ],
            [
             0.3333333333333333,
             "#9c179e"
            ],
            [
             0.4444444444444444,
             "#bd3786"
            ],
            [
             0.5555555555555556,
             "#d8576b"
            ],
            [
             0.6666666666666666,
             "#ed7953"
            ],
            [
             0.7777777777777778,
             "#fb9f3a"
            ],
            [
             0.8888888888888888,
             "#fdca26"
            ],
            [
             1,
             "#f0f921"
            ]
           ]
          },
          "colorway": [
           "#636efa",
           "#EF553B",
           "#00cc96",
           "#ab63fa",
           "#FFA15A",
           "#19d3f3",
           "#FF6692",
           "#B6E880",
           "#FF97FF",
           "#FECB52"
          ],
          "font": {
           "color": "#2a3f5f"
          },
          "geo": {
           "bgcolor": "white",
           "lakecolor": "white",
           "landcolor": "#E5ECF6",
           "showlakes": true,
           "showland": true,
           "subunitcolor": "white"
          },
          "hoverlabel": {
           "align": "left"
          },
          "hovermode": "closest",
          "mapbox": {
           "style": "light"
          },
          "paper_bgcolor": "white",
          "plot_bgcolor": "#E5ECF6",
          "polar": {
           "angularaxis": {
            "gridcolor": "white",
            "linecolor": "white",
            "ticks": ""
           },
           "bgcolor": "#E5ECF6",
           "radialaxis": {
            "gridcolor": "white",
            "linecolor": "white",
            "ticks": ""
           }
          },
          "scene": {
           "xaxis": {
            "backgroundcolor": "#E5ECF6",
            "gridcolor": "white",
            "gridwidth": 2,
            "linecolor": "white",
            "showbackground": true,
            "ticks": "",
            "zerolinecolor": "white"
           },
           "yaxis": {
            "backgroundcolor": "#E5ECF6",
            "gridcolor": "white",
            "gridwidth": 2,
            "linecolor": "white",
            "showbackground": true,
            "ticks": "",
            "zerolinecolor": "white"
           },
           "zaxis": {
            "backgroundcolor": "#E5ECF6",
            "gridcolor": "white",
            "gridwidth": 2,
            "linecolor": "white",
            "showbackground": true,
            "ticks": "",
            "zerolinecolor": "white"
           }
          },
          "shapedefaults": {
           "line": {
            "color": "#2a3f5f"
           }
          },
          "ternary": {
           "aaxis": {
            "gridcolor": "white",
            "linecolor": "white",
            "ticks": ""
           },
           "baxis": {
            "gridcolor": "white",
            "linecolor": "white",
            "ticks": ""
           },
           "bgcolor": "#E5ECF6",
           "caxis": {
            "gridcolor": "white",
            "linecolor": "white",
            "ticks": ""
           }
          },
          "title": {
           "x": 0.05
          },
          "xaxis": {
           "automargin": true,
           "gridcolor": "white",
           "linecolor": "white",
           "ticks": "",
           "title": {
            "standoff": 15
           },
           "zerolinecolor": "white",
           "zerolinewidth": 2
          },
          "yaxis": {
           "automargin": true,
           "gridcolor": "white",
           "linecolor": "white",
           "ticks": "",
           "title": {
            "standoff": 15
           },
           "zerolinecolor": "white",
           "zerolinewidth": 2
          }
         }
        },
        "title": {
         "text": "ENV3_1"
        },
        "xaxis": {
         "title": {
          "text": "Date"
         }
        },
        "yaxis": {
         "title": {
          "text": "Values"
         }
        }
       }
      },
      "text/html": [
       "<div>                            <div id=\"0d32c6d9-5b16-458e-909b-7685cd170a4e\" class=\"plotly-graph-div\" style=\"height:525px; width:100%;\"></div>            <script type=\"text/javascript\">                require([\"plotly\"], function(Plotly) {                    window.PLOTLYENV=window.PLOTLYENV || {};                                    if (document.getElementById(\"0d32c6d9-5b16-458e-909b-7685cd170a4e\")) {                    Plotly.newPlot(                        \"0d32c6d9-5b16-458e-909b-7685cd170a4e\",                        [{\"mode\":\"lines\",\"name\":\"ENV3_1(Max)\",\"x\":[\"2018-01-07\",\"2018-01-09\",\"2018-01-10\",\"2018-01-12\",\"2018-02-07\",\"2018-02-09\",\"2018-02-10\",\"2018-03-07\",\"2018-03-09\",\"2018-03-10\",\"2018-03-11\",\"2018-04-07\",\"2018-04-09\",\"2018-04-10\",\"2018-04-11\",\"2018-05-07\",\"2018-05-09\",\"2018-05-11\",\"2018-06-07\",\"2018-06-09\",\"2018-06-10\",\"2018-06-11\",\"2018-07-07\",\"2018-07-09\",\"2018-07-11\",\"2018-07-13\",\"2018-08-07\",\"2018-08-09\",\"2018-08-17\",\"2018-08-18\",\"2018-08-19\",\"2018-08-20\",\"2018-08-21\",\"2018-08-22\",\"2018-08-23\",\"2018-08-25\",\"2018-08-26\",\"2018-08-27\",\"2018-08-28\",\"2018-08-29\",\"2018-08-30\",\"2018-08-31\",\"2018-09-07\",\"2018-09-09\",\"2018-09-11\",\"2018-09-13\",\"2018-09-14\",\"2018-09-15\",\"2018-09-16\",\"2018-09-17\",\"2018-09-18\",\"2018-09-19\",\"2018-09-20\",\"2018-09-22\",\"2018-09-23\",\"2018-09-24\",\"2018-09-25\",\"2018-09-26\",\"2018-09-27\",\"2018-09-28\",\"2018-09-29\",\"2018-10-07\",\"2018-10-09\",\"2018-10-11\",\"2018-10-13\",\"2018-10-14\",\"2018-10-15\",\"2018-10-16\",\"2018-10-17\",\"2018-10-18\",\"2018-10-19\",\"2018-10-20\",\"2018-10-21\",\"2018-10-22\",\"2018-10-24\",\"2018-10-25\",\"2018-10-26\",\"2018-10-27\",\"2018-11-09\",\"2018-11-11\",\"2018-11-13\",\"2018-11-14\",\"2018-11-15\",\"2018-11-16\",\"2018-11-17\",\"2018-11-18\",\"2018-11-19\",\"2018-11-20\",\"2018-11-21\",\"2018-11-22\",\"2018-11-23\",\"2018-11-24\",\"2018-11-25\",\"2018-11-26\",\"2018-11-27\",\"2018-12-07\",\"2018-12-09\"],\"y\":[1.709842,1.693937,1.679881,1.635494,1.599614,1.651399,1.706144,1.605902,1.675072,1.677292,1.661386,1.547828,1.651399,1.736475,1.673223,1.669894,1.634384,1.626986,1.607012,1.657687,1.661016,1.691718,1.698006,1.68358,1.61367,1.634384,1.61219,1.705774,1.625507,1.623287,0.1784747,1.623287,1.668784,1.736475,1.669524,1.740174,1.680251,1.637713,1.625876,1.709473,1.686909,1.629205,1.593695,1.671004,1.686539,1.668414,0.01239157,1.600353,1.720569,1.695047,1.57779,1.632165,1.725748,1.604052,1.668414,1.68321,1.671374,1.645851,1.688759,1.68321,1.619588,1.732406,1.665455,1.618109,1.698376,1.657317,1.701705,1.674333,1.618848,1.669524,1.631795,1.703184,1.623657,1.68506,1.662866,1.722789,1.608491,1.68284,1.638083,1.618109,1.674333,1.631425,1.709473,1.68506,1.709473,1.615149,1.679141,1.709473,1.628835,1.609971,1.696156,1.643261,1.619588,1.651769,1.659907,1.698376,1.663975],\"type\":\"scatter\"},{\"mode\":\"lines\",\"name\":\"ENV3_1(Min)\",\"x\":[\"2018-01-07\",\"2018-01-09\",\"2018-01-10\",\"2018-01-12\",\"2018-02-07\",\"2018-02-09\",\"2018-02-10\",\"2018-03-07\",\"2018-03-09\",\"2018-03-10\",\"2018-03-11\",\"2018-04-07\",\"2018-04-09\",\"2018-04-10\",\"2018-04-11\",\"2018-05-07\",\"2018-05-09\",\"2018-05-11\",\"2018-06-07\",\"2018-06-09\",\"2018-06-10\",\"2018-06-11\",\"2018-07-07\",\"2018-07-09\",\"2018-07-11\",\"2018-07-13\",\"2018-08-07\",\"2018-08-09\",\"2018-08-17\",\"2018-08-18\",\"2018-08-19\",\"2018-08-20\",\"2018-08-21\",\"2018-08-22\",\"2018-08-23\",\"2018-08-25\",\"2018-08-26\",\"2018-08-27\",\"2018-08-28\",\"2018-08-29\",\"2018-08-30\",\"2018-08-31\",\"2018-09-07\",\"2018-09-09\",\"2018-09-11\",\"2018-09-13\",\"2018-09-14\",\"2018-09-15\",\"2018-09-16\",\"2018-09-17\",\"2018-09-18\",\"2018-09-19\",\"2018-09-20\",\"2018-09-22\",\"2018-09-23\",\"2018-09-24\",\"2018-09-25\",\"2018-09-26\",\"2018-09-27\",\"2018-09-28\",\"2018-09-29\",\"2018-10-07\",\"2018-10-09\",\"2018-10-11\",\"2018-10-13\",\"2018-10-14\",\"2018-10-15\",\"2018-10-16\",\"2018-10-17\",\"2018-10-18\",\"2018-10-19\",\"2018-10-20\",\"2018-10-21\",\"2018-10-22\",\"2018-10-24\",\"2018-10-25\",\"2018-10-26\",\"2018-10-27\",\"2018-11-09\",\"2018-11-11\",\"2018-11-13\",\"2018-11-14\",\"2018-11-15\",\"2018-11-16\",\"2018-11-17\",\"2018-11-18\",\"2018-11-19\",\"2018-11-20\",\"2018-11-21\",\"2018-11-22\",\"2018-11-23\",\"2018-11-24\",\"2018-11-25\",\"2018-11-26\",\"2018-11-27\",\"2018-12-07\",\"2018-12-09\"],\"y\":[0.2742777,0.2261913,0.379328,0.3212545,0.3149662,0.3863561,0.3604634,0.2875938,0.3715603,0.333461,0.3279126,0.046422,0.3800678,0.2528238,0.3319814,0.2139847,0.3634226,0.3275425,0.2672496,0.3952336,0.3149662,0.2498646,0.1732962,0.4055905,0.2406173,0.4577458,0.3704505,0.3985627,0.3833969,0.3726699,0.04272294,0.3789582,0.4007819,0.04605198,0.40818,0.3367901,0.3512161,0.326803,0.3985627,0.3552849,0.3526955,0.4233456,0.3534353,0.3345706,0.05529952,0.01017213,0.01017213,0.3608332,0.2309999,0.3752592,0.3545451,0.4037411,0.3719301,0.3819172,0.3930142,0.05603933,0.3541751,0.3001704,0.4018917,0.2276709,0.3164458,0.2953618,0.3885753,0.3819172,0.3190351,0.3641622,0.3612032,0.3593538,0.04235315,0.3830271,0.3948636,0.2879639,0.3216243,0.3626828,0.329762,0.3656418,0.3693409,0.2683594,0.3959734,0.3464074,0.2091761,0.1784747,0.3785882,0.3005402,0.1855028,0.2894435,0.3397491,0.2942519,0.4266746,0.3057189,0.3364201,0.248755,0.2994306,0.3486266,0.3600934,0.3501062,0.3530655],\"type\":\"scatter\"},{\"mode\":\"lines\",\"name\":\"ENV3_1(Sum)\",\"x\":[\"2018-01-07\",\"2018-01-09\",\"2018-01-10\",\"2018-01-12\",\"2018-02-07\",\"2018-02-09\",\"2018-02-10\",\"2018-03-07\",\"2018-03-09\",\"2018-03-10\",\"2018-03-11\",\"2018-04-07\",\"2018-04-09\",\"2018-04-10\",\"2018-04-11\",\"2018-05-07\",\"2018-05-09\",\"2018-05-11\",\"2018-06-07\",\"2018-06-09\",\"2018-06-10\",\"2018-06-11\",\"2018-07-07\",\"2018-07-09\",\"2018-07-11\",\"2018-07-13\",\"2018-08-07\",\"2018-08-09\",\"2018-08-17\",\"2018-08-18\",\"2018-08-19\",\"2018-08-20\",\"2018-08-21\",\"2018-08-22\",\"2018-08-23\",\"2018-08-25\",\"2018-08-26\",\"2018-08-27\",\"2018-08-28\",\"2018-08-29\",\"2018-08-30\",\"2018-08-31\",\"2018-09-07\",\"2018-09-09\",\"2018-09-11\",\"2018-09-13\",\"2018-09-14\",\"2018-09-15\",\"2018-09-16\",\"2018-09-17\",\"2018-09-18\",\"2018-09-19\",\"2018-09-20\",\"2018-09-22\",\"2018-09-23\",\"2018-09-24\",\"2018-09-25\",\"2018-09-26\",\"2018-09-27\",\"2018-09-28\",\"2018-09-29\",\"2018-10-07\",\"2018-10-09\",\"2018-10-11\",\"2018-10-13\",\"2018-10-14\",\"2018-10-15\",\"2018-10-16\",\"2018-10-17\",\"2018-10-18\",\"2018-10-19\",\"2018-10-20\",\"2018-10-21\",\"2018-10-22\",\"2018-10-24\",\"2018-10-25\",\"2018-10-26\",\"2018-10-27\",\"2018-11-09\",\"2018-11-11\",\"2018-11-13\",\"2018-11-14\",\"2018-11-15\",\"2018-11-16\",\"2018-11-17\",\"2018-11-18\",\"2018-11-19\",\"2018-11-20\",\"2018-11-21\",\"2018-11-22\",\"2018-11-23\",\"2018-11-24\",\"2018-11-25\",\"2018-11-26\",\"2018-11-27\",\"2018-12-07\",\"2018-12-09\"],\"y\":[13520.8196135,20493.0327218,22067.5734803,21440.4856192,13646.6577437,21577.0507343,21004.4449243,13470.7198857,7135.6186221,21816.3950851,20585.9960356,4036.17623488,21492.5140836,19117.2599435,20988.1817575,12597.4554837,14101.7906457,20416.7352016,12392.500716,21779.8205505,20873.387949,19758.0124825,12356.2524665,21889.367705,20478.5439927,7395.2313391,6906.823005,14150.7418769,6659.1475444,7113.0546301,553.49711204,20927.5839658,14455.6528102,15140.94108382,21851.4951813,14209.3418888,14467.2271465,21086.6501798,7125.2541437,21243.7519388,21487.2171383,14506.5097354,6894.9086901,20475.4387055,7492.06162668,8006.38689784,184.08198843,14528.6061579,20721.4862394,21571.9058743,7126.860212,14218.7838302,21462.1315677,7125.4265156,21868.5111211,15039.56414986,22012.6583668,6904.9920305,21976.8857255,20083.6267428,14616.774115,13667.7632516,7200.5252983,14238.5721123,21753.7025737,21637.5997106,13806.8380826,14420.5940377,5886.41941555,21275.8458655,21427.265936,14621.9667389,21518.1789062,22327.6229642,21291.8760451,21577.3836416,13913.6602605,19830.5881697,22090.4759294,13834.1737479,18996.2149743,19707.7551117,13901.7577422,20457.1525364,13449.6565424,20644.5472321,20718.6206272,20574.9121399,7146.5390298,21362.498321,20581.0979184,13114.9757002,20445.9476309,6918.3870521,14079.819181,20429.1633188,21512.4759051],\"type\":\"scatter\"},{\"mode\":\"lines\",\"name\":\"ENV3_1(Median)\",\"x\":[\"2018-01-07\",\"2018-01-09\",\"2018-01-10\",\"2018-01-12\",\"2018-02-07\",\"2018-02-09\",\"2018-02-10\",\"2018-03-07\",\"2018-03-09\",\"2018-03-10\",\"2018-03-11\",\"2018-04-07\",\"2018-04-09\",\"2018-04-10\",\"2018-04-11\",\"2018-05-07\",\"2018-05-09\",\"2018-05-11\",\"2018-06-07\",\"2018-06-09\",\"2018-06-10\",\"2018-06-11\",\"2018-07-07\",\"2018-07-09\",\"2018-07-11\",\"2018-07-13\",\"2018-08-07\",\"2018-08-09\",\"2018-08-17\",\"2018-08-18\",\"2018-08-19\",\"2018-08-20\",\"2018-08-21\",\"2018-08-22\",\"2018-08-23\",\"2018-08-25\",\"2018-08-26\",\"2018-08-27\",\"2018-08-28\",\"2018-08-29\",\"2018-08-30\",\"2018-08-31\",\"2018-09-07\",\"2018-09-09\",\"2018-09-11\",\"2018-09-13\",\"2018-09-14\",\"2018-09-15\",\"2018-09-16\",\"2018-09-17\",\"2018-09-18\",\"2018-09-19\",\"2018-09-20\",\"2018-09-22\",\"2018-09-23\",\"2018-09-24\",\"2018-09-25\",\"2018-09-26\",\"2018-09-27\",\"2018-09-28\",\"2018-09-29\",\"2018-10-07\",\"2018-10-09\",\"2018-10-11\",\"2018-10-13\",\"2018-10-14\",\"2018-10-15\",\"2018-10-16\",\"2018-10-17\",\"2018-10-18\",\"2018-10-19\",\"2018-10-20\",\"2018-10-21\",\"2018-10-22\",\"2018-10-24\",\"2018-10-25\",\"2018-10-26\",\"2018-10-27\",\"2018-11-09\",\"2018-11-11\",\"2018-11-13\",\"2018-11-14\",\"2018-11-15\",\"2018-11-16\",\"2018-11-17\",\"2018-11-18\",\"2018-11-19\",\"2018-11-20\",\"2018-11-21\",\"2018-11-22\",\"2018-11-23\",\"2018-11-24\",\"2018-11-25\",\"2018-11-26\",\"2018-11-27\",\"2018-12-07\",\"2018-12-09\"],\"y\":[0.8050778,0.8128457,0.879427,0.8583429,0.8121059,0.8590827,0.8342996,0.8043382,0.8494654,0.8694398,0.8146951,0.4769804,0.8527944,0.7569914,0.8354094,0.7460796000000001,0.8405879,0.8091466,0.7329483,0.865001,0.8291211,0.7847335,0.7362773,0.8690698,0.8146951,0.8875647,0.8228328,0.8413277,0.783994,0.8465061,0.06565642,0.8291211,0.8587127,0.7458947,0.8664806,0.8446567,0.8609321,0.83319,0.8490956,0.8442869,0.8531644,0.8635213,0.8232028,0.8084071,0.24672044999999998,0.5971966,0.01128197,0.8672204,0.8269017,0.8561234,0.850575,0.8465061,0.8524246,0.847616,0.8698096,0.7320234999999999,0.8760979,0.8180242,0.8735087,0.8021188,0.8727689,0.8143253,0.8579729,0.8531644,0.865371,0.8627815,0.8213532,0.8601923,0.14518406,0.8479857,0.8533493000000001,0.8762828,0.8594525,0.8923733,0.8470610000000001,0.8605623,0.8283813,0.7876928,0.8816464,0.8281963999999999,0.7544022,0.7821443,0.8243124,0.8111812,0.8061876,0.822093,0.8232028,0.8209834,0.850575,0.8524246,0.819134,0.7843637,0.8139553,0.8280115,0.8387384,0.8109963,0.85593855],\"type\":\"scatter\"},{\"mode\":\"lines\",\"name\":\"ENV3_1(Standard deviation)\",\"x\":[\"2018-01-07\",\"2018-01-09\",\"2018-01-10\",\"2018-01-12\",\"2018-02-07\",\"2018-02-09\",\"2018-02-10\",\"2018-03-07\",\"2018-03-09\",\"2018-03-10\",\"2018-03-11\",\"2018-04-07\",\"2018-04-09\",\"2018-04-10\",\"2018-04-11\",\"2018-05-07\",\"2018-05-09\",\"2018-05-11\",\"2018-06-07\",\"2018-06-09\",\"2018-06-10\",\"2018-06-11\",\"2018-07-07\",\"2018-07-09\",\"2018-07-11\",\"2018-07-13\",\"2018-08-07\",\"2018-08-09\",\"2018-08-17\",\"2018-08-18\",\"2018-08-19\",\"2018-08-20\",\"2018-08-21\",\"2018-08-22\",\"2018-08-23\",\"2018-08-25\",\"2018-08-26\",\"2018-08-27\",\"2018-08-28\",\"2018-08-29\",\"2018-08-30\",\"2018-08-31\",\"2018-09-07\",\"2018-09-09\",\"2018-09-11\",\"2018-09-13\",\"2018-09-14\",\"2018-09-15\",\"2018-09-16\",\"2018-09-17\",\"2018-09-18\",\"2018-09-19\",\"2018-09-20\",\"2018-09-22\",\"2018-09-23\",\"2018-09-24\",\"2018-09-25\",\"2018-09-26\",\"2018-09-27\",\"2018-09-28\",\"2018-09-29\",\"2018-10-07\",\"2018-10-09\",\"2018-10-11\",\"2018-10-13\",\"2018-10-14\",\"2018-10-15\",\"2018-10-16\",\"2018-10-17\",\"2018-10-18\",\"2018-10-19\",\"2018-10-20\",\"2018-10-21\",\"2018-10-22\",\"2018-10-24\",\"2018-10-25\",\"2018-10-26\",\"2018-10-27\",\"2018-11-09\",\"2018-11-11\",\"2018-11-13\",\"2018-11-14\",\"2018-11-15\",\"2018-11-16\",\"2018-11-17\",\"2018-11-18\",\"2018-11-19\",\"2018-11-20\",\"2018-11-21\",\"2018-11-22\",\"2018-11-23\",\"2018-11-24\",\"2018-11-25\",\"2018-11-26\",\"2018-11-27\",\"2018-12-07\",\"2018-12-09\"],\"y\":[0.19240506922796302,0.19656811420705508,0.18419495439376776,0.19920936070968517,0.1885839454209768,0.18881959815267363,0.19434450056928093,0.1917191649698558,0.18638109336330913,0.18580142649573914,0.19141157266122966,0.22364742639682922,0.1881594841974037,0.20442654412295905,0.19070269106871954,0.20368687827466356,0.18605780604445438,0.193593555786545,0.19140944213426014,0.186588652474823,0.18809676048009355,0.19473025292454843,0.2098464396018913,0.1891703265448301,0.19393777201577422,0.17808139309173912,0.18424974191159982,0.1879620787151432,0.19229863434083508,0.18948393675458594,0.011895954675382278,0.18651338232447132,0.19122263325767883,0.4146882575600654,0.1868748596307068,0.19162646846597647,0.19772925781783202,0.1911490331561107,0.18980458913473308,0.18851216431513426,0.18995229627443627,0.18386373466980657,0.18744699412781313,0.1997202649855543,0.39530293247807685,0.45141421907052415,0.00027357746425286515,0.18681325258122633,0.2050153795874772,0.1882334473049517,0.18685642691064167,0.18880722316176837,0.18229631405273244,0.18467818620912224,0.18688801741732008,0.4050183042831831,0.18558800472995876,0.20167912436565152,0.1889436571650169,0.2132979392477149,0.1894948875216954,0.1890642983402447,0.18852419849611862,0.18403137730660557,0.1853915102561847,0.18581481366616423,0.191890905023992,0.1842490039569061,0.34372933368633957,0.18318906529931503,0.18696984160157473,0.18915647659768356,0.1903037003303478,0.18881746924916518,0.18759288237530514,0.1873844109342962,0.18952284148172377,0.1944995925177477,0.18489032492841648,0.18777181155604106,0.20473964246257326,0.20139136730349377,0.19331460865974923,0.19092500254524442,0.20028085158610098,0.19297810865751044,0.18416269795839432,0.19242591235187823,0.18005776200299606,0.1832653364549737,0.18676616876813812,0.2053045646381693,0.18796799365080047,0.18634786464400754,0.18119829414097377,0.18789516790461983,0.18601696244883717],\"type\":\"scatter\"},{\"mode\":\"lines\",\"name\":\"ENV3_1(Variance)\",\"x\":[\"2018-01-07\",\"2018-01-09\",\"2018-01-10\",\"2018-01-12\",\"2018-02-07\",\"2018-02-09\",\"2018-02-10\",\"2018-03-07\",\"2018-03-09\",\"2018-03-10\",\"2018-03-11\",\"2018-04-07\",\"2018-04-09\",\"2018-04-10\",\"2018-04-11\",\"2018-05-07\",\"2018-05-09\",\"2018-05-11\",\"2018-06-07\",\"2018-06-09\",\"2018-06-10\",\"2018-06-11\",\"2018-07-07\",\"2018-07-09\",\"2018-07-11\",\"2018-07-13\",\"2018-08-07\",\"2018-08-09\",\"2018-08-17\",\"2018-08-18\",\"2018-08-19\",\"2018-08-20\",\"2018-08-21\",\"2018-08-22\",\"2018-08-23\",\"2018-08-25\",\"2018-08-26\",\"2018-08-27\",\"2018-08-28\",\"2018-08-29\",\"2018-08-30\",\"2018-08-31\",\"2018-09-07\",\"2018-09-09\",\"2018-09-11\",\"2018-09-13\",\"2018-09-14\",\"2018-09-15\",\"2018-09-16\",\"2018-09-17\",\"2018-09-18\",\"2018-09-19\",\"2018-09-20\",\"2018-09-22\",\"2018-09-23\",\"2018-09-24\",\"2018-09-25\",\"2018-09-26\",\"2018-09-27\",\"2018-09-28\",\"2018-09-29\",\"2018-10-07\",\"2018-10-09\",\"2018-10-11\",\"2018-10-13\",\"2018-10-14\",\"2018-10-15\",\"2018-10-16\",\"2018-10-17\",\"2018-10-18\",\"2018-10-19\",\"2018-10-20\",\"2018-10-21\",\"2018-10-22\",\"2018-10-24\",\"2018-10-25\",\"2018-10-26\",\"2018-10-27\",\"2018-11-09\",\"2018-11-11\",\"2018-11-13\",\"2018-11-14\",\"2018-11-15\",\"2018-11-16\",\"2018-11-17\",\"2018-11-18\",\"2018-11-19\",\"2018-11-20\",\"2018-11-21\",\"2018-11-22\",\"2018-11-23\",\"2018-11-24\",\"2018-11-25\",\"2018-11-26\",\"2018-11-27\",\"2018-12-07\",\"2018-12-09\"],\"y\":[0.03701971066461724,0.03863902352291785,0.03392778122412219,0.039684369394361464,0.03556390447054196,0.035652840646537155,0.03776978490152323,0.03675623821673879,0.03473791196330255,0.03452217008785155,0.0366383901486452,0.050018171333925145,0.03540399149343301,0.04179021194205612,0.03636751638085148,0.04148834438127761,0.0346175071900758,0.037478464842078105,0.03663757453814868,0.03481532523237027,0.035380391303105684,0.0379198714040586,0.04403552821359021,0.03578541244507765,0.037611859414442415,0.031712982565494506,0.033947967394491144,0.035329743034917684,0.0369787647693502,0.03590416228801592,0.0001415137376387495,0.034787241786114406,0.03656609547000073,0.17196635095820315,0.03492221316199637,0.03672070341674188,0.03909685939719069,0.03653795287651591,0.03602578205660484,0.035536836094776175,0.036081874859931216,0.033805872926729034,0.03513637560755241,0.03988818424590004,0.156264408425767,0.20377479717905117,7.484462894702772e-08,0.03489919133997706,0.04203130586739736,0.035431830684306026,0.03491532427781197,0.035648167518057806,0.03323194611721245,0.03410603246149123,0.03492713105417654,0.16403982680442508,0.0344429074996472,0.04067446920489593,0.03569970558289145,0.04549601088732187,0.035908312396859994,0.03574530890688906,0.03554137341860394,0.03386754783336622,0.03437001207506904,0.03452714497779134,0.03682211943092672,0.033947695459112005,0.11814985483645499,0.033558233645236704,0.034957721668517946,0.03578017263885001,0.03621549835942282,0.035652036693659434,0.035191089517875064,0.03511291746119319,0.0359189074433066,0.037830091489569895,0.034184432252135424,0.035258253215037394,0.04191832119570233,0.040558482824370745,0.03737053792127199,0.03645235659690159,0.04011241951205381,0.0372405504210299,0.033915899319314775,0.037027731744452716,0.03242079765752757,0.03358618354595471,0.034881601796328654,0.04214996426126823,0.035331966637107366,0.03472552665738136,0.03283282179959885,0.03530459412190527,0.0346023103186921],\"type\":\"scatter\"},{\"mode\":\"lines\",\"name\":\"ENV3_1(Mean absolute deviation)\",\"x\":[\"2018-01-07\",\"2018-01-09\",\"2018-01-10\",\"2018-01-12\",\"2018-02-07\",\"2018-02-09\",\"2018-02-10\",\"2018-03-07\",\"2018-03-09\",\"2018-03-10\",\"2018-03-11\",\"2018-04-07\",\"2018-04-09\",\"2018-04-10\",\"2018-04-11\",\"2018-05-07\",\"2018-05-09\",\"2018-05-11\",\"2018-06-07\",\"2018-06-09\",\"2018-06-10\",\"2018-06-11\",\"2018-07-07\",\"2018-07-09\",\"2018-07-11\",\"2018-07-13\",\"2018-08-07\",\"2018-08-09\",\"2018-08-17\",\"2018-08-18\",\"2018-08-19\",\"2018-08-20\",\"2018-08-21\",\"2018-08-22\",\"2018-08-23\",\"2018-08-25\",\"2018-08-26\",\"2018-08-27\",\"2018-08-28\",\"2018-08-29\",\"2018-08-30\",\"2018-08-31\",\"2018-09-07\",\"2018-09-09\",\"2018-09-11\",\"2018-09-13\",\"2018-09-14\",\"2018-09-15\",\"2018-09-16\",\"2018-09-17\",\"2018-09-18\",\"2018-09-19\",\"2018-09-20\",\"2018-09-22\",\"2018-09-23\",\"2018-09-24\",\"2018-09-25\",\"2018-09-26\",\"2018-09-27\",\"2018-09-28\",\"2018-09-29\",\"2018-10-07\",\"2018-10-09\",\"2018-10-11\",\"2018-10-13\",\"2018-10-14\",\"2018-10-15\",\"2018-10-16\",\"2018-10-17\",\"2018-10-18\",\"2018-10-19\",\"2018-10-20\",\"2018-10-21\",\"2018-10-22\",\"2018-10-24\",\"2018-10-25\",\"2018-10-26\",\"2018-10-27\",\"2018-11-09\",\"2018-11-11\",\"2018-11-13\",\"2018-11-14\",\"2018-11-15\",\"2018-11-16\",\"2018-11-17\",\"2018-11-18\",\"2018-11-19\",\"2018-11-20\",\"2018-11-21\",\"2018-11-22\",\"2018-11-23\",\"2018-11-24\",\"2018-11-25\",\"2018-11-26\",\"2018-11-27\",\"2018-12-07\",\"2018-12-09\"],\"y\":[0.1533138571642004,0.15572684256124367,0.14689627865583332,0.15959586077376473,0.14950063745263667,0.15017702304781574,0.15446216991957096,0.1520732325341843,0.14825658498701752,0.14755555945738155,0.15156173861482938,0.17401822623815538,0.15035335563327867,0.16234600415610373,0.1509671287795067,0.16094099954475538,0.14740034876967073,0.15390954719247818,0.15044786230604051,0.14818127051226296,0.14911099665374158,0.15454955949185956,0.16590320471488834,0.1507197184320993,0.1539351087158163,0.14175743081258535,0.14718325783091188,0.14985410360331758,0.1519664796882987,0.15083502578331828,0.009007155311037303,0.14770871768297356,0.1525122005654752,0.36512014711966095,0.14871409014598233,0.15251906889469624,0.15748702689051033,0.15200948969328407,0.15039425059500636,0.14989670268279712,0.1511610187645621,0.14647275741516796,0.14902680658694806,0.15840865621492894,0.37296410481898246,0.42898002335389984,0.00020517730680629653,0.1481376395571664,0.1615507425582826,0.15045045895034873,0.14829942054691314,0.1500941815741092,0.14469624501008094,0.1466940850393772,0.14874061890313328,0.3558477660324395,0.14792925698331993,0.1602615680966705,0.1500480577646163,0.1683900694775383,0.15107240441729577,0.1498752661062479,0.15067970612497927,0.1460012566643067,0.1475778331576248,0.14824616562977166,0.15275748581189216,0.1462777298896335,0.3102052265552774,0.1456652989482055,0.14922547812597486,0.1505357806882441,0.15178518284846546,0.1510239989660919,0.1499738654279563,0.14932201680145263,0.15106324834866897,0.15367944529624017,0.1478254749234365,0.1493991998192139,0.1620612109246423,0.15867883369839786,0.15372362288236768,0.15144472215809293,0.15945681645454168,0.15303113256975645,0.14580728964239756,0.15266869155385593,0.14319240763654711,0.14588904743146563,0.14839082991177244,0.16464867980771364,0.14900640911402835,0.14862011753956378,0.1442380745825082,0.1492964835113711,0.14809496298641264],\"type\":\"scatter\"},{\"mode\":\"lines\",\"name\":\"ENV3_1(Count)\",\"x\":[\"2018-01-07\",\"2018-01-09\",\"2018-01-10\",\"2018-01-12\",\"2018-02-07\",\"2018-02-09\",\"2018-02-10\",\"2018-03-07\",\"2018-03-09\",\"2018-03-10\",\"2018-03-11\",\"2018-04-07\",\"2018-04-09\",\"2018-04-10\",\"2018-04-11\",\"2018-05-07\",\"2018-05-09\",\"2018-05-11\",\"2018-06-07\",\"2018-06-09\",\"2018-06-10\",\"2018-06-11\",\"2018-07-07\",\"2018-07-09\",\"2018-07-11\",\"2018-07-13\",\"2018-08-07\",\"2018-08-09\",\"2018-08-17\",\"2018-08-18\",\"2018-08-19\",\"2018-08-20\",\"2018-08-21\",\"2018-08-22\",\"2018-08-23\",\"2018-08-25\",\"2018-08-26\",\"2018-08-27\",\"2018-08-28\",\"2018-08-29\",\"2018-08-30\",\"2018-08-31\",\"2018-09-07\",\"2018-09-09\",\"2018-09-11\",\"2018-09-13\",\"2018-09-14\",\"2018-09-15\",\"2018-09-16\",\"2018-09-17\",\"2018-09-18\",\"2018-09-19\",\"2018-09-20\",\"2018-09-22\",\"2018-09-23\",\"2018-09-24\",\"2018-09-25\",\"2018-09-26\",\"2018-09-27\",\"2018-09-28\",\"2018-09-29\",\"2018-10-07\",\"2018-10-09\",\"2018-10-11\",\"2018-10-13\",\"2018-10-14\",\"2018-10-15\",\"2018-10-16\",\"2018-10-17\",\"2018-10-18\",\"2018-10-19\",\"2018-10-20\",\"2018-10-21\",\"2018-10-22\",\"2018-10-24\",\"2018-10-25\",\"2018-10-26\",\"2018-10-27\",\"2018-11-09\",\"2018-11-11\",\"2018-11-13\",\"2018-11-14\",\"2018-11-15\",\"2018-11-16\",\"2018-11-17\",\"2018-11-18\",\"2018-11-19\",\"2018-11-20\",\"2018-11-21\",\"2018-11-22\",\"2018-11-23\",\"2018-11-24\",\"2018-11-25\",\"2018-11-26\",\"2018-11-27\",\"2018-12-07\",\"2018-12-09\"],\"y\":[16384,24576,24576,24576,16384,24576,24576,16384,8192,24576,24576,8192,24576,24576,24576,16384,16384,24576,16384,24576,24576,24576,16384,24576,24576,8192,8192,16384,8192,8192,8192,24576,16384,24576,24576,16384,16384,24576,8192,24576,24576,16384,8192,24576,16384,17275,16384,16384,24576,24576,8192,16384,24576,8192,24576,24576,24576,8192,24576,24576,16384,16384,8192,16384,24576,24576,16384,16384,16384,24576,24576,16384,24576,24576,24576,24576,16384,24576,24576,16384,24576,24576,16384,24576,16384,24576,24576,24576,8192,24576,24576,16384,24576,8192,16384,24576,24576],\"type\":\"scatter\"}],                        {\"template\":{\"data\":{\"bar\":[{\"error_x\":{\"color\":\"#2a3f5f\"},\"error_y\":{\"color\":\"#2a3f5f\"},\"marker\":{\"line\":{\"color\":\"#E5ECF6\",\"width\":0.5},\"pattern\":{\"fillmode\":\"overlay\",\"size\":10,\"solidity\":0.2}},\"type\":\"bar\"}],\"barpolar\":[{\"marker\":{\"line\":{\"color\":\"#E5ECF6\",\"width\":0.5},\"pattern\":{\"fillmode\":\"overlay\",\"size\":10,\"solidity\":0.2}},\"type\":\"barpolar\"}],\"carpet\":[{\"aaxis\":{\"endlinecolor\":\"#2a3f5f\",\"gridcolor\":\"white\",\"linecolor\":\"white\",\"minorgridcolor\":\"white\",\"startlinecolor\":\"#2a3f5f\"},\"baxis\":{\"endlinecolor\":\"#2a3f5f\",\"gridcolor\":\"white\",\"linecolor\":\"white\",\"minorgridcolor\":\"white\",\"startlinecolor\":\"#2a3f5f\"},\"type\":\"carpet\"}],\"choropleth\":[{\"colorbar\":{\"outlinewidth\":0,\"ticks\":\"\"},\"type\":\"choropleth\"}],\"contour\":[{\"colorbar\":{\"outlinewidth\":0,\"ticks\":\"\"},\"colorscale\":[[0.0,\"#0d0887\"],[0.1111111111111111,\"#46039f\"],[0.2222222222222222,\"#7201a8\"],[0.3333333333333333,\"#9c179e\"],[0.4444444444444444,\"#bd3786\"],[0.5555555555555556,\"#d8576b\"],[0.6666666666666666,\"#ed7953\"],[0.7777777777777778,\"#fb9f3a\"],[0.8888888888888888,\"#fdca26\"],[1.0,\"#f0f921\"]],\"type\":\"contour\"}],\"contourcarpet\":[{\"colorbar\":{\"outlinewidth\":0,\"ticks\":\"\"},\"type\":\"contourcarpet\"}],\"heatmap\":[{\"colorbar\":{\"outlinewidth\":0,\"ticks\":\"\"},\"colorscale\":[[0.0,\"#0d0887\"],[0.1111111111111111,\"#46039f\"],[0.2222222222222222,\"#7201a8\"],[0.3333333333333333,\"#9c179e\"],[0.4444444444444444,\"#bd3786\"],[0.5555555555555556,\"#d8576b\"],[0.6666666666666666,\"#ed7953\"],[0.7777777777777778,\"#fb9f3a\"],[0.8888888888888888,\"#fdca26\"],[1.0,\"#f0f921\"]],\"type\":\"heatmap\"}],\"heatmapgl\":[{\"colorbar\":{\"outlinewidth\":0,\"ticks\":\"\"},\"colorscale\":[[0.0,\"#0d0887\"],[0.1111111111111111,\"#46039f\"],[0.2222222222222222,\"#7201a8\"],[0.3333333333333333,\"#9c179e\"],[0.4444444444444444,\"#bd3786\"],[0.5555555555555556,\"#d8576b\"],[0.6666666666666666,\"#ed7953\"],[0.7777777777777778,\"#fb9f3a\"],[0.8888888888888888,\"#fdca26\"],[1.0,\"#f0f921\"]],\"type\":\"heatmapgl\"}],\"histogram\":[{\"marker\":{\"pattern\":{\"fillmode\":\"overlay\",\"size\":10,\"solidity\":0.2}},\"type\":\"histogram\"}],\"histogram2d\":[{\"colorbar\":{\"outlinewidth\":0,\"ticks\":\"\"},\"colorscale\":[[0.0,\"#0d0887\"],[0.1111111111111111,\"#46039f\"],[0.2222222222222222,\"#7201a8\"],[0.3333333333333333,\"#9c179e\"],[0.4444444444444444,\"#bd3786\"],[0.5555555555555556,\"#d8576b\"],[0.6666666666666666,\"#ed7953\"],[0.7777777777777778,\"#fb9f3a\"],[0.8888888888888888,\"#fdca26\"],[1.0,\"#f0f921\"]],\"type\":\"histogram2d\"}],\"histogram2dcontour\":[{\"colorbar\":{\"outlinewidth\":0,\"ticks\":\"\"},\"colorscale\":[[0.0,\"#0d0887\"],[0.1111111111111111,\"#46039f\"],[0.2222222222222222,\"#7201a8\"],[0.3333333333333333,\"#9c179e\"],[0.4444444444444444,\"#bd3786\"],[0.5555555555555556,\"#d8576b\"],[0.6666666666666666,\"#ed7953\"],[0.7777777777777778,\"#fb9f3a\"],[0.8888888888888888,\"#fdca26\"],[1.0,\"#f0f921\"]],\"type\":\"histogram2dcontour\"}],\"mesh3d\":[{\"colorbar\":{\"outlinewidth\":0,\"ticks\":\"\"},\"type\":\"mesh3d\"}],\"parcoords\":[{\"line\":{\"colorbar\":{\"outlinewidth\":0,\"ticks\":\"\"}},\"type\":\"parcoords\"}],\"pie\":[{\"automargin\":true,\"type\":\"pie\"}],\"scatter\":[{\"marker\":{\"colorbar\":{\"outlinewidth\":0,\"ticks\":\"\"}},\"type\":\"scatter\"}],\"scatter3d\":[{\"line\":{\"colorbar\":{\"outlinewidth\":0,\"ticks\":\"\"}},\"marker\":{\"colorbar\":{\"outlinewidth\":0,\"ticks\":\"\"}},\"type\":\"scatter3d\"}],\"scattercarpet\":[{\"marker\":{\"colorbar\":{\"outlinewidth\":0,\"ticks\":\"\"}},\"type\":\"scattercarpet\"}],\"scattergeo\":[{\"marker\":{\"colorbar\":{\"outlinewidth\":0,\"ticks\":\"\"}},\"type\":\"scattergeo\"}],\"scattergl\":[{\"marker\":{\"colorbar\":{\"outlinewidth\":0,\"ticks\":\"\"}},\"type\":\"scattergl\"}],\"scattermapbox\":[{\"marker\":{\"colorbar\":{\"outlinewidth\":0,\"ticks\":\"\"}},\"type\":\"scattermapbox\"}],\"scatterpolar\":[{\"marker\":{\"colorbar\":{\"outlinewidth\":0,\"ticks\":\"\"}},\"type\":\"scatterpolar\"}],\"scatterpolargl\":[{\"marker\":{\"colorbar\":{\"outlinewidth\":0,\"ticks\":\"\"}},\"type\":\"scatterpolargl\"}],\"scatterternary\":[{\"marker\":{\"colorbar\":{\"outlinewidth\":0,\"ticks\":\"\"}},\"type\":\"scatterternary\"}],\"surface\":[{\"colorbar\":{\"outlinewidth\":0,\"ticks\":\"\"},\"colorscale\":[[0.0,\"#0d0887\"],[0.1111111111111111,\"#46039f\"],[0.2222222222222222,\"#7201a8\"],[0.3333333333333333,\"#9c179e\"],[0.4444444444444444,\"#bd3786\"],[0.5555555555555556,\"#d8576b\"],[0.6666666666666666,\"#ed7953\"],[0.7777777777777778,\"#fb9f3a\"],[0.8888888888888888,\"#fdca26\"],[1.0,\"#f0f921\"]],\"type\":\"surface\"}],\"table\":[{\"cells\":{\"fill\":{\"color\":\"#EBF0F8\"},\"line\":{\"color\":\"white\"}},\"header\":{\"fill\":{\"color\":\"#C8D4E3\"},\"line\":{\"color\":\"white\"}},\"type\":\"table\"}]},\"layout\":{\"annotationdefaults\":{\"arrowcolor\":\"#2a3f5f\",\"arrowhead\":0,\"arrowwidth\":1},\"autotypenumbers\":\"strict\",\"coloraxis\":{\"colorbar\":{\"outlinewidth\":0,\"ticks\":\"\"}},\"colorscale\":{\"diverging\":[[0,\"#8e0152\"],[0.1,\"#c51b7d\"],[0.2,\"#de77ae\"],[0.3,\"#f1b6da\"],[0.4,\"#fde0ef\"],[0.5,\"#f7f7f7\"],[0.6,\"#e6f5d0\"],[0.7,\"#b8e186\"],[0.8,\"#7fbc41\"],[0.9,\"#4d9221\"],[1,\"#276419\"]],\"sequential\":[[0.0,\"#0d0887\"],[0.1111111111111111,\"#46039f\"],[0.2222222222222222,\"#7201a8\"],[0.3333333333333333,\"#9c179e\"],[0.4444444444444444,\"#bd3786\"],[0.5555555555555556,\"#d8576b\"],[0.6666666666666666,\"#ed7953\"],[0.7777777777777778,\"#fb9f3a\"],[0.8888888888888888,\"#fdca26\"],[1.0,\"#f0f921\"]],\"sequentialminus\":[[0.0,\"#0d0887\"],[0.1111111111111111,\"#46039f\"],[0.2222222222222222,\"#7201a8\"],[0.3333333333333333,\"#9c179e\"],[0.4444444444444444,\"#bd3786\"],[0.5555555555555556,\"#d8576b\"],[0.6666666666666666,\"#ed7953\"],[0.7777777777777778,\"#fb9f3a\"],[0.8888888888888888,\"#fdca26\"],[1.0,\"#f0f921\"]]},\"colorway\":[\"#636efa\",\"#EF553B\",\"#00cc96\",\"#ab63fa\",\"#FFA15A\",\"#19d3f3\",\"#FF6692\",\"#B6E880\",\"#FF97FF\",\"#FECB52\"],\"font\":{\"color\":\"#2a3f5f\"},\"geo\":{\"bgcolor\":\"white\",\"lakecolor\":\"white\",\"landcolor\":\"#E5ECF6\",\"showlakes\":true,\"showland\":true,\"subunitcolor\":\"white\"},\"hoverlabel\":{\"align\":\"left\"},\"hovermode\":\"closest\",\"mapbox\":{\"style\":\"light\"},\"paper_bgcolor\":\"white\",\"plot_bgcolor\":\"#E5ECF6\",\"polar\":{\"angularaxis\":{\"gridcolor\":\"white\",\"linecolor\":\"white\",\"ticks\":\"\"},\"bgcolor\":\"#E5ECF6\",\"radialaxis\":{\"gridcolor\":\"white\",\"linecolor\":\"white\",\"ticks\":\"\"}},\"scene\":{\"xaxis\":{\"backgroundcolor\":\"#E5ECF6\",\"gridcolor\":\"white\",\"gridwidth\":2,\"linecolor\":\"white\",\"showbackground\":true,\"ticks\":\"\",\"zerolinecolor\":\"white\"},\"yaxis\":{\"backgroundcolor\":\"#E5ECF6\",\"gridcolor\":\"white\",\"gridwidth\":2,\"linecolor\":\"white\",\"showbackground\":true,\"ticks\":\"\",\"zerolinecolor\":\"white\"},\"zaxis\":{\"backgroundcolor\":\"#E5ECF6\",\"gridcolor\":\"white\",\"gridwidth\":2,\"linecolor\":\"white\",\"showbackground\":true,\"ticks\":\"\",\"zerolinecolor\":\"white\"}},\"shapedefaults\":{\"line\":{\"color\":\"#2a3f5f\"}},\"ternary\":{\"aaxis\":{\"gridcolor\":\"white\",\"linecolor\":\"white\",\"ticks\":\"\"},\"baxis\":{\"gridcolor\":\"white\",\"linecolor\":\"white\",\"ticks\":\"\"},\"bgcolor\":\"#E5ECF6\",\"caxis\":{\"gridcolor\":\"white\",\"linecolor\":\"white\",\"ticks\":\"\"}},\"title\":{\"x\":0.05},\"xaxis\":{\"automargin\":true,\"gridcolor\":\"white\",\"linecolor\":\"white\",\"ticks\":\"\",\"title\":{\"standoff\":15},\"zerolinecolor\":\"white\",\"zerolinewidth\":2},\"yaxis\":{\"automargin\":true,\"gridcolor\":\"white\",\"linecolor\":\"white\",\"ticks\":\"\",\"title\":{\"standoff\":15},\"zerolinecolor\":\"white\",\"zerolinewidth\":2}}},\"title\":{\"text\":\"ENV3_1\"},\"xaxis\":{\"title\":{\"text\":\"Date\"}},\"yaxis\":{\"title\":{\"text\":\"Values\"}},\"legend\":{\"title\":{\"text\":\"Statistical Parameters\"}}},                        {\"responsive\": true}                    ).then(function(){\n",
       "                            \n",
       "var gd = document.getElementById('0d32c6d9-5b16-458e-909b-7685cd170a4e');\n",
       "var x = new MutationObserver(function (mutations, observer) {{\n",
       "        var display = window.getComputedStyle(gd).display;\n",
       "        if (!display || display === 'none') {{\n",
       "            console.log([gd, 'removed!']);\n",
       "            Plotly.purge(gd);\n",
       "            observer.disconnect();\n",
       "        }}\n",
       "}});\n",
       "\n",
       "// Listen for the removal of the full notebook cells\n",
       "var notebookContainer = gd.closest('#notebook-container');\n",
       "if (notebookContainer) {{\n",
       "    x.observe(notebookContainer, {childList: true});\n",
       "}}\n",
       "\n",
       "// Listen for the clearing of the current output cell\n",
       "var outputEl = gd.closest('.output');\n",
       "if (outputEl) {{\n",
       "    x.observe(outputEl, {childList: true});\n",
       "}}\n",
       "\n",
       "                        })                };                });            </script>        </div>"
      ]
     },
     "metadata": {},
     "output_type": "display_data"
    }
   ],
   "source": [
    "fig=go.Figure()\n",
    "fig.add_trace(go.Scatter(x=final_df.index,y=final_df['Max'],mode='lines',name='ENV3_1(Max)'))\n",
    "fig.add_trace(go.Scatter(x=final_df.index,y=final_df['Min'],mode='lines',name='ENV3_1(Min)'))\n",
    "fig.add_trace(go.Scatter(x=final_df.index,y=final_df['Sum'],mode='lines',name='ENV3_1(Sum)'))\n",
    "fig.add_trace(go.Scatter(x=final_df.index,y=final_df['Median'],mode='lines',name='ENV3_1(Median)'))\n",
    "fig.add_trace(go.Scatter(x=final_df.index,y=final_df['Standard deviation'],mode='lines',name='ENV3_1(Standard deviation)'))\n",
    "fig.add_trace(go.Scatter(x=final_df.index,y=final_df['Variance'],mode='lines',name='ENV3_1(Variance)'))\n",
    "fig.add_trace(go.Scatter(x=final_df.index,y=final_df['Mean absolute deviation'],mode='lines',name='ENV3_1(Mean absolute deviation)'))\n",
    "fig.add_trace(go.Scatter(x=final_df.index,y=final_df['Count'],mode='lines',name='ENV3_1(Count)'))\n",
    "fig.update_layout(\n",
    "    title=\"ENV3_1\",\n",
    "    xaxis_title=\"Date\",\n",
    "    yaxis_title=\"Values\",\n",
    "    legend_title=\"Statistical Parameters\")"
   ]
  },
  {
   "cell_type": "code",
   "execution_count": 107,
   "id": "7f655d4e",
   "metadata": {},
   "outputs": [],
   "source": [
    "fig.write_html(\"stastical_output\\Plots\\ENV3_1.html\")"
   ]
  },
  {
   "cell_type": "code",
   "execution_count": 108,
   "id": "779ac454",
   "metadata": {},
   "outputs": [],
   "source": [
    "final_df.to_csv(\"stastical_output/stats/ENV3_1.csv\",header=True)"
   ]
  },
  {
   "cell_type": "code",
   "execution_count": null,
   "id": "e54ee3a8",
   "metadata": {},
   "outputs": [],
   "source": []
  }
 ],
 "metadata": {
  "kernelspec": {
   "display_name": "Python 3 (ipykernel)",
   "language": "python",
   "name": "python3"
  },
  "language_info": {
   "codemirror_mode": {
    "name": "ipython",
    "version": 3
   },
   "file_extension": ".py",
   "mimetype": "text/x-python",
   "name": "python",
   "nbconvert_exporter": "python",
   "pygments_lexer": "ipython3",
   "version": "3.8.10"
  }
 },
 "nbformat": 4,
 "nbformat_minor": 5
}
