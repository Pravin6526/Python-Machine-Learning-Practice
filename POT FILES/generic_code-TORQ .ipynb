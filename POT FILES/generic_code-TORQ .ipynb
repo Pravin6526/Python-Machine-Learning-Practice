{
 "cells": [
  {
   "cell_type": "code",
   "execution_count": 1,
   "id": "c2fcd57e",
   "metadata": {},
   "outputs": [
    {
     "data": {
      "text/html": [
       "        <script type=\"text/javascript\">\n",
       "        window.PlotlyConfig = {MathJaxConfig: 'local'};\n",
       "        if (window.MathJax && window.MathJax.Hub && window.MathJax.Hub.Config) {window.MathJax.Hub.Config({SVG: {font: \"STIX-Web\"}});}\n",
       "        if (typeof require !== 'undefined') {\n",
       "        require.undef(\"plotly\");\n",
       "        requirejs.config({\n",
       "            paths: {\n",
       "                'plotly': ['https://cdn.plot.ly/plotly-2.12.1.min']\n",
       "            }\n",
       "        });\n",
       "        require(['plotly'], function(Plotly) {\n",
       "            window._Plotly = Plotly;\n",
       "        });\n",
       "        }\n",
       "        </script>\n",
       "        "
      ]
     },
     "metadata": {},
     "output_type": "display_data"
    },
    {
     "data": {
      "text/html": [
       "        <script type=\"text/javascript\">\n",
       "        window.PlotlyConfig = {MathJaxConfig: 'local'};\n",
       "        if (window.MathJax && window.MathJax.Hub && window.MathJax.Hub.Config) {window.MathJax.Hub.Config({SVG: {font: \"STIX-Web\"}});}\n",
       "        if (typeof require !== 'undefined') {\n",
       "        require.undef(\"plotly\");\n",
       "        requirejs.config({\n",
       "            paths: {\n",
       "                'plotly': ['https://cdn.plot.ly/plotly-2.12.1.min']\n",
       "            }\n",
       "        });\n",
       "        require(['plotly'], function(Plotly) {\n",
       "            window._Plotly = Plotly;\n",
       "        });\n",
       "        }\n",
       "        </script>\n",
       "        "
      ]
     },
     "metadata": {},
     "output_type": "display_data"
    }
   ],
   "source": [
    "import warnings\n",
    "warnings.filterwarnings(\"ignore\")\n",
    "from statsmodels.tsa.api import ExponentialSmoothing,SimpleExpSmoothing,Holt\n",
    "#Working on plotly\n",
    "import chart_studio.plotly as py\n",
    "import cufflinks as cf\n",
    "import plotly.express as px\n",
    "from plotly.offline import download_plotlyjs, init_notebook_mode,plot,iplot\n",
    "init_notebook_mode(connected=True)\n",
    "import plotly.graph_objs as go\n",
    "cf.go_offline()\n",
    "import pandas as pd\n",
    "from scipy.stats import kurtosis\n",
    "from datetime import datetime\n",
    "import numpy as np\n",
    "import matplotlib.pyplot as plt\n",
    "%matplotlib inline\n",
    "import os"
   ]
  },
  {
   "cell_type": "code",
   "execution_count": 2,
   "id": "cea4b6d3",
   "metadata": {},
   "outputs": [
    {
     "data": {
      "text/html": [
       "<div>\n",
       "<style scoped>\n",
       "    .dataframe tbody tr th:only-of-type {\n",
       "        vertical-align: middle;\n",
       "    }\n",
       "\n",
       "    .dataframe tbody tr th {\n",
       "        vertical-align: top;\n",
       "    }\n",
       "\n",
       "    .dataframe thead th {\n",
       "        text-align: right;\n",
       "    }\n",
       "</style>\n",
       "<table border=\"1\" class=\"dataframe\">\n",
       "  <thead>\n",
       "    <tr style=\"text-align: right;\">\n",
       "      <th></th>\n",
       "      <th>Number of points: 1029419</th>\n",
       "    </tr>\n",
       "  </thead>\n",
       "  <tbody>\n",
       "    <tr>\n",
       "      <th>0</th>\n",
       "      <td>Sampling rate(Hz): 0.0166666666666667</td>\n",
       "    </tr>\n",
       "    <tr>\n",
       "      <th>1</th>\n",
       "      <td>Time range: From: 05/10/2016 08:44:54; Until: ...</td>\n",
       "    </tr>\n",
       "    <tr>\n",
       "      <th>2</th>\n",
       "      <td>Units: kNm</td>\n",
       "    </tr>\n",
       "    <tr>\n",
       "      <th>3</th>\n",
       "      <td>01.06.2016 00:00:13\\t20.7</td>\n",
       "    </tr>\n",
       "    <tr>\n",
       "      <th>4</th>\n",
       "      <td>01.06.2016 00:01:13\\t21.5</td>\n",
       "    </tr>\n",
       "  </tbody>\n",
       "</table>\n",
       "</div>"
      ],
      "text/plain": [
       "                           Number of points: 1029419\n",
       "0              Sampling rate(Hz): 0.0166666666666667\n",
       "1  Time range: From: 05/10/2016 08:44:54; Until: ...\n",
       "2                                         Units: kNm\n",
       "3                          01.06.2016 00:00:13\\t20.7\n",
       "4                          01.06.2016 00:01:13\\t21.5"
      ]
     },
     "execution_count": 2,
     "metadata": {},
     "output_type": "execute_result"
    }
   ],
   "source": [
    "# Import the file\n",
    "df=pd.read_csv(r\"C:\\Users\\2000139\\TORQ_ptop_1.txt\")\n",
    "df.head()"
   ]
  },
  {
   "cell_type": "code",
   "execution_count": 3,
   "id": "95278849",
   "metadata": {},
   "outputs": [
    {
     "name": "stdout",
     "output_type": "stream",
     "text": [
      "TORQ_ptop\n",
      "<class 'pandas.core.frame.DataFrame'>\n",
      "DatetimeIndex: 752929 entries, 2016-06-01 00:00:13 to 2017-12-01 21:12:12\n",
      "Data columns (total 1 columns):\n",
      " #   Column     Non-Null Count   Dtype  \n",
      "---  ------     --------------   -----  \n",
      " 0   TORQ_ptop  752929 non-null  float64\n",
      "dtypes: float64(1)\n",
      "memory usage: 11.5 MB\n"
     ]
    }
   ],
   "source": [
    "#Preprocessing steps\n",
    "col_name='TORQ_ptop'\n",
    "print(col_name)\n",
    "df.columns=[col_name]\n",
    "df.head()\n",
    "df = pd.DataFrame(df[col_name].str.split('\\t',2).tolist())\n",
    "df.dropna(inplace=True)\n",
    "df[0]=pd.to_datetime(df[0],format='%d.%m.%Y %H:%M:%S')\n",
    "df.index=df[0]\n",
    "df.drop(columns=[0],inplace=True)\n",
    "df.columns=[col_name]\n",
    "df.isnull().sum()\n",
    "df=df.astype({col_name:float,})\n",
    "df.info()"
   ]
  },
  {
   "cell_type": "code",
   "execution_count": 4,
   "id": "a929b07d",
   "metadata": {},
   "outputs": [],
   "source": [
    "df=df[173420:305915]"
   ]
  },
  {
   "cell_type": "code",
   "execution_count": 5,
   "id": "b141dada",
   "metadata": {},
   "outputs": [
    {
     "data": {
      "text/html": [
       "<div>\n",
       "<style scoped>\n",
       "    .dataframe tbody tr th:only-of-type {\n",
       "        vertical-align: middle;\n",
       "    }\n",
       "\n",
       "    .dataframe tbody tr th {\n",
       "        vertical-align: top;\n",
       "    }\n",
       "\n",
       "    .dataframe thead th {\n",
       "        text-align: right;\n",
       "    }\n",
       "</style>\n",
       "<table border=\"1\" class=\"dataframe\">\n",
       "  <thead>\n",
       "    <tr style=\"text-align: right;\">\n",
       "      <th></th>\n",
       "      <th>TORQ_ptop</th>\n",
       "    </tr>\n",
       "    <tr>\n",
       "      <th>0</th>\n",
       "      <th></th>\n",
       "    </tr>\n",
       "  </thead>\n",
       "  <tbody>\n",
       "    <tr>\n",
       "      <th>2016-10-01 00:05:21</th>\n",
       "      <td>21.0</td>\n",
       "    </tr>\n",
       "    <tr>\n",
       "      <th>2016-10-01 00:06:21</th>\n",
       "      <td>22.3</td>\n",
       "    </tr>\n",
       "    <tr>\n",
       "      <th>2016-10-01 00:07:21</th>\n",
       "      <td>22.2</td>\n",
       "    </tr>\n",
       "    <tr>\n",
       "      <th>2016-10-01 00:08:21</th>\n",
       "      <td>20.8</td>\n",
       "    </tr>\n",
       "    <tr>\n",
       "      <th>2016-10-01 00:09:21</th>\n",
       "      <td>19.3</td>\n",
       "    </tr>\n",
       "  </tbody>\n",
       "</table>\n",
       "</div>"
      ],
      "text/plain": [
       "                     TORQ_ptop\n",
       "0                             \n",
       "2016-10-01 00:05:21       21.0\n",
       "2016-10-01 00:06:21       22.3\n",
       "2016-10-01 00:07:21       22.2\n",
       "2016-10-01 00:08:21       20.8\n",
       "2016-10-01 00:09:21       19.3"
      ]
     },
     "execution_count": 5,
     "metadata": {},
     "output_type": "execute_result"
    }
   ],
   "source": [
    "df.head()"
   ]
  },
  {
   "cell_type": "code",
   "execution_count": 6,
   "id": "f93d83b7",
   "metadata": {},
   "outputs": [
    {
     "data": {
      "text/plain": [
       "Int64Index([10, 10, 10, 10, 10, 10, 10, 10, 10, 10,\n",
       "            ...\n",
       "            12, 12, 12, 12, 12, 12, 12, 12, 12,  1],\n",
       "           dtype='int64', name=0, length=132495)"
      ]
     },
     "execution_count": 6,
     "metadata": {},
     "output_type": "execute_result"
    }
   ],
   "source": [
    "df.index.month"
   ]
  },
  {
   "cell_type": "code",
   "execution_count": 7,
   "id": "fdb5f5d7",
   "metadata": {},
   "outputs": [],
   "source": [
    "def func_rms(rms_df,col_name,threshold,sample_value):\n",
    "    rms_df['square_values'] = rms_df[col_name]**2\n",
    "    rms_df.drop(columns=[col_name],inplace=True)\n",
    "    rms_df=rms_df.resample(sample_value).mean()\n",
    "    rms_df.columns=['RMS']\n",
    "    rms_df['RMS'] = rms_df['RMS'].apply(lambda x : x**0.5)\n",
    "    #print(rms_df)\n",
    "    outlier_df=rms_df[rms_df['RMS']<=threshold]\n",
    "    outlier_df.columns=['Non Running']\n",
    "    outlier_df.index=pd.to_datetime(outlier_df.index)\n",
    "    final_df=rms_df[:]\n",
    "    final_df.drop(final_df[final_df['RMS'] <=threshold].index, inplace= True)\n",
    "    final_df.dropna(inplace=True)\n",
    "    #print(final_df[final_df['RMS']==0])\n",
    "    fit1 = SimpleExpSmoothing(final_df['RMS']).fit(smoothing_level=0.2,optimized = False)\n",
    "    #print(fit1.fittedvalues)\n",
    "    final_df['Smooth RMS']=list(fit1.fittedvalues)\n",
    "    final_df.drop(columns=['RMS'],inplace=True)\n",
    "    rms_df=pd.concat([rms_df,final_df], axis=1, join='outer')\n",
    "    rms_df['Smooth RMS']=rms_df['Smooth RMS'].interpolate('linear')\n",
    "    rms_df=pd.concat([rms_df,outlier_df], axis=1, join='outer')\n",
    "    rms_df.to_csv(\"TORQ\\Data\\\\\"+col_name+\"_RMS.csv\")  \n",
    "\n",
    "    #plots\n",
    "    fig=go.Figure()\n",
    "    fig.add_trace(go.Scatter(x=rms_df.index,y=rms_df['Smooth RMS'],mode='lines',name = 'Smooth RMS',line=dict(color=\"#ffae42\")))\n",
    "    fig.add_trace(go.Scatter(x=rms_df.index,y=rms_df['RMS'],mode='markers',name = 'RMS',line=dict(color=\"#5dd55d\")))\n",
    "    fig.add_trace(go.Scatter(x=rms_df.index,y=rms_df['Non Running'],mode='markers',name = 'Non Running',line=dict(color=\"#ff0000\")))\n",
    "    fig.update_layout(hovermode=\"x\")\n",
    "    fig.update_layout(xaxis=dict(showgrid=True),yaxis=dict(showgrid=True),title={'text':'RMS DATA','xanchor':'center','x':0.5})\n",
    "    fig.update_xaxes(title_text='Date')\n",
    "    fig.update_yaxes(title_text='Amplitude')\n",
    "    fig.write_html(\"TORQ\\Plots\\\\\"+col_name+\"_RMS.html\")\n",
    "    "
   ]
  },
  {
   "cell_type": "code",
   "execution_count": 8,
   "id": "96296cd5",
   "metadata": {},
   "outputs": [],
   "source": [
    "def func_peak(peak_df,col_name,threshold,sample_value):\n",
    "    peak_df=peak_df.resample(sample_value).apply(lambda x:abs(x).max())\n",
    "    peak_df.columns=['peak']\n",
    "    outlier_df=peak_df[peak_df['peak']<=threshold]\n",
    "    outlier_df.columns=['Non Running']\n",
    "    #outlier_df.index=pd.to_datetime(outlier_df.index)\n",
    "    final_df=peak_df[:]\n",
    "    final_df.drop(final_df[final_df['peak'] <=threshold].index, inplace= True)\n",
    "    final_df.dropna(inplace=True)\n",
    "    fit1 = SimpleExpSmoothing(final_df['peak']).fit(smoothing_level=0.2,optimized = False)\n",
    "    #print(fit1.fittedvalues)\n",
    "    final_df['Smooth peak']=list(fit1.fittedvalues)\n",
    "    final_df.drop(columns=['peak'],inplace=True)\n",
    "    peak_df=pd.concat([peak_df,final_df], axis=1, join='outer')\n",
    "    peak_df['Smooth peak']=peak_df['Smooth peak'].interpolate('linear')\n",
    "    peak_df=pd.concat([peak_df,outlier_df], axis=1, join='outer')\n",
    "    peak_df.to_csv(\"TORQ\\Data\\\\\"+col_name+\"_peak.csv\")  \n",
    "\n",
    "    #plots\n",
    "    fig=go.Figure()\n",
    "    fig.add_trace(go.Scatter(x=peak_df.index,y=peak_df['Smooth peak'],mode='lines',name = 'Smooth Peak',line=dict(color=\"#ffae42\")))\n",
    "    fig.add_trace(go.Scatter(x=peak_df.index,y=peak_df['peak'],mode='markers',name = 'Peak',line=dict(color=\"#5dd55d\")))\n",
    "    fig.add_trace(go.Scatter(x=peak_df.index,y=peak_df['Non Running'],mode='markers',name = 'Non Running',line=dict(color=\"#ff0000\")))\n",
    "    fig.update_layout(hovermode=\"x\")\n",
    "    fig.update_layout(xaxis=dict(showgrid=True),yaxis=dict(showgrid=True),title={'text':'PEAK DATA','xanchor':'center','x':0.5})\n",
    "    fig.update_xaxes(title_text='Date')\n",
    "    fig.update_yaxes(title_text='Amplitude')\n",
    "    fig.write_html(\"TORQ\\Plots\\\\\"+col_name+\"_peak.html\")\n",
    "    "
   ]
  },
  {
   "cell_type": "code",
   "execution_count": 9,
   "id": "70bd83a7",
   "metadata": {},
   "outputs": [],
   "source": [
    "def func_kurt(kurt_df,col_name,threshold,sample_value):\n",
    "    kurt_df=kurt_df.resample(sample_value).apply(lambda x:kurtosis(x,fisher=False))\n",
    "    kurt_df.columns=['kurtosis']\n",
    "    outlier_df=kurt_df[kurt_df['kurtosis']<=threshold]\n",
    "    outlier_df.columns=['Non Running']\n",
    "    #outlier_df.index=pd.to_datetime(outlier_df.index)\n",
    "    final_df=kurt_df[:]\n",
    "    final_df.drop(final_df[final_df['kurtosis'] <=threshold].index, inplace= True)\n",
    "    final_df.dropna(inplace=True)\n",
    "    fit1 = SimpleExpSmoothing(final_df['kurtosis']).fit(smoothing_level=0.2,optimized = False)\n",
    "    #print(fit1.fittedvalues)\n",
    "    final_df['Smooth kurtosis']=list(fit1.fittedvalues)\n",
    "    final_df.drop(columns=['kurtosis'],inplace=True)\n",
    "    kurt_df=pd.concat([kurt_df,final_df], axis=1, join='outer')\n",
    "    kurt_df['Smooth kurtosis']=kurt_df['Smooth kurtosis'].interpolate('linear')\n",
    "    kurt_df=pd.concat([kurt_df,outlier_df], axis=1, join='outer')\n",
    "    kurt_df.to_csv(\"TORQ\\Data\\\\\"+col_name+\"_kurtosis.csv\")  \n",
    "\n",
    "    #plots\n",
    "    fig=go.Figure()\n",
    "    fig.add_trace(go.Scatter(x=kurt_df.index,y=kurt_df['Smooth kurtosis'],mode='lines',name = 'Smooth Kurtosis',line=dict(color=\"#ffae42\")))\n",
    "    fig.add_trace(go.Scatter(x=kurt_df.index,y=kurt_df['kurtosis'],mode='markers',name = 'Kurtosis',line=dict(color=\"#5dd55d\")))\n",
    "    fig.add_trace(go.Scatter(x=kurt_df.index,y=kurt_df['Non Running'],mode='markers',name = 'Non Running',line=dict(color=\"#ff0000\")))\n",
    "    fig.update_layout(hovermode=\"x\")\n",
    "    fig.update_layout(xaxis=dict(showgrid=True),yaxis=dict(showgrid=True),title={'text':'KURTOSIS DATA','xanchor':'center','x':0.5})\n",
    "    fig.update_xaxes(title_text='Date')\n",
    "    fig.update_yaxes(title_text='Amplitude')\n",
    "    fig.write_html(\"TORQ\\Plots\\\\\"+col_name+\"_kurtosis.html\")\n",
    "    "
   ]
  },
  {
   "cell_type": "code",
   "execution_count": 10,
   "id": "912185cd",
   "metadata": {},
   "outputs": [
    {
     "name": "stderr",
     "output_type": "stream",
     "text": [
      "C:\\Users\\2000139\\AppData\\Roaming\\Python\\Python38\\site-packages\\statsmodels\\tsa\\base\\tsa_model.py:471: ValueWarning:\n",
      "\n",
      "A date index has been provided, but it has no associated frequency information and so will be ignored when e.g. forecasting.\n",
      "\n"
     ]
    }
   ],
   "source": [
    "func_rms(df[:],col_name,1,'D')"
   ]
  },
  {
   "cell_type": "code",
   "execution_count": 11,
   "id": "daa55d21",
   "metadata": {},
   "outputs": [
    {
     "name": "stderr",
     "output_type": "stream",
     "text": [
      "C:\\Users\\2000139\\AppData\\Roaming\\Python\\Python38\\site-packages\\statsmodels\\tsa\\base\\tsa_model.py:471: ValueWarning:\n",
      "\n",
      "A date index has been provided, but it has no associated frequency information and so will be ignored when e.g. forecasting.\n",
      "\n"
     ]
    }
   ],
   "source": [
    "func_peak(df[:],col_name,1,'D')"
   ]
  },
  {
   "cell_type": "code",
   "execution_count": 12,
   "id": "9f77b4f4",
   "metadata": {},
   "outputs": [],
   "source": [
    "func_kurt(df[:],col_name,0,'D')"
   ]
  },
  {
   "cell_type": "code",
   "execution_count": null,
   "id": "8b020af9",
   "metadata": {},
   "outputs": [],
   "source": []
  }
 ],
 "metadata": {
  "kernelspec": {
   "display_name": "Python 3 (ipykernel)",
   "language": "python",
   "name": "python3"
  },
  "language_info": {
   "codemirror_mode": {
    "name": "ipython",
    "version": 3
   },
   "file_extension": ".py",
   "mimetype": "text/x-python",
   "name": "python",
   "nbconvert_exporter": "python",
   "pygments_lexer": "ipython3",
   "version": "3.8.10"
  }
 },
 "nbformat": 4,
 "nbformat_minor": 5
}
