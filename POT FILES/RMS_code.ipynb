{
 "cells": [
  {
   "cell_type": "code",
   "execution_count": 1,
   "id": "83540db0",
   "metadata": {},
   "outputs": [
    {
     "data": {
      "text/html": [
       "        <script type=\"text/javascript\">\n",
       "        window.PlotlyConfig = {MathJaxConfig: 'local'};\n",
       "        if (window.MathJax && window.MathJax.Hub && window.MathJax.Hub.Config) {window.MathJax.Hub.Config({SVG: {font: \"STIX-Web\"}});}\n",
       "        if (typeof require !== 'undefined') {\n",
       "        require.undef(\"plotly\");\n",
       "        requirejs.config({\n",
       "            paths: {\n",
       "                'plotly': ['https://cdn.plot.ly/plotly-2.12.1.min']\n",
       "            }\n",
       "        });\n",
       "        require(['plotly'], function(Plotly) {\n",
       "            window._Plotly = Plotly;\n",
       "        });\n",
       "        }\n",
       "        </script>\n",
       "        "
      ]
     },
     "metadata": {},
     "output_type": "display_data"
    },
    {
     "data": {
      "text/html": [
       "        <script type=\"text/javascript\">\n",
       "        window.PlotlyConfig = {MathJaxConfig: 'local'};\n",
       "        if (window.MathJax && window.MathJax.Hub && window.MathJax.Hub.Config) {window.MathJax.Hub.Config({SVG: {font: \"STIX-Web\"}});}\n",
       "        if (typeof require !== 'undefined') {\n",
       "        require.undef(\"plotly\");\n",
       "        requirejs.config({\n",
       "            paths: {\n",
       "                'plotly': ['https://cdn.plot.ly/plotly-2.12.1.min']\n",
       "            }\n",
       "        });\n",
       "        require(['plotly'], function(Plotly) {\n",
       "            window._Plotly = Plotly;\n",
       "        });\n",
       "        }\n",
       "        </script>\n",
       "        "
      ]
     },
     "metadata": {},
     "output_type": "display_data"
    }
   ],
   "source": [
    "#RMS\n",
    "import warnings\n",
    "warnings.filterwarnings(\"ignore\")\n",
    "from statsmodels.tsa.api import ExponentialSmoothing,SimpleExpSmoothing,Holt\n",
    "#Working on plotly\n",
    "import chart_studio.plotly as py\n",
    "import cufflinks as cf\n",
    "import plotly.express as px\n",
    "from plotly.offline import download_plotlyjs, init_notebook_mode,plot,iplot\n",
    "init_notebook_mode(connected=True)\n",
    "import plotly.graph_objs as go\n",
    "cf.go_offline()\n",
    "import pandas as pd\n",
    "from datetime import datetime\n",
    "import numpy as np\n",
    "import matplotlib.pyplot as plt\n",
    "%matplotlib inline\n",
    "import os"
   ]
  },
  {
   "cell_type": "code",
   "execution_count": 2,
   "id": "2122c43f",
   "metadata": {},
   "outputs": [
    {
     "data": {
      "text/html": [
       "<div>\n",
       "<style scoped>\n",
       "    .dataframe tbody tr th:only-of-type {\n",
       "        vertical-align: middle;\n",
       "    }\n",
       "\n",
       "    .dataframe tbody tr th {\n",
       "        vertical-align: top;\n",
       "    }\n",
       "\n",
       "    .dataframe thead th {\n",
       "        text-align: right;\n",
       "    }\n",
       "</style>\n",
       "<table border=\"1\" class=\"dataframe\">\n",
       "  <thead>\n",
       "    <tr style=\"text-align: right;\">\n",
       "      <th></th>\n",
       "      <th>Number of points: 44266</th>\n",
       "    </tr>\n",
       "  </thead>\n",
       "  <tbody>\n",
       "    <tr>\n",
       "      <th>0</th>\n",
       "      <td>Sampling rate(Hz): 0.00333333333333333</td>\n",
       "    </tr>\n",
       "    <tr>\n",
       "      <th>1</th>\n",
       "      <td>Time range: From: 03/06/2015 10:19:59; Until: ...</td>\n",
       "    </tr>\n",
       "    <tr>\n",
       "      <th>2</th>\n",
       "      <td>Units: mm</td>\n",
       "    </tr>\n",
       "    <tr>\n",
       "      <th>3</th>\n",
       "      <td>Description: DISPL_X_MAX_T</td>\n",
       "    </tr>\n",
       "    <tr>\n",
       "      <th>4</th>\n",
       "      <td>01.07.2018 00:01:05\\t8.44</td>\n",
       "    </tr>\n",
       "  </tbody>\n",
       "</table>\n",
       "</div>"
      ],
      "text/plain": [
       "                             Number of points: 44266\n",
       "0             Sampling rate(Hz): 0.00333333333333333\n",
       "1  Time range: From: 03/06/2015 10:19:59; Until: ...\n",
       "2                                          Units: mm\n",
       "3                         Description: DISPL_X_MAX_T\n",
       "4                          01.07.2018 00:01:05\\t8.44"
      ]
     },
     "execution_count": 2,
     "metadata": {},
     "output_type": "execute_result"
    }
   ],
   "source": [
    "df=pd.read_csv(r\"C:\\Users\\2000139\\ShurovoData_2018H2\\DISPL_X_MAX_T_1.txt\")\n",
    "df.head()"
   ]
  },
  {
   "cell_type": "code",
   "execution_count": 3,
   "id": "0a130f83",
   "metadata": {},
   "outputs": [],
   "source": [
    "df.columns=['DISPL_X_MAX_T_1']\n",
    "df = pd.DataFrame(df['DISPL_X_MAX_T_1'].str.split('\\t',2).tolist())"
   ]
  },
  {
   "cell_type": "code",
   "execution_count": 4,
   "id": "2b1709c3",
   "metadata": {},
   "outputs": [
    {
     "data": {
      "text/html": [
       "<div>\n",
       "<style scoped>\n",
       "    .dataframe tbody tr th:only-of-type {\n",
       "        vertical-align: middle;\n",
       "    }\n",
       "\n",
       "    .dataframe tbody tr th {\n",
       "        vertical-align: top;\n",
       "    }\n",
       "\n",
       "    .dataframe thead th {\n",
       "        text-align: right;\n",
       "    }\n",
       "</style>\n",
       "<table border=\"1\" class=\"dataframe\">\n",
       "  <thead>\n",
       "    <tr style=\"text-align: right;\">\n",
       "      <th></th>\n",
       "      <th>0</th>\n",
       "      <th>1</th>\n",
       "    </tr>\n",
       "  </thead>\n",
       "  <tbody>\n",
       "    <tr>\n",
       "      <th>0</th>\n",
       "      <td>Sampling rate(Hz): 0.00333333333333333</td>\n",
       "      <td>None</td>\n",
       "    </tr>\n",
       "    <tr>\n",
       "      <th>1</th>\n",
       "      <td>Time range: From: 03/06/2015 10:19:59; Until: ...</td>\n",
       "      <td>None</td>\n",
       "    </tr>\n",
       "    <tr>\n",
       "      <th>2</th>\n",
       "      <td>Units: mm</td>\n",
       "      <td>None</td>\n",
       "    </tr>\n",
       "    <tr>\n",
       "      <th>3</th>\n",
       "      <td>Description: DISPL_X_MAX_T</td>\n",
       "      <td>None</td>\n",
       "    </tr>\n",
       "  </tbody>\n",
       "</table>\n",
       "</div>"
      ],
      "text/plain": [
       "                                                   0     1\n",
       "0             Sampling rate(Hz): 0.00333333333333333  None\n",
       "1  Time range: From: 03/06/2015 10:19:59; Until: ...  None\n",
       "2                                          Units: mm  None\n",
       "3                         Description: DISPL_X_MAX_T  None"
      ]
     },
     "execution_count": 4,
     "metadata": {},
     "output_type": "execute_result"
    }
   ],
   "source": [
    "df[df.isnull().any(axis=1)].head(50)"
   ]
  },
  {
   "cell_type": "code",
   "execution_count": 5,
   "id": "6cdcc45c",
   "metadata": {},
   "outputs": [],
   "source": [
    "df.dropna(inplace=True)"
   ]
  },
  {
   "cell_type": "code",
   "execution_count": 6,
   "id": "209baecc",
   "metadata": {},
   "outputs": [
    {
     "data": {
      "text/html": [
       "<div>\n",
       "<style scoped>\n",
       "    .dataframe tbody tr th:only-of-type {\n",
       "        vertical-align: middle;\n",
       "    }\n",
       "\n",
       "    .dataframe tbody tr th {\n",
       "        vertical-align: top;\n",
       "    }\n",
       "\n",
       "    .dataframe thead th {\n",
       "        text-align: right;\n",
       "    }\n",
       "</style>\n",
       "<table border=\"1\" class=\"dataframe\">\n",
       "  <thead>\n",
       "    <tr style=\"text-align: right;\">\n",
       "      <th></th>\n",
       "      <th>0</th>\n",
       "      <th>1</th>\n",
       "    </tr>\n",
       "  </thead>\n",
       "  <tbody>\n",
       "    <tr>\n",
       "      <th>4</th>\n",
       "      <td>01.07.2018 00:01:05</td>\n",
       "      <td>8.44</td>\n",
       "    </tr>\n",
       "    <tr>\n",
       "      <th>5</th>\n",
       "      <td>01.07.2018 00:06:05</td>\n",
       "      <td>8.429999</td>\n",
       "    </tr>\n",
       "    <tr>\n",
       "      <th>6</th>\n",
       "      <td>01.07.2018 00:11:05</td>\n",
       "      <td>8.37</td>\n",
       "    </tr>\n",
       "    <tr>\n",
       "      <th>7</th>\n",
       "      <td>01.07.2018 00:16:05</td>\n",
       "      <td>8.429999</td>\n",
       "    </tr>\n",
       "    <tr>\n",
       "      <th>8</th>\n",
       "      <td>01.07.2018 00:21:05</td>\n",
       "      <td>8.349999</td>\n",
       "    </tr>\n",
       "  </tbody>\n",
       "</table>\n",
       "</div>"
      ],
      "text/plain": [
       "                     0         1\n",
       "4  01.07.2018 00:01:05      8.44\n",
       "5  01.07.2018 00:06:05  8.429999\n",
       "6  01.07.2018 00:11:05      8.37\n",
       "7  01.07.2018 00:16:05  8.429999\n",
       "8  01.07.2018 00:21:05  8.349999"
      ]
     },
     "execution_count": 6,
     "metadata": {},
     "output_type": "execute_result"
    }
   ],
   "source": [
    "df.head()"
   ]
  },
  {
   "cell_type": "code",
   "execution_count": 7,
   "id": "24af8eb6",
   "metadata": {},
   "outputs": [
    {
     "name": "stdout",
     "output_type": "stream",
     "text": [
      "<class 'pandas.core.frame.DataFrame'>\n",
      "Index: 44266 entries, 2018-01-07 to 2018-12-31\n",
      "Data columns (total 1 columns):\n",
      " #   Column           Non-Null Count  Dtype  \n",
      "---  ------           --------------  -----  \n",
      " 0   DISPL_X_MAX_T_1  44266 non-null  float64\n",
      "dtypes: float64(1)\n",
      "memory usage: 691.7+ KB\n"
     ]
    }
   ],
   "source": [
    "    df[0]=pd.to_datetime(df[0])\n",
    "    df.index=df[0]\n",
    "    df.index=df.index.date\n",
    "    df.drop(columns=[0],inplace=True)\n",
    "    df.columns=['DISPL_X_MAX_T_1']\n",
    "    df.isnull().sum()\n",
    "    df=df.astype({'DISPL_X_MAX_T_1':float,})\n",
    "    df.info()"
   ]
  },
  {
   "cell_type": "code",
   "execution_count": 8,
   "id": "4a6acff4",
   "metadata": {},
   "outputs": [
    {
     "data": {
      "text/html": [
       "<div>\n",
       "<style scoped>\n",
       "    .dataframe tbody tr th:only-of-type {\n",
       "        vertical-align: middle;\n",
       "    }\n",
       "\n",
       "    .dataframe tbody tr th {\n",
       "        vertical-align: top;\n",
       "    }\n",
       "\n",
       "    .dataframe thead th {\n",
       "        text-align: right;\n",
       "    }\n",
       "</style>\n",
       "<table border=\"1\" class=\"dataframe\">\n",
       "  <thead>\n",
       "    <tr style=\"text-align: right;\">\n",
       "      <th></th>\n",
       "      <th>DISPL_X_MAX_T_1</th>\n",
       "    </tr>\n",
       "  </thead>\n",
       "  <tbody>\n",
       "    <tr>\n",
       "      <th>2018-01-07</th>\n",
       "      <td>8.440000</td>\n",
       "    </tr>\n",
       "    <tr>\n",
       "      <th>2018-01-07</th>\n",
       "      <td>8.429999</td>\n",
       "    </tr>\n",
       "    <tr>\n",
       "      <th>2018-01-07</th>\n",
       "      <td>8.370000</td>\n",
       "    </tr>\n",
       "    <tr>\n",
       "      <th>2018-01-07</th>\n",
       "      <td>8.429999</td>\n",
       "    </tr>\n",
       "    <tr>\n",
       "      <th>2018-01-07</th>\n",
       "      <td>8.349999</td>\n",
       "    </tr>\n",
       "  </tbody>\n",
       "</table>\n",
       "</div>"
      ],
      "text/plain": [
       "            DISPL_X_MAX_T_1\n",
       "2018-01-07         8.440000\n",
       "2018-01-07         8.429999\n",
       "2018-01-07         8.370000\n",
       "2018-01-07         8.429999\n",
       "2018-01-07         8.349999"
      ]
     },
     "execution_count": 8,
     "metadata": {},
     "output_type": "execute_result"
    }
   ],
   "source": [
    "df.head()"
   ]
  },
  {
   "cell_type": "code",
   "execution_count": 9,
   "id": "0fd300fb",
   "metadata": {},
   "outputs": [],
   "source": [
    "df['square_values'] = df.DISPL_X_MAX_T_1*df.DISPL_X_MAX_T_1"
   ]
  },
  {
   "cell_type": "code",
   "execution_count": 10,
   "id": "2955d463",
   "metadata": {},
   "outputs": [
    {
     "data": {
      "text/html": [
       "<div>\n",
       "<style scoped>\n",
       "    .dataframe tbody tr th:only-of-type {\n",
       "        vertical-align: middle;\n",
       "    }\n",
       "\n",
       "    .dataframe tbody tr th {\n",
       "        vertical-align: top;\n",
       "    }\n",
       "\n",
       "    .dataframe thead th {\n",
       "        text-align: right;\n",
       "    }\n",
       "</style>\n",
       "<table border=\"1\" class=\"dataframe\">\n",
       "  <thead>\n",
       "    <tr style=\"text-align: right;\">\n",
       "      <th></th>\n",
       "      <th>DISPL_X_MAX_T_1</th>\n",
       "      <th>square_values</th>\n",
       "    </tr>\n",
       "  </thead>\n",
       "  <tbody>\n",
       "    <tr>\n",
       "      <th>2018-01-07</th>\n",
       "      <td>8.440000</td>\n",
       "      <td>71.233600</td>\n",
       "    </tr>\n",
       "    <tr>\n",
       "      <th>2018-01-07</th>\n",
       "      <td>8.429999</td>\n",
       "      <td>71.064883</td>\n",
       "    </tr>\n",
       "    <tr>\n",
       "      <th>2018-01-07</th>\n",
       "      <td>8.370000</td>\n",
       "      <td>70.056900</td>\n",
       "    </tr>\n",
       "    <tr>\n",
       "      <th>2018-01-07</th>\n",
       "      <td>8.429999</td>\n",
       "      <td>71.064883</td>\n",
       "    </tr>\n",
       "    <tr>\n",
       "      <th>2018-01-07</th>\n",
       "      <td>8.349999</td>\n",
       "      <td>69.722483</td>\n",
       "    </tr>\n",
       "  </tbody>\n",
       "</table>\n",
       "</div>"
      ],
      "text/plain": [
       "            DISPL_X_MAX_T_1  square_values\n",
       "2018-01-07         8.440000      71.233600\n",
       "2018-01-07         8.429999      71.064883\n",
       "2018-01-07         8.370000      70.056900\n",
       "2018-01-07         8.429999      71.064883\n",
       "2018-01-07         8.349999      69.722483"
      ]
     },
     "execution_count": 10,
     "metadata": {},
     "output_type": "execute_result"
    }
   ],
   "source": [
    "df.head()"
   ]
  },
  {
   "cell_type": "code",
   "execution_count": 11,
   "id": "bc10fbda",
   "metadata": {},
   "outputs": [],
   "source": [
    "final_df=df.groupby(df.index).agg({'square_values':['mean']})"
   ]
  },
  {
   "cell_type": "code",
   "execution_count": 12,
   "id": "c4f31791",
   "metadata": {},
   "outputs": [
    {
     "data": {
      "text/html": [
       "<div>\n",
       "<style scoped>\n",
       "    .dataframe tbody tr th:only-of-type {\n",
       "        vertical-align: middle;\n",
       "    }\n",
       "\n",
       "    .dataframe tbody tr th {\n",
       "        vertical-align: top;\n",
       "    }\n",
       "\n",
       "    .dataframe thead tr th {\n",
       "        text-align: left;\n",
       "    }\n",
       "</style>\n",
       "<table border=\"1\" class=\"dataframe\">\n",
       "  <thead>\n",
       "    <tr>\n",
       "      <th></th>\n",
       "      <th>square_values</th>\n",
       "    </tr>\n",
       "    <tr>\n",
       "      <th></th>\n",
       "      <th>mean</th>\n",
       "    </tr>\n",
       "  </thead>\n",
       "  <tbody>\n",
       "    <tr>\n",
       "      <th>2018-01-07</th>\n",
       "      <td>68.893742</td>\n",
       "    </tr>\n",
       "    <tr>\n",
       "      <th>2018-01-09</th>\n",
       "      <td>67.959840</td>\n",
       "    </tr>\n",
       "    <tr>\n",
       "      <th>2018-01-10</th>\n",
       "      <td>67.960023</td>\n",
       "    </tr>\n",
       "    <tr>\n",
       "      <th>2018-01-11</th>\n",
       "      <td>60.840000</td>\n",
       "    </tr>\n",
       "    <tr>\n",
       "      <th>2018-01-12</th>\n",
       "      <td>66.446244</td>\n",
       "    </tr>\n",
       "    <tr>\n",
       "      <th>...</th>\n",
       "      <td>...</td>\n",
       "    </tr>\n",
       "    <tr>\n",
       "      <th>2018-12-27</th>\n",
       "      <td>66.703177</td>\n",
       "    </tr>\n",
       "    <tr>\n",
       "      <th>2018-12-28</th>\n",
       "      <td>63.602137</td>\n",
       "    </tr>\n",
       "    <tr>\n",
       "      <th>2018-12-29</th>\n",
       "      <td>61.312303</td>\n",
       "    </tr>\n",
       "    <tr>\n",
       "      <th>2018-12-30</th>\n",
       "      <td>61.220325</td>\n",
       "    </tr>\n",
       "    <tr>\n",
       "      <th>2018-12-31</th>\n",
       "      <td>61.307270</td>\n",
       "    </tr>\n",
       "  </tbody>\n",
       "</table>\n",
       "<p>159 rows × 1 columns</p>\n",
       "</div>"
      ],
      "text/plain": [
       "           square_values\n",
       "                    mean\n",
       "2018-01-07     68.893742\n",
       "2018-01-09     67.959840\n",
       "2018-01-10     67.960023\n",
       "2018-01-11     60.840000\n",
       "2018-01-12     66.446244\n",
       "...                  ...\n",
       "2018-12-27     66.703177\n",
       "2018-12-28     63.602137\n",
       "2018-12-29     61.312303\n",
       "2018-12-30     61.220325\n",
       "2018-12-31     61.307270\n",
       "\n",
       "[159 rows x 1 columns]"
      ]
     },
     "execution_count": 12,
     "metadata": {},
     "output_type": "execute_result"
    }
   ],
   "source": [
    "final_df"
   ]
  },
  {
   "cell_type": "code",
   "execution_count": 13,
   "id": "15f925c0",
   "metadata": {},
   "outputs": [],
   "source": [
    "final_df\n",
    "header = np.array(['RMS'])\n",
    "final_df.columns=header"
   ]
  },
  {
   "cell_type": "code",
   "execution_count": 14,
   "id": "bbf08fd4",
   "metadata": {},
   "outputs": [
    {
     "data": {
      "text/html": [
       "<div>\n",
       "<style scoped>\n",
       "    .dataframe tbody tr th:only-of-type {\n",
       "        vertical-align: middle;\n",
       "    }\n",
       "\n",
       "    .dataframe tbody tr th {\n",
       "        vertical-align: top;\n",
       "    }\n",
       "\n",
       "    .dataframe thead th {\n",
       "        text-align: right;\n",
       "    }\n",
       "</style>\n",
       "<table border=\"1\" class=\"dataframe\">\n",
       "  <thead>\n",
       "    <tr style=\"text-align: right;\">\n",
       "      <th></th>\n",
       "      <th>RMS</th>\n",
       "    </tr>\n",
       "  </thead>\n",
       "  <tbody>\n",
       "    <tr>\n",
       "      <th>2018-01-07</th>\n",
       "      <td>8.300225</td>\n",
       "    </tr>\n",
       "    <tr>\n",
       "      <th>2018-01-09</th>\n",
       "      <td>8.243776</td>\n",
       "    </tr>\n",
       "    <tr>\n",
       "      <th>2018-01-10</th>\n",
       "      <td>8.243787</td>\n",
       "    </tr>\n",
       "    <tr>\n",
       "      <th>2018-01-11</th>\n",
       "      <td>7.800000</td>\n",
       "    </tr>\n",
       "    <tr>\n",
       "      <th>2018-01-12</th>\n",
       "      <td>8.151457</td>\n",
       "    </tr>\n",
       "    <tr>\n",
       "      <th>...</th>\n",
       "      <td>...</td>\n",
       "    </tr>\n",
       "    <tr>\n",
       "      <th>2018-12-27</th>\n",
       "      <td>8.167201</td>\n",
       "    </tr>\n",
       "    <tr>\n",
       "      <th>2018-12-28</th>\n",
       "      <td>7.975095</td>\n",
       "    </tr>\n",
       "    <tr>\n",
       "      <th>2018-12-29</th>\n",
       "      <td>7.830217</td>\n",
       "    </tr>\n",
       "    <tr>\n",
       "      <th>2018-12-30</th>\n",
       "      <td>7.824342</td>\n",
       "    </tr>\n",
       "    <tr>\n",
       "      <th>2018-12-31</th>\n",
       "      <td>7.829896</td>\n",
       "    </tr>\n",
       "  </tbody>\n",
       "</table>\n",
       "<p>159 rows × 1 columns</p>\n",
       "</div>"
      ],
      "text/plain": [
       "                 RMS\n",
       "2018-01-07  8.300225\n",
       "2018-01-09  8.243776\n",
       "2018-01-10  8.243787\n",
       "2018-01-11  7.800000\n",
       "2018-01-12  8.151457\n",
       "...              ...\n",
       "2018-12-27  8.167201\n",
       "2018-12-28  7.975095\n",
       "2018-12-29  7.830217\n",
       "2018-12-30  7.824342\n",
       "2018-12-31  7.829896\n",
       "\n",
       "[159 rows x 1 columns]"
      ]
     },
     "execution_count": 14,
     "metadata": {},
     "output_type": "execute_result"
    }
   ],
   "source": [
    "final_df['RMS'] = final_df['RMS'].apply(lambda x : x**0.5)\n",
    "final_df"
   ]
  },
  {
   "cell_type": "code",
   "execution_count": 15,
   "id": "6cba6107",
   "metadata": {},
   "outputs": [],
   "source": [
    "outlier_df=final_df[final_df['RMS']<=0.1]\n",
    "outlier_df.columns=['Non Running']"
   ]
  },
  {
   "cell_type": "code",
   "execution_count": 16,
   "id": "b40fe36d",
   "metadata": {},
   "outputs": [
    {
     "data": {
      "text/plain": [
       "Index([2018-02-08, 2018-06-08, 2018-09-13, 2018-09-14], dtype='object')"
      ]
     },
     "execution_count": 16,
     "metadata": {},
     "output_type": "execute_result"
    }
   ],
   "source": [
    "outlier_df.index"
   ]
  },
  {
   "cell_type": "code",
   "execution_count": 17,
   "id": "1ff17206",
   "metadata": {},
   "outputs": [],
   "source": [
    "outlier_df.index=pd.to_datetime(outlier_df.index)"
   ]
  },
  {
   "cell_type": "code",
   "execution_count": 18,
   "id": "470008bc",
   "metadata": {},
   "outputs": [
    {
     "data": {
      "text/html": [
       "<div>\n",
       "<style scoped>\n",
       "    .dataframe tbody tr th:only-of-type {\n",
       "        vertical-align: middle;\n",
       "    }\n",
       "\n",
       "    .dataframe tbody tr th {\n",
       "        vertical-align: top;\n",
       "    }\n",
       "\n",
       "    .dataframe thead th {\n",
       "        text-align: right;\n",
       "    }\n",
       "</style>\n",
       "<table border=\"1\" class=\"dataframe\">\n",
       "  <thead>\n",
       "    <tr style=\"text-align: right;\">\n",
       "      <th></th>\n",
       "      <th>RMS</th>\n",
       "    </tr>\n",
       "  </thead>\n",
       "  <tbody>\n",
       "    <tr>\n",
       "      <th>2018-01-07</th>\n",
       "      <td>8.300225</td>\n",
       "    </tr>\n",
       "    <tr>\n",
       "      <th>2018-01-09</th>\n",
       "      <td>8.243776</td>\n",
       "    </tr>\n",
       "    <tr>\n",
       "      <th>2018-01-10</th>\n",
       "      <td>8.243787</td>\n",
       "    </tr>\n",
       "    <tr>\n",
       "      <th>2018-01-11</th>\n",
       "      <td>7.800000</td>\n",
       "    </tr>\n",
       "    <tr>\n",
       "      <th>2018-01-12</th>\n",
       "      <td>8.151457</td>\n",
       "    </tr>\n",
       "    <tr>\n",
       "      <th>...</th>\n",
       "      <td>...</td>\n",
       "    </tr>\n",
       "    <tr>\n",
       "      <th>2018-12-27</th>\n",
       "      <td>8.167201</td>\n",
       "    </tr>\n",
       "    <tr>\n",
       "      <th>2018-12-28</th>\n",
       "      <td>7.975095</td>\n",
       "    </tr>\n",
       "    <tr>\n",
       "      <th>2018-12-29</th>\n",
       "      <td>7.830217</td>\n",
       "    </tr>\n",
       "    <tr>\n",
       "      <th>2018-12-30</th>\n",
       "      <td>7.824342</td>\n",
       "    </tr>\n",
       "    <tr>\n",
       "      <th>2018-12-31</th>\n",
       "      <td>7.829896</td>\n",
       "    </tr>\n",
       "  </tbody>\n",
       "</table>\n",
       "<p>159 rows × 1 columns</p>\n",
       "</div>"
      ],
      "text/plain": [
       "                 RMS\n",
       "2018-01-07  8.300225\n",
       "2018-01-09  8.243776\n",
       "2018-01-10  8.243787\n",
       "2018-01-11  7.800000\n",
       "2018-01-12  8.151457\n",
       "...              ...\n",
       "2018-12-27  8.167201\n",
       "2018-12-28  7.975095\n",
       "2018-12-29  7.830217\n",
       "2018-12-30  7.824342\n",
       "2018-12-31  7.829896\n",
       "\n",
       "[159 rows x 1 columns]"
      ]
     },
     "execution_count": 18,
     "metadata": {},
     "output_type": "execute_result"
    }
   ],
   "source": [
    "final_df_1=final_df[:]\n",
    "final_df_1"
   ]
  },
  {
   "cell_type": "code",
   "execution_count": 19,
   "id": "5eb168c7",
   "metadata": {},
   "outputs": [],
   "source": [
    "final_df_1.index=final_df_1.index.astype('str')\n",
    "final_df_1.drop(final_df_1[final_df_1['RMS'] <=0.1].index, inplace= True)\n",
    "final_df_1.index=pd.to_datetime(final_df_1.index)"
   ]
  },
  {
   "cell_type": "code",
   "execution_count": 20,
   "id": "a03615f0",
   "metadata": {},
   "outputs": [
    {
     "data": {
      "text/html": [
       "<div>\n",
       "<style scoped>\n",
       "    .dataframe tbody tr th:only-of-type {\n",
       "        vertical-align: middle;\n",
       "    }\n",
       "\n",
       "    .dataframe tbody tr th {\n",
       "        vertical-align: top;\n",
       "    }\n",
       "\n",
       "    .dataframe thead th {\n",
       "        text-align: right;\n",
       "    }\n",
       "</style>\n",
       "<table border=\"1\" class=\"dataframe\">\n",
       "  <thead>\n",
       "    <tr style=\"text-align: right;\">\n",
       "      <th></th>\n",
       "      <th>RMS</th>\n",
       "    </tr>\n",
       "  </thead>\n",
       "  <tbody>\n",
       "    <tr>\n",
       "      <th>2018-01-07</th>\n",
       "      <td>8.300225</td>\n",
       "    </tr>\n",
       "    <tr>\n",
       "      <th>2018-01-09</th>\n",
       "      <td>8.243776</td>\n",
       "    </tr>\n",
       "    <tr>\n",
       "      <th>2018-01-10</th>\n",
       "      <td>8.243787</td>\n",
       "    </tr>\n",
       "    <tr>\n",
       "      <th>2018-01-11</th>\n",
       "      <td>7.800000</td>\n",
       "    </tr>\n",
       "    <tr>\n",
       "      <th>2018-01-12</th>\n",
       "      <td>8.151457</td>\n",
       "    </tr>\n",
       "    <tr>\n",
       "      <th>...</th>\n",
       "      <td>...</td>\n",
       "    </tr>\n",
       "    <tr>\n",
       "      <th>2018-12-27</th>\n",
       "      <td>8.167201</td>\n",
       "    </tr>\n",
       "    <tr>\n",
       "      <th>2018-12-28</th>\n",
       "      <td>7.975095</td>\n",
       "    </tr>\n",
       "    <tr>\n",
       "      <th>2018-12-29</th>\n",
       "      <td>7.830217</td>\n",
       "    </tr>\n",
       "    <tr>\n",
       "      <th>2018-12-30</th>\n",
       "      <td>7.824342</td>\n",
       "    </tr>\n",
       "    <tr>\n",
       "      <th>2018-12-31</th>\n",
       "      <td>7.829896</td>\n",
       "    </tr>\n",
       "  </tbody>\n",
       "</table>\n",
       "<p>155 rows × 1 columns</p>\n",
       "</div>"
      ],
      "text/plain": [
       "                 RMS\n",
       "2018-01-07  8.300225\n",
       "2018-01-09  8.243776\n",
       "2018-01-10  8.243787\n",
       "2018-01-11  7.800000\n",
       "2018-01-12  8.151457\n",
       "...              ...\n",
       "2018-12-27  8.167201\n",
       "2018-12-28  7.975095\n",
       "2018-12-29  7.830217\n",
       "2018-12-30  7.824342\n",
       "2018-12-31  7.829896\n",
       "\n",
       "[155 rows x 1 columns]"
      ]
     },
     "execution_count": 20,
     "metadata": {},
     "output_type": "execute_result"
    }
   ],
   "source": [
    "final_df_1"
   ]
  },
  {
   "cell_type": "code",
   "execution_count": 21,
   "id": "f52af0fb",
   "metadata": {},
   "outputs": [
    {
     "name": "stderr",
     "output_type": "stream",
     "text": [
      "C:\\Users\\2000139\\AppData\\Roaming\\Python\\Python38\\site-packages\\statsmodels\\tsa\\base\\tsa_model.py:471: ValueWarning:\n",
      "\n",
      "A date index has been provided, but it has no associated frequency information and so will be ignored when e.g. forecasting.\n",
      "\n"
     ]
    }
   ],
   "source": [
    "\n",
    "fit1 = SimpleExpSmoothing(final_df_1['RMS']).fit(smoothing_level=0.2,optimized = False)\n",
    "final_df_1['Smooth RMS']=list(fit1.fittedvalues)"
   ]
  },
  {
   "cell_type": "code",
   "execution_count": 22,
   "id": "523e997d",
   "metadata": {},
   "outputs": [
    {
     "data": {
      "text/html": [
       "<div>\n",
       "<style scoped>\n",
       "    .dataframe tbody tr th:only-of-type {\n",
       "        vertical-align: middle;\n",
       "    }\n",
       "\n",
       "    .dataframe tbody tr th {\n",
       "        vertical-align: top;\n",
       "    }\n",
       "\n",
       "    .dataframe thead th {\n",
       "        text-align: right;\n",
       "    }\n",
       "</style>\n",
       "<table border=\"1\" class=\"dataframe\">\n",
       "  <thead>\n",
       "    <tr style=\"text-align: right;\">\n",
       "      <th></th>\n",
       "      <th>RMS</th>\n",
       "      <th>Smooth RMS</th>\n",
       "    </tr>\n",
       "  </thead>\n",
       "  <tbody>\n",
       "    <tr>\n",
       "      <th>2018-01-07</th>\n",
       "      <td>8.300225</td>\n",
       "      <td>8.300225</td>\n",
       "    </tr>\n",
       "    <tr>\n",
       "      <th>2018-01-09</th>\n",
       "      <td>8.243776</td>\n",
       "      <td>8.300225</td>\n",
       "    </tr>\n",
       "    <tr>\n",
       "      <th>2018-01-10</th>\n",
       "      <td>8.243787</td>\n",
       "      <td>8.288935</td>\n",
       "    </tr>\n",
       "    <tr>\n",
       "      <th>2018-01-11</th>\n",
       "      <td>7.800000</td>\n",
       "      <td>8.279906</td>\n",
       "    </tr>\n",
       "    <tr>\n",
       "      <th>2018-01-12</th>\n",
       "      <td>8.151457</td>\n",
       "      <td>8.183925</td>\n",
       "    </tr>\n",
       "    <tr>\n",
       "      <th>...</th>\n",
       "      <td>...</td>\n",
       "      <td>...</td>\n",
       "    </tr>\n",
       "    <tr>\n",
       "      <th>2018-12-27</th>\n",
       "      <td>8.167201</td>\n",
       "      <td>8.144111</td>\n",
       "    </tr>\n",
       "    <tr>\n",
       "      <th>2018-12-28</th>\n",
       "      <td>7.975095</td>\n",
       "      <td>8.148729</td>\n",
       "    </tr>\n",
       "    <tr>\n",
       "      <th>2018-12-29</th>\n",
       "      <td>7.830217</td>\n",
       "      <td>8.114002</td>\n",
       "    </tr>\n",
       "    <tr>\n",
       "      <th>2018-12-30</th>\n",
       "      <td>7.824342</td>\n",
       "      <td>8.057245</td>\n",
       "    </tr>\n",
       "    <tr>\n",
       "      <th>2018-12-31</th>\n",
       "      <td>7.829896</td>\n",
       "      <td>8.010665</td>\n",
       "    </tr>\n",
       "  </tbody>\n",
       "</table>\n",
       "<p>155 rows × 2 columns</p>\n",
       "</div>"
      ],
      "text/plain": [
       "                 RMS  Smooth RMS\n",
       "2018-01-07  8.300225    8.300225\n",
       "2018-01-09  8.243776    8.300225\n",
       "2018-01-10  8.243787    8.288935\n",
       "2018-01-11  7.800000    8.279906\n",
       "2018-01-12  8.151457    8.183925\n",
       "...              ...         ...\n",
       "2018-12-27  8.167201    8.144111\n",
       "2018-12-28  7.975095    8.148729\n",
       "2018-12-29  7.830217    8.114002\n",
       "2018-12-30  7.824342    8.057245\n",
       "2018-12-31  7.829896    8.010665\n",
       "\n",
       "[155 rows x 2 columns]"
      ]
     },
     "execution_count": 22,
     "metadata": {},
     "output_type": "execute_result"
    }
   ],
   "source": [
    "final_df_1"
   ]
  },
  {
   "cell_type": "code",
   "execution_count": 23,
   "id": "7bca190e",
   "metadata": {},
   "outputs": [
    {
     "data": {
      "text/plain": [
       "[datetime.datetime(2018, 1, 7, 0, 0),\n",
       " datetime.datetime(2018, 1, 7, 1, 0),\n",
       " datetime.datetime(2018, 1, 7, 2, 0),\n",
       " datetime.datetime(2018, 1, 7, 3, 0),\n",
       " datetime.datetime(2018, 1, 7, 4, 0),\n",
       " datetime.datetime(2018, 1, 7, 5, 0),\n",
       " datetime.datetime(2018, 1, 7, 6, 0),\n",
       " datetime.datetime(2018, 1, 7, 7, 0),\n",
       " datetime.datetime(2018, 1, 7, 8, 0),\n",
       " datetime.datetime(2018, 1, 7, 9, 0),\n",
       " datetime.datetime(2018, 1, 7, 10, 0),\n",
       " datetime.datetime(2018, 1, 7, 11, 0),\n",
       " datetime.datetime(2018, 1, 7, 12, 0),\n",
       " datetime.datetime(2018, 1, 7, 13, 0),\n",
       " datetime.datetime(2018, 1, 7, 14, 0),\n",
       " datetime.datetime(2018, 1, 7, 15, 0),\n",
       " datetime.datetime(2018, 1, 7, 16, 0),\n",
       " datetime.datetime(2018, 1, 7, 17, 0),\n",
       " datetime.datetime(2018, 1, 7, 18, 0),\n",
       " datetime.datetime(2018, 1, 7, 19, 0),\n",
       " datetime.datetime(2018, 1, 7, 20, 0),\n",
       " datetime.datetime(2018, 1, 7, 21, 0),\n",
       " datetime.datetime(2018, 1, 7, 22, 0),\n",
       " datetime.datetime(2018, 1, 7, 23, 0),\n",
       " datetime.datetime(2018, 1, 8, 0, 0),\n",
       " datetime.datetime(2018, 1, 8, 1, 0),\n",
       " datetime.datetime(2018, 1, 8, 2, 0),\n",
       " datetime.datetime(2018, 1, 8, 3, 0),\n",
       " datetime.datetime(2018, 1, 8, 4, 0),\n",
       " datetime.datetime(2018, 1, 8, 5, 0),\n",
       " datetime.datetime(2018, 1, 8, 6, 0),\n",
       " datetime.datetime(2018, 1, 8, 7, 0),\n",
       " datetime.datetime(2018, 1, 8, 8, 0),\n",
       " datetime.datetime(2018, 1, 8, 9, 0),\n",
       " datetime.datetime(2018, 1, 8, 10, 0),\n",
       " datetime.datetime(2018, 1, 8, 11, 0),\n",
       " datetime.datetime(2018, 1, 8, 12, 0),\n",
       " datetime.datetime(2018, 1, 8, 13, 0),\n",
       " datetime.datetime(2018, 1, 8, 14, 0),\n",
       " datetime.datetime(2018, 1, 8, 15, 0),\n",
       " datetime.datetime(2018, 1, 8, 16, 0),\n",
       " datetime.datetime(2018, 1, 8, 17, 0),\n",
       " datetime.datetime(2018, 1, 8, 18, 0),\n",
       " datetime.datetime(2018, 1, 8, 19, 0),\n",
       " datetime.datetime(2018, 1, 8, 20, 0),\n",
       " datetime.datetime(2018, 1, 8, 21, 0),\n",
       " datetime.datetime(2018, 1, 8, 22, 0),\n",
       " datetime.datetime(2018, 1, 8, 23, 0),\n",
       " datetime.datetime(2018, 1, 9, 0, 0),\n",
       " datetime.datetime(2018, 1, 9, 1, 0),\n",
       " datetime.datetime(2018, 1, 9, 2, 0),\n",
       " datetime.datetime(2018, 1, 9, 3, 0),\n",
       " datetime.datetime(2018, 1, 9, 4, 0),\n",
       " datetime.datetime(2018, 1, 9, 5, 0),\n",
       " datetime.datetime(2018, 1, 9, 6, 0),\n",
       " datetime.datetime(2018, 1, 9, 7, 0),\n",
       " datetime.datetime(2018, 1, 9, 8, 0),\n",
       " datetime.datetime(2018, 1, 9, 9, 0),\n",
       " datetime.datetime(2018, 1, 9, 10, 0),\n",
       " datetime.datetime(2018, 1, 9, 11, 0),\n",
       " datetime.datetime(2018, 1, 9, 12, 0),\n",
       " datetime.datetime(2018, 1, 9, 13, 0),\n",
       " datetime.datetime(2018, 1, 9, 14, 0),\n",
       " datetime.datetime(2018, 1, 9, 15, 0),\n",
       " datetime.datetime(2018, 1, 9, 16, 0),\n",
       " datetime.datetime(2018, 1, 9, 17, 0),\n",
       " datetime.datetime(2018, 1, 9, 18, 0),\n",
       " datetime.datetime(2018, 1, 9, 19, 0),\n",
       " datetime.datetime(2018, 1, 9, 20, 0),\n",
       " datetime.datetime(2018, 1, 9, 21, 0),\n",
       " datetime.datetime(2018, 1, 9, 22, 0),\n",
       " datetime.datetime(2018, 1, 9, 23, 0),\n",
       " datetime.datetime(2018, 1, 10, 0, 0),\n",
       " datetime.datetime(2018, 1, 10, 1, 0),\n",
       " datetime.datetime(2018, 1, 10, 2, 0),\n",
       " datetime.datetime(2018, 1, 10, 3, 0),\n",
       " datetime.datetime(2018, 1, 10, 4, 0),\n",
       " datetime.datetime(2018, 1, 10, 5, 0),\n",
       " datetime.datetime(2018, 1, 10, 6, 0),\n",
       " datetime.datetime(2018, 1, 10, 7, 0),\n",
       " datetime.datetime(2018, 1, 10, 8, 0),\n",
       " datetime.datetime(2018, 1, 10, 9, 0),\n",
       " datetime.datetime(2018, 1, 10, 10, 0),\n",
       " datetime.datetime(2018, 1, 10, 11, 0),\n",
       " datetime.datetime(2018, 1, 10, 12, 0),\n",
       " datetime.datetime(2018, 1, 10, 13, 0),\n",
       " datetime.datetime(2018, 1, 10, 14, 0),\n",
       " datetime.datetime(2018, 1, 10, 15, 0),\n",
       " datetime.datetime(2018, 1, 10, 16, 0),\n",
       " datetime.datetime(2018, 1, 10, 17, 0),\n",
       " datetime.datetime(2018, 1, 10, 18, 0),\n",
       " datetime.datetime(2018, 1, 10, 19, 0),\n",
       " datetime.datetime(2018, 1, 10, 20, 0),\n",
       " datetime.datetime(2018, 1, 10, 21, 0),\n",
       " datetime.datetime(2018, 1, 10, 22, 0),\n",
       " datetime.datetime(2018, 1, 10, 23, 0),\n",
       " datetime.datetime(2018, 1, 11, 0, 0),\n",
       " datetime.datetime(2018, 1, 11, 1, 0),\n",
       " datetime.datetime(2018, 1, 11, 2, 0),\n",
       " datetime.datetime(2018, 1, 11, 3, 0),\n",
       " datetime.datetime(2018, 1, 11, 4, 0),\n",
       " datetime.datetime(2018, 1, 11, 5, 0),\n",
       " datetime.datetime(2018, 1, 11, 6, 0),\n",
       " datetime.datetime(2018, 1, 11, 7, 0),\n",
       " datetime.datetime(2018, 1, 11, 8, 0),\n",
       " datetime.datetime(2018, 1, 11, 9, 0),\n",
       " datetime.datetime(2018, 1, 11, 10, 0),\n",
       " datetime.datetime(2018, 1, 11, 11, 0),\n",
       " datetime.datetime(2018, 1, 11, 12, 0),\n",
       " datetime.datetime(2018, 1, 11, 13, 0),\n",
       " datetime.datetime(2018, 1, 11, 14, 0),\n",
       " datetime.datetime(2018, 1, 11, 15, 0),\n",
       " datetime.datetime(2018, 1, 11, 16, 0),\n",
       " datetime.datetime(2018, 1, 11, 17, 0),\n",
       " datetime.datetime(2018, 1, 11, 18, 0),\n",
       " datetime.datetime(2018, 1, 11, 19, 0),\n",
       " datetime.datetime(2018, 1, 11, 20, 0),\n",
       " datetime.datetime(2018, 1, 11, 21, 0),\n",
       " datetime.datetime(2018, 1, 11, 22, 0),\n",
       " datetime.datetime(2018, 1, 11, 23, 0),\n",
       " datetime.datetime(2018, 1, 12, 0, 0),\n",
       " datetime.datetime(2018, 1, 12, 1, 0),\n",
       " datetime.datetime(2018, 1, 12, 2, 0),\n",
       " datetime.datetime(2018, 1, 12, 3, 0),\n",
       " datetime.datetime(2018, 1, 12, 4, 0),\n",
       " datetime.datetime(2018, 1, 12, 5, 0),\n",
       " datetime.datetime(2018, 1, 12, 6, 0),\n",
       " datetime.datetime(2018, 1, 12, 7, 0),\n",
       " datetime.datetime(2018, 1, 12, 8, 0),\n",
       " datetime.datetime(2018, 1, 12, 9, 0),\n",
       " datetime.datetime(2018, 1, 12, 10, 0),\n",
       " datetime.datetime(2018, 1, 12, 11, 0),\n",
       " datetime.datetime(2018, 1, 12, 12, 0),\n",
       " datetime.datetime(2018, 1, 12, 13, 0),\n",
       " datetime.datetime(2018, 1, 12, 14, 0),\n",
       " datetime.datetime(2018, 1, 12, 15, 0),\n",
       " datetime.datetime(2018, 1, 12, 16, 0),\n",
       " datetime.datetime(2018, 1, 12, 17, 0),\n",
       " datetime.datetime(2018, 1, 12, 18, 0),\n",
       " datetime.datetime(2018, 1, 12, 19, 0),\n",
       " datetime.datetime(2018, 1, 12, 20, 0),\n",
       " datetime.datetime(2018, 1, 12, 21, 0),\n",
       " datetime.datetime(2018, 1, 12, 22, 0),\n",
       " datetime.datetime(2018, 1, 12, 23, 0),\n",
       " datetime.datetime(2018, 1, 13, 0, 0),\n",
       " datetime.datetime(2018, 1, 13, 1, 0),\n",
       " datetime.datetime(2018, 1, 13, 2, 0),\n",
       " datetime.datetime(2018, 1, 13, 3, 0),\n",
       " datetime.datetime(2018, 1, 13, 4, 0),\n",
       " datetime.datetime(2018, 1, 13, 5, 0),\n",
       " datetime.datetime(2018, 1, 13, 6, 0),\n",
       " datetime.datetime(2018, 1, 13, 7, 0),\n",
       " datetime.datetime(2018, 1, 13, 8, 0),\n",
       " datetime.datetime(2018, 1, 13, 9, 0),\n",
       " datetime.datetime(2018, 1, 13, 10, 0),\n",
       " datetime.datetime(2018, 1, 13, 11, 0),\n",
       " datetime.datetime(2018, 1, 13, 12, 0),\n",
       " datetime.datetime(2018, 1, 13, 13, 0),\n",
       " datetime.datetime(2018, 1, 13, 14, 0),\n",
       " datetime.datetime(2018, 1, 13, 15, 0),\n",
       " datetime.datetime(2018, 1, 13, 16, 0),\n",
       " datetime.datetime(2018, 1, 13, 17, 0),\n",
       " datetime.datetime(2018, 1, 13, 18, 0),\n",
       " datetime.datetime(2018, 1, 13, 19, 0),\n",
       " datetime.datetime(2018, 1, 13, 20, 0),\n",
       " datetime.datetime(2018, 1, 13, 21, 0),\n",
       " datetime.datetime(2018, 1, 13, 22, 0),\n",
       " datetime.datetime(2018, 1, 13, 23, 0),\n",
       " datetime.datetime(2018, 1, 14, 0, 0),\n",
       " datetime.datetime(2018, 1, 14, 1, 0),\n",
       " datetime.datetime(2018, 1, 14, 2, 0),\n",
       " datetime.datetime(2018, 1, 14, 3, 0),\n",
       " datetime.datetime(2018, 1, 14, 4, 0),\n",
       " datetime.datetime(2018, 1, 14, 5, 0),\n",
       " datetime.datetime(2018, 1, 14, 6, 0),\n",
       " datetime.datetime(2018, 1, 14, 7, 0),\n",
       " datetime.datetime(2018, 1, 14, 8, 0),\n",
       " datetime.datetime(2018, 1, 14, 9, 0),\n",
       " datetime.datetime(2018, 1, 14, 10, 0),\n",
       " datetime.datetime(2018, 1, 14, 11, 0),\n",
       " datetime.datetime(2018, 1, 14, 12, 0),\n",
       " datetime.datetime(2018, 1, 14, 13, 0),\n",
       " datetime.datetime(2018, 1, 14, 14, 0),\n",
       " datetime.datetime(2018, 1, 14, 15, 0),\n",
       " datetime.datetime(2018, 1, 14, 16, 0),\n",
       " datetime.datetime(2018, 1, 14, 17, 0),\n",
       " datetime.datetime(2018, 1, 14, 18, 0),\n",
       " datetime.datetime(2018, 1, 14, 19, 0),\n",
       " datetime.datetime(2018, 1, 14, 20, 0),\n",
       " datetime.datetime(2018, 1, 14, 21, 0),\n",
       " datetime.datetime(2018, 1, 14, 22, 0),\n",
       " datetime.datetime(2018, 1, 14, 23, 0),\n",
       " datetime.datetime(2018, 1, 15, 0, 0),\n",
       " datetime.datetime(2018, 1, 15, 1, 0),\n",
       " datetime.datetime(2018, 1, 15, 2, 0),\n",
       " datetime.datetime(2018, 1, 15, 3, 0),\n",
       " datetime.datetime(2018, 1, 15, 4, 0),\n",
       " datetime.datetime(2018, 1, 15, 5, 0),\n",
       " datetime.datetime(2018, 1, 15, 6, 0),\n",
       " datetime.datetime(2018, 1, 15, 7, 0),\n",
       " datetime.datetime(2018, 1, 15, 8, 0),\n",
       " datetime.datetime(2018, 1, 15, 9, 0),\n",
       " datetime.datetime(2018, 1, 15, 10, 0),\n",
       " datetime.datetime(2018, 1, 15, 11, 0),\n",
       " datetime.datetime(2018, 1, 15, 12, 0),\n",
       " datetime.datetime(2018, 1, 15, 13, 0),\n",
       " datetime.datetime(2018, 1, 15, 14, 0),\n",
       " datetime.datetime(2018, 1, 15, 15, 0),\n",
       " datetime.datetime(2018, 1, 15, 16, 0),\n",
       " datetime.datetime(2018, 1, 15, 17, 0),\n",
       " datetime.datetime(2018, 1, 15, 18, 0),\n",
       " datetime.datetime(2018, 1, 15, 19, 0),\n",
       " datetime.datetime(2018, 1, 15, 20, 0),\n",
       " datetime.datetime(2018, 1, 15, 21, 0),\n",
       " datetime.datetime(2018, 1, 15, 22, 0),\n",
       " datetime.datetime(2018, 1, 15, 23, 0),\n",
       " datetime.datetime(2018, 1, 16, 0, 0),\n",
       " datetime.datetime(2018, 1, 16, 1, 0),\n",
       " datetime.datetime(2018, 1, 16, 2, 0),\n",
       " datetime.datetime(2018, 1, 16, 3, 0),\n",
       " datetime.datetime(2018, 1, 16, 4, 0),\n",
       " datetime.datetime(2018, 1, 16, 5, 0),\n",
       " datetime.datetime(2018, 1, 16, 6, 0),\n",
       " datetime.datetime(2018, 1, 16, 7, 0),\n",
       " datetime.datetime(2018, 1, 16, 8, 0),\n",
       " datetime.datetime(2018, 1, 16, 9, 0),\n",
       " datetime.datetime(2018, 1, 16, 10, 0),\n",
       " datetime.datetime(2018, 1, 16, 11, 0),\n",
       " datetime.datetime(2018, 1, 16, 12, 0),\n",
       " datetime.datetime(2018, 1, 16, 13, 0),\n",
       " datetime.datetime(2018, 1, 16, 14, 0),\n",
       " datetime.datetime(2018, 1, 16, 15, 0),\n",
       " datetime.datetime(2018, 1, 16, 16, 0),\n",
       " datetime.datetime(2018, 1, 16, 17, 0),\n",
       " datetime.datetime(2018, 1, 16, 18, 0),\n",
       " datetime.datetime(2018, 1, 16, 19, 0),\n",
       " datetime.datetime(2018, 1, 16, 20, 0),\n",
       " datetime.datetime(2018, 1, 16, 21, 0),\n",
       " datetime.datetime(2018, 1, 16, 22, 0),\n",
       " datetime.datetime(2018, 1, 16, 23, 0),\n",
       " datetime.datetime(2018, 1, 17, 0, 0),\n",
       " datetime.datetime(2018, 1, 17, 1, 0),\n",
       " datetime.datetime(2018, 1, 17, 2, 0),\n",
       " datetime.datetime(2018, 1, 17, 3, 0),\n",
       " datetime.datetime(2018, 1, 17, 4, 0),\n",
       " datetime.datetime(2018, 1, 17, 5, 0),\n",
       " datetime.datetime(2018, 1, 17, 6, 0),\n",
       " datetime.datetime(2018, 1, 17, 7, 0),\n",
       " datetime.datetime(2018, 1, 17, 8, 0),\n",
       " datetime.datetime(2018, 1, 17, 9, 0),\n",
       " datetime.datetime(2018, 1, 17, 10, 0),\n",
       " datetime.datetime(2018, 1, 17, 11, 0),\n",
       " datetime.datetime(2018, 1, 17, 12, 0),\n",
       " datetime.datetime(2018, 1, 17, 13, 0),\n",
       " datetime.datetime(2018, 1, 17, 14, 0),\n",
       " datetime.datetime(2018, 1, 17, 15, 0),\n",
       " datetime.datetime(2018, 1, 17, 16, 0),\n",
       " datetime.datetime(2018, 1, 17, 17, 0),\n",
       " datetime.datetime(2018, 1, 17, 18, 0),\n",
       " datetime.datetime(2018, 1, 17, 19, 0),\n",
       " datetime.datetime(2018, 1, 17, 20, 0),\n",
       " datetime.datetime(2018, 1, 17, 21, 0),\n",
       " datetime.datetime(2018, 1, 17, 22, 0),\n",
       " datetime.datetime(2018, 1, 17, 23, 0),\n",
       " datetime.datetime(2018, 1, 18, 0, 0),\n",
       " datetime.datetime(2018, 1, 18, 1, 0),\n",
       " datetime.datetime(2018, 1, 18, 2, 0),\n",
       " datetime.datetime(2018, 1, 18, 3, 0),\n",
       " datetime.datetime(2018, 1, 18, 4, 0),\n",
       " datetime.datetime(2018, 1, 18, 5, 0),\n",
       " datetime.datetime(2018, 1, 18, 6, 0),\n",
       " datetime.datetime(2018, 1, 18, 7, 0),\n",
       " datetime.datetime(2018, 1, 18, 8, 0),\n",
       " datetime.datetime(2018, 1, 18, 9, 0),\n",
       " datetime.datetime(2018, 1, 18, 10, 0),\n",
       " datetime.datetime(2018, 1, 18, 11, 0),\n",
       " datetime.datetime(2018, 1, 18, 12, 0),\n",
       " datetime.datetime(2018, 1, 18, 13, 0),\n",
       " datetime.datetime(2018, 1, 18, 14, 0),\n",
       " datetime.datetime(2018, 1, 18, 15, 0),\n",
       " datetime.datetime(2018, 1, 18, 16, 0),\n",
       " datetime.datetime(2018, 1, 18, 17, 0),\n",
       " datetime.datetime(2018, 1, 18, 18, 0),\n",
       " datetime.datetime(2018, 1, 18, 19, 0),\n",
       " datetime.datetime(2018, 1, 18, 20, 0),\n",
       " datetime.datetime(2018, 1, 18, 21, 0),\n",
       " datetime.datetime(2018, 1, 18, 22, 0),\n",
       " datetime.datetime(2018, 1, 18, 23, 0),\n",
       " datetime.datetime(2018, 1, 19, 0, 0),\n",
       " datetime.datetime(2018, 1, 19, 1, 0),\n",
       " datetime.datetime(2018, 1, 19, 2, 0),\n",
       " datetime.datetime(2018, 1, 19, 3, 0),\n",
       " datetime.datetime(2018, 1, 19, 4, 0),\n",
       " datetime.datetime(2018, 1, 19, 5, 0),\n",
       " datetime.datetime(2018, 1, 19, 6, 0),\n",
       " datetime.datetime(2018, 1, 19, 7, 0),\n",
       " datetime.datetime(2018, 1, 19, 8, 0),\n",
       " datetime.datetime(2018, 1, 19, 9, 0),\n",
       " datetime.datetime(2018, 1, 19, 10, 0),\n",
       " datetime.datetime(2018, 1, 19, 11, 0),\n",
       " datetime.datetime(2018, 1, 19, 12, 0),\n",
       " datetime.datetime(2018, 1, 19, 13, 0),\n",
       " datetime.datetime(2018, 1, 19, 14, 0),\n",
       " datetime.datetime(2018, 1, 19, 15, 0),\n",
       " datetime.datetime(2018, 1, 19, 16, 0),\n",
       " datetime.datetime(2018, 1, 19, 17, 0),\n",
       " datetime.datetime(2018, 1, 19, 18, 0),\n",
       " datetime.datetime(2018, 1, 19, 19, 0),\n",
       " datetime.datetime(2018, 1, 19, 20, 0),\n",
       " datetime.datetime(2018, 1, 19, 21, 0),\n",
       " datetime.datetime(2018, 1, 19, 22, 0),\n",
       " datetime.datetime(2018, 1, 19, 23, 0),\n",
       " datetime.datetime(2018, 1, 20, 0, 0),\n",
       " datetime.datetime(2018, 1, 20, 1, 0),\n",
       " datetime.datetime(2018, 1, 20, 2, 0),\n",
       " datetime.datetime(2018, 1, 20, 3, 0),\n",
       " datetime.datetime(2018, 1, 20, 4, 0),\n",
       " datetime.datetime(2018, 1, 20, 5, 0),\n",
       " datetime.datetime(2018, 1, 20, 6, 0),\n",
       " datetime.datetime(2018, 1, 20, 7, 0),\n",
       " datetime.datetime(2018, 1, 20, 8, 0),\n",
       " datetime.datetime(2018, 1, 20, 9, 0),\n",
       " datetime.datetime(2018, 1, 20, 10, 0),\n",
       " datetime.datetime(2018, 1, 20, 11, 0),\n",
       " datetime.datetime(2018, 1, 20, 12, 0),\n",
       " datetime.datetime(2018, 1, 20, 13, 0),\n",
       " datetime.datetime(2018, 1, 20, 14, 0),\n",
       " datetime.datetime(2018, 1, 20, 15, 0),\n",
       " datetime.datetime(2018, 1, 20, 16, 0),\n",
       " datetime.datetime(2018, 1, 20, 17, 0),\n",
       " datetime.datetime(2018, 1, 20, 18, 0),\n",
       " datetime.datetime(2018, 1, 20, 19, 0),\n",
       " datetime.datetime(2018, 1, 20, 20, 0),\n",
       " datetime.datetime(2018, 1, 20, 21, 0),\n",
       " datetime.datetime(2018, 1, 20, 22, 0),\n",
       " datetime.datetime(2018, 1, 20, 23, 0),\n",
       " datetime.datetime(2018, 1, 21, 0, 0),\n",
       " datetime.datetime(2018, 1, 21, 1, 0),\n",
       " datetime.datetime(2018, 1, 21, 2, 0),\n",
       " datetime.datetime(2018, 1, 21, 3, 0),\n",
       " datetime.datetime(2018, 1, 21, 4, 0),\n",
       " datetime.datetime(2018, 1, 21, 5, 0),\n",
       " datetime.datetime(2018, 1, 21, 6, 0),\n",
       " datetime.datetime(2018, 1, 21, 7, 0),\n",
       " datetime.datetime(2018, 1, 21, 8, 0),\n",
       " datetime.datetime(2018, 1, 21, 9, 0),\n",
       " datetime.datetime(2018, 1, 21, 10, 0),\n",
       " datetime.datetime(2018, 1, 21, 11, 0),\n",
       " datetime.datetime(2018, 1, 21, 12, 0),\n",
       " datetime.datetime(2018, 1, 21, 13, 0),\n",
       " datetime.datetime(2018, 1, 21, 14, 0),\n",
       " datetime.datetime(2018, 1, 21, 15, 0),\n",
       " datetime.datetime(2018, 1, 21, 16, 0),\n",
       " datetime.datetime(2018, 1, 21, 17, 0),\n",
       " datetime.datetime(2018, 1, 21, 18, 0),\n",
       " datetime.datetime(2018, 1, 21, 19, 0),\n",
       " datetime.datetime(2018, 1, 21, 20, 0),\n",
       " datetime.datetime(2018, 1, 21, 21, 0),\n",
       " datetime.datetime(2018, 1, 21, 22, 0),\n",
       " datetime.datetime(2018, 1, 21, 23, 0),\n",
       " datetime.datetime(2018, 1, 22, 0, 0),\n",
       " datetime.datetime(2018, 1, 22, 1, 0),\n",
       " datetime.datetime(2018, 1, 22, 2, 0),\n",
       " datetime.datetime(2018, 1, 22, 3, 0),\n",
       " datetime.datetime(2018, 1, 22, 4, 0),\n",
       " datetime.datetime(2018, 1, 22, 5, 0),\n",
       " datetime.datetime(2018, 1, 22, 6, 0),\n",
       " datetime.datetime(2018, 1, 22, 7, 0),\n",
       " datetime.datetime(2018, 1, 22, 8, 0),\n",
       " datetime.datetime(2018, 1, 22, 9, 0),\n",
       " datetime.datetime(2018, 1, 22, 10, 0),\n",
       " datetime.datetime(2018, 1, 22, 11, 0),\n",
       " datetime.datetime(2018, 1, 22, 12, 0),\n",
       " datetime.datetime(2018, 1, 22, 13, 0),\n",
       " datetime.datetime(2018, 1, 22, 14, 0),\n",
       " datetime.datetime(2018, 1, 22, 15, 0),\n",
       " datetime.datetime(2018, 1, 22, 16, 0),\n",
       " datetime.datetime(2018, 1, 22, 17, 0),\n",
       " datetime.datetime(2018, 1, 22, 18, 0),\n",
       " datetime.datetime(2018, 1, 22, 19, 0),\n",
       " datetime.datetime(2018, 1, 22, 20, 0),\n",
       " datetime.datetime(2018, 1, 22, 21, 0),\n",
       " datetime.datetime(2018, 1, 22, 22, 0),\n",
       " datetime.datetime(2018, 1, 22, 23, 0),\n",
       " datetime.datetime(2018, 1, 23, 0, 0),\n",
       " datetime.datetime(2018, 1, 23, 1, 0),\n",
       " datetime.datetime(2018, 1, 23, 2, 0),\n",
       " datetime.datetime(2018, 1, 23, 3, 0),\n",
       " datetime.datetime(2018, 1, 23, 4, 0),\n",
       " datetime.datetime(2018, 1, 23, 5, 0),\n",
       " datetime.datetime(2018, 1, 23, 6, 0),\n",
       " datetime.datetime(2018, 1, 23, 7, 0),\n",
       " datetime.datetime(2018, 1, 23, 8, 0),\n",
       " datetime.datetime(2018, 1, 23, 9, 0),\n",
       " datetime.datetime(2018, 1, 23, 10, 0),\n",
       " datetime.datetime(2018, 1, 23, 11, 0),\n",
       " datetime.datetime(2018, 1, 23, 12, 0),\n",
       " datetime.datetime(2018, 1, 23, 13, 0),\n",
       " datetime.datetime(2018, 1, 23, 14, 0),\n",
       " datetime.datetime(2018, 1, 23, 15, 0),\n",
       " datetime.datetime(2018, 1, 23, 16, 0),\n",
       " datetime.datetime(2018, 1, 23, 17, 0),\n",
       " datetime.datetime(2018, 1, 23, 18, 0),\n",
       " datetime.datetime(2018, 1, 23, 19, 0),\n",
       " datetime.datetime(2018, 1, 23, 20, 0),\n",
       " datetime.datetime(2018, 1, 23, 21, 0),\n",
       " datetime.datetime(2018, 1, 23, 22, 0),\n",
       " datetime.datetime(2018, 1, 23, 23, 0),\n",
       " datetime.datetime(2018, 1, 24, 0, 0),\n",
       " datetime.datetime(2018, 1, 24, 1, 0),\n",
       " datetime.datetime(2018, 1, 24, 2, 0),\n",
       " datetime.datetime(2018, 1, 24, 3, 0),\n",
       " datetime.datetime(2018, 1, 24, 4, 0),\n",
       " datetime.datetime(2018, 1, 24, 5, 0),\n",
       " datetime.datetime(2018, 1, 24, 6, 0),\n",
       " datetime.datetime(2018, 1, 24, 7, 0),\n",
       " datetime.datetime(2018, 1, 24, 8, 0),\n",
       " datetime.datetime(2018, 1, 24, 9, 0),\n",
       " datetime.datetime(2018, 1, 24, 10, 0),\n",
       " datetime.datetime(2018, 1, 24, 11, 0),\n",
       " datetime.datetime(2018, 1, 24, 12, 0),\n",
       " datetime.datetime(2018, 1, 24, 13, 0),\n",
       " datetime.datetime(2018, 1, 24, 14, 0),\n",
       " datetime.datetime(2018, 1, 24, 15, 0),\n",
       " datetime.datetime(2018, 1, 24, 16, 0),\n",
       " datetime.datetime(2018, 1, 24, 17, 0),\n",
       " datetime.datetime(2018, 1, 24, 18, 0),\n",
       " datetime.datetime(2018, 1, 24, 19, 0),\n",
       " datetime.datetime(2018, 1, 24, 20, 0),\n",
       " datetime.datetime(2018, 1, 24, 21, 0),\n",
       " datetime.datetime(2018, 1, 24, 22, 0),\n",
       " datetime.datetime(2018, 1, 24, 23, 0),\n",
       " datetime.datetime(2018, 1, 25, 0, 0),\n",
       " datetime.datetime(2018, 1, 25, 1, 0),\n",
       " datetime.datetime(2018, 1, 25, 2, 0),\n",
       " datetime.datetime(2018, 1, 25, 3, 0),\n",
       " datetime.datetime(2018, 1, 25, 4, 0),\n",
       " datetime.datetime(2018, 1, 25, 5, 0),\n",
       " datetime.datetime(2018, 1, 25, 6, 0),\n",
       " datetime.datetime(2018, 1, 25, 7, 0),\n",
       " datetime.datetime(2018, 1, 25, 8, 0),\n",
       " datetime.datetime(2018, 1, 25, 9, 0),\n",
       " datetime.datetime(2018, 1, 25, 10, 0),\n",
       " datetime.datetime(2018, 1, 25, 11, 0),\n",
       " datetime.datetime(2018, 1, 25, 12, 0),\n",
       " datetime.datetime(2018, 1, 25, 13, 0),\n",
       " datetime.datetime(2018, 1, 25, 14, 0),\n",
       " datetime.datetime(2018, 1, 25, 15, 0),\n",
       " datetime.datetime(2018, 1, 25, 16, 0),\n",
       " datetime.datetime(2018, 1, 25, 17, 0),\n",
       " datetime.datetime(2018, 1, 25, 18, 0),\n",
       " datetime.datetime(2018, 1, 25, 19, 0),\n",
       " datetime.datetime(2018, 1, 25, 20, 0),\n",
       " datetime.datetime(2018, 1, 25, 21, 0),\n",
       " datetime.datetime(2018, 1, 25, 22, 0),\n",
       " datetime.datetime(2018, 1, 25, 23, 0),\n",
       " datetime.datetime(2018, 1, 26, 0, 0),\n",
       " datetime.datetime(2018, 1, 26, 1, 0),\n",
       " datetime.datetime(2018, 1, 26, 2, 0),\n",
       " datetime.datetime(2018, 1, 26, 3, 0),\n",
       " datetime.datetime(2018, 1, 26, 4, 0),\n",
       " datetime.datetime(2018, 1, 26, 5, 0),\n",
       " datetime.datetime(2018, 1, 26, 6, 0),\n",
       " datetime.datetime(2018, 1, 26, 7, 0),\n",
       " datetime.datetime(2018, 1, 26, 8, 0),\n",
       " datetime.datetime(2018, 1, 26, 9, 0),\n",
       " datetime.datetime(2018, 1, 26, 10, 0),\n",
       " datetime.datetime(2018, 1, 26, 11, 0),\n",
       " datetime.datetime(2018, 1, 26, 12, 0),\n",
       " datetime.datetime(2018, 1, 26, 13, 0),\n",
       " datetime.datetime(2018, 1, 26, 14, 0),\n",
       " datetime.datetime(2018, 1, 26, 15, 0),\n",
       " datetime.datetime(2018, 1, 26, 16, 0),\n",
       " datetime.datetime(2018, 1, 26, 17, 0),\n",
       " datetime.datetime(2018, 1, 26, 18, 0),\n",
       " datetime.datetime(2018, 1, 26, 19, 0),\n",
       " datetime.datetime(2018, 1, 26, 20, 0),\n",
       " datetime.datetime(2018, 1, 26, 21, 0),\n",
       " datetime.datetime(2018, 1, 26, 22, 0),\n",
       " datetime.datetime(2018, 1, 26, 23, 0),\n",
       " datetime.datetime(2018, 1, 27, 0, 0),\n",
       " datetime.datetime(2018, 1, 27, 1, 0),\n",
       " datetime.datetime(2018, 1, 27, 2, 0),\n",
       " datetime.datetime(2018, 1, 27, 3, 0),\n",
       " datetime.datetime(2018, 1, 27, 4, 0),\n",
       " datetime.datetime(2018, 1, 27, 5, 0),\n",
       " datetime.datetime(2018, 1, 27, 6, 0),\n",
       " datetime.datetime(2018, 1, 27, 7, 0),\n",
       " datetime.datetime(2018, 1, 27, 8, 0),\n",
       " datetime.datetime(2018, 1, 27, 9, 0),\n",
       " datetime.datetime(2018, 1, 27, 10, 0),\n",
       " datetime.datetime(2018, 1, 27, 11, 0),\n",
       " datetime.datetime(2018, 1, 27, 12, 0),\n",
       " datetime.datetime(2018, 1, 27, 13, 0),\n",
       " datetime.datetime(2018, 1, 27, 14, 0),\n",
       " datetime.datetime(2018, 1, 27, 15, 0),\n",
       " datetime.datetime(2018, 1, 27, 16, 0),\n",
       " datetime.datetime(2018, 1, 27, 17, 0),\n",
       " datetime.datetime(2018, 1, 27, 18, 0),\n",
       " datetime.datetime(2018, 1, 27, 19, 0),\n",
       " datetime.datetime(2018, 1, 27, 20, 0),\n",
       " datetime.datetime(2018, 1, 27, 21, 0),\n",
       " datetime.datetime(2018, 1, 27, 22, 0),\n",
       " datetime.datetime(2018, 1, 27, 23, 0),\n",
       " datetime.datetime(2018, 1, 28, 0, 0),\n",
       " datetime.datetime(2018, 1, 28, 1, 0),\n",
       " datetime.datetime(2018, 1, 28, 2, 0),\n",
       " datetime.datetime(2018, 1, 28, 3, 0),\n",
       " datetime.datetime(2018, 1, 28, 4, 0),\n",
       " datetime.datetime(2018, 1, 28, 5, 0),\n",
       " datetime.datetime(2018, 1, 28, 6, 0),\n",
       " datetime.datetime(2018, 1, 28, 7, 0),\n",
       " datetime.datetime(2018, 1, 28, 8, 0),\n",
       " datetime.datetime(2018, 1, 28, 9, 0),\n",
       " datetime.datetime(2018, 1, 28, 10, 0),\n",
       " datetime.datetime(2018, 1, 28, 11, 0),\n",
       " datetime.datetime(2018, 1, 28, 12, 0),\n",
       " datetime.datetime(2018, 1, 28, 13, 0),\n",
       " datetime.datetime(2018, 1, 28, 14, 0),\n",
       " datetime.datetime(2018, 1, 28, 15, 0),\n",
       " datetime.datetime(2018, 1, 28, 16, 0),\n",
       " datetime.datetime(2018, 1, 28, 17, 0),\n",
       " datetime.datetime(2018, 1, 28, 18, 0),\n",
       " datetime.datetime(2018, 1, 28, 19, 0),\n",
       " datetime.datetime(2018, 1, 28, 20, 0),\n",
       " datetime.datetime(2018, 1, 28, 21, 0),\n",
       " datetime.datetime(2018, 1, 28, 22, 0),\n",
       " datetime.datetime(2018, 1, 28, 23, 0),\n",
       " datetime.datetime(2018, 1, 29, 0, 0),\n",
       " datetime.datetime(2018, 1, 29, 1, 0),\n",
       " datetime.datetime(2018, 1, 29, 2, 0),\n",
       " datetime.datetime(2018, 1, 29, 3, 0),\n",
       " datetime.datetime(2018, 1, 29, 4, 0),\n",
       " datetime.datetime(2018, 1, 29, 5, 0),\n",
       " datetime.datetime(2018, 1, 29, 6, 0),\n",
       " datetime.datetime(2018, 1, 29, 7, 0),\n",
       " datetime.datetime(2018, 1, 29, 8, 0),\n",
       " datetime.datetime(2018, 1, 29, 9, 0),\n",
       " datetime.datetime(2018, 1, 29, 10, 0),\n",
       " datetime.datetime(2018, 1, 29, 11, 0),\n",
       " datetime.datetime(2018, 1, 29, 12, 0),\n",
       " datetime.datetime(2018, 1, 29, 13, 0),\n",
       " datetime.datetime(2018, 1, 29, 14, 0),\n",
       " datetime.datetime(2018, 1, 29, 15, 0),\n",
       " datetime.datetime(2018, 1, 29, 16, 0),\n",
       " datetime.datetime(2018, 1, 29, 17, 0),\n",
       " datetime.datetime(2018, 1, 29, 18, 0),\n",
       " datetime.datetime(2018, 1, 29, 19, 0),\n",
       " datetime.datetime(2018, 1, 29, 20, 0),\n",
       " datetime.datetime(2018, 1, 29, 21, 0),\n",
       " datetime.datetime(2018, 1, 29, 22, 0),\n",
       " datetime.datetime(2018, 1, 29, 23, 0),\n",
       " datetime.datetime(2018, 1, 30, 0, 0),\n",
       " datetime.datetime(2018, 1, 30, 1, 0),\n",
       " datetime.datetime(2018, 1, 30, 2, 0),\n",
       " datetime.datetime(2018, 1, 30, 3, 0),\n",
       " datetime.datetime(2018, 1, 30, 4, 0),\n",
       " datetime.datetime(2018, 1, 30, 5, 0),\n",
       " datetime.datetime(2018, 1, 30, 6, 0),\n",
       " datetime.datetime(2018, 1, 30, 7, 0),\n",
       " datetime.datetime(2018, 1, 30, 8, 0),\n",
       " datetime.datetime(2018, 1, 30, 9, 0),\n",
       " datetime.datetime(2018, 1, 30, 10, 0),\n",
       " datetime.datetime(2018, 1, 30, 11, 0),\n",
       " datetime.datetime(2018, 1, 30, 12, 0),\n",
       " datetime.datetime(2018, 1, 30, 13, 0),\n",
       " datetime.datetime(2018, 1, 30, 14, 0),\n",
       " datetime.datetime(2018, 1, 30, 15, 0),\n",
       " datetime.datetime(2018, 1, 30, 16, 0),\n",
       " datetime.datetime(2018, 1, 30, 17, 0),\n",
       " datetime.datetime(2018, 1, 30, 18, 0),\n",
       " datetime.datetime(2018, 1, 30, 19, 0),\n",
       " datetime.datetime(2018, 1, 30, 20, 0),\n",
       " datetime.datetime(2018, 1, 30, 21, 0),\n",
       " datetime.datetime(2018, 1, 30, 22, 0),\n",
       " datetime.datetime(2018, 1, 30, 23, 0),\n",
       " datetime.datetime(2018, 1, 31, 0, 0),\n",
       " datetime.datetime(2018, 1, 31, 1, 0),\n",
       " datetime.datetime(2018, 1, 31, 2, 0),\n",
       " datetime.datetime(2018, 1, 31, 3, 0),\n",
       " datetime.datetime(2018, 1, 31, 4, 0),\n",
       " datetime.datetime(2018, 1, 31, 5, 0),\n",
       " datetime.datetime(2018, 1, 31, 6, 0),\n",
       " datetime.datetime(2018, 1, 31, 7, 0),\n",
       " datetime.datetime(2018, 1, 31, 8, 0),\n",
       " datetime.datetime(2018, 1, 31, 9, 0),\n",
       " datetime.datetime(2018, 1, 31, 10, 0),\n",
       " datetime.datetime(2018, 1, 31, 11, 0),\n",
       " datetime.datetime(2018, 1, 31, 12, 0),\n",
       " datetime.datetime(2018, 1, 31, 13, 0),\n",
       " datetime.datetime(2018, 1, 31, 14, 0),\n",
       " datetime.datetime(2018, 1, 31, 15, 0),\n",
       " datetime.datetime(2018, 1, 31, 16, 0),\n",
       " datetime.datetime(2018, 1, 31, 17, 0),\n",
       " datetime.datetime(2018, 1, 31, 18, 0),\n",
       " datetime.datetime(2018, 1, 31, 19, 0),\n",
       " datetime.datetime(2018, 1, 31, 20, 0),\n",
       " datetime.datetime(2018, 1, 31, 21, 0),\n",
       " datetime.datetime(2018, 1, 31, 22, 0),\n",
       " datetime.datetime(2018, 1, 31, 23, 0),\n",
       " datetime.datetime(2018, 2, 1, 0, 0),\n",
       " datetime.datetime(2018, 2, 1, 1, 0),\n",
       " datetime.datetime(2018, 2, 1, 2, 0),\n",
       " datetime.datetime(2018, 2, 1, 3, 0),\n",
       " datetime.datetime(2018, 2, 1, 4, 0),\n",
       " datetime.datetime(2018, 2, 1, 5, 0),\n",
       " datetime.datetime(2018, 2, 1, 6, 0),\n",
       " datetime.datetime(2018, 2, 1, 7, 0),\n",
       " datetime.datetime(2018, 2, 1, 8, 0),\n",
       " datetime.datetime(2018, 2, 1, 9, 0),\n",
       " datetime.datetime(2018, 2, 1, 10, 0),\n",
       " datetime.datetime(2018, 2, 1, 11, 0),\n",
       " datetime.datetime(2018, 2, 1, 12, 0),\n",
       " datetime.datetime(2018, 2, 1, 13, 0),\n",
       " datetime.datetime(2018, 2, 1, 14, 0),\n",
       " datetime.datetime(2018, 2, 1, 15, 0),\n",
       " datetime.datetime(2018, 2, 1, 16, 0),\n",
       " datetime.datetime(2018, 2, 1, 17, 0),\n",
       " datetime.datetime(2018, 2, 1, 18, 0),\n",
       " datetime.datetime(2018, 2, 1, 19, 0),\n",
       " datetime.datetime(2018, 2, 1, 20, 0),\n",
       " datetime.datetime(2018, 2, 1, 21, 0),\n",
       " datetime.datetime(2018, 2, 1, 22, 0),\n",
       " datetime.datetime(2018, 2, 1, 23, 0),\n",
       " datetime.datetime(2018, 2, 2, 0, 0),\n",
       " datetime.datetime(2018, 2, 2, 1, 0),\n",
       " datetime.datetime(2018, 2, 2, 2, 0),\n",
       " datetime.datetime(2018, 2, 2, 3, 0),\n",
       " datetime.datetime(2018, 2, 2, 4, 0),\n",
       " datetime.datetime(2018, 2, 2, 5, 0),\n",
       " datetime.datetime(2018, 2, 2, 6, 0),\n",
       " datetime.datetime(2018, 2, 2, 7, 0),\n",
       " datetime.datetime(2018, 2, 2, 8, 0),\n",
       " datetime.datetime(2018, 2, 2, 9, 0),\n",
       " datetime.datetime(2018, 2, 2, 10, 0),\n",
       " datetime.datetime(2018, 2, 2, 11, 0),\n",
       " datetime.datetime(2018, 2, 2, 12, 0),\n",
       " datetime.datetime(2018, 2, 2, 13, 0),\n",
       " datetime.datetime(2018, 2, 2, 14, 0),\n",
       " datetime.datetime(2018, 2, 2, 15, 0),\n",
       " datetime.datetime(2018, 2, 2, 16, 0),\n",
       " datetime.datetime(2018, 2, 2, 17, 0),\n",
       " datetime.datetime(2018, 2, 2, 18, 0),\n",
       " datetime.datetime(2018, 2, 2, 19, 0),\n",
       " datetime.datetime(2018, 2, 2, 20, 0),\n",
       " datetime.datetime(2018, 2, 2, 21, 0),\n",
       " datetime.datetime(2018, 2, 2, 22, 0),\n",
       " datetime.datetime(2018, 2, 2, 23, 0),\n",
       " datetime.datetime(2018, 2, 3, 0, 0),\n",
       " datetime.datetime(2018, 2, 3, 1, 0),\n",
       " datetime.datetime(2018, 2, 3, 2, 0),\n",
       " datetime.datetime(2018, 2, 3, 3, 0),\n",
       " datetime.datetime(2018, 2, 3, 4, 0),\n",
       " datetime.datetime(2018, 2, 3, 5, 0),\n",
       " datetime.datetime(2018, 2, 3, 6, 0),\n",
       " datetime.datetime(2018, 2, 3, 7, 0),\n",
       " datetime.datetime(2018, 2, 3, 8, 0),\n",
       " datetime.datetime(2018, 2, 3, 9, 0),\n",
       " datetime.datetime(2018, 2, 3, 10, 0),\n",
       " datetime.datetime(2018, 2, 3, 11, 0),\n",
       " datetime.datetime(2018, 2, 3, 12, 0),\n",
       " datetime.datetime(2018, 2, 3, 13, 0),\n",
       " datetime.datetime(2018, 2, 3, 14, 0),\n",
       " datetime.datetime(2018, 2, 3, 15, 0),\n",
       " datetime.datetime(2018, 2, 3, 16, 0),\n",
       " datetime.datetime(2018, 2, 3, 17, 0),\n",
       " datetime.datetime(2018, 2, 3, 18, 0),\n",
       " datetime.datetime(2018, 2, 3, 19, 0),\n",
       " datetime.datetime(2018, 2, 3, 20, 0),\n",
       " datetime.datetime(2018, 2, 3, 21, 0),\n",
       " datetime.datetime(2018, 2, 3, 22, 0),\n",
       " datetime.datetime(2018, 2, 3, 23, 0),\n",
       " datetime.datetime(2018, 2, 4, 0, 0),\n",
       " datetime.datetime(2018, 2, 4, 1, 0),\n",
       " datetime.datetime(2018, 2, 4, 2, 0),\n",
       " datetime.datetime(2018, 2, 4, 3, 0),\n",
       " datetime.datetime(2018, 2, 4, 4, 0),\n",
       " datetime.datetime(2018, 2, 4, 5, 0),\n",
       " datetime.datetime(2018, 2, 4, 6, 0),\n",
       " datetime.datetime(2018, 2, 4, 7, 0),\n",
       " datetime.datetime(2018, 2, 4, 8, 0),\n",
       " datetime.datetime(2018, 2, 4, 9, 0),\n",
       " datetime.datetime(2018, 2, 4, 10, 0),\n",
       " datetime.datetime(2018, 2, 4, 11, 0),\n",
       " datetime.datetime(2018, 2, 4, 12, 0),\n",
       " datetime.datetime(2018, 2, 4, 13, 0),\n",
       " datetime.datetime(2018, 2, 4, 14, 0),\n",
       " datetime.datetime(2018, 2, 4, 15, 0),\n",
       " datetime.datetime(2018, 2, 4, 16, 0),\n",
       " datetime.datetime(2018, 2, 4, 17, 0),\n",
       " datetime.datetime(2018, 2, 4, 18, 0),\n",
       " datetime.datetime(2018, 2, 4, 19, 0),\n",
       " datetime.datetime(2018, 2, 4, 20, 0),\n",
       " datetime.datetime(2018, 2, 4, 21, 0),\n",
       " datetime.datetime(2018, 2, 4, 22, 0),\n",
       " datetime.datetime(2018, 2, 4, 23, 0),\n",
       " datetime.datetime(2018, 2, 5, 0, 0),\n",
       " datetime.datetime(2018, 2, 5, 1, 0),\n",
       " datetime.datetime(2018, 2, 5, 2, 0),\n",
       " datetime.datetime(2018, 2, 5, 3, 0),\n",
       " datetime.datetime(2018, 2, 5, 4, 0),\n",
       " datetime.datetime(2018, 2, 5, 5, 0),\n",
       " datetime.datetime(2018, 2, 5, 6, 0),\n",
       " datetime.datetime(2018, 2, 5, 7, 0),\n",
       " datetime.datetime(2018, 2, 5, 8, 0),\n",
       " datetime.datetime(2018, 2, 5, 9, 0),\n",
       " datetime.datetime(2018, 2, 5, 10, 0),\n",
       " datetime.datetime(2018, 2, 5, 11, 0),\n",
       " datetime.datetime(2018, 2, 5, 12, 0),\n",
       " datetime.datetime(2018, 2, 5, 13, 0),\n",
       " datetime.datetime(2018, 2, 5, 14, 0),\n",
       " datetime.datetime(2018, 2, 5, 15, 0),\n",
       " datetime.datetime(2018, 2, 5, 16, 0),\n",
       " datetime.datetime(2018, 2, 5, 17, 0),\n",
       " datetime.datetime(2018, 2, 5, 18, 0),\n",
       " datetime.datetime(2018, 2, 5, 19, 0),\n",
       " datetime.datetime(2018, 2, 5, 20, 0),\n",
       " datetime.datetime(2018, 2, 5, 21, 0),\n",
       " datetime.datetime(2018, 2, 5, 22, 0),\n",
       " datetime.datetime(2018, 2, 5, 23, 0),\n",
       " datetime.datetime(2018, 2, 6, 0, 0),\n",
       " datetime.datetime(2018, 2, 6, 1, 0),\n",
       " datetime.datetime(2018, 2, 6, 2, 0),\n",
       " datetime.datetime(2018, 2, 6, 3, 0),\n",
       " datetime.datetime(2018, 2, 6, 4, 0),\n",
       " datetime.datetime(2018, 2, 6, 5, 0),\n",
       " datetime.datetime(2018, 2, 6, 6, 0),\n",
       " datetime.datetime(2018, 2, 6, 7, 0),\n",
       " datetime.datetime(2018, 2, 6, 8, 0),\n",
       " datetime.datetime(2018, 2, 6, 9, 0),\n",
       " datetime.datetime(2018, 2, 6, 10, 0),\n",
       " datetime.datetime(2018, 2, 6, 11, 0),\n",
       " datetime.datetime(2018, 2, 6, 12, 0),\n",
       " datetime.datetime(2018, 2, 6, 13, 0),\n",
       " datetime.datetime(2018, 2, 6, 14, 0),\n",
       " datetime.datetime(2018, 2, 6, 15, 0),\n",
       " datetime.datetime(2018, 2, 6, 16, 0),\n",
       " datetime.datetime(2018, 2, 6, 17, 0),\n",
       " datetime.datetime(2018, 2, 6, 18, 0),\n",
       " datetime.datetime(2018, 2, 6, 19, 0),\n",
       " datetime.datetime(2018, 2, 6, 20, 0),\n",
       " datetime.datetime(2018, 2, 6, 21, 0),\n",
       " datetime.datetime(2018, 2, 6, 22, 0),\n",
       " datetime.datetime(2018, 2, 6, 23, 0),\n",
       " datetime.datetime(2018, 2, 7, 0, 0),\n",
       " datetime.datetime(2018, 2, 7, 1, 0),\n",
       " datetime.datetime(2018, 2, 7, 2, 0),\n",
       " datetime.datetime(2018, 2, 7, 3, 0),\n",
       " datetime.datetime(2018, 2, 7, 4, 0),\n",
       " datetime.datetime(2018, 2, 7, 5, 0),\n",
       " datetime.datetime(2018, 2, 7, 6, 0),\n",
       " datetime.datetime(2018, 2, 7, 7, 0),\n",
       " datetime.datetime(2018, 2, 7, 8, 0),\n",
       " datetime.datetime(2018, 2, 7, 9, 0),\n",
       " datetime.datetime(2018, 2, 7, 10, 0),\n",
       " datetime.datetime(2018, 2, 7, 11, 0),\n",
       " datetime.datetime(2018, 2, 7, 12, 0),\n",
       " datetime.datetime(2018, 2, 7, 13, 0),\n",
       " datetime.datetime(2018, 2, 7, 14, 0),\n",
       " datetime.datetime(2018, 2, 7, 15, 0),\n",
       " datetime.datetime(2018, 2, 7, 16, 0),\n",
       " datetime.datetime(2018, 2, 7, 17, 0),\n",
       " datetime.datetime(2018, 2, 7, 18, 0),\n",
       " datetime.datetime(2018, 2, 7, 19, 0),\n",
       " datetime.datetime(2018, 2, 7, 20, 0),\n",
       " datetime.datetime(2018, 2, 7, 21, 0),\n",
       " datetime.datetime(2018, 2, 7, 22, 0),\n",
       " datetime.datetime(2018, 2, 7, 23, 0),\n",
       " datetime.datetime(2018, 2, 8, 0, 0),\n",
       " datetime.datetime(2018, 2, 8, 1, 0),\n",
       " datetime.datetime(2018, 2, 8, 2, 0),\n",
       " datetime.datetime(2018, 2, 8, 3, 0),\n",
       " datetime.datetime(2018, 2, 8, 4, 0),\n",
       " datetime.datetime(2018, 2, 8, 5, 0),\n",
       " datetime.datetime(2018, 2, 8, 6, 0),\n",
       " datetime.datetime(2018, 2, 8, 7, 0),\n",
       " datetime.datetime(2018, 2, 8, 8, 0),\n",
       " datetime.datetime(2018, 2, 8, 9, 0),\n",
       " datetime.datetime(2018, 2, 8, 10, 0),\n",
       " datetime.datetime(2018, 2, 8, 11, 0),\n",
       " datetime.datetime(2018, 2, 8, 12, 0),\n",
       " datetime.datetime(2018, 2, 8, 13, 0),\n",
       " datetime.datetime(2018, 2, 8, 14, 0),\n",
       " datetime.datetime(2018, 2, 8, 15, 0),\n",
       " datetime.datetime(2018, 2, 8, 16, 0),\n",
       " datetime.datetime(2018, 2, 8, 17, 0),\n",
       " datetime.datetime(2018, 2, 8, 18, 0),\n",
       " datetime.datetime(2018, 2, 8, 19, 0),\n",
       " datetime.datetime(2018, 2, 8, 20, 0),\n",
       " datetime.datetime(2018, 2, 8, 21, 0),\n",
       " datetime.datetime(2018, 2, 8, 22, 0),\n",
       " datetime.datetime(2018, 2, 8, 23, 0),\n",
       " datetime.datetime(2018, 2, 9, 0, 0),\n",
       " datetime.datetime(2018, 2, 9, 1, 0),\n",
       " datetime.datetime(2018, 2, 9, 2, 0),\n",
       " datetime.datetime(2018, 2, 9, 3, 0),\n",
       " datetime.datetime(2018, 2, 9, 4, 0),\n",
       " datetime.datetime(2018, 2, 9, 5, 0),\n",
       " datetime.datetime(2018, 2, 9, 6, 0),\n",
       " datetime.datetime(2018, 2, 9, 7, 0),\n",
       " datetime.datetime(2018, 2, 9, 8, 0),\n",
       " datetime.datetime(2018, 2, 9, 9, 0),\n",
       " datetime.datetime(2018, 2, 9, 10, 0),\n",
       " datetime.datetime(2018, 2, 9, 11, 0),\n",
       " datetime.datetime(2018, 2, 9, 12, 0),\n",
       " datetime.datetime(2018, 2, 9, 13, 0),\n",
       " datetime.datetime(2018, 2, 9, 14, 0),\n",
       " datetime.datetime(2018, 2, 9, 15, 0),\n",
       " datetime.datetime(2018, 2, 9, 16, 0),\n",
       " datetime.datetime(2018, 2, 9, 17, 0),\n",
       " datetime.datetime(2018, 2, 9, 18, 0),\n",
       " datetime.datetime(2018, 2, 9, 19, 0),\n",
       " datetime.datetime(2018, 2, 9, 20, 0),\n",
       " datetime.datetime(2018, 2, 9, 21, 0),\n",
       " datetime.datetime(2018, 2, 9, 22, 0),\n",
       " datetime.datetime(2018, 2, 9, 23, 0),\n",
       " datetime.datetime(2018, 2, 10, 0, 0),\n",
       " datetime.datetime(2018, 2, 10, 1, 0),\n",
       " datetime.datetime(2018, 2, 10, 2, 0),\n",
       " datetime.datetime(2018, 2, 10, 3, 0),\n",
       " datetime.datetime(2018, 2, 10, 4, 0),\n",
       " datetime.datetime(2018, 2, 10, 5, 0),\n",
       " datetime.datetime(2018, 2, 10, 6, 0),\n",
       " datetime.datetime(2018, 2, 10, 7, 0),\n",
       " datetime.datetime(2018, 2, 10, 8, 0),\n",
       " datetime.datetime(2018, 2, 10, 9, 0),\n",
       " datetime.datetime(2018, 2, 10, 10, 0),\n",
       " datetime.datetime(2018, 2, 10, 11, 0),\n",
       " datetime.datetime(2018, 2, 10, 12, 0),\n",
       " datetime.datetime(2018, 2, 10, 13, 0),\n",
       " datetime.datetime(2018, 2, 10, 14, 0),\n",
       " datetime.datetime(2018, 2, 10, 15, 0),\n",
       " datetime.datetime(2018, 2, 10, 16, 0),\n",
       " datetime.datetime(2018, 2, 10, 17, 0),\n",
       " datetime.datetime(2018, 2, 10, 18, 0),\n",
       " datetime.datetime(2018, 2, 10, 19, 0),\n",
       " datetime.datetime(2018, 2, 10, 20, 0),\n",
       " datetime.datetime(2018, 2, 10, 21, 0),\n",
       " datetime.datetime(2018, 2, 10, 22, 0),\n",
       " datetime.datetime(2018, 2, 10, 23, 0),\n",
       " datetime.datetime(2018, 2, 11, 0, 0),\n",
       " datetime.datetime(2018, 2, 11, 1, 0),\n",
       " datetime.datetime(2018, 2, 11, 2, 0),\n",
       " datetime.datetime(2018, 2, 11, 3, 0),\n",
       " datetime.datetime(2018, 2, 11, 4, 0),\n",
       " datetime.datetime(2018, 2, 11, 5, 0),\n",
       " datetime.datetime(2018, 2, 11, 6, 0),\n",
       " datetime.datetime(2018, 2, 11, 7, 0),\n",
       " datetime.datetime(2018, 2, 11, 8, 0),\n",
       " datetime.datetime(2018, 2, 11, 9, 0),\n",
       " datetime.datetime(2018, 2, 11, 10, 0),\n",
       " datetime.datetime(2018, 2, 11, 11, 0),\n",
       " datetime.datetime(2018, 2, 11, 12, 0),\n",
       " datetime.datetime(2018, 2, 11, 13, 0),\n",
       " datetime.datetime(2018, 2, 11, 14, 0),\n",
       " datetime.datetime(2018, 2, 11, 15, 0),\n",
       " datetime.datetime(2018, 2, 11, 16, 0),\n",
       " datetime.datetime(2018, 2, 11, 17, 0),\n",
       " datetime.datetime(2018, 2, 11, 18, 0),\n",
       " datetime.datetime(2018, 2, 11, 19, 0),\n",
       " datetime.datetime(2018, 2, 11, 20, 0),\n",
       " datetime.datetime(2018, 2, 11, 21, 0),\n",
       " datetime.datetime(2018, 2, 11, 22, 0),\n",
       " datetime.datetime(2018, 2, 11, 23, 0),\n",
       " datetime.datetime(2018, 2, 12, 0, 0),\n",
       " datetime.datetime(2018, 2, 12, 1, 0),\n",
       " datetime.datetime(2018, 2, 12, 2, 0),\n",
       " datetime.datetime(2018, 2, 12, 3, 0),\n",
       " datetime.datetime(2018, 2, 12, 4, 0),\n",
       " datetime.datetime(2018, 2, 12, 5, 0),\n",
       " datetime.datetime(2018, 2, 12, 6, 0),\n",
       " datetime.datetime(2018, 2, 12, 7, 0),\n",
       " datetime.datetime(2018, 2, 12, 8, 0),\n",
       " datetime.datetime(2018, 2, 12, 9, 0),\n",
       " datetime.datetime(2018, 2, 12, 10, 0),\n",
       " datetime.datetime(2018, 2, 12, 11, 0),\n",
       " datetime.datetime(2018, 2, 12, 12, 0),\n",
       " datetime.datetime(2018, 2, 12, 13, 0),\n",
       " datetime.datetime(2018, 2, 12, 14, 0),\n",
       " datetime.datetime(2018, 2, 12, 15, 0),\n",
       " datetime.datetime(2018, 2, 12, 16, 0),\n",
       " datetime.datetime(2018, 2, 12, 17, 0),\n",
       " datetime.datetime(2018, 2, 12, 18, 0),\n",
       " datetime.datetime(2018, 2, 12, 19, 0),\n",
       " datetime.datetime(2018, 2, 12, 20, 0),\n",
       " datetime.datetime(2018, 2, 12, 21, 0),\n",
       " datetime.datetime(2018, 2, 12, 22, 0),\n",
       " datetime.datetime(2018, 2, 12, 23, 0),\n",
       " datetime.datetime(2018, 2, 13, 0, 0),\n",
       " datetime.datetime(2018, 2, 13, 1, 0),\n",
       " datetime.datetime(2018, 2, 13, 2, 0),\n",
       " datetime.datetime(2018, 2, 13, 3, 0),\n",
       " datetime.datetime(2018, 2, 13, 4, 0),\n",
       " datetime.datetime(2018, 2, 13, 5, 0),\n",
       " datetime.datetime(2018, 2, 13, 6, 0),\n",
       " datetime.datetime(2018, 2, 13, 7, 0),\n",
       " datetime.datetime(2018, 2, 13, 8, 0),\n",
       " datetime.datetime(2018, 2, 13, 9, 0),\n",
       " datetime.datetime(2018, 2, 13, 10, 0),\n",
       " datetime.datetime(2018, 2, 13, 11, 0),\n",
       " datetime.datetime(2018, 2, 13, 12, 0),\n",
       " datetime.datetime(2018, 2, 13, 13, 0),\n",
       " datetime.datetime(2018, 2, 13, 14, 0),\n",
       " datetime.datetime(2018, 2, 13, 15, 0),\n",
       " datetime.datetime(2018, 2, 13, 16, 0),\n",
       " datetime.datetime(2018, 2, 13, 17, 0),\n",
       " datetime.datetime(2018, 2, 13, 18, 0),\n",
       " datetime.datetime(2018, 2, 13, 19, 0),\n",
       " datetime.datetime(2018, 2, 13, 20, 0),\n",
       " datetime.datetime(2018, 2, 13, 21, 0),\n",
       " datetime.datetime(2018, 2, 13, 22, 0),\n",
       " datetime.datetime(2018, 2, 13, 23, 0),\n",
       " datetime.datetime(2018, 2, 14, 0, 0),\n",
       " datetime.datetime(2018, 2, 14, 1, 0),\n",
       " datetime.datetime(2018, 2, 14, 2, 0),\n",
       " datetime.datetime(2018, 2, 14, 3, 0),\n",
       " datetime.datetime(2018, 2, 14, 4, 0),\n",
       " datetime.datetime(2018, 2, 14, 5, 0),\n",
       " datetime.datetime(2018, 2, 14, 6, 0),\n",
       " datetime.datetime(2018, 2, 14, 7, 0),\n",
       " datetime.datetime(2018, 2, 14, 8, 0),\n",
       " datetime.datetime(2018, 2, 14, 9, 0),\n",
       " datetime.datetime(2018, 2, 14, 10, 0),\n",
       " datetime.datetime(2018, 2, 14, 11, 0),\n",
       " datetime.datetime(2018, 2, 14, 12, 0),\n",
       " datetime.datetime(2018, 2, 14, 13, 0),\n",
       " datetime.datetime(2018, 2, 14, 14, 0),\n",
       " datetime.datetime(2018, 2, 14, 15, 0),\n",
       " datetime.datetime(2018, 2, 14, 16, 0),\n",
       " datetime.datetime(2018, 2, 14, 17, 0),\n",
       " datetime.datetime(2018, 2, 14, 18, 0),\n",
       " datetime.datetime(2018, 2, 14, 19, 0),\n",
       " datetime.datetime(2018, 2, 14, 20, 0),\n",
       " datetime.datetime(2018, 2, 14, 21, 0),\n",
       " datetime.datetime(2018, 2, 14, 22, 0),\n",
       " datetime.datetime(2018, 2, 14, 23, 0),\n",
       " datetime.datetime(2018, 2, 15, 0, 0),\n",
       " datetime.datetime(2018, 2, 15, 1, 0),\n",
       " datetime.datetime(2018, 2, 15, 2, 0),\n",
       " datetime.datetime(2018, 2, 15, 3, 0),\n",
       " datetime.datetime(2018, 2, 15, 4, 0),\n",
       " datetime.datetime(2018, 2, 15, 5, 0),\n",
       " datetime.datetime(2018, 2, 15, 6, 0),\n",
       " datetime.datetime(2018, 2, 15, 7, 0),\n",
       " datetime.datetime(2018, 2, 15, 8, 0),\n",
       " datetime.datetime(2018, 2, 15, 9, 0),\n",
       " datetime.datetime(2018, 2, 15, 10, 0),\n",
       " datetime.datetime(2018, 2, 15, 11, 0),\n",
       " datetime.datetime(2018, 2, 15, 12, 0),\n",
       " datetime.datetime(2018, 2, 15, 13, 0),\n",
       " datetime.datetime(2018, 2, 15, 14, 0),\n",
       " datetime.datetime(2018, 2, 15, 15, 0),\n",
       " datetime.datetime(2018, 2, 15, 16, 0),\n",
       " datetime.datetime(2018, 2, 15, 17, 0),\n",
       " datetime.datetime(2018, 2, 15, 18, 0),\n",
       " datetime.datetime(2018, 2, 15, 19, 0),\n",
       " datetime.datetime(2018, 2, 15, 20, 0),\n",
       " datetime.datetime(2018, 2, 15, 21, 0),\n",
       " datetime.datetime(2018, 2, 15, 22, 0),\n",
       " datetime.datetime(2018, 2, 15, 23, 0),\n",
       " datetime.datetime(2018, 2, 16, 0, 0),\n",
       " datetime.datetime(2018, 2, 16, 1, 0),\n",
       " datetime.datetime(2018, 2, 16, 2, 0),\n",
       " datetime.datetime(2018, 2, 16, 3, 0),\n",
       " datetime.datetime(2018, 2, 16, 4, 0),\n",
       " datetime.datetime(2018, 2, 16, 5, 0),\n",
       " datetime.datetime(2018, 2, 16, 6, 0),\n",
       " datetime.datetime(2018, 2, 16, 7, 0),\n",
       " datetime.datetime(2018, 2, 16, 8, 0),\n",
       " datetime.datetime(2018, 2, 16, 9, 0),\n",
       " datetime.datetime(2018, 2, 16, 10, 0),\n",
       " datetime.datetime(2018, 2, 16, 11, 0),\n",
       " datetime.datetime(2018, 2, 16, 12, 0),\n",
       " datetime.datetime(2018, 2, 16, 13, 0),\n",
       " datetime.datetime(2018, 2, 16, 14, 0),\n",
       " datetime.datetime(2018, 2, 16, 15, 0),\n",
       " datetime.datetime(2018, 2, 16, 16, 0),\n",
       " datetime.datetime(2018, 2, 16, 17, 0),\n",
       " datetime.datetime(2018, 2, 16, 18, 0),\n",
       " datetime.datetime(2018, 2, 16, 19, 0),\n",
       " datetime.datetime(2018, 2, 16, 20, 0),\n",
       " datetime.datetime(2018, 2, 16, 21, 0),\n",
       " datetime.datetime(2018, 2, 16, 22, 0),\n",
       " datetime.datetime(2018, 2, 16, 23, 0),\n",
       " datetime.datetime(2018, 2, 17, 0, 0),\n",
       " datetime.datetime(2018, 2, 17, 1, 0),\n",
       " datetime.datetime(2018, 2, 17, 2, 0),\n",
       " datetime.datetime(2018, 2, 17, 3, 0),\n",
       " datetime.datetime(2018, 2, 17, 4, 0),\n",
       " datetime.datetime(2018, 2, 17, 5, 0),\n",
       " datetime.datetime(2018, 2, 17, 6, 0),\n",
       " datetime.datetime(2018, 2, 17, 7, 0),\n",
       " datetime.datetime(2018, 2, 17, 8, 0),\n",
       " datetime.datetime(2018, 2, 17, 9, 0),\n",
       " datetime.datetime(2018, 2, 17, 10, 0),\n",
       " datetime.datetime(2018, 2, 17, 11, 0),\n",
       " datetime.datetime(2018, 2, 17, 12, 0),\n",
       " datetime.datetime(2018, 2, 17, 13, 0),\n",
       " datetime.datetime(2018, 2, 17, 14, 0),\n",
       " datetime.datetime(2018, 2, 17, 15, 0),\n",
       " ...]"
      ]
     },
     "execution_count": 23,
     "metadata": {},
     "output_type": "execute_result"
    }
   ],
   "source": [
    "pd.date_range(start=\"2018-01-07\",end=\"2018-12-31\", freq='h').to_pydatetime().tolist()"
   ]
  },
  {
   "cell_type": "code",
   "execution_count": 24,
   "id": "f1badb3e",
   "metadata": {},
   "outputs": [
    {
     "data": {
      "text/plain": [
       "RMS           8.300225\n",
       "Smooth RMS    8.300225\n",
       "Name: 2018-01-07 00:00:00, dtype: float64"
      ]
     },
     "execution_count": 24,
     "metadata": {},
     "output_type": "execute_result"
    }
   ],
   "source": [
    "final_df_1.loc[datetime(2018, 1, 7)]"
   ]
  },
  {
   "cell_type": "code",
   "execution_count": 25,
   "id": "d16db57b",
   "metadata": {},
   "outputs": [],
   "source": [
    "rms_df=pd.DataFrame(columns=['Smooth_RMS'],index=pd.date_range(start=\"2018-01-07\",end=\"2018-12-31\", freq='d').to_pydatetime().tolist())"
   ]
  },
  {
   "cell_type": "code",
   "execution_count": 26,
   "id": "029a6666",
   "metadata": {},
   "outputs": [],
   "source": [
    "# rms_df['Date']=pd.date_range(start=\"2018-01-07\",end=\"2018-12-31\", freq='d').to_pydatetime().tolist()"
   ]
  },
  {
   "cell_type": "code",
   "execution_count": 27,
   "id": "ea353081",
   "metadata": {},
   "outputs": [
    {
     "data": {
      "text/html": [
       "<div>\n",
       "<style scoped>\n",
       "    .dataframe tbody tr th:only-of-type {\n",
       "        vertical-align: middle;\n",
       "    }\n",
       "\n",
       "    .dataframe tbody tr th {\n",
       "        vertical-align: top;\n",
       "    }\n",
       "\n",
       "    .dataframe thead th {\n",
       "        text-align: right;\n",
       "    }\n",
       "</style>\n",
       "<table border=\"1\" class=\"dataframe\">\n",
       "  <thead>\n",
       "    <tr style=\"text-align: right;\">\n",
       "      <th></th>\n",
       "      <th>Smooth_RMS</th>\n",
       "    </tr>\n",
       "  </thead>\n",
       "  <tbody>\n",
       "    <tr>\n",
       "      <th>2018-01-07</th>\n",
       "      <td>NaN</td>\n",
       "    </tr>\n",
       "    <tr>\n",
       "      <th>2018-01-08</th>\n",
       "      <td>NaN</td>\n",
       "    </tr>\n",
       "    <tr>\n",
       "      <th>2018-01-09</th>\n",
       "      <td>NaN</td>\n",
       "    </tr>\n",
       "    <tr>\n",
       "      <th>2018-01-10</th>\n",
       "      <td>NaN</td>\n",
       "    </tr>\n",
       "    <tr>\n",
       "      <th>2018-01-11</th>\n",
       "      <td>NaN</td>\n",
       "    </tr>\n",
       "    <tr>\n",
       "      <th>...</th>\n",
       "      <td>...</td>\n",
       "    </tr>\n",
       "    <tr>\n",
       "      <th>2018-12-27</th>\n",
       "      <td>NaN</td>\n",
       "    </tr>\n",
       "    <tr>\n",
       "      <th>2018-12-28</th>\n",
       "      <td>NaN</td>\n",
       "    </tr>\n",
       "    <tr>\n",
       "      <th>2018-12-29</th>\n",
       "      <td>NaN</td>\n",
       "    </tr>\n",
       "    <tr>\n",
       "      <th>2018-12-30</th>\n",
       "      <td>NaN</td>\n",
       "    </tr>\n",
       "    <tr>\n",
       "      <th>2018-12-31</th>\n",
       "      <td>NaN</td>\n",
       "    </tr>\n",
       "  </tbody>\n",
       "</table>\n",
       "<p>359 rows × 1 columns</p>\n",
       "</div>"
      ],
      "text/plain": [
       "           Smooth_RMS\n",
       "2018-01-07        NaN\n",
       "2018-01-08        NaN\n",
       "2018-01-09        NaN\n",
       "2018-01-10        NaN\n",
       "2018-01-11        NaN\n",
       "...               ...\n",
       "2018-12-27        NaN\n",
       "2018-12-28        NaN\n",
       "2018-12-29        NaN\n",
       "2018-12-30        NaN\n",
       "2018-12-31        NaN\n",
       "\n",
       "[359 rows x 1 columns]"
      ]
     },
     "execution_count": 27,
     "metadata": {},
     "output_type": "execute_result"
    }
   ],
   "source": [
    "rms_df"
   ]
  },
  {
   "cell_type": "code",
   "execution_count": 28,
   "id": "d3d10f1b",
   "metadata": {},
   "outputs": [],
   "source": [
    "#pd.merge(left=final_df_1,right=rms_df,left_on='Smooth RMS', right_on='Smooth_RMS', left_index=False, right_index=True)\n",
    "rms_df=pd.concat([final_df_1, rms_df,outlier_df], axis=1, join='outer').drop(columns=['Smooth_RMS'])"
   ]
  },
  {
   "cell_type": "code",
   "execution_count": 29,
   "id": "cf98e7f7",
   "metadata": {},
   "outputs": [],
   "source": [
    "# pd.concat([final_df_1, rms_df,outlier_df], axis=1, join='outer')"
   ]
  },
  {
   "cell_type": "code",
   "execution_count": 30,
   "id": "391b996c",
   "metadata": {},
   "outputs": [
    {
     "data": {
      "text/html": [
       "<div>\n",
       "<style scoped>\n",
       "    .dataframe tbody tr th:only-of-type {\n",
       "        vertical-align: middle;\n",
       "    }\n",
       "\n",
       "    .dataframe tbody tr th {\n",
       "        vertical-align: top;\n",
       "    }\n",
       "\n",
       "    .dataframe thead th {\n",
       "        text-align: right;\n",
       "    }\n",
       "</style>\n",
       "<table border=\"1\" class=\"dataframe\">\n",
       "  <thead>\n",
       "    <tr style=\"text-align: right;\">\n",
       "      <th></th>\n",
       "      <th>RMS</th>\n",
       "      <th>Smooth RMS</th>\n",
       "      <th>Non Running</th>\n",
       "    </tr>\n",
       "  </thead>\n",
       "  <tbody>\n",
       "    <tr>\n",
       "      <th>2018-01-07</th>\n",
       "      <td>8.300225</td>\n",
       "      <td>8.300225</td>\n",
       "      <td>NaN</td>\n",
       "    </tr>\n",
       "    <tr>\n",
       "      <th>2018-01-08</th>\n",
       "      <td>NaN</td>\n",
       "      <td>NaN</td>\n",
       "      <td>NaN</td>\n",
       "    </tr>\n",
       "    <tr>\n",
       "      <th>2018-01-09</th>\n",
       "      <td>8.243776</td>\n",
       "      <td>8.300225</td>\n",
       "      <td>NaN</td>\n",
       "    </tr>\n",
       "    <tr>\n",
       "      <th>2018-01-10</th>\n",
       "      <td>8.243787</td>\n",
       "      <td>8.288935</td>\n",
       "      <td>NaN</td>\n",
       "    </tr>\n",
       "    <tr>\n",
       "      <th>2018-01-11</th>\n",
       "      <td>7.800000</td>\n",
       "      <td>8.279906</td>\n",
       "      <td>NaN</td>\n",
       "    </tr>\n",
       "    <tr>\n",
       "      <th>...</th>\n",
       "      <td>...</td>\n",
       "      <td>...</td>\n",
       "      <td>...</td>\n",
       "    </tr>\n",
       "    <tr>\n",
       "      <th>2018-12-27</th>\n",
       "      <td>8.167201</td>\n",
       "      <td>8.144111</td>\n",
       "      <td>NaN</td>\n",
       "    </tr>\n",
       "    <tr>\n",
       "      <th>2018-12-28</th>\n",
       "      <td>7.975095</td>\n",
       "      <td>8.148729</td>\n",
       "      <td>NaN</td>\n",
       "    </tr>\n",
       "    <tr>\n",
       "      <th>2018-12-29</th>\n",
       "      <td>7.830217</td>\n",
       "      <td>8.114002</td>\n",
       "      <td>NaN</td>\n",
       "    </tr>\n",
       "    <tr>\n",
       "      <th>2018-12-30</th>\n",
       "      <td>7.824342</td>\n",
       "      <td>8.057245</td>\n",
       "      <td>NaN</td>\n",
       "    </tr>\n",
       "    <tr>\n",
       "      <th>2018-12-31</th>\n",
       "      <td>7.829896</td>\n",
       "      <td>8.010665</td>\n",
       "      <td>NaN</td>\n",
       "    </tr>\n",
       "  </tbody>\n",
       "</table>\n",
       "<p>359 rows × 3 columns</p>\n",
       "</div>"
      ],
      "text/plain": [
       "                 RMS  Smooth RMS  Non Running\n",
       "2018-01-07  8.300225    8.300225          NaN\n",
       "2018-01-08       NaN         NaN          NaN\n",
       "2018-01-09  8.243776    8.300225          NaN\n",
       "2018-01-10  8.243787    8.288935          NaN\n",
       "2018-01-11  7.800000    8.279906          NaN\n",
       "...              ...         ...          ...\n",
       "2018-12-27  8.167201    8.144111          NaN\n",
       "2018-12-28  7.975095    8.148729          NaN\n",
       "2018-12-29  7.830217    8.114002          NaN\n",
       "2018-12-30  7.824342    8.057245          NaN\n",
       "2018-12-31  7.829896    8.010665          NaN\n",
       "\n",
       "[359 rows x 3 columns]"
      ]
     },
     "execution_count": 30,
     "metadata": {},
     "output_type": "execute_result"
    }
   ],
   "source": [
    "rms_df"
   ]
  },
  {
   "cell_type": "code",
   "execution_count": 31,
   "id": "79363271",
   "metadata": {},
   "outputs": [],
   "source": [
    "rms_df['Smooth RMS']=rms_df['Smooth RMS'].interpolate('linear')"
   ]
  },
  {
   "cell_type": "code",
   "execution_count": 32,
   "id": "21e57880",
   "metadata": {},
   "outputs": [
    {
     "data": {
      "text/html": [
       "<div>\n",
       "<style scoped>\n",
       "    .dataframe tbody tr th:only-of-type {\n",
       "        vertical-align: middle;\n",
       "    }\n",
       "\n",
       "    .dataframe tbody tr th {\n",
       "        vertical-align: top;\n",
       "    }\n",
       "\n",
       "    .dataframe thead th {\n",
       "        text-align: right;\n",
       "    }\n",
       "</style>\n",
       "<table border=\"1\" class=\"dataframe\">\n",
       "  <thead>\n",
       "    <tr style=\"text-align: right;\">\n",
       "      <th></th>\n",
       "      <th>RMS</th>\n",
       "      <th>Smooth RMS</th>\n",
       "      <th>Non Running</th>\n",
       "    </tr>\n",
       "  </thead>\n",
       "  <tbody>\n",
       "    <tr>\n",
       "      <th>2018-01-07</th>\n",
       "      <td>8.300225</td>\n",
       "      <td>8.300225</td>\n",
       "      <td>NaN</td>\n",
       "    </tr>\n",
       "    <tr>\n",
       "      <th>2018-01-08</th>\n",
       "      <td>NaN</td>\n",
       "      <td>8.300225</td>\n",
       "      <td>NaN</td>\n",
       "    </tr>\n",
       "    <tr>\n",
       "      <th>2018-01-09</th>\n",
       "      <td>8.243776</td>\n",
       "      <td>8.300225</td>\n",
       "      <td>NaN</td>\n",
       "    </tr>\n",
       "    <tr>\n",
       "      <th>2018-01-10</th>\n",
       "      <td>8.243787</td>\n",
       "      <td>8.288935</td>\n",
       "      <td>NaN</td>\n",
       "    </tr>\n",
       "    <tr>\n",
       "      <th>2018-01-11</th>\n",
       "      <td>7.800000</td>\n",
       "      <td>8.279906</td>\n",
       "      <td>NaN</td>\n",
       "    </tr>\n",
       "    <tr>\n",
       "      <th>...</th>\n",
       "      <td>...</td>\n",
       "      <td>...</td>\n",
       "      <td>...</td>\n",
       "    </tr>\n",
       "    <tr>\n",
       "      <th>2018-12-27</th>\n",
       "      <td>8.167201</td>\n",
       "      <td>8.144111</td>\n",
       "      <td>NaN</td>\n",
       "    </tr>\n",
       "    <tr>\n",
       "      <th>2018-12-28</th>\n",
       "      <td>7.975095</td>\n",
       "      <td>8.148729</td>\n",
       "      <td>NaN</td>\n",
       "    </tr>\n",
       "    <tr>\n",
       "      <th>2018-12-29</th>\n",
       "      <td>7.830217</td>\n",
       "      <td>8.114002</td>\n",
       "      <td>NaN</td>\n",
       "    </tr>\n",
       "    <tr>\n",
       "      <th>2018-12-30</th>\n",
       "      <td>7.824342</td>\n",
       "      <td>8.057245</td>\n",
       "      <td>NaN</td>\n",
       "    </tr>\n",
       "    <tr>\n",
       "      <th>2018-12-31</th>\n",
       "      <td>7.829896</td>\n",
       "      <td>8.010665</td>\n",
       "      <td>NaN</td>\n",
       "    </tr>\n",
       "  </tbody>\n",
       "</table>\n",
       "<p>359 rows × 3 columns</p>\n",
       "</div>"
      ],
      "text/plain": [
       "                 RMS  Smooth RMS  Non Running\n",
       "2018-01-07  8.300225    8.300225          NaN\n",
       "2018-01-08       NaN    8.300225          NaN\n",
       "2018-01-09  8.243776    8.300225          NaN\n",
       "2018-01-10  8.243787    8.288935          NaN\n",
       "2018-01-11  7.800000    8.279906          NaN\n",
       "...              ...         ...          ...\n",
       "2018-12-27  8.167201    8.144111          NaN\n",
       "2018-12-28  7.975095    8.148729          NaN\n",
       "2018-12-29  7.830217    8.114002          NaN\n",
       "2018-12-30  7.824342    8.057245          NaN\n",
       "2018-12-31  7.829896    8.010665          NaN\n",
       "\n",
       "[359 rows x 3 columns]"
      ]
     },
     "execution_count": 32,
     "metadata": {},
     "output_type": "execute_result"
    }
   ],
   "source": [
    "rms_df"
   ]
  },
  {
   "cell_type": "code",
   "execution_count": 1,
   "id": "ea64eb21",
   "metadata": {},
   "outputs": [
    {
     "ename": "NameError",
     "evalue": "name 'go' is not defined",
     "output_type": "error",
     "traceback": [
      "\u001b[1;31m---------------------------------------------------------------------------\u001b[0m",
      "\u001b[1;31mNameError\u001b[0m                                 Traceback (most recent call last)",
      "\u001b[1;32m~\\AppData\\Local\\Temp\\ipykernel_476\\3784712008.py\u001b[0m in \u001b[0;36m<cell line: 1>\u001b[1;34m()\u001b[0m\n\u001b[1;32m----> 1\u001b[1;33m \u001b[0mfig\u001b[0m\u001b[1;33m=\u001b[0m\u001b[0mgo\u001b[0m\u001b[1;33m.\u001b[0m\u001b[0mFigure\u001b[0m\u001b[1;33m(\u001b[0m\u001b[1;33m)\u001b[0m\u001b[1;33m\u001b[0m\u001b[1;33m\u001b[0m\u001b[0m\n\u001b[0m\u001b[0;32m      2\u001b[0m \u001b[1;31m#fig.add_trace(go.Scatter(x=final_df_1.index,y=final_df_1['Smooth RMS'],mode='markers',name = 'Smooth_RMS'))\u001b[0m\u001b[1;33m\u001b[0m\u001b[1;33m\u001b[0m\u001b[1;33m\u001b[0m\u001b[0m\n\u001b[0;32m      3\u001b[0m \u001b[0mfig\u001b[0m\u001b[1;33m.\u001b[0m\u001b[0madd_trace\u001b[0m\u001b[1;33m(\u001b[0m\u001b[0mgo\u001b[0m\u001b[1;33m.\u001b[0m\u001b[0mScatter\u001b[0m\u001b[1;33m(\u001b[0m\u001b[0mx\u001b[0m\u001b[1;33m=\u001b[0m\u001b[0mrms_df\u001b[0m\u001b[1;33m.\u001b[0m\u001b[0mindex\u001b[0m\u001b[1;33m,\u001b[0m\u001b[0my\u001b[0m\u001b[1;33m=\u001b[0m\u001b[0mrms_df\u001b[0m\u001b[1;33m[\u001b[0m\u001b[1;34m'Smooth RMS'\u001b[0m\u001b[1;33m]\u001b[0m\u001b[1;33m.\u001b[0m\u001b[0minterpolate\u001b[0m\u001b[1;33m(\u001b[0m\u001b[1;34m'polynomial'\u001b[0m\u001b[1;33m,\u001b[0m\u001b[0morder\u001b[0m\u001b[1;33m=\u001b[0m\u001b[1;36m1\u001b[0m\u001b[1;33m)\u001b[0m\u001b[1;33m,\u001b[0m\u001b[0mmode\u001b[0m\u001b[1;33m=\u001b[0m\u001b[1;34m'line'\u001b[0m\u001b[1;33m,\u001b[0m\u001b[0mname\u001b[0m \u001b[1;33m=\u001b[0m \u001b[1;34m'Smooth_RMS'\u001b[0m\u001b[1;33m)\u001b[0m\u001b[1;33m)\u001b[0m\u001b[1;33m\u001b[0m\u001b[1;33m\u001b[0m\u001b[0m\n\u001b[0;32m      4\u001b[0m \u001b[1;31m#fig.add_trace(go.Scatter(x=final_df_1.index,y=final_df_1['Smooth RMS'],mode='markers',name = 'Smooth_RMS',line=dict(color=\"#ffae42\")))\u001b[0m\u001b[1;33m\u001b[0m\u001b[1;33m\u001b[0m\u001b[1;33m\u001b[0m\u001b[0m\n\u001b[0;32m      5\u001b[0m \u001b[0mfig\u001b[0m\u001b[1;33m.\u001b[0m\u001b[0madd_trace\u001b[0m\u001b[1;33m(\u001b[0m\u001b[0mgo\u001b[0m\u001b[1;33m.\u001b[0m\u001b[0mScatter\u001b[0m\u001b[1;33m(\u001b[0m\u001b[0mx\u001b[0m\u001b[1;33m=\u001b[0m\u001b[0mrms_df\u001b[0m\u001b[1;33m.\u001b[0m\u001b[0mindex\u001b[0m\u001b[1;33m,\u001b[0m\u001b[0my\u001b[0m\u001b[1;33m=\u001b[0m\u001b[0mrms_df\u001b[0m\u001b[1;33m[\u001b[0m\u001b[1;34m'Non Running'\u001b[0m\u001b[1;33m]\u001b[0m\u001b[1;33m,\u001b[0m\u001b[0mmode\u001b[0m\u001b[1;33m=\u001b[0m\u001b[1;34m'markers'\u001b[0m\u001b[1;33m,\u001b[0m\u001b[0mname\u001b[0m \u001b[1;33m=\u001b[0m \u001b[1;34m'Non Running'\u001b[0m\u001b[1;33m,\u001b[0m\u001b[0mline\u001b[0m\u001b[1;33m=\u001b[0m\u001b[0mdict\u001b[0m\u001b[1;33m(\u001b[0m\u001b[0mcolor\u001b[0m\u001b[1;33m=\u001b[0m\u001b[1;34m\"#ff0000\"\u001b[0m\u001b[1;33m)\u001b[0m\u001b[1;33m)\u001b[0m\u001b[1;33m)\u001b[0m\u001b[1;33m\u001b[0m\u001b[1;33m\u001b[0m\u001b[0m\n",
      "\u001b[1;31mNameError\u001b[0m: name 'go' is not defined"
     ]
    }
   ],
   "source": [
    "fig=go.Figure()\n",
    "#fig.add_trace(go.Scatter(x=final_df_1.index,y=final_df_1['Smooth RMS'],mode='markers',name = 'Smooth_RMS'))\n",
    "fig.add_trace(go.Scatter(x=rms_df.index,y=rms_df['Smooth RMS'].interpolate('polynomial',order=1),mode='markers',name = 'Smooth_RMS'))\n",
    "#fig.add_trace(go.Scatter(x=final_df_1.index,y=final_df_1['Smooth RMS'],mode='markers',name = 'Smooth_RMS',line=dict(color=\"#ffae42\")))\n",
    "fig.add_trace(go.Scatter(x=rms_df.index,y=rms_df['Non Running'],mode='markers',name = 'Non Running',line=dict(color=\"#ff0000\")))\n",
    "fig.add_trace(go.Scatter(x=rms_df.index,y=rms_df['RMS'],mode='markers',name = 'RMS',line=dict(color=\"#5dd55d\")))\n",
    "fig.update_layout(hovermode=\"x\")\n",
    "fig.update_layout(xaxis=dict(showgrid=True),yaxis=dict(showgrid=True),title={'text':'RMS DATA','xanchor':'center','x':0.5})\n",
    "fig.update_xaxes(title_text='Date')\n",
    "fig.update_yaxes(title_text='Amplitude')"
   ]
  },
  {
   "cell_type": "code",
   "execution_count": 34,
   "id": "0b92e9c0",
   "metadata": {},
   "outputs": [],
   "source": [
    "rms_df.to_csv('RMS_DISPL_X_MAX_T_1.csv')"
   ]
  },
  {
   "cell_type": "code",
   "execution_count": 35,
   "id": "1e57b6a1",
   "metadata": {},
   "outputs": [
    {
     "data": {
      "application/vnd.plotly.v1+json": {
       "config": {
        "plotlyServerURL": "https://plot.ly"
       },
       "data": [
        {
         "hovertemplate": "variable=RMS<br>index=%{x}<br>value=%{y}<extra></extra>",
         "legendgroup": "RMS",
         "marker": {
          "color": "#636efa",
          "symbol": "circle"
         },
         "mode": "markers",
         "name": "RMS",
         "orientation": "v",
         "showlegend": true,
         "type": "scatter",
         "x": [
          "2018-01-07",
          "2018-01-09",
          "2018-01-10",
          "2018-01-11",
          "2018-01-12",
          "2018-02-07",
          "2018-02-08",
          "2018-02-09",
          "2018-02-10",
          "2018-02-11",
          "2018-02-12",
          "2018-03-07",
          "2018-03-09",
          "2018-03-10",
          "2018-03-11",
          "2018-03-12",
          "2018-04-07",
          "2018-04-09",
          "2018-04-10",
          "2018-04-11",
          "2018-04-12",
          "2018-05-07",
          "2018-05-09",
          "2018-05-10",
          "2018-05-11",
          "2018-05-12",
          "2018-06-07",
          "2018-06-08",
          "2018-06-09",
          "2018-06-10",
          "2018-06-11",
          "2018-06-12",
          "2018-07-07",
          "2018-07-09",
          "2018-07-10",
          "2018-07-11",
          "2018-07-12",
          "2018-07-13",
          "2018-08-07",
          "2018-08-09",
          "2018-08-10",
          "2018-08-11",
          "2018-08-12",
          "2018-08-13",
          "2018-08-14",
          "2018-08-15",
          "2018-08-16",
          "2018-08-17",
          "2018-08-18",
          "2018-08-19",
          "2018-08-20",
          "2018-08-21",
          "2018-08-22",
          "2018-08-23",
          "2018-08-24",
          "2018-08-25",
          "2018-08-26",
          "2018-08-27",
          "2018-08-28",
          "2018-08-29",
          "2018-08-30",
          "2018-08-31",
          "2018-09-07",
          "2018-09-09",
          "2018-09-10",
          "2018-09-11",
          "2018-09-12",
          "2018-09-13",
          "2018-09-14",
          "2018-09-15",
          "2018-09-16",
          "2018-09-17",
          "2018-09-18",
          "2018-09-19",
          "2018-09-20",
          "2018-09-21",
          "2018-09-22",
          "2018-09-23",
          "2018-09-24",
          "2018-09-25",
          "2018-09-26",
          "2018-09-27",
          "2018-09-28",
          "2018-09-29",
          "2018-09-30",
          "2018-10-07",
          "2018-10-08",
          "2018-10-09",
          "2018-10-10",
          "2018-10-11",
          "2018-10-12",
          "2018-10-13",
          "2018-10-14",
          "2018-10-15",
          "2018-10-16",
          "2018-10-17",
          "2018-10-18",
          "2018-10-19",
          "2018-10-20",
          "2018-10-21",
          "2018-10-22",
          "2018-10-23",
          "2018-10-24",
          "2018-10-25",
          "2018-10-26",
          "2018-10-27",
          "2018-10-28",
          "2018-10-29",
          "2018-10-30",
          "2018-10-31",
          "2018-11-07",
          "2018-11-08",
          "2018-11-09",
          "2018-11-10",
          "2018-11-11",
          "2018-11-12",
          "2018-11-13",
          "2018-11-14",
          "2018-11-15",
          "2018-11-16",
          "2018-11-17",
          "2018-11-18",
          "2018-11-19",
          "2018-11-20",
          "2018-11-21",
          "2018-11-22",
          "2018-11-23",
          "2018-11-24",
          "2018-11-25",
          "2018-11-26",
          "2018-11-27",
          "2018-11-28",
          "2018-11-29",
          "2018-11-30",
          "2018-12-07",
          "2018-12-08",
          "2018-12-09",
          "2018-12-10",
          "2018-12-11",
          "2018-12-12",
          "2018-12-13",
          "2018-12-14",
          "2018-12-15",
          "2018-12-16",
          "2018-12-17",
          "2018-12-18",
          "2018-12-19",
          "2018-12-20",
          "2018-12-21",
          "2018-12-22",
          "2018-12-23",
          "2018-12-24",
          "2018-12-25",
          "2018-12-26",
          "2018-12-27",
          "2018-12-28",
          "2018-12-29",
          "2018-12-30",
          "2018-12-31"
         ],
         "xaxis": "x",
         "y": [
          8.300225404724637,
          8.243775858101136,
          8.243786907086115,
          7.8,
          8.15145652775557,
          8.362984885286348,
          0,
          8.246116704767227,
          8.122494991568512,
          7.815608999988065,
          8.195946308152044,
          8.36747421948939,
          8.080932464797788,
          8.203919625534018,
          8.244273707145664,
          8.245190240165947,
          8.21689196502311,
          8.261845347237303,
          8.23504410022429,
          8.210601350692896,
          8.215303355960133,
          8.307759815231154,
          8.14667698826832,
          8.062983487613488,
          8.107681061336905,
          8.250418928757497,
          8.310759749654103,
          0,
          8.24529304410184,
          8.190399691695285,
          8.251426160401337,
          8.038764034499403,
          8.313646540540546,
          8.197862892111253,
          7.62788526923128,
          8.254794650518098,
          8.240260904529798,
          8.295911940674847,
          8.262204258251522,
          8.1724478942418,
          7.63,
          7.945594842209097,
          8.24282981424024,
          8.099999,
          8.099999,
          8.047162997733052,
          7.924649486044588,
          8.134295239510914,
          7.942483825043189,
          8.02743623993676,
          8.222149990586912,
          8.107982674342031,
          8.132531179470014,
          8.275820553034047,
          8.27,
          8.233300943679795,
          8.195489286794624,
          8.267103978547187,
          7.993049498670359,
          8.264160794249952,
          8.26301981964175,
          8.201755659503304,
          8.243774646863171,
          8.241578438927824,
          7.638598961669752,
          8.200244781153385,
          8.236309073412542,
          0,
          0,
          8.120694127525201,
          8.24384323454233,
          8.226036507376712,
          7.925468765416796,
          8.14242869103872,
          8.266025684864363,
          7.849229129396333,
          8.199833639198195,
          8.23550825190816,
          8.175971272576733,
          8.240177390479737,
          7.972473818447656,
          8.22882833722227,
          8.232990553593243,
          8.213684786293014,
          8.232595063011892,
          8.266094234734368,
          8.08,
          8.055020948122337,
          7.813228931847794,
          8.23735716871619,
          8.212673503874973,
          8.212303286450796,
          8.237782591262404,
          8.189286368990484,
          8.193325532322998,
          8.048749861819008,
          8.20928744447536,
          8.238344667476523,
          8.182733882839539,
          8.244711716019962,
          8.23980091835512,
          8.091974376660245,
          8.219848518432212,
          8.249877009705134,
          8.146038204499575,
          8.25491584694468,
          7.9460815124238025,
          7.9175612116085565,
          7.79979604652243,
          7.795522419419155,
          7.786380359141353,
          8.08166175655755,
          8.242551404664491,
          7.820277950445382,
          8.102827693416922,
          8.245249448867417,
          8.204336174720053,
          8.220895513196169,
          8.13228608861514,
          8.246938340103382,
          8.160533538861836,
          8.252086057813234,
          8.20510214219719,
          8.246844903661758,
          8.10653207436499,
          8.211937723860036,
          8.250658318916239,
          8.217395371625434,
          8.249038643482443,
          8.025216172953778,
          8.010877565847576,
          7.72716559900488,
          7.7700346242654375,
          7.785632779535507,
          8.321227484288476,
          8.09409830619064,
          6.580670859837714,
          7.784523705306075,
          7.81790290101435,
          7.990519317703777,
          8.032384962729374,
          8.248300224726439,
          8.248647805852787,
          8.250279961579755,
          8.228248848335769,
          8.163643850176584,
          8.214860617012588,
          8.20606395264265,
          8.232620676648166,
          8.23746777015606,
          8.221935534968422,
          7.843807337107832,
          8.154828310608496,
          8.22628400068106,
          8.167201280545527,
          7.975094805932475,
          7.830217288030887,
          7.824341847543615,
          7.829895899158983
         ],
         "yaxis": "y"
        }
       ],
       "layout": {
        "legend": {
         "title": {
          "text": "variable"
         },
         "tracegroupgap": 0
        },
        "margin": {
         "t": 60
        },
        "template": {
         "data": {
          "bar": [
           {
            "error_x": {
             "color": "#2a3f5f"
            },
            "error_y": {
             "color": "#2a3f5f"
            },
            "marker": {
             "line": {
              "color": "#E5ECF6",
              "width": 0.5
             },
             "pattern": {
              "fillmode": "overlay",
              "size": 10,
              "solidity": 0.2
             }
            },
            "type": "bar"
           }
          ],
          "barpolar": [
           {
            "marker": {
             "line": {
              "color": "#E5ECF6",
              "width": 0.5
             },
             "pattern": {
              "fillmode": "overlay",
              "size": 10,
              "solidity": 0.2
             }
            },
            "type": "barpolar"
           }
          ],
          "carpet": [
           {
            "aaxis": {
             "endlinecolor": "#2a3f5f",
             "gridcolor": "white",
             "linecolor": "white",
             "minorgridcolor": "white",
             "startlinecolor": "#2a3f5f"
            },
            "baxis": {
             "endlinecolor": "#2a3f5f",
             "gridcolor": "white",
             "linecolor": "white",
             "minorgridcolor": "white",
             "startlinecolor": "#2a3f5f"
            },
            "type": "carpet"
           }
          ],
          "choropleth": [
           {
            "colorbar": {
             "outlinewidth": 0,
             "ticks": ""
            },
            "type": "choropleth"
           }
          ],
          "contour": [
           {
            "colorbar": {
             "outlinewidth": 0,
             "ticks": ""
            },
            "colorscale": [
             [
              0,
              "#0d0887"
             ],
             [
              0.1111111111111111,
              "#46039f"
             ],
             [
              0.2222222222222222,
              "#7201a8"
             ],
             [
              0.3333333333333333,
              "#9c179e"
             ],
             [
              0.4444444444444444,
              "#bd3786"
             ],
             [
              0.5555555555555556,
              "#d8576b"
             ],
             [
              0.6666666666666666,
              "#ed7953"
             ],
             [
              0.7777777777777778,
              "#fb9f3a"
             ],
             [
              0.8888888888888888,
              "#fdca26"
             ],
             [
              1,
              "#f0f921"
             ]
            ],
            "type": "contour"
           }
          ],
          "contourcarpet": [
           {
            "colorbar": {
             "outlinewidth": 0,
             "ticks": ""
            },
            "type": "contourcarpet"
           }
          ],
          "heatmap": [
           {
            "colorbar": {
             "outlinewidth": 0,
             "ticks": ""
            },
            "colorscale": [
             [
              0,
              "#0d0887"
             ],
             [
              0.1111111111111111,
              "#46039f"
             ],
             [
              0.2222222222222222,
              "#7201a8"
             ],
             [
              0.3333333333333333,
              "#9c179e"
             ],
             [
              0.4444444444444444,
              "#bd3786"
             ],
             [
              0.5555555555555556,
              "#d8576b"
             ],
             [
              0.6666666666666666,
              "#ed7953"
             ],
             [
              0.7777777777777778,
              "#fb9f3a"
             ],
             [
              0.8888888888888888,
              "#fdca26"
             ],
             [
              1,
              "#f0f921"
             ]
            ],
            "type": "heatmap"
           }
          ],
          "heatmapgl": [
           {
            "colorbar": {
             "outlinewidth": 0,
             "ticks": ""
            },
            "colorscale": [
             [
              0,
              "#0d0887"
             ],
             [
              0.1111111111111111,
              "#46039f"
             ],
             [
              0.2222222222222222,
              "#7201a8"
             ],
             [
              0.3333333333333333,
              "#9c179e"
             ],
             [
              0.4444444444444444,
              "#bd3786"
             ],
             [
              0.5555555555555556,
              "#d8576b"
             ],
             [
              0.6666666666666666,
              "#ed7953"
             ],
             [
              0.7777777777777778,
              "#fb9f3a"
             ],
             [
              0.8888888888888888,
              "#fdca26"
             ],
             [
              1,
              "#f0f921"
             ]
            ],
            "type": "heatmapgl"
           }
          ],
          "histogram": [
           {
            "marker": {
             "pattern": {
              "fillmode": "overlay",
              "size": 10,
              "solidity": 0.2
             }
            },
            "type": "histogram"
           }
          ],
          "histogram2d": [
           {
            "colorbar": {
             "outlinewidth": 0,
             "ticks": ""
            },
            "colorscale": [
             [
              0,
              "#0d0887"
             ],
             [
              0.1111111111111111,
              "#46039f"
             ],
             [
              0.2222222222222222,
              "#7201a8"
             ],
             [
              0.3333333333333333,
              "#9c179e"
             ],
             [
              0.4444444444444444,
              "#bd3786"
             ],
             [
              0.5555555555555556,
              "#d8576b"
             ],
             [
              0.6666666666666666,
              "#ed7953"
             ],
             [
              0.7777777777777778,
              "#fb9f3a"
             ],
             [
              0.8888888888888888,
              "#fdca26"
             ],
             [
              1,
              "#f0f921"
             ]
            ],
            "type": "histogram2d"
           }
          ],
          "histogram2dcontour": [
           {
            "colorbar": {
             "outlinewidth": 0,
             "ticks": ""
            },
            "colorscale": [
             [
              0,
              "#0d0887"
             ],
             [
              0.1111111111111111,
              "#46039f"
             ],
             [
              0.2222222222222222,
              "#7201a8"
             ],
             [
              0.3333333333333333,
              "#9c179e"
             ],
             [
              0.4444444444444444,
              "#bd3786"
             ],
             [
              0.5555555555555556,
              "#d8576b"
             ],
             [
              0.6666666666666666,
              "#ed7953"
             ],
             [
              0.7777777777777778,
              "#fb9f3a"
             ],
             [
              0.8888888888888888,
              "#fdca26"
             ],
             [
              1,
              "#f0f921"
             ]
            ],
            "type": "histogram2dcontour"
           }
          ],
          "mesh3d": [
           {
            "colorbar": {
             "outlinewidth": 0,
             "ticks": ""
            },
            "type": "mesh3d"
           }
          ],
          "parcoords": [
           {
            "line": {
             "colorbar": {
              "outlinewidth": 0,
              "ticks": ""
             }
            },
            "type": "parcoords"
           }
          ],
          "pie": [
           {
            "automargin": true,
            "type": "pie"
           }
          ],
          "scatter": [
           {
            "fillpattern": {
             "fillmode": "overlay",
             "size": 10,
             "solidity": 0.2
            },
            "type": "scatter"
           }
          ],
          "scatter3d": [
           {
            "line": {
             "colorbar": {
              "outlinewidth": 0,
              "ticks": ""
             }
            },
            "marker": {
             "colorbar": {
              "outlinewidth": 0,
              "ticks": ""
             }
            },
            "type": "scatter3d"
           }
          ],
          "scattercarpet": [
           {
            "marker": {
             "colorbar": {
              "outlinewidth": 0,
              "ticks": ""
             }
            },
            "type": "scattercarpet"
           }
          ],
          "scattergeo": [
           {
            "marker": {
             "colorbar": {
              "outlinewidth": 0,
              "ticks": ""
             }
            },
            "type": "scattergeo"
           }
          ],
          "scattergl": [
           {
            "marker": {
             "colorbar": {
              "outlinewidth": 0,
              "ticks": ""
             }
            },
            "type": "scattergl"
           }
          ],
          "scattermapbox": [
           {
            "marker": {
             "colorbar": {
              "outlinewidth": 0,
              "ticks": ""
             }
            },
            "type": "scattermapbox"
           }
          ],
          "scatterpolar": [
           {
            "marker": {
             "colorbar": {
              "outlinewidth": 0,
              "ticks": ""
             }
            },
            "type": "scatterpolar"
           }
          ],
          "scatterpolargl": [
           {
            "marker": {
             "colorbar": {
              "outlinewidth": 0,
              "ticks": ""
             }
            },
            "type": "scatterpolargl"
           }
          ],
          "scatterternary": [
           {
            "marker": {
             "colorbar": {
              "outlinewidth": 0,
              "ticks": ""
             }
            },
            "type": "scatterternary"
           }
          ],
          "surface": [
           {
            "colorbar": {
             "outlinewidth": 0,
             "ticks": ""
            },
            "colorscale": [
             [
              0,
              "#0d0887"
             ],
             [
              0.1111111111111111,
              "#46039f"
             ],
             [
              0.2222222222222222,
              "#7201a8"
             ],
             [
              0.3333333333333333,
              "#9c179e"
             ],
             [
              0.4444444444444444,
              "#bd3786"
             ],
             [
              0.5555555555555556,
              "#d8576b"
             ],
             [
              0.6666666666666666,
              "#ed7953"
             ],
             [
              0.7777777777777778,
              "#fb9f3a"
             ],
             [
              0.8888888888888888,
              "#fdca26"
             ],
             [
              1,
              "#f0f921"
             ]
            ],
            "type": "surface"
           }
          ],
          "table": [
           {
            "cells": {
             "fill": {
              "color": "#EBF0F8"
             },
             "line": {
              "color": "white"
             }
            },
            "header": {
             "fill": {
              "color": "#C8D4E3"
             },
             "line": {
              "color": "white"
             }
            },
            "type": "table"
           }
          ]
         },
         "layout": {
          "annotationdefaults": {
           "arrowcolor": "#2a3f5f",
           "arrowhead": 0,
           "arrowwidth": 1
          },
          "autotypenumbers": "strict",
          "coloraxis": {
           "colorbar": {
            "outlinewidth": 0,
            "ticks": ""
           }
          },
          "colorscale": {
           "diverging": [
            [
             0,
             "#8e0152"
            ],
            [
             0.1,
             "#c51b7d"
            ],
            [
             0.2,
             "#de77ae"
            ],
            [
             0.3,
             "#f1b6da"
            ],
            [
             0.4,
             "#fde0ef"
            ],
            [
             0.5,
             "#f7f7f7"
            ],
            [
             0.6,
             "#e6f5d0"
            ],
            [
             0.7,
             "#b8e186"
            ],
            [
             0.8,
             "#7fbc41"
            ],
            [
             0.9,
             "#4d9221"
            ],
            [
             1,
             "#276419"
            ]
           ],
           "sequential": [
            [
             0,
             "#0d0887"
            ],
            [
             0.1111111111111111,
             "#46039f"
            ],
            [
             0.2222222222222222,
             "#7201a8"
            ],
            [
             0.3333333333333333,
             "#9c179e"
            ],
            [
             0.4444444444444444,
             "#bd3786"
            ],
            [
             0.5555555555555556,
             "#d8576b"
            ],
            [
             0.6666666666666666,
             "#ed7953"
            ],
            [
             0.7777777777777778,
             "#fb9f3a"
            ],
            [
             0.8888888888888888,
             "#fdca26"
            ],
            [
             1,
             "#f0f921"
            ]
           ],
           "sequentialminus": [
            [
             0,
             "#0d0887"
            ],
            [
             0.1111111111111111,
             "#46039f"
            ],
            [
             0.2222222222222222,
             "#7201a8"
            ],
            [
             0.3333333333333333,
             "#9c179e"
            ],
            [
             0.4444444444444444,
             "#bd3786"
            ],
            [
             0.5555555555555556,
             "#d8576b"
            ],
            [
             0.6666666666666666,
             "#ed7953"
            ],
            [
             0.7777777777777778,
             "#fb9f3a"
            ],
            [
             0.8888888888888888,
             "#fdca26"
            ],
            [
             1,
             "#f0f921"
            ]
           ]
          },
          "colorway": [
           "#636efa",
           "#EF553B",
           "#00cc96",
           "#ab63fa",
           "#FFA15A",
           "#19d3f3",
           "#FF6692",
           "#B6E880",
           "#FF97FF",
           "#FECB52"
          ],
          "font": {
           "color": "#2a3f5f"
          },
          "geo": {
           "bgcolor": "white",
           "lakecolor": "white",
           "landcolor": "#E5ECF6",
           "showlakes": true,
           "showland": true,
           "subunitcolor": "white"
          },
          "hoverlabel": {
           "align": "left"
          },
          "hovermode": "closest",
          "mapbox": {
           "style": "light"
          },
          "paper_bgcolor": "white",
          "plot_bgcolor": "#E5ECF6",
          "polar": {
           "angularaxis": {
            "gridcolor": "white",
            "linecolor": "white",
            "ticks": ""
           },
           "bgcolor": "#E5ECF6",
           "radialaxis": {
            "gridcolor": "white",
            "linecolor": "white",
            "ticks": ""
           }
          },
          "scene": {
           "xaxis": {
            "backgroundcolor": "#E5ECF6",
            "gridcolor": "white",
            "gridwidth": 2,
            "linecolor": "white",
            "showbackground": true,
            "ticks": "",
            "zerolinecolor": "white"
           },
           "yaxis": {
            "backgroundcolor": "#E5ECF6",
            "gridcolor": "white",
            "gridwidth": 2,
            "linecolor": "white",
            "showbackground": true,
            "ticks": "",
            "zerolinecolor": "white"
           },
           "zaxis": {
            "backgroundcolor": "#E5ECF6",
            "gridcolor": "white",
            "gridwidth": 2,
            "linecolor": "white",
            "showbackground": true,
            "ticks": "",
            "zerolinecolor": "white"
           }
          },
          "shapedefaults": {
           "line": {
            "color": "#2a3f5f"
           }
          },
          "ternary": {
           "aaxis": {
            "gridcolor": "white",
            "linecolor": "white",
            "ticks": ""
           },
           "baxis": {
            "gridcolor": "white",
            "linecolor": "white",
            "ticks": ""
           },
           "bgcolor": "#E5ECF6",
           "caxis": {
            "gridcolor": "white",
            "linecolor": "white",
            "ticks": ""
           }
          },
          "title": {
           "x": 0.05
          },
          "xaxis": {
           "automargin": true,
           "gridcolor": "white",
           "linecolor": "white",
           "ticks": "",
           "title": {
            "standoff": 15
           },
           "zerolinecolor": "white",
           "zerolinewidth": 2
          },
          "yaxis": {
           "automargin": true,
           "gridcolor": "white",
           "linecolor": "white",
           "ticks": "",
           "title": {
            "standoff": 15
           },
           "zerolinecolor": "white",
           "zerolinewidth": 2
          }
         }
        },
        "xaxis": {
         "anchor": "y",
         "domain": [
          0,
          1
         ],
         "title": {
          "text": "index"
         }
        },
        "yaxis": {
         "anchor": "x",
         "domain": [
          0,
          1
         ],
         "title": {
          "text": "value"
         }
        }
       }
      },
      "text/html": [
       "<div>                            <div id=\"c2a0be75-d589-4284-9341-893467f51f7a\" class=\"plotly-graph-div\" style=\"height:525px; width:100%;\"></div>            <script type=\"text/javascript\">                require([\"plotly\"], function(Plotly) {                    window.PLOTLYENV=window.PLOTLYENV || {};                                    if (document.getElementById(\"c2a0be75-d589-4284-9341-893467f51f7a\")) {                    Plotly.newPlot(                        \"c2a0be75-d589-4284-9341-893467f51f7a\",                        [{\"hovertemplate\":\"variable=RMS<br>index=%{x}<br>value=%{y}<extra></extra>\",\"legendgroup\":\"RMS\",\"marker\":{\"color\":\"#636efa\",\"symbol\":\"circle\"},\"mode\":\"markers\",\"name\":\"RMS\",\"orientation\":\"v\",\"showlegend\":true,\"x\":[\"2018-01-07\",\"2018-01-09\",\"2018-01-10\",\"2018-01-11\",\"2018-01-12\",\"2018-02-07\",\"2018-02-08\",\"2018-02-09\",\"2018-02-10\",\"2018-02-11\",\"2018-02-12\",\"2018-03-07\",\"2018-03-09\",\"2018-03-10\",\"2018-03-11\",\"2018-03-12\",\"2018-04-07\",\"2018-04-09\",\"2018-04-10\",\"2018-04-11\",\"2018-04-12\",\"2018-05-07\",\"2018-05-09\",\"2018-05-10\",\"2018-05-11\",\"2018-05-12\",\"2018-06-07\",\"2018-06-08\",\"2018-06-09\",\"2018-06-10\",\"2018-06-11\",\"2018-06-12\",\"2018-07-07\",\"2018-07-09\",\"2018-07-10\",\"2018-07-11\",\"2018-07-12\",\"2018-07-13\",\"2018-08-07\",\"2018-08-09\",\"2018-08-10\",\"2018-08-11\",\"2018-08-12\",\"2018-08-13\",\"2018-08-14\",\"2018-08-15\",\"2018-08-16\",\"2018-08-17\",\"2018-08-18\",\"2018-08-19\",\"2018-08-20\",\"2018-08-21\",\"2018-08-22\",\"2018-08-23\",\"2018-08-24\",\"2018-08-25\",\"2018-08-26\",\"2018-08-27\",\"2018-08-28\",\"2018-08-29\",\"2018-08-30\",\"2018-08-31\",\"2018-09-07\",\"2018-09-09\",\"2018-09-10\",\"2018-09-11\",\"2018-09-12\",\"2018-09-13\",\"2018-09-14\",\"2018-09-15\",\"2018-09-16\",\"2018-09-17\",\"2018-09-18\",\"2018-09-19\",\"2018-09-20\",\"2018-09-21\",\"2018-09-22\",\"2018-09-23\",\"2018-09-24\",\"2018-09-25\",\"2018-09-26\",\"2018-09-27\",\"2018-09-28\",\"2018-09-29\",\"2018-09-30\",\"2018-10-07\",\"2018-10-08\",\"2018-10-09\",\"2018-10-10\",\"2018-10-11\",\"2018-10-12\",\"2018-10-13\",\"2018-10-14\",\"2018-10-15\",\"2018-10-16\",\"2018-10-17\",\"2018-10-18\",\"2018-10-19\",\"2018-10-20\",\"2018-10-21\",\"2018-10-22\",\"2018-10-23\",\"2018-10-24\",\"2018-10-25\",\"2018-10-26\",\"2018-10-27\",\"2018-10-28\",\"2018-10-29\",\"2018-10-30\",\"2018-10-31\",\"2018-11-07\",\"2018-11-08\",\"2018-11-09\",\"2018-11-10\",\"2018-11-11\",\"2018-11-12\",\"2018-11-13\",\"2018-11-14\",\"2018-11-15\",\"2018-11-16\",\"2018-11-17\",\"2018-11-18\",\"2018-11-19\",\"2018-11-20\",\"2018-11-21\",\"2018-11-22\",\"2018-11-23\",\"2018-11-24\",\"2018-11-25\",\"2018-11-26\",\"2018-11-27\",\"2018-11-28\",\"2018-11-29\",\"2018-11-30\",\"2018-12-07\",\"2018-12-08\",\"2018-12-09\",\"2018-12-10\",\"2018-12-11\",\"2018-12-12\",\"2018-12-13\",\"2018-12-14\",\"2018-12-15\",\"2018-12-16\",\"2018-12-17\",\"2018-12-18\",\"2018-12-19\",\"2018-12-20\",\"2018-12-21\",\"2018-12-22\",\"2018-12-23\",\"2018-12-24\",\"2018-12-25\",\"2018-12-26\",\"2018-12-27\",\"2018-12-28\",\"2018-12-29\",\"2018-12-30\",\"2018-12-31\"],\"xaxis\":\"x\",\"y\":[8.300225404724637,8.243775858101136,8.243786907086115,7.8,8.15145652775557,8.362984885286348,0.0,8.246116704767227,8.122494991568512,7.815608999988065,8.195946308152044,8.36747421948939,8.080932464797788,8.203919625534018,8.244273707145664,8.245190240165947,8.21689196502311,8.261845347237303,8.23504410022429,8.210601350692896,8.215303355960133,8.307759815231154,8.14667698826832,8.062983487613488,8.107681061336905,8.250418928757497,8.310759749654103,0.0,8.24529304410184,8.190399691695285,8.251426160401337,8.038764034499403,8.313646540540546,8.197862892111253,7.62788526923128,8.254794650518098,8.240260904529798,8.295911940674847,8.262204258251522,8.1724478942418,7.63,7.945594842209097,8.24282981424024,8.099999,8.099999,8.047162997733052,7.924649486044588,8.134295239510914,7.942483825043189,8.02743623993676,8.222149990586912,8.107982674342031,8.132531179470014,8.275820553034047,8.27,8.233300943679795,8.195489286794624,8.267103978547187,7.993049498670359,8.264160794249952,8.26301981964175,8.201755659503304,8.243774646863171,8.241578438927824,7.638598961669752,8.200244781153385,8.236309073412542,0.0,0.0,8.120694127525201,8.24384323454233,8.226036507376712,7.925468765416796,8.14242869103872,8.266025684864363,7.849229129396333,8.199833639198195,8.23550825190816,8.175971272576733,8.240177390479737,7.972473818447656,8.22882833722227,8.232990553593243,8.213684786293014,8.232595063011892,8.266094234734368,8.08,8.055020948122337,7.813228931847794,8.23735716871619,8.212673503874973,8.212303286450796,8.237782591262404,8.189286368990484,8.193325532322998,8.048749861819008,8.20928744447536,8.238344667476523,8.182733882839539,8.244711716019962,8.23980091835512,8.091974376660245,8.219848518432212,8.249877009705134,8.146038204499575,8.25491584694468,7.9460815124238025,7.9175612116085565,7.79979604652243,7.795522419419155,7.786380359141353,8.08166175655755,8.242551404664491,7.820277950445382,8.102827693416922,8.245249448867417,8.204336174720053,8.220895513196169,8.13228608861514,8.246938340103382,8.160533538861836,8.252086057813234,8.20510214219719,8.246844903661758,8.10653207436499,8.211937723860036,8.250658318916239,8.217395371625434,8.249038643482443,8.025216172953778,8.010877565847576,7.72716559900488,7.7700346242654375,7.785632779535507,8.321227484288476,8.09409830619064,6.580670859837714,7.784523705306075,7.81790290101435,7.990519317703777,8.032384962729374,8.248300224726439,8.248647805852787,8.250279961579755,8.228248848335769,8.163643850176584,8.214860617012588,8.20606395264265,8.232620676648166,8.23746777015606,8.221935534968422,7.843807337107832,8.154828310608496,8.22628400068106,8.167201280545527,7.975094805932475,7.830217288030887,7.824341847543615,7.829895899158983],\"yaxis\":\"y\",\"type\":\"scatter\"}],                        {\"template\":{\"data\":{\"histogram2dcontour\":[{\"type\":\"histogram2dcontour\",\"colorbar\":{\"outlinewidth\":0,\"ticks\":\"\"},\"colorscale\":[[0.0,\"#0d0887\"],[0.1111111111111111,\"#46039f\"],[0.2222222222222222,\"#7201a8\"],[0.3333333333333333,\"#9c179e\"],[0.4444444444444444,\"#bd3786\"],[0.5555555555555556,\"#d8576b\"],[0.6666666666666666,\"#ed7953\"],[0.7777777777777778,\"#fb9f3a\"],[0.8888888888888888,\"#fdca26\"],[1.0,\"#f0f921\"]]}],\"choropleth\":[{\"type\":\"choropleth\",\"colorbar\":{\"outlinewidth\":0,\"ticks\":\"\"}}],\"histogram2d\":[{\"type\":\"histogram2d\",\"colorbar\":{\"outlinewidth\":0,\"ticks\":\"\"},\"colorscale\":[[0.0,\"#0d0887\"],[0.1111111111111111,\"#46039f\"],[0.2222222222222222,\"#7201a8\"],[0.3333333333333333,\"#9c179e\"],[0.4444444444444444,\"#bd3786\"],[0.5555555555555556,\"#d8576b\"],[0.6666666666666666,\"#ed7953\"],[0.7777777777777778,\"#fb9f3a\"],[0.8888888888888888,\"#fdca26\"],[1.0,\"#f0f921\"]]}],\"heatmap\":[{\"type\":\"heatmap\",\"colorbar\":{\"outlinewidth\":0,\"ticks\":\"\"},\"colorscale\":[[0.0,\"#0d0887\"],[0.1111111111111111,\"#46039f\"],[0.2222222222222222,\"#7201a8\"],[0.3333333333333333,\"#9c179e\"],[0.4444444444444444,\"#bd3786\"],[0.5555555555555556,\"#d8576b\"],[0.6666666666666666,\"#ed7953\"],[0.7777777777777778,\"#fb9f3a\"],[0.8888888888888888,\"#fdca26\"],[1.0,\"#f0f921\"]]}],\"heatmapgl\":[{\"type\":\"heatmapgl\",\"colorbar\":{\"outlinewidth\":0,\"ticks\":\"\"},\"colorscale\":[[0.0,\"#0d0887\"],[0.1111111111111111,\"#46039f\"],[0.2222222222222222,\"#7201a8\"],[0.3333333333333333,\"#9c179e\"],[0.4444444444444444,\"#bd3786\"],[0.5555555555555556,\"#d8576b\"],[0.6666666666666666,\"#ed7953\"],[0.7777777777777778,\"#fb9f3a\"],[0.8888888888888888,\"#fdca26\"],[1.0,\"#f0f921\"]]}],\"contourcarpet\":[{\"type\":\"contourcarpet\",\"colorbar\":{\"outlinewidth\":0,\"ticks\":\"\"}}],\"contour\":[{\"type\":\"contour\",\"colorbar\":{\"outlinewidth\":0,\"ticks\":\"\"},\"colorscale\":[[0.0,\"#0d0887\"],[0.1111111111111111,\"#46039f\"],[0.2222222222222222,\"#7201a8\"],[0.3333333333333333,\"#9c179e\"],[0.4444444444444444,\"#bd3786\"],[0.5555555555555556,\"#d8576b\"],[0.6666666666666666,\"#ed7953\"],[0.7777777777777778,\"#fb9f3a\"],[0.8888888888888888,\"#fdca26\"],[1.0,\"#f0f921\"]]}],\"surface\":[{\"type\":\"surface\",\"colorbar\":{\"outlinewidth\":0,\"ticks\":\"\"},\"colorscale\":[[0.0,\"#0d0887\"],[0.1111111111111111,\"#46039f\"],[0.2222222222222222,\"#7201a8\"],[0.3333333333333333,\"#9c179e\"],[0.4444444444444444,\"#bd3786\"],[0.5555555555555556,\"#d8576b\"],[0.6666666666666666,\"#ed7953\"],[0.7777777777777778,\"#fb9f3a\"],[0.8888888888888888,\"#fdca26\"],[1.0,\"#f0f921\"]]}],\"mesh3d\":[{\"type\":\"mesh3d\",\"colorbar\":{\"outlinewidth\":0,\"ticks\":\"\"}}],\"scatter\":[{\"fillpattern\":{\"fillmode\":\"overlay\",\"size\":10,\"solidity\":0.2},\"type\":\"scatter\"}],\"parcoords\":[{\"type\":\"parcoords\",\"line\":{\"colorbar\":{\"outlinewidth\":0,\"ticks\":\"\"}}}],\"scatterpolargl\":[{\"type\":\"scatterpolargl\",\"marker\":{\"colorbar\":{\"outlinewidth\":0,\"ticks\":\"\"}}}],\"bar\":[{\"error_x\":{\"color\":\"#2a3f5f\"},\"error_y\":{\"color\":\"#2a3f5f\"},\"marker\":{\"line\":{\"color\":\"#E5ECF6\",\"width\":0.5},\"pattern\":{\"fillmode\":\"overlay\",\"size\":10,\"solidity\":0.2}},\"type\":\"bar\"}],\"scattergeo\":[{\"type\":\"scattergeo\",\"marker\":{\"colorbar\":{\"outlinewidth\":0,\"ticks\":\"\"}}}],\"scatterpolar\":[{\"type\":\"scatterpolar\",\"marker\":{\"colorbar\":{\"outlinewidth\":0,\"ticks\":\"\"}}}],\"histogram\":[{\"marker\":{\"pattern\":{\"fillmode\":\"overlay\",\"size\":10,\"solidity\":0.2}},\"type\":\"histogram\"}],\"scattergl\":[{\"type\":\"scattergl\",\"marker\":{\"colorbar\":{\"outlinewidth\":0,\"ticks\":\"\"}}}],\"scatter3d\":[{\"type\":\"scatter3d\",\"line\":{\"colorbar\":{\"outlinewidth\":0,\"ticks\":\"\"}},\"marker\":{\"colorbar\":{\"outlinewidth\":0,\"ticks\":\"\"}}}],\"scattermapbox\":[{\"type\":\"scattermapbox\",\"marker\":{\"colorbar\":{\"outlinewidth\":0,\"ticks\":\"\"}}}],\"scatterternary\":[{\"type\":\"scatterternary\",\"marker\":{\"colorbar\":{\"outlinewidth\":0,\"ticks\":\"\"}}}],\"scattercarpet\":[{\"type\":\"scattercarpet\",\"marker\":{\"colorbar\":{\"outlinewidth\":0,\"ticks\":\"\"}}}],\"carpet\":[{\"aaxis\":{\"endlinecolor\":\"#2a3f5f\",\"gridcolor\":\"white\",\"linecolor\":\"white\",\"minorgridcolor\":\"white\",\"startlinecolor\":\"#2a3f5f\"},\"baxis\":{\"endlinecolor\":\"#2a3f5f\",\"gridcolor\":\"white\",\"linecolor\":\"white\",\"minorgridcolor\":\"white\",\"startlinecolor\":\"#2a3f5f\"},\"type\":\"carpet\"}],\"table\":[{\"cells\":{\"fill\":{\"color\":\"#EBF0F8\"},\"line\":{\"color\":\"white\"}},\"header\":{\"fill\":{\"color\":\"#C8D4E3\"},\"line\":{\"color\":\"white\"}},\"type\":\"table\"}],\"barpolar\":[{\"marker\":{\"line\":{\"color\":\"#E5ECF6\",\"width\":0.5},\"pattern\":{\"fillmode\":\"overlay\",\"size\":10,\"solidity\":0.2}},\"type\":\"barpolar\"}],\"pie\":[{\"automargin\":true,\"type\":\"pie\"}]},\"layout\":{\"autotypenumbers\":\"strict\",\"colorway\":[\"#636efa\",\"#EF553B\",\"#00cc96\",\"#ab63fa\",\"#FFA15A\",\"#19d3f3\",\"#FF6692\",\"#B6E880\",\"#FF97FF\",\"#FECB52\"],\"font\":{\"color\":\"#2a3f5f\"},\"hovermode\":\"closest\",\"hoverlabel\":{\"align\":\"left\"},\"paper_bgcolor\":\"white\",\"plot_bgcolor\":\"#E5ECF6\",\"polar\":{\"bgcolor\":\"#E5ECF6\",\"angularaxis\":{\"gridcolor\":\"white\",\"linecolor\":\"white\",\"ticks\":\"\"},\"radialaxis\":{\"gridcolor\":\"white\",\"linecolor\":\"white\",\"ticks\":\"\"}},\"ternary\":{\"bgcolor\":\"#E5ECF6\",\"aaxis\":{\"gridcolor\":\"white\",\"linecolor\":\"white\",\"ticks\":\"\"},\"baxis\":{\"gridcolor\":\"white\",\"linecolor\":\"white\",\"ticks\":\"\"},\"caxis\":{\"gridcolor\":\"white\",\"linecolor\":\"white\",\"ticks\":\"\"}},\"coloraxis\":{\"colorbar\":{\"outlinewidth\":0,\"ticks\":\"\"}},\"colorscale\":{\"sequential\":[[0.0,\"#0d0887\"],[0.1111111111111111,\"#46039f\"],[0.2222222222222222,\"#7201a8\"],[0.3333333333333333,\"#9c179e\"],[0.4444444444444444,\"#bd3786\"],[0.5555555555555556,\"#d8576b\"],[0.6666666666666666,\"#ed7953\"],[0.7777777777777778,\"#fb9f3a\"],[0.8888888888888888,\"#fdca26\"],[1.0,\"#f0f921\"]],\"sequentialminus\":[[0.0,\"#0d0887\"],[0.1111111111111111,\"#46039f\"],[0.2222222222222222,\"#7201a8\"],[0.3333333333333333,\"#9c179e\"],[0.4444444444444444,\"#bd3786\"],[0.5555555555555556,\"#d8576b\"],[0.6666666666666666,\"#ed7953\"],[0.7777777777777778,\"#fb9f3a\"],[0.8888888888888888,\"#fdca26\"],[1.0,\"#f0f921\"]],\"diverging\":[[0,\"#8e0152\"],[0.1,\"#c51b7d\"],[0.2,\"#de77ae\"],[0.3,\"#f1b6da\"],[0.4,\"#fde0ef\"],[0.5,\"#f7f7f7\"],[0.6,\"#e6f5d0\"],[0.7,\"#b8e186\"],[0.8,\"#7fbc41\"],[0.9,\"#4d9221\"],[1,\"#276419\"]]},\"xaxis\":{\"gridcolor\":\"white\",\"linecolor\":\"white\",\"ticks\":\"\",\"title\":{\"standoff\":15},\"zerolinecolor\":\"white\",\"automargin\":true,\"zerolinewidth\":2},\"yaxis\":{\"gridcolor\":\"white\",\"linecolor\":\"white\",\"ticks\":\"\",\"title\":{\"standoff\":15},\"zerolinecolor\":\"white\",\"automargin\":true,\"zerolinewidth\":2},\"scene\":{\"xaxis\":{\"backgroundcolor\":\"#E5ECF6\",\"gridcolor\":\"white\",\"linecolor\":\"white\",\"showbackground\":true,\"ticks\":\"\",\"zerolinecolor\":\"white\",\"gridwidth\":2},\"yaxis\":{\"backgroundcolor\":\"#E5ECF6\",\"gridcolor\":\"white\",\"linecolor\":\"white\",\"showbackground\":true,\"ticks\":\"\",\"zerolinecolor\":\"white\",\"gridwidth\":2},\"zaxis\":{\"backgroundcolor\":\"#E5ECF6\",\"gridcolor\":\"white\",\"linecolor\":\"white\",\"showbackground\":true,\"ticks\":\"\",\"zerolinecolor\":\"white\",\"gridwidth\":2}},\"shapedefaults\":{\"line\":{\"color\":\"#2a3f5f\"}},\"annotationdefaults\":{\"arrowcolor\":\"#2a3f5f\",\"arrowhead\":0,\"arrowwidth\":1},\"geo\":{\"bgcolor\":\"white\",\"landcolor\":\"#E5ECF6\",\"subunitcolor\":\"white\",\"showland\":true,\"showlakes\":true,\"lakecolor\":\"white\"},\"title\":{\"x\":0.05},\"mapbox\":{\"style\":\"light\"}}},\"xaxis\":{\"anchor\":\"y\",\"domain\":[0.0,1.0],\"title\":{\"text\":\"index\"}},\"yaxis\":{\"anchor\":\"x\",\"domain\":[0.0,1.0],\"title\":{\"text\":\"value\"}},\"legend\":{\"title\":{\"text\":\"variable\"},\"tracegroupgap\":0},\"margin\":{\"t\":60}},                        {\"responsive\": true}                    ).then(function(){\n",
       "                            \n",
       "var gd = document.getElementById('c2a0be75-d589-4284-9341-893467f51f7a');\n",
       "var x = new MutationObserver(function (mutations, observer) {{\n",
       "        var display = window.getComputedStyle(gd).display;\n",
       "        if (!display || display === 'none') {{\n",
       "            console.log([gd, 'removed!']);\n",
       "            Plotly.purge(gd);\n",
       "            observer.disconnect();\n",
       "        }}\n",
       "}});\n",
       "\n",
       "// Listen for the removal of the full notebook cells\n",
       "var notebookContainer = gd.closest('#notebook-container');\n",
       "if (notebookContainer) {{\n",
       "    x.observe(notebookContainer, {childList: true});\n",
       "}}\n",
       "\n",
       "// Listen for the clearing of the current output cell\n",
       "var outputEl = gd.closest('.output');\n",
       "if (outputEl) {{\n",
       "    x.observe(outputEl, {childList: true});\n",
       "}}\n",
       "\n",
       "                        })                };                });            </script>        </div>"
      ]
     },
     "metadata": {},
     "output_type": "display_data"
    }
   ],
   "source": [
    "fig=go.Figure()\n",
    "#fig.add_trace(go.Scatter(x=RMS_copy.index,y=RMS_copy.RMS,name='RMS'))\n",
    "px.scatter(final_df.RMS,labels={'x':'Date','y':'Value'})\n"
   ]
  },
  {
   "cell_type": "code",
   "execution_count": 36,
   "id": "e458a903",
   "metadata": {},
   "outputs": [
    {
     "data": {
      "application/vnd.plotly.v1+json": {
       "config": {
        "plotlyServerURL": "https://plot.ly"
       },
       "data": [
        {
         "hovertemplate": "variable=RMS<br>index=%{x}<br>value=%{y}<extra></extra>",
         "legendgroup": "RMS",
         "line": {
          "color": "#636efa",
          "dash": "solid"
         },
         "marker": {
          "symbol": "circle"
         },
         "mode": "lines",
         "name": "RMS",
         "orientation": "v",
         "showlegend": true,
         "type": "scatter",
         "x": [
          "2018-01-07",
          "2018-01-09",
          "2018-01-10",
          "2018-01-11",
          "2018-01-12",
          "2018-02-07",
          "2018-02-08",
          "2018-02-09",
          "2018-02-10",
          "2018-02-11",
          "2018-02-12",
          "2018-03-07",
          "2018-03-09",
          "2018-03-10",
          "2018-03-11",
          "2018-03-12",
          "2018-04-07",
          "2018-04-09",
          "2018-04-10",
          "2018-04-11",
          "2018-04-12",
          "2018-05-07",
          "2018-05-09",
          "2018-05-10",
          "2018-05-11",
          "2018-05-12",
          "2018-06-07",
          "2018-06-08",
          "2018-06-09",
          "2018-06-10",
          "2018-06-11",
          "2018-06-12",
          "2018-07-07",
          "2018-07-09",
          "2018-07-10",
          "2018-07-11",
          "2018-07-12",
          "2018-07-13",
          "2018-08-07",
          "2018-08-09",
          "2018-08-10",
          "2018-08-11",
          "2018-08-12",
          "2018-08-13",
          "2018-08-14",
          "2018-08-15",
          "2018-08-16",
          "2018-08-17",
          "2018-08-18",
          "2018-08-19",
          "2018-08-20",
          "2018-08-21",
          "2018-08-22",
          "2018-08-23",
          "2018-08-24",
          "2018-08-25",
          "2018-08-26",
          "2018-08-27",
          "2018-08-28",
          "2018-08-29",
          "2018-08-30",
          "2018-08-31",
          "2018-09-07",
          "2018-09-09",
          "2018-09-10",
          "2018-09-11",
          "2018-09-12",
          "2018-09-13",
          "2018-09-14",
          "2018-09-15",
          "2018-09-16",
          "2018-09-17",
          "2018-09-18",
          "2018-09-19",
          "2018-09-20",
          "2018-09-21",
          "2018-09-22",
          "2018-09-23",
          "2018-09-24",
          "2018-09-25",
          "2018-09-26",
          "2018-09-27",
          "2018-09-28",
          "2018-09-29",
          "2018-09-30",
          "2018-10-07",
          "2018-10-08",
          "2018-10-09",
          "2018-10-10",
          "2018-10-11",
          "2018-10-12",
          "2018-10-13",
          "2018-10-14",
          "2018-10-15",
          "2018-10-16",
          "2018-10-17",
          "2018-10-18",
          "2018-10-19",
          "2018-10-20",
          "2018-10-21",
          "2018-10-22",
          "2018-10-23",
          "2018-10-24",
          "2018-10-25",
          "2018-10-26",
          "2018-10-27",
          "2018-10-28",
          "2018-10-29",
          "2018-10-30",
          "2018-10-31",
          "2018-11-07",
          "2018-11-08",
          "2018-11-09",
          "2018-11-10",
          "2018-11-11",
          "2018-11-12",
          "2018-11-13",
          "2018-11-14",
          "2018-11-15",
          "2018-11-16",
          "2018-11-17",
          "2018-11-18",
          "2018-11-19",
          "2018-11-20",
          "2018-11-21",
          "2018-11-22",
          "2018-11-23",
          "2018-11-24",
          "2018-11-25",
          "2018-11-26",
          "2018-11-27",
          "2018-11-28",
          "2018-11-29",
          "2018-11-30",
          "2018-12-07",
          "2018-12-08",
          "2018-12-09",
          "2018-12-10",
          "2018-12-11",
          "2018-12-12",
          "2018-12-13",
          "2018-12-14",
          "2018-12-15",
          "2018-12-16",
          "2018-12-17",
          "2018-12-18",
          "2018-12-19",
          "2018-12-20",
          "2018-12-21",
          "2018-12-22",
          "2018-12-23",
          "2018-12-24",
          "2018-12-25",
          "2018-12-26",
          "2018-12-27",
          "2018-12-28",
          "2018-12-29",
          "2018-12-30",
          "2018-12-31"
         ],
         "xaxis": "x",
         "y": [
          8.300225404724637,
          8.243775858101136,
          8.243786907086115,
          7.8,
          8.15145652775557,
          8.362984885286348,
          0,
          8.246116704767227,
          8.122494991568512,
          7.815608999988065,
          8.195946308152044,
          8.36747421948939,
          8.080932464797788,
          8.203919625534018,
          8.244273707145664,
          8.245190240165947,
          8.21689196502311,
          8.261845347237303,
          8.23504410022429,
          8.210601350692896,
          8.215303355960133,
          8.307759815231154,
          8.14667698826832,
          8.062983487613488,
          8.107681061336905,
          8.250418928757497,
          8.310759749654103,
          0,
          8.24529304410184,
          8.190399691695285,
          8.251426160401337,
          8.038764034499403,
          8.313646540540546,
          8.197862892111253,
          7.62788526923128,
          8.254794650518098,
          8.240260904529798,
          8.295911940674847,
          8.262204258251522,
          8.1724478942418,
          7.63,
          7.945594842209097,
          8.24282981424024,
          8.099999,
          8.099999,
          8.047162997733052,
          7.924649486044588,
          8.134295239510914,
          7.942483825043189,
          8.02743623993676,
          8.222149990586912,
          8.107982674342031,
          8.132531179470014,
          8.275820553034047,
          8.27,
          8.233300943679795,
          8.195489286794624,
          8.267103978547187,
          7.993049498670359,
          8.264160794249952,
          8.26301981964175,
          8.201755659503304,
          8.243774646863171,
          8.241578438927824,
          7.638598961669752,
          8.200244781153385,
          8.236309073412542,
          0,
          0,
          8.120694127525201,
          8.24384323454233,
          8.226036507376712,
          7.925468765416796,
          8.14242869103872,
          8.266025684864363,
          7.849229129396333,
          8.199833639198195,
          8.23550825190816,
          8.175971272576733,
          8.240177390479737,
          7.972473818447656,
          8.22882833722227,
          8.232990553593243,
          8.213684786293014,
          8.232595063011892,
          8.266094234734368,
          8.08,
          8.055020948122337,
          7.813228931847794,
          8.23735716871619,
          8.212673503874973,
          8.212303286450796,
          8.237782591262404,
          8.189286368990484,
          8.193325532322998,
          8.048749861819008,
          8.20928744447536,
          8.238344667476523,
          8.182733882839539,
          8.244711716019962,
          8.23980091835512,
          8.091974376660245,
          8.219848518432212,
          8.249877009705134,
          8.146038204499575,
          8.25491584694468,
          7.9460815124238025,
          7.9175612116085565,
          7.79979604652243,
          7.795522419419155,
          7.786380359141353,
          8.08166175655755,
          8.242551404664491,
          7.820277950445382,
          8.102827693416922,
          8.245249448867417,
          8.204336174720053,
          8.220895513196169,
          8.13228608861514,
          8.246938340103382,
          8.160533538861836,
          8.252086057813234,
          8.20510214219719,
          8.246844903661758,
          8.10653207436499,
          8.211937723860036,
          8.250658318916239,
          8.217395371625434,
          8.249038643482443,
          8.025216172953778,
          8.010877565847576,
          7.72716559900488,
          7.7700346242654375,
          7.785632779535507,
          8.321227484288476,
          8.09409830619064,
          6.580670859837714,
          7.784523705306075,
          7.81790290101435,
          7.990519317703777,
          8.032384962729374,
          8.248300224726439,
          8.248647805852787,
          8.250279961579755,
          8.228248848335769,
          8.163643850176584,
          8.214860617012588,
          8.20606395264265,
          8.232620676648166,
          8.23746777015606,
          8.221935534968422,
          7.843807337107832,
          8.154828310608496,
          8.22628400068106,
          8.167201280545527,
          7.975094805932475,
          7.830217288030887,
          7.824341847543615,
          7.829895899158983
         ],
         "yaxis": "y"
        }
       ],
       "layout": {
        "legend": {
         "title": {
          "text": "variable"
         },
         "tracegroupgap": 0
        },
        "margin": {
         "t": 60
        },
        "template": {
         "data": {
          "bar": [
           {
            "error_x": {
             "color": "#2a3f5f"
            },
            "error_y": {
             "color": "#2a3f5f"
            },
            "marker": {
             "line": {
              "color": "#E5ECF6",
              "width": 0.5
             },
             "pattern": {
              "fillmode": "overlay",
              "size": 10,
              "solidity": 0.2
             }
            },
            "type": "bar"
           }
          ],
          "barpolar": [
           {
            "marker": {
             "line": {
              "color": "#E5ECF6",
              "width": 0.5
             },
             "pattern": {
              "fillmode": "overlay",
              "size": 10,
              "solidity": 0.2
             }
            },
            "type": "barpolar"
           }
          ],
          "carpet": [
           {
            "aaxis": {
             "endlinecolor": "#2a3f5f",
             "gridcolor": "white",
             "linecolor": "white",
             "minorgridcolor": "white",
             "startlinecolor": "#2a3f5f"
            },
            "baxis": {
             "endlinecolor": "#2a3f5f",
             "gridcolor": "white",
             "linecolor": "white",
             "minorgridcolor": "white",
             "startlinecolor": "#2a3f5f"
            },
            "type": "carpet"
           }
          ],
          "choropleth": [
           {
            "colorbar": {
             "outlinewidth": 0,
             "ticks": ""
            },
            "type": "choropleth"
           }
          ],
          "contour": [
           {
            "colorbar": {
             "outlinewidth": 0,
             "ticks": ""
            },
            "colorscale": [
             [
              0,
              "#0d0887"
             ],
             [
              0.1111111111111111,
              "#46039f"
             ],
             [
              0.2222222222222222,
              "#7201a8"
             ],
             [
              0.3333333333333333,
              "#9c179e"
             ],
             [
              0.4444444444444444,
              "#bd3786"
             ],
             [
              0.5555555555555556,
              "#d8576b"
             ],
             [
              0.6666666666666666,
              "#ed7953"
             ],
             [
              0.7777777777777778,
              "#fb9f3a"
             ],
             [
              0.8888888888888888,
              "#fdca26"
             ],
             [
              1,
              "#f0f921"
             ]
            ],
            "type": "contour"
           }
          ],
          "contourcarpet": [
           {
            "colorbar": {
             "outlinewidth": 0,
             "ticks": ""
            },
            "type": "contourcarpet"
           }
          ],
          "heatmap": [
           {
            "colorbar": {
             "outlinewidth": 0,
             "ticks": ""
            },
            "colorscale": [
             [
              0,
              "#0d0887"
             ],
             [
              0.1111111111111111,
              "#46039f"
             ],
             [
              0.2222222222222222,
              "#7201a8"
             ],
             [
              0.3333333333333333,
              "#9c179e"
             ],
             [
              0.4444444444444444,
              "#bd3786"
             ],
             [
              0.5555555555555556,
              "#d8576b"
             ],
             [
              0.6666666666666666,
              "#ed7953"
             ],
             [
              0.7777777777777778,
              "#fb9f3a"
             ],
             [
              0.8888888888888888,
              "#fdca26"
             ],
             [
              1,
              "#f0f921"
             ]
            ],
            "type": "heatmap"
           }
          ],
          "heatmapgl": [
           {
            "colorbar": {
             "outlinewidth": 0,
             "ticks": ""
            },
            "colorscale": [
             [
              0,
              "#0d0887"
             ],
             [
              0.1111111111111111,
              "#46039f"
             ],
             [
              0.2222222222222222,
              "#7201a8"
             ],
             [
              0.3333333333333333,
              "#9c179e"
             ],
             [
              0.4444444444444444,
              "#bd3786"
             ],
             [
              0.5555555555555556,
              "#d8576b"
             ],
             [
              0.6666666666666666,
              "#ed7953"
             ],
             [
              0.7777777777777778,
              "#fb9f3a"
             ],
             [
              0.8888888888888888,
              "#fdca26"
             ],
             [
              1,
              "#f0f921"
             ]
            ],
            "type": "heatmapgl"
           }
          ],
          "histogram": [
           {
            "marker": {
             "pattern": {
              "fillmode": "overlay",
              "size": 10,
              "solidity": 0.2
             }
            },
            "type": "histogram"
           }
          ],
          "histogram2d": [
           {
            "colorbar": {
             "outlinewidth": 0,
             "ticks": ""
            },
            "colorscale": [
             [
              0,
              "#0d0887"
             ],
             [
              0.1111111111111111,
              "#46039f"
             ],
             [
              0.2222222222222222,
              "#7201a8"
             ],
             [
              0.3333333333333333,
              "#9c179e"
             ],
             [
              0.4444444444444444,
              "#bd3786"
             ],
             [
              0.5555555555555556,
              "#d8576b"
             ],
             [
              0.6666666666666666,
              "#ed7953"
             ],
             [
              0.7777777777777778,
              "#fb9f3a"
             ],
             [
              0.8888888888888888,
              "#fdca26"
             ],
             [
              1,
              "#f0f921"
             ]
            ],
            "type": "histogram2d"
           }
          ],
          "histogram2dcontour": [
           {
            "colorbar": {
             "outlinewidth": 0,
             "ticks": ""
            },
            "colorscale": [
             [
              0,
              "#0d0887"
             ],
             [
              0.1111111111111111,
              "#46039f"
             ],
             [
              0.2222222222222222,
              "#7201a8"
             ],
             [
              0.3333333333333333,
              "#9c179e"
             ],
             [
              0.4444444444444444,
              "#bd3786"
             ],
             [
              0.5555555555555556,
              "#d8576b"
             ],
             [
              0.6666666666666666,
              "#ed7953"
             ],
             [
              0.7777777777777778,
              "#fb9f3a"
             ],
             [
              0.8888888888888888,
              "#fdca26"
             ],
             [
              1,
              "#f0f921"
             ]
            ],
            "type": "histogram2dcontour"
           }
          ],
          "mesh3d": [
           {
            "colorbar": {
             "outlinewidth": 0,
             "ticks": ""
            },
            "type": "mesh3d"
           }
          ],
          "parcoords": [
           {
            "line": {
             "colorbar": {
              "outlinewidth": 0,
              "ticks": ""
             }
            },
            "type": "parcoords"
           }
          ],
          "pie": [
           {
            "automargin": true,
            "type": "pie"
           }
          ],
          "scatter": [
           {
            "fillpattern": {
             "fillmode": "overlay",
             "size": 10,
             "solidity": 0.2
            },
            "type": "scatter"
           }
          ],
          "scatter3d": [
           {
            "line": {
             "colorbar": {
              "outlinewidth": 0,
              "ticks": ""
             }
            },
            "marker": {
             "colorbar": {
              "outlinewidth": 0,
              "ticks": ""
             }
            },
            "type": "scatter3d"
           }
          ],
          "scattercarpet": [
           {
            "marker": {
             "colorbar": {
              "outlinewidth": 0,
              "ticks": ""
             }
            },
            "type": "scattercarpet"
           }
          ],
          "scattergeo": [
           {
            "marker": {
             "colorbar": {
              "outlinewidth": 0,
              "ticks": ""
             }
            },
            "type": "scattergeo"
           }
          ],
          "scattergl": [
           {
            "marker": {
             "colorbar": {
              "outlinewidth": 0,
              "ticks": ""
             }
            },
            "type": "scattergl"
           }
          ],
          "scattermapbox": [
           {
            "marker": {
             "colorbar": {
              "outlinewidth": 0,
              "ticks": ""
             }
            },
            "type": "scattermapbox"
           }
          ],
          "scatterpolar": [
           {
            "marker": {
             "colorbar": {
              "outlinewidth": 0,
              "ticks": ""
             }
            },
            "type": "scatterpolar"
           }
          ],
          "scatterpolargl": [
           {
            "marker": {
             "colorbar": {
              "outlinewidth": 0,
              "ticks": ""
             }
            },
            "type": "scatterpolargl"
           }
          ],
          "scatterternary": [
           {
            "marker": {
             "colorbar": {
              "outlinewidth": 0,
              "ticks": ""
             }
            },
            "type": "scatterternary"
           }
          ],
          "surface": [
           {
            "colorbar": {
             "outlinewidth": 0,
             "ticks": ""
            },
            "colorscale": [
             [
              0,
              "#0d0887"
             ],
             [
              0.1111111111111111,
              "#46039f"
             ],
             [
              0.2222222222222222,
              "#7201a8"
             ],
             [
              0.3333333333333333,
              "#9c179e"
             ],
             [
              0.4444444444444444,
              "#bd3786"
             ],
             [
              0.5555555555555556,
              "#d8576b"
             ],
             [
              0.6666666666666666,
              "#ed7953"
             ],
             [
              0.7777777777777778,
              "#fb9f3a"
             ],
             [
              0.8888888888888888,
              "#fdca26"
             ],
             [
              1,
              "#f0f921"
             ]
            ],
            "type": "surface"
           }
          ],
          "table": [
           {
            "cells": {
             "fill": {
              "color": "#EBF0F8"
             },
             "line": {
              "color": "white"
             }
            },
            "header": {
             "fill": {
              "color": "#C8D4E3"
             },
             "line": {
              "color": "white"
             }
            },
            "type": "table"
           }
          ]
         },
         "layout": {
          "annotationdefaults": {
           "arrowcolor": "#2a3f5f",
           "arrowhead": 0,
           "arrowwidth": 1
          },
          "autotypenumbers": "strict",
          "coloraxis": {
           "colorbar": {
            "outlinewidth": 0,
            "ticks": ""
           }
          },
          "colorscale": {
           "diverging": [
            [
             0,
             "#8e0152"
            ],
            [
             0.1,
             "#c51b7d"
            ],
            [
             0.2,
             "#de77ae"
            ],
            [
             0.3,
             "#f1b6da"
            ],
            [
             0.4,
             "#fde0ef"
            ],
            [
             0.5,
             "#f7f7f7"
            ],
            [
             0.6,
             "#e6f5d0"
            ],
            [
             0.7,
             "#b8e186"
            ],
            [
             0.8,
             "#7fbc41"
            ],
            [
             0.9,
             "#4d9221"
            ],
            [
             1,
             "#276419"
            ]
           ],
           "sequential": [
            [
             0,
             "#0d0887"
            ],
            [
             0.1111111111111111,
             "#46039f"
            ],
            [
             0.2222222222222222,
             "#7201a8"
            ],
            [
             0.3333333333333333,
             "#9c179e"
            ],
            [
             0.4444444444444444,
             "#bd3786"
            ],
            [
             0.5555555555555556,
             "#d8576b"
            ],
            [
             0.6666666666666666,
             "#ed7953"
            ],
            [
             0.7777777777777778,
             "#fb9f3a"
            ],
            [
             0.8888888888888888,
             "#fdca26"
            ],
            [
             1,
             "#f0f921"
            ]
           ],
           "sequentialminus": [
            [
             0,
             "#0d0887"
            ],
            [
             0.1111111111111111,
             "#46039f"
            ],
            [
             0.2222222222222222,
             "#7201a8"
            ],
            [
             0.3333333333333333,
             "#9c179e"
            ],
            [
             0.4444444444444444,
             "#bd3786"
            ],
            [
             0.5555555555555556,
             "#d8576b"
            ],
            [
             0.6666666666666666,
             "#ed7953"
            ],
            [
             0.7777777777777778,
             "#fb9f3a"
            ],
            [
             0.8888888888888888,
             "#fdca26"
            ],
            [
             1,
             "#f0f921"
            ]
           ]
          },
          "colorway": [
           "#636efa",
           "#EF553B",
           "#00cc96",
           "#ab63fa",
           "#FFA15A",
           "#19d3f3",
           "#FF6692",
           "#B6E880",
           "#FF97FF",
           "#FECB52"
          ],
          "font": {
           "color": "#2a3f5f"
          },
          "geo": {
           "bgcolor": "white",
           "lakecolor": "white",
           "landcolor": "#E5ECF6",
           "showlakes": true,
           "showland": true,
           "subunitcolor": "white"
          },
          "hoverlabel": {
           "align": "left"
          },
          "hovermode": "closest",
          "mapbox": {
           "style": "light"
          },
          "paper_bgcolor": "white",
          "plot_bgcolor": "#E5ECF6",
          "polar": {
           "angularaxis": {
            "gridcolor": "white",
            "linecolor": "white",
            "ticks": ""
           },
           "bgcolor": "#E5ECF6",
           "radialaxis": {
            "gridcolor": "white",
            "linecolor": "white",
            "ticks": ""
           }
          },
          "scene": {
           "xaxis": {
            "backgroundcolor": "#E5ECF6",
            "gridcolor": "white",
            "gridwidth": 2,
            "linecolor": "white",
            "showbackground": true,
            "ticks": "",
            "zerolinecolor": "white"
           },
           "yaxis": {
            "backgroundcolor": "#E5ECF6",
            "gridcolor": "white",
            "gridwidth": 2,
            "linecolor": "white",
            "showbackground": true,
            "ticks": "",
            "zerolinecolor": "white"
           },
           "zaxis": {
            "backgroundcolor": "#E5ECF6",
            "gridcolor": "white",
            "gridwidth": 2,
            "linecolor": "white",
            "showbackground": true,
            "ticks": "",
            "zerolinecolor": "white"
           }
          },
          "shapedefaults": {
           "line": {
            "color": "#2a3f5f"
           }
          },
          "ternary": {
           "aaxis": {
            "gridcolor": "white",
            "linecolor": "white",
            "ticks": ""
           },
           "baxis": {
            "gridcolor": "white",
            "linecolor": "white",
            "ticks": ""
           },
           "bgcolor": "#E5ECF6",
           "caxis": {
            "gridcolor": "white",
            "linecolor": "white",
            "ticks": ""
           }
          },
          "title": {
           "x": 0.05
          },
          "xaxis": {
           "automargin": true,
           "gridcolor": "white",
           "linecolor": "white",
           "ticks": "",
           "title": {
            "standoff": 15
           },
           "zerolinecolor": "white",
           "zerolinewidth": 2
          },
          "yaxis": {
           "automargin": true,
           "gridcolor": "white",
           "linecolor": "white",
           "ticks": "",
           "title": {
            "standoff": 15
           },
           "zerolinecolor": "white",
           "zerolinewidth": 2
          }
         }
        },
        "xaxis": {
         "anchor": "y",
         "domain": [
          0,
          1
         ],
         "title": {
          "text": "index"
         }
        },
        "yaxis": {
         "anchor": "x",
         "domain": [
          0,
          1
         ],
         "title": {
          "text": "value"
         }
        }
       }
      },
      "text/html": [
       "<div>                            <div id=\"080bb9d3-f3c5-4f71-95f4-42127e875896\" class=\"plotly-graph-div\" style=\"height:525px; width:100%;\"></div>            <script type=\"text/javascript\">                require([\"plotly\"], function(Plotly) {                    window.PLOTLYENV=window.PLOTLYENV || {};                                    if (document.getElementById(\"080bb9d3-f3c5-4f71-95f4-42127e875896\")) {                    Plotly.newPlot(                        \"080bb9d3-f3c5-4f71-95f4-42127e875896\",                        [{\"hovertemplate\":\"variable=RMS<br>index=%{x}<br>value=%{y}<extra></extra>\",\"legendgroup\":\"RMS\",\"line\":{\"color\":\"#636efa\",\"dash\":\"solid\"},\"marker\":{\"symbol\":\"circle\"},\"mode\":\"lines\",\"name\":\"RMS\",\"orientation\":\"v\",\"showlegend\":true,\"x\":[\"2018-01-07\",\"2018-01-09\",\"2018-01-10\",\"2018-01-11\",\"2018-01-12\",\"2018-02-07\",\"2018-02-08\",\"2018-02-09\",\"2018-02-10\",\"2018-02-11\",\"2018-02-12\",\"2018-03-07\",\"2018-03-09\",\"2018-03-10\",\"2018-03-11\",\"2018-03-12\",\"2018-04-07\",\"2018-04-09\",\"2018-04-10\",\"2018-04-11\",\"2018-04-12\",\"2018-05-07\",\"2018-05-09\",\"2018-05-10\",\"2018-05-11\",\"2018-05-12\",\"2018-06-07\",\"2018-06-08\",\"2018-06-09\",\"2018-06-10\",\"2018-06-11\",\"2018-06-12\",\"2018-07-07\",\"2018-07-09\",\"2018-07-10\",\"2018-07-11\",\"2018-07-12\",\"2018-07-13\",\"2018-08-07\",\"2018-08-09\",\"2018-08-10\",\"2018-08-11\",\"2018-08-12\",\"2018-08-13\",\"2018-08-14\",\"2018-08-15\",\"2018-08-16\",\"2018-08-17\",\"2018-08-18\",\"2018-08-19\",\"2018-08-20\",\"2018-08-21\",\"2018-08-22\",\"2018-08-23\",\"2018-08-24\",\"2018-08-25\",\"2018-08-26\",\"2018-08-27\",\"2018-08-28\",\"2018-08-29\",\"2018-08-30\",\"2018-08-31\",\"2018-09-07\",\"2018-09-09\",\"2018-09-10\",\"2018-09-11\",\"2018-09-12\",\"2018-09-13\",\"2018-09-14\",\"2018-09-15\",\"2018-09-16\",\"2018-09-17\",\"2018-09-18\",\"2018-09-19\",\"2018-09-20\",\"2018-09-21\",\"2018-09-22\",\"2018-09-23\",\"2018-09-24\",\"2018-09-25\",\"2018-09-26\",\"2018-09-27\",\"2018-09-28\",\"2018-09-29\",\"2018-09-30\",\"2018-10-07\",\"2018-10-08\",\"2018-10-09\",\"2018-10-10\",\"2018-10-11\",\"2018-10-12\",\"2018-10-13\",\"2018-10-14\",\"2018-10-15\",\"2018-10-16\",\"2018-10-17\",\"2018-10-18\",\"2018-10-19\",\"2018-10-20\",\"2018-10-21\",\"2018-10-22\",\"2018-10-23\",\"2018-10-24\",\"2018-10-25\",\"2018-10-26\",\"2018-10-27\",\"2018-10-28\",\"2018-10-29\",\"2018-10-30\",\"2018-10-31\",\"2018-11-07\",\"2018-11-08\",\"2018-11-09\",\"2018-11-10\",\"2018-11-11\",\"2018-11-12\",\"2018-11-13\",\"2018-11-14\",\"2018-11-15\",\"2018-11-16\",\"2018-11-17\",\"2018-11-18\",\"2018-11-19\",\"2018-11-20\",\"2018-11-21\",\"2018-11-22\",\"2018-11-23\",\"2018-11-24\",\"2018-11-25\",\"2018-11-26\",\"2018-11-27\",\"2018-11-28\",\"2018-11-29\",\"2018-11-30\",\"2018-12-07\",\"2018-12-08\",\"2018-12-09\",\"2018-12-10\",\"2018-12-11\",\"2018-12-12\",\"2018-12-13\",\"2018-12-14\",\"2018-12-15\",\"2018-12-16\",\"2018-12-17\",\"2018-12-18\",\"2018-12-19\",\"2018-12-20\",\"2018-12-21\",\"2018-12-22\",\"2018-12-23\",\"2018-12-24\",\"2018-12-25\",\"2018-12-26\",\"2018-12-27\",\"2018-12-28\",\"2018-12-29\",\"2018-12-30\",\"2018-12-31\"],\"xaxis\":\"x\",\"y\":[8.300225404724637,8.243775858101136,8.243786907086115,7.8,8.15145652775557,8.362984885286348,0.0,8.246116704767227,8.122494991568512,7.815608999988065,8.195946308152044,8.36747421948939,8.080932464797788,8.203919625534018,8.244273707145664,8.245190240165947,8.21689196502311,8.261845347237303,8.23504410022429,8.210601350692896,8.215303355960133,8.307759815231154,8.14667698826832,8.062983487613488,8.107681061336905,8.250418928757497,8.310759749654103,0.0,8.24529304410184,8.190399691695285,8.251426160401337,8.038764034499403,8.313646540540546,8.197862892111253,7.62788526923128,8.254794650518098,8.240260904529798,8.295911940674847,8.262204258251522,8.1724478942418,7.63,7.945594842209097,8.24282981424024,8.099999,8.099999,8.047162997733052,7.924649486044588,8.134295239510914,7.942483825043189,8.02743623993676,8.222149990586912,8.107982674342031,8.132531179470014,8.275820553034047,8.27,8.233300943679795,8.195489286794624,8.267103978547187,7.993049498670359,8.264160794249952,8.26301981964175,8.201755659503304,8.243774646863171,8.241578438927824,7.638598961669752,8.200244781153385,8.236309073412542,0.0,0.0,8.120694127525201,8.24384323454233,8.226036507376712,7.925468765416796,8.14242869103872,8.266025684864363,7.849229129396333,8.199833639198195,8.23550825190816,8.175971272576733,8.240177390479737,7.972473818447656,8.22882833722227,8.232990553593243,8.213684786293014,8.232595063011892,8.266094234734368,8.08,8.055020948122337,7.813228931847794,8.23735716871619,8.212673503874973,8.212303286450796,8.237782591262404,8.189286368990484,8.193325532322998,8.048749861819008,8.20928744447536,8.238344667476523,8.182733882839539,8.244711716019962,8.23980091835512,8.091974376660245,8.219848518432212,8.249877009705134,8.146038204499575,8.25491584694468,7.9460815124238025,7.9175612116085565,7.79979604652243,7.795522419419155,7.786380359141353,8.08166175655755,8.242551404664491,7.820277950445382,8.102827693416922,8.245249448867417,8.204336174720053,8.220895513196169,8.13228608861514,8.246938340103382,8.160533538861836,8.252086057813234,8.20510214219719,8.246844903661758,8.10653207436499,8.211937723860036,8.250658318916239,8.217395371625434,8.249038643482443,8.025216172953778,8.010877565847576,7.72716559900488,7.7700346242654375,7.785632779535507,8.321227484288476,8.09409830619064,6.580670859837714,7.784523705306075,7.81790290101435,7.990519317703777,8.032384962729374,8.248300224726439,8.248647805852787,8.250279961579755,8.228248848335769,8.163643850176584,8.214860617012588,8.20606395264265,8.232620676648166,8.23746777015606,8.221935534968422,7.843807337107832,8.154828310608496,8.22628400068106,8.167201280545527,7.975094805932475,7.830217288030887,7.824341847543615,7.829895899158983],\"yaxis\":\"y\",\"type\":\"scatter\"}],                        {\"template\":{\"data\":{\"histogram2dcontour\":[{\"type\":\"histogram2dcontour\",\"colorbar\":{\"outlinewidth\":0,\"ticks\":\"\"},\"colorscale\":[[0.0,\"#0d0887\"],[0.1111111111111111,\"#46039f\"],[0.2222222222222222,\"#7201a8\"],[0.3333333333333333,\"#9c179e\"],[0.4444444444444444,\"#bd3786\"],[0.5555555555555556,\"#d8576b\"],[0.6666666666666666,\"#ed7953\"],[0.7777777777777778,\"#fb9f3a\"],[0.8888888888888888,\"#fdca26\"],[1.0,\"#f0f921\"]]}],\"choropleth\":[{\"type\":\"choropleth\",\"colorbar\":{\"outlinewidth\":0,\"ticks\":\"\"}}],\"histogram2d\":[{\"type\":\"histogram2d\",\"colorbar\":{\"outlinewidth\":0,\"ticks\":\"\"},\"colorscale\":[[0.0,\"#0d0887\"],[0.1111111111111111,\"#46039f\"],[0.2222222222222222,\"#7201a8\"],[0.3333333333333333,\"#9c179e\"],[0.4444444444444444,\"#bd3786\"],[0.5555555555555556,\"#d8576b\"],[0.6666666666666666,\"#ed7953\"],[0.7777777777777778,\"#fb9f3a\"],[0.8888888888888888,\"#fdca26\"],[1.0,\"#f0f921\"]]}],\"heatmap\":[{\"type\":\"heatmap\",\"colorbar\":{\"outlinewidth\":0,\"ticks\":\"\"},\"colorscale\":[[0.0,\"#0d0887\"],[0.1111111111111111,\"#46039f\"],[0.2222222222222222,\"#7201a8\"],[0.3333333333333333,\"#9c179e\"],[0.4444444444444444,\"#bd3786\"],[0.5555555555555556,\"#d8576b\"],[0.6666666666666666,\"#ed7953\"],[0.7777777777777778,\"#fb9f3a\"],[0.8888888888888888,\"#fdca26\"],[1.0,\"#f0f921\"]]}],\"heatmapgl\":[{\"type\":\"heatmapgl\",\"colorbar\":{\"outlinewidth\":0,\"ticks\":\"\"},\"colorscale\":[[0.0,\"#0d0887\"],[0.1111111111111111,\"#46039f\"],[0.2222222222222222,\"#7201a8\"],[0.3333333333333333,\"#9c179e\"],[0.4444444444444444,\"#bd3786\"],[0.5555555555555556,\"#d8576b\"],[0.6666666666666666,\"#ed7953\"],[0.7777777777777778,\"#fb9f3a\"],[0.8888888888888888,\"#fdca26\"],[1.0,\"#f0f921\"]]}],\"contourcarpet\":[{\"type\":\"contourcarpet\",\"colorbar\":{\"outlinewidth\":0,\"ticks\":\"\"}}],\"contour\":[{\"type\":\"contour\",\"colorbar\":{\"outlinewidth\":0,\"ticks\":\"\"},\"colorscale\":[[0.0,\"#0d0887\"],[0.1111111111111111,\"#46039f\"],[0.2222222222222222,\"#7201a8\"],[0.3333333333333333,\"#9c179e\"],[0.4444444444444444,\"#bd3786\"],[0.5555555555555556,\"#d8576b\"],[0.6666666666666666,\"#ed7953\"],[0.7777777777777778,\"#fb9f3a\"],[0.8888888888888888,\"#fdca26\"],[1.0,\"#f0f921\"]]}],\"surface\":[{\"type\":\"surface\",\"colorbar\":{\"outlinewidth\":0,\"ticks\":\"\"},\"colorscale\":[[0.0,\"#0d0887\"],[0.1111111111111111,\"#46039f\"],[0.2222222222222222,\"#7201a8\"],[0.3333333333333333,\"#9c179e\"],[0.4444444444444444,\"#bd3786\"],[0.5555555555555556,\"#d8576b\"],[0.6666666666666666,\"#ed7953\"],[0.7777777777777778,\"#fb9f3a\"],[0.8888888888888888,\"#fdca26\"],[1.0,\"#f0f921\"]]}],\"mesh3d\":[{\"type\":\"mesh3d\",\"colorbar\":{\"outlinewidth\":0,\"ticks\":\"\"}}],\"scatter\":[{\"fillpattern\":{\"fillmode\":\"overlay\",\"size\":10,\"solidity\":0.2},\"type\":\"scatter\"}],\"parcoords\":[{\"type\":\"parcoords\",\"line\":{\"colorbar\":{\"outlinewidth\":0,\"ticks\":\"\"}}}],\"scatterpolargl\":[{\"type\":\"scatterpolargl\",\"marker\":{\"colorbar\":{\"outlinewidth\":0,\"ticks\":\"\"}}}],\"bar\":[{\"error_x\":{\"color\":\"#2a3f5f\"},\"error_y\":{\"color\":\"#2a3f5f\"},\"marker\":{\"line\":{\"color\":\"#E5ECF6\",\"width\":0.5},\"pattern\":{\"fillmode\":\"overlay\",\"size\":10,\"solidity\":0.2}},\"type\":\"bar\"}],\"scattergeo\":[{\"type\":\"scattergeo\",\"marker\":{\"colorbar\":{\"outlinewidth\":0,\"ticks\":\"\"}}}],\"scatterpolar\":[{\"type\":\"scatterpolar\",\"marker\":{\"colorbar\":{\"outlinewidth\":0,\"ticks\":\"\"}}}],\"histogram\":[{\"marker\":{\"pattern\":{\"fillmode\":\"overlay\",\"size\":10,\"solidity\":0.2}},\"type\":\"histogram\"}],\"scattergl\":[{\"type\":\"scattergl\",\"marker\":{\"colorbar\":{\"outlinewidth\":0,\"ticks\":\"\"}}}],\"scatter3d\":[{\"type\":\"scatter3d\",\"line\":{\"colorbar\":{\"outlinewidth\":0,\"ticks\":\"\"}},\"marker\":{\"colorbar\":{\"outlinewidth\":0,\"ticks\":\"\"}}}],\"scattermapbox\":[{\"type\":\"scattermapbox\",\"marker\":{\"colorbar\":{\"outlinewidth\":0,\"ticks\":\"\"}}}],\"scatterternary\":[{\"type\":\"scatterternary\",\"marker\":{\"colorbar\":{\"outlinewidth\":0,\"ticks\":\"\"}}}],\"scattercarpet\":[{\"type\":\"scattercarpet\",\"marker\":{\"colorbar\":{\"outlinewidth\":0,\"ticks\":\"\"}}}],\"carpet\":[{\"aaxis\":{\"endlinecolor\":\"#2a3f5f\",\"gridcolor\":\"white\",\"linecolor\":\"white\",\"minorgridcolor\":\"white\",\"startlinecolor\":\"#2a3f5f\"},\"baxis\":{\"endlinecolor\":\"#2a3f5f\",\"gridcolor\":\"white\",\"linecolor\":\"white\",\"minorgridcolor\":\"white\",\"startlinecolor\":\"#2a3f5f\"},\"type\":\"carpet\"}],\"table\":[{\"cells\":{\"fill\":{\"color\":\"#EBF0F8\"},\"line\":{\"color\":\"white\"}},\"header\":{\"fill\":{\"color\":\"#C8D4E3\"},\"line\":{\"color\":\"white\"}},\"type\":\"table\"}],\"barpolar\":[{\"marker\":{\"line\":{\"color\":\"#E5ECF6\",\"width\":0.5},\"pattern\":{\"fillmode\":\"overlay\",\"size\":10,\"solidity\":0.2}},\"type\":\"barpolar\"}],\"pie\":[{\"automargin\":true,\"type\":\"pie\"}]},\"layout\":{\"autotypenumbers\":\"strict\",\"colorway\":[\"#636efa\",\"#EF553B\",\"#00cc96\",\"#ab63fa\",\"#FFA15A\",\"#19d3f3\",\"#FF6692\",\"#B6E880\",\"#FF97FF\",\"#FECB52\"],\"font\":{\"color\":\"#2a3f5f\"},\"hovermode\":\"closest\",\"hoverlabel\":{\"align\":\"left\"},\"paper_bgcolor\":\"white\",\"plot_bgcolor\":\"#E5ECF6\",\"polar\":{\"bgcolor\":\"#E5ECF6\",\"angularaxis\":{\"gridcolor\":\"white\",\"linecolor\":\"white\",\"ticks\":\"\"},\"radialaxis\":{\"gridcolor\":\"white\",\"linecolor\":\"white\",\"ticks\":\"\"}},\"ternary\":{\"bgcolor\":\"#E5ECF6\",\"aaxis\":{\"gridcolor\":\"white\",\"linecolor\":\"white\",\"ticks\":\"\"},\"baxis\":{\"gridcolor\":\"white\",\"linecolor\":\"white\",\"ticks\":\"\"},\"caxis\":{\"gridcolor\":\"white\",\"linecolor\":\"white\",\"ticks\":\"\"}},\"coloraxis\":{\"colorbar\":{\"outlinewidth\":0,\"ticks\":\"\"}},\"colorscale\":{\"sequential\":[[0.0,\"#0d0887\"],[0.1111111111111111,\"#46039f\"],[0.2222222222222222,\"#7201a8\"],[0.3333333333333333,\"#9c179e\"],[0.4444444444444444,\"#bd3786\"],[0.5555555555555556,\"#d8576b\"],[0.6666666666666666,\"#ed7953\"],[0.7777777777777778,\"#fb9f3a\"],[0.8888888888888888,\"#fdca26\"],[1.0,\"#f0f921\"]],\"sequentialminus\":[[0.0,\"#0d0887\"],[0.1111111111111111,\"#46039f\"],[0.2222222222222222,\"#7201a8\"],[0.3333333333333333,\"#9c179e\"],[0.4444444444444444,\"#bd3786\"],[0.5555555555555556,\"#d8576b\"],[0.6666666666666666,\"#ed7953\"],[0.7777777777777778,\"#fb9f3a\"],[0.8888888888888888,\"#fdca26\"],[1.0,\"#f0f921\"]],\"diverging\":[[0,\"#8e0152\"],[0.1,\"#c51b7d\"],[0.2,\"#de77ae\"],[0.3,\"#f1b6da\"],[0.4,\"#fde0ef\"],[0.5,\"#f7f7f7\"],[0.6,\"#e6f5d0\"],[0.7,\"#b8e186\"],[0.8,\"#7fbc41\"],[0.9,\"#4d9221\"],[1,\"#276419\"]]},\"xaxis\":{\"gridcolor\":\"white\",\"linecolor\":\"white\",\"ticks\":\"\",\"title\":{\"standoff\":15},\"zerolinecolor\":\"white\",\"automargin\":true,\"zerolinewidth\":2},\"yaxis\":{\"gridcolor\":\"white\",\"linecolor\":\"white\",\"ticks\":\"\",\"title\":{\"standoff\":15},\"zerolinecolor\":\"white\",\"automargin\":true,\"zerolinewidth\":2},\"scene\":{\"xaxis\":{\"backgroundcolor\":\"#E5ECF6\",\"gridcolor\":\"white\",\"linecolor\":\"white\",\"showbackground\":true,\"ticks\":\"\",\"zerolinecolor\":\"white\",\"gridwidth\":2},\"yaxis\":{\"backgroundcolor\":\"#E5ECF6\",\"gridcolor\":\"white\",\"linecolor\":\"white\",\"showbackground\":true,\"ticks\":\"\",\"zerolinecolor\":\"white\",\"gridwidth\":2},\"zaxis\":{\"backgroundcolor\":\"#E5ECF6\",\"gridcolor\":\"white\",\"linecolor\":\"white\",\"showbackground\":true,\"ticks\":\"\",\"zerolinecolor\":\"white\",\"gridwidth\":2}},\"shapedefaults\":{\"line\":{\"color\":\"#2a3f5f\"}},\"annotationdefaults\":{\"arrowcolor\":\"#2a3f5f\",\"arrowhead\":0,\"arrowwidth\":1},\"geo\":{\"bgcolor\":\"white\",\"landcolor\":\"#E5ECF6\",\"subunitcolor\":\"white\",\"showland\":true,\"showlakes\":true,\"lakecolor\":\"white\"},\"title\":{\"x\":0.05},\"mapbox\":{\"style\":\"light\"}}},\"xaxis\":{\"anchor\":\"y\",\"domain\":[0.0,1.0],\"title\":{\"text\":\"index\"}},\"yaxis\":{\"anchor\":\"x\",\"domain\":[0.0,1.0],\"title\":{\"text\":\"value\"}},\"legend\":{\"title\":{\"text\":\"variable\"},\"tracegroupgap\":0},\"margin\":{\"t\":60}},                        {\"responsive\": true}                    ).then(function(){\n",
       "                            \n",
       "var gd = document.getElementById('080bb9d3-f3c5-4f71-95f4-42127e875896');\n",
       "var x = new MutationObserver(function (mutations, observer) {{\n",
       "        var display = window.getComputedStyle(gd).display;\n",
       "        if (!display || display === 'none') {{\n",
       "            console.log([gd, 'removed!']);\n",
       "            Plotly.purge(gd);\n",
       "            observer.disconnect();\n",
       "        }}\n",
       "}});\n",
       "\n",
       "// Listen for the removal of the full notebook cells\n",
       "var notebookContainer = gd.closest('#notebook-container');\n",
       "if (notebookContainer) {{\n",
       "    x.observe(notebookContainer, {childList: true});\n",
       "}}\n",
       "\n",
       "// Listen for the clearing of the current output cell\n",
       "var outputEl = gd.closest('.output');\n",
       "if (outputEl) {{\n",
       "    x.observe(outputEl, {childList: true});\n",
       "}}\n",
       "\n",
       "                        })                };                });            </script>        </div>"
      ]
     },
     "metadata": {},
     "output_type": "display_data"
    }
   ],
   "source": [
    "fig=go.Figure()\n",
    "#fig.add_trace(go.Scatter(x=RMS_copy.index,y=RMS_copy.RMS,name='RMS'))\n",
    "px.line(final_df.RMS,labels={'x':'Date','y':'Value'})\n"
   ]
  },
  {
   "cell_type": "code",
   "execution_count": 37,
   "id": "42ed2672",
   "metadata": {},
   "outputs": [],
   "source": [
    "final_df.to_csv(r'stastical_output\\RMS\\\\DISPL_X_MAX_T_1.csv',header=True)\n",
    "#fig.write_html(\"stastical_output\\RMS\\\\\"+'DISPL_X_MAX_T_1'+\".html\")"
   ]
  },
  {
   "cell_type": "markdown",
   "id": "26b95b2b",
   "metadata": {},
   "source": [
    " "
   ]
  }
 ],
 "metadata": {
  "kernelspec": {
   "display_name": "Python 3 (ipykernel)",
   "language": "python",
   "name": "python3"
  },
  "language_info": {
   "codemirror_mode": {
    "name": "ipython",
    "version": 3
   },
   "file_extension": ".py",
   "mimetype": "text/x-python",
   "name": "python",
   "nbconvert_exporter": "python",
   "pygments_lexer": "ipython3",
   "version": "3.8.10"
  }
 },
 "nbformat": 4,
 "nbformat_minor": 5
}
