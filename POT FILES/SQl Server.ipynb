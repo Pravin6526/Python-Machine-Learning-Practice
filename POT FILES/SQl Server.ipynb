{
 "cells": [
  {
   "cell_type": "code",
   "execution_count": 2,
   "metadata": {},
   "outputs": [
    {
     "ename": "SyntaxError",
     "evalue": "invalid syntax (<ipython-input-2-e5adfba63c46>, line 4)",
     "output_type": "error",
     "traceback": [
      "\u001b[1;36m  File \u001b[1;32m\"<ipython-input-2-e5adfba63c46>\"\u001b[1;36m, line \u001b[1;32m4\u001b[0m\n\u001b[1;33m    import mysql as pymysql                                             z\u001b[0m\n\u001b[1;37m                                                                        ^\u001b[0m\n\u001b[1;31mSyntaxError\u001b[0m\u001b[1;31m:\u001b[0m invalid syntax\n"
     ]
    }
   ],
   "source": [
    "\n",
    "#And here is the entire code to import the CSV file to SQL Server using Python:\n",
    "\n",
    "import pandas as pd\n",
    "import mysql as pymysql                                             z \n",
    "\n",
    "# Import CSV\n",
    "data = pd.read_csv (r'C:\\Users\\2000139\\Downloads\\people.csv')   \n",
    "df = pd.DataFrame(data, columns= ['Name','Country','Age'])\n",
    "print(df)\n",
    "\n",
    "# Connect to SQL Server\n",
    "\n",
    "connection = pymysql.connect(host='localhost',user='root',password='12345',db='employee')\n",
    "cursor = connection.cursor()\n",
    "\n",
    "# Create Table\n",
    "cursor.execute('CREATE TABLE people_info (Name nvarchar(50), Country nvarchar(50), Age int)')\n",
    "\n",
    "# Insert DataFrame to Table\n",
    "for row in df.itertuples():\n",
    "    cursor.execute('''\n",
    "                INSERT INTO TestDB.dbo.people_info (Name, Country, Age)\n",
    "                VALUES (?,?,?)\n",
    "                ''',\n",
    "                row.Name, \n",
    "                row.Country,\n",
    "                row.Age\n",
    "                )\n",
    "conn.commit()"
   ]
  },
  {
   "cell_type": "code",
   "execution_count": null,
   "metadata": {},
   "outputs": [],
   "source": []
  }
 ],
 "metadata": {
  "kernelspec": {
   "display_name": "Python 3",
   "language": "python",
   "name": "python3"
  },
  "language_info": {
   "codemirror_mode": {
    "name": "ipython",
    "version": 3
   },
   "file_extension": ".py",
   "mimetype": "text/x-python",
   "name": "python",
   "nbconvert_exporter": "python",
   "pygments_lexer": "ipython3",
   "version": "3.8.5"
  }
 },
 "nbformat": 4,
 "nbformat_minor": 4
}
