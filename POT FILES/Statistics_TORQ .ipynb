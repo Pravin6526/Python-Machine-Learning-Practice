{
 "cells": [
  {
   "cell_type": "code",
   "execution_count": 1,
   "id": "f6f3e18d",
   "metadata": {},
   "outputs": [
    {
     "data": {
      "text/html": [
       "        <script type=\"text/javascript\">\n",
       "        window.PlotlyConfig = {MathJaxConfig: 'local'};\n",
       "        if (window.MathJax && window.MathJax.Hub && window.MathJax.Hub.Config) {window.MathJax.Hub.Config({SVG: {font: \"STIX-Web\"}});}\n",
       "        if (typeof require !== 'undefined') {\n",
       "        require.undef(\"plotly\");\n",
       "        requirejs.config({\n",
       "            paths: {\n",
       "                'plotly': ['https://cdn.plot.ly/plotly-2.12.1.min']\n",
       "            }\n",
       "        });\n",
       "        require(['plotly'], function(Plotly) {\n",
       "            window._Plotly = Plotly;\n",
       "        });\n",
       "        }\n",
       "        </script>\n",
       "        "
      ]
     },
     "metadata": {},
     "output_type": "display_data"
    },
    {
     "data": {
      "text/html": [
       "        <script type=\"text/javascript\">\n",
       "        window.PlotlyConfig = {MathJaxConfig: 'local'};\n",
       "        if (window.MathJax && window.MathJax.Hub && window.MathJax.Hub.Config) {window.MathJax.Hub.Config({SVG: {font: \"STIX-Web\"}});}\n",
       "        if (typeof require !== 'undefined') {\n",
       "        require.undef(\"plotly\");\n",
       "        requirejs.config({\n",
       "            paths: {\n",
       "                'plotly': ['https://cdn.plot.ly/plotly-2.12.1.min']\n",
       "            }\n",
       "        });\n",
       "        require(['plotly'], function(Plotly) {\n",
       "            window._Plotly = Plotly;\n",
       "        });\n",
       "        }\n",
       "        </script>\n",
       "        "
      ]
     },
     "metadata": {},
     "output_type": "display_data"
    }
   ],
   "source": [
    "import warnings\n",
    "warnings.filterwarnings(\"ignore\")\n",
    "from statsmodels.tsa.api import ExponentialSmoothing,SimpleExpSmoothing,Holt\n",
    "#Working on plotly\n",
    "import chart_studio.plotly as py\n",
    "import cufflinks as cf\n",
    "import plotly.express as px\n",
    "from plotly.offline import download_plotlyjs, init_notebook_mode,plot,iplot\n",
    "init_notebook_mode(connected=True)\n",
    "import plotly.graph_objs as go\n",
    "cf.go_offline()\n",
    "import pandas as pd\n",
    "from scipy.stats import kurtosis\n",
    "from datetime import datetime\n",
    "import numpy as np\n",
    "import matplotlib.pyplot as plt\n",
    "%matplotlib inline\n",
    "import os"
   ]
  },
  {
   "cell_type": "code",
   "execution_count": 2,
   "id": "55e09b87",
   "metadata": {},
   "outputs": [
    {
     "data": {
      "text/html": [
       "<div>\n",
       "<style scoped>\n",
       "    .dataframe tbody tr th:only-of-type {\n",
       "        vertical-align: middle;\n",
       "    }\n",
       "\n",
       "    .dataframe tbody tr th {\n",
       "        vertical-align: top;\n",
       "    }\n",
       "\n",
       "    .dataframe thead th {\n",
       "        text-align: right;\n",
       "    }\n",
       "</style>\n",
       "<table border=\"1\" class=\"dataframe\">\n",
       "  <thead>\n",
       "    <tr style=\"text-align: right;\">\n",
       "      <th></th>\n",
       "      <th>Number of points: 1029419</th>\n",
       "    </tr>\n",
       "  </thead>\n",
       "  <tbody>\n",
       "    <tr>\n",
       "      <th>0</th>\n",
       "      <td>Sampling rate(Hz): 0.0166666666666667</td>\n",
       "    </tr>\n",
       "    <tr>\n",
       "      <th>1</th>\n",
       "      <td>Time range: From: 05/10/2016 08:44:54; Until: ...</td>\n",
       "    </tr>\n",
       "    <tr>\n",
       "      <th>2</th>\n",
       "      <td>Units: kNm</td>\n",
       "    </tr>\n",
       "    <tr>\n",
       "      <th>3</th>\n",
       "      <td>01.06.2016 00:00:13\\t28.9</td>\n",
       "    </tr>\n",
       "    <tr>\n",
       "      <th>4</th>\n",
       "      <td>01.06.2016 00:01:13\\t29</td>\n",
       "    </tr>\n",
       "  </tbody>\n",
       "</table>\n",
       "</div>"
      ],
      "text/plain": [
       "                           Number of points: 1029419\n",
       "0              Sampling rate(Hz): 0.0166666666666667\n",
       "1  Time range: From: 05/10/2016 08:44:54; Until: ...\n",
       "2                                         Units: kNm\n",
       "3                          01.06.2016 00:00:13\\t28.9\n",
       "4                            01.06.2016 00:01:13\\t29"
      ]
     },
     "execution_count": 2,
     "metadata": {},
     "output_type": "execute_result"
    }
   ],
   "source": [
    "# Import the file\n",
    "df=pd.read_csv(r\"C:\\Users\\2000139\\TORQ_avg_1.txt\")\n",
    "df.head()"
   ]
  },
  {
   "cell_type": "code",
   "execution_count": 3,
   "id": "50c873d4",
   "metadata": {},
   "outputs": [
    {
     "name": "stdout",
     "output_type": "stream",
     "text": [
      "<class 'pandas.core.frame.DataFrame'>\n",
      "Index: 1029419 entries, 2016-06-01 to 2018-06-30\n",
      "Data columns (total 1 columns):\n",
      " #   Column      Non-Null Count    Dtype  \n",
      "---  ------      --------------    -----  \n",
      " 0   TORQ_avg_1  1029419 non-null  float64\n",
      "dtypes: float64(1)\n",
      "memory usage: 15.7+ MB\n"
     ]
    },
    {
     "data": {
      "text/html": [
       "<div>\n",
       "<style scoped>\n",
       "    .dataframe tbody tr th:only-of-type {\n",
       "        vertical-align: middle;\n",
       "    }\n",
       "\n",
       "    .dataframe tbody tr th {\n",
       "        vertical-align: top;\n",
       "    }\n",
       "\n",
       "    .dataframe thead th {\n",
       "        text-align: right;\n",
       "    }\n",
       "</style>\n",
       "<table border=\"1\" class=\"dataframe\">\n",
       "  <thead>\n",
       "    <tr style=\"text-align: right;\">\n",
       "      <th></th>\n",
       "      <th>TORQ_avg_1</th>\n",
       "    </tr>\n",
       "  </thead>\n",
       "  <tbody>\n",
       "    <tr>\n",
       "      <th>2017-03-01</th>\n",
       "      <td>1.4</td>\n",
       "    </tr>\n",
       "    <tr>\n",
       "      <th>2017-03-01</th>\n",
       "      <td>1.4</td>\n",
       "    </tr>\n",
       "    <tr>\n",
       "      <th>2017-03-01</th>\n",
       "      <td>1.4</td>\n",
       "    </tr>\n",
       "    <tr>\n",
       "      <th>2017-03-01</th>\n",
       "      <td>1.4</td>\n",
       "    </tr>\n",
       "    <tr>\n",
       "      <th>2017-03-01</th>\n",
       "      <td>1.4</td>\n",
       "    </tr>\n",
       "    <tr>\n",
       "      <th>...</th>\n",
       "      <td>...</td>\n",
       "    </tr>\n",
       "    <tr>\n",
       "      <th>2017-03-31</th>\n",
       "      <td>0.0</td>\n",
       "    </tr>\n",
       "    <tr>\n",
       "      <th>2017-03-31</th>\n",
       "      <td>0.0</td>\n",
       "    </tr>\n",
       "    <tr>\n",
       "      <th>2017-03-31</th>\n",
       "      <td>0.0</td>\n",
       "    </tr>\n",
       "    <tr>\n",
       "      <th>2017-03-31</th>\n",
       "      <td>0.0</td>\n",
       "    </tr>\n",
       "    <tr>\n",
       "      <th>2017-03-31</th>\n",
       "      <td>0.0</td>\n",
       "    </tr>\n",
       "  </tbody>\n",
       "</table>\n",
       "<p>43263 rows × 1 columns</p>\n",
       "</div>"
      ],
      "text/plain": [
       "            TORQ_avg_1\n",
       "2017-03-01         1.4\n",
       "2017-03-01         1.4\n",
       "2017-03-01         1.4\n",
       "2017-03-01         1.4\n",
       "2017-03-01         1.4\n",
       "...                ...\n",
       "2017-03-31         0.0\n",
       "2017-03-31         0.0\n",
       "2017-03-31         0.0\n",
       "2017-03-31         0.0\n",
       "2017-03-31         0.0\n",
       "\n",
       "[43263 rows x 1 columns]"
      ]
     },
     "execution_count": 3,
     "metadata": {},
     "output_type": "execute_result"
    }
   ],
   "source": [
    "#Preprocessing steps\n",
    "col_name='TORQ_avg_1'\n",
    "df.columns=[col_name]\n",
    "df=pd.DataFrame(df[col_name].str.split('\\t',2).tolist())\n",
    "df.dropna(inplace=True)\n",
    "df[0]=pd.to_datetime(df[0],format='%d.%m.%Y %H:%M:%S')\n",
    "df.index=df[0]\n",
    "df.index=df.index.date\n",
    "df.drop(columns=[0],inplace=True)\n",
    "df.columns=[col_name]\n",
    "df.isnull().sum()\n",
    "df=df.astype({col_name:float,})\n",
    "df.info()\n",
    "df=df[382246:425509]\n",
    "df"
   ]
  },
  {
   "cell_type": "code",
   "execution_count": 4,
   "id": "0376ab1b",
   "metadata": {},
   "outputs": [],
   "source": [
    "def stastical_data(df,col_name):\n",
    "    final_df=df.groupby(df.index).agg({col_name:['min','max','mean','std']})\n",
    "    header = np.array(['Min','Max','Avg', 'Standard_deviation'])\n",
    "    final_df.columns=header\n",
    "    print(\"Pre-Processing is done\")\n",
    "    fig=go.Figure()\n",
    "    fig.add_trace(go.Scatter(x=final_df.index,y=final_df['Max'],mode='lines',name=col_name+' (Max)'))\n",
    "    fig.add_trace(go.Scatter(x=final_df.index,y=final_df['Min'],mode='lines',name=col_name+' (Min)'))\n",
    "    fig.add_trace(go.Scatter(x=final_df.index,y=final_df['Avg'],mode='lines',name=col_name+' (Avg)'))\n",
    "    fig.add_trace(go.Scatter(x=final_df.index,y=final_df['Standard_deviation'],mode='lines',name=col_name+' (Standard_deviation)'))\n",
    "    fig.update_layout(hovermode=\"x unified\")\n",
    "    fig.update_layout(\n",
    "        title=col_name,\n",
    "        xaxis_title=\"Date\",\n",
    "        yaxis_title=\"Values\",\n",
    "        legend_title=\"Statistical Parameters\")\n",
    "    fig.write_html(\"TORQ\\Plots\\\\\"+col_name+\"_Stats.html\")\n",
    "    final_df.to_csv(\"TORQ\\Data\\\\\"+col_name+\"_Stats.csv\") \n",
    "    print(\"completed\")"
   ]
  },
  {
   "cell_type": "code",
   "execution_count": 5,
   "id": "b906768d",
   "metadata": {},
   "outputs": [
    {
     "name": "stdout",
     "output_type": "stream",
     "text": [
      "Pre-Processing is done\n",
      "completed\n"
     ]
    }
   ],
   "source": [
    "stastical_data(df,col_name)"
   ]
  },
  {
   "cell_type": "code",
   "execution_count": 6,
   "id": "f8e37019",
   "metadata": {},
   "outputs": [],
   "source": [
    "fig=go.Figure()\n",
    "fig.add_trace(go.Scatter(x=df.index,y=df[col_name],mode='lines',name=col_name+'(Waveform)'))\n",
    "fig.update_layout(hovermode=\"x unified\")\n",
    "fig.update_layout(\n",
    "    title=col_name,\n",
    "    xaxis_title=\"Date\",\n",
    "    yaxis_title=\"Values\",\n",
    "    legend_title=\"Statistical Parameters\")\n",
    "fig.write_html(\"TORQ\\Plots\\\\\"+col_name+\"_Waveform.html\")"
   ]
  }
 ],
 "metadata": {
  "kernelspec": {
   "display_name": "Python 3 (ipykernel)",
   "language": "python",
   "name": "python3"
  },
  "language_info": {
   "codemirror_mode": {
    "name": "ipython",
    "version": 3
   },
   "file_extension": ".py",
   "mimetype": "text/x-python",
   "name": "python",
   "nbconvert_exporter": "python",
   "pygments_lexer": "ipython3",
   "version": "3.8.10"
  }
 },
 "nbformat": 4,
 "nbformat_minor": 5
}
