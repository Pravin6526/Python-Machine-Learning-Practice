{
 "cells": [
  {
   "cell_type": "code",
   "execution_count": 1,
   "id": "c2fcd57e",
   "metadata": {},
   "outputs": [
    {
     "data": {
      "text/html": [
       "        <script type=\"text/javascript\">\n",
       "        window.PlotlyConfig = {MathJaxConfig: 'local'};\n",
       "        if (window.MathJax && window.MathJax.Hub && window.MathJax.Hub.Config) {window.MathJax.Hub.Config({SVG: {font: \"STIX-Web\"}});}\n",
       "        if (typeof require !== 'undefined') {\n",
       "        require.undef(\"plotly\");\n",
       "        requirejs.config({\n",
       "            paths: {\n",
       "                'plotly': ['https://cdn.plot.ly/plotly-2.12.1.min']\n",
       "            }\n",
       "        });\n",
       "        require(['plotly'], function(Plotly) {\n",
       "            window._Plotly = Plotly;\n",
       "        });\n",
       "        }\n",
       "        </script>\n",
       "        "
      ]
     },
     "metadata": {},
     "output_type": "display_data"
    },
    {
     "data": {
      "text/html": [
       "        <script type=\"text/javascript\">\n",
       "        window.PlotlyConfig = {MathJaxConfig: 'local'};\n",
       "        if (window.MathJax && window.MathJax.Hub && window.MathJax.Hub.Config) {window.MathJax.Hub.Config({SVG: {font: \"STIX-Web\"}});}\n",
       "        if (typeof require !== 'undefined') {\n",
       "        require.undef(\"plotly\");\n",
       "        requirejs.config({\n",
       "            paths: {\n",
       "                'plotly': ['https://cdn.plot.ly/plotly-2.12.1.min']\n",
       "            }\n",
       "        });\n",
       "        require(['plotly'], function(Plotly) {\n",
       "            window._Plotly = Plotly;\n",
       "        });\n",
       "        }\n",
       "        </script>\n",
       "        "
      ]
     },
     "metadata": {},
     "output_type": "display_data"
    }
   ],
   "source": [
    "import warnings\n",
    "warnings.filterwarnings(\"ignore\")\n",
    "from statsmodels.tsa.api import ExponentialSmoothing,SimpleExpSmoothing,Holt\n",
    "#Working on plotly\n",
    "import chart_studio.plotly as py\n",
    "import cufflinks as cf\n",
    "import plotly.express as px\n",
    "from plotly.offline import download_plotlyjs, init_notebook_mode,plot,iplot\n",
    "init_notebook_mode(connected=True)\n",
    "import plotly.graph_objs as go\n",
    "cf.go_offline()\n",
    "import pandas as pd\n",
    "from scipy.stats import kurtosis\n",
    "from datetime import datetime\n",
    "import numpy as np\n",
    "import matplotlib.pyplot as plt\n",
    "%matplotlib inline\n",
    "import os"
   ]
  },
  {
   "cell_type": "code",
   "execution_count": 2,
   "id": "cea4b6d3",
   "metadata": {},
   "outputs": [
    {
     "data": {
      "text/html": [
       "<div>\n",
       "<style scoped>\n",
       "    .dataframe tbody tr th:only-of-type {\n",
       "        vertical-align: middle;\n",
       "    }\n",
       "\n",
       "    .dataframe tbody tr th {\n",
       "        vertical-align: top;\n",
       "    }\n",
       "\n",
       "    .dataframe thead th {\n",
       "        text-align: right;\n",
       "    }\n",
       "</style>\n",
       "<table border=\"1\" class=\"dataframe\">\n",
       "  <thead>\n",
       "    <tr style=\"text-align: right;\">\n",
       "      <th></th>\n",
       "      <th>Number of points: 8192</th>\n",
       "    </tr>\n",
       "  </thead>\n",
       "  <tbody>\n",
       "    <tr>\n",
       "      <th>0</th>\n",
       "      <td>Sampling rate(Hz): 1562.5</td>\n",
       "    </tr>\n",
       "    <tr>\n",
       "      <th>1</th>\n",
       "      <td>Time range: From: 07/01/2018 08:00:12; Until: ...</td>\n",
       "    </tr>\n",
       "    <tr>\n",
       "      <th>2</th>\n",
       "      <td>Units: g</td>\n",
       "    </tr>\n",
       "    <tr>\n",
       "      <th>3</th>\n",
       "      <td>01.07.2018 08:00:12.7250048\\t0.776226</td>\n",
       "    </tr>\n",
       "    <tr>\n",
       "      <th>4</th>\n",
       "      <td>01.07.2018 08:00:12.7256448\\t0.8002694</td>\n",
       "    </tr>\n",
       "  </tbody>\n",
       "</table>\n",
       "</div>"
      ],
      "text/plain": [
       "                              Number of points: 8192\n",
       "0                          Sampling rate(Hz): 1562.5\n",
       "1  Time range: From: 07/01/2018 08:00:12; Until: ...\n",
       "2                                           Units: g\n",
       "3              01.07.2018 08:00:12.7250048\\t0.776226\n",
       "4             01.07.2018 08:00:12.7256448\\t0.8002694"
      ]
     },
     "execution_count": 2,
     "metadata": {},
     "output_type": "execute_result"
    }
   ],
   "source": [
    "# Import the file\n",
    "df=pd.read_csv(r\"C:\\Users\\2000139\\ShurovoData_2018H2\\ENV3_1.txt\")\n",
    "df.head()"
   ]
  },
  {
   "cell_type": "code",
   "execution_count": 3,
   "id": "95278849",
   "metadata": {},
   "outputs": [
    {
     "name": "stdout",
     "output_type": "stream",
     "text": [
      "ENV3_1\n",
      "<class 'pandas.core.frame.DataFrame'>\n",
      "DatetimeIndex: 1893243 entries, 2018-01-07 08:00:12.725004 to 2018-01-12 18:00:05.252236\n",
      "Data columns (total 1 columns):\n",
      " #   Column  Dtype  \n",
      "---  ------  -----  \n",
      " 0   ENV3_1  float64\n",
      "dtypes: float64(1)\n",
      "memory usage: 28.9 MB\n"
     ]
    }
   ],
   "source": [
    "#Preprocessing steps\n",
    "col_name='ENV3_1'\n",
    "print(col_name)\n",
    "df.columns=[col_name]\n",
    "df.head()\n",
    "df = pd.DataFrame(df[col_name].str.split('\\t',2).tolist())\n",
    "df.dropna(inplace=True)\n",
    "df[0]=pd.to_datetime(df[0])\n",
    "df.index=df[0]\n",
    "df.drop(columns=[0],inplace=True)\n",
    "df.columns=[col_name]\n",
    "df.isnull().sum()\n",
    "df=df.astype({col_name:float,})\n",
    "df.info()"
   ]
  },
  {
   "cell_type": "code",
   "execution_count": 4,
   "id": "a929b07d",
   "metadata": {},
   "outputs": [
    {
     "data": {
      "text/html": [
       "<div>\n",
       "<style scoped>\n",
       "    .dataframe tbody tr th:only-of-type {\n",
       "        vertical-align: middle;\n",
       "    }\n",
       "\n",
       "    .dataframe tbody tr th {\n",
       "        vertical-align: top;\n",
       "    }\n",
       "\n",
       "    .dataframe thead th {\n",
       "        text-align: right;\n",
       "    }\n",
       "</style>\n",
       "<table border=\"1\" class=\"dataframe\">\n",
       "  <thead>\n",
       "    <tr style=\"text-align: right;\">\n",
       "      <th></th>\n",
       "      <th>ENV3_1</th>\n",
       "    </tr>\n",
       "    <tr>\n",
       "      <th>0</th>\n",
       "      <th></th>\n",
       "    </tr>\n",
       "  </thead>\n",
       "  <tbody>\n",
       "    <tr>\n",
       "      <th>2018-01-07 08:00:12.725004</th>\n",
       "      <td>0.776226</td>\n",
       "    </tr>\n",
       "    <tr>\n",
       "      <th>2018-01-07 08:00:12.725644</th>\n",
       "      <td>0.800269</td>\n",
       "    </tr>\n",
       "    <tr>\n",
       "      <th>2018-01-07 08:00:12.726284</th>\n",
       "      <td>0.636036</td>\n",
       "    </tr>\n",
       "    <tr>\n",
       "      <th>2018-01-07 08:00:12.726924</th>\n",
       "      <td>0.640104</td>\n",
       "    </tr>\n",
       "    <tr>\n",
       "      <th>2018-01-07 08:00:12.727564</th>\n",
       "      <td>0.653051</td>\n",
       "    </tr>\n",
       "    <tr>\n",
       "      <th>...</th>\n",
       "      <td>...</td>\n",
       "    </tr>\n",
       "    <tr>\n",
       "      <th>2018-01-12 18:00:05.249676</th>\n",
       "      <td>1.004822</td>\n",
       "    </tr>\n",
       "    <tr>\n",
       "      <th>2018-01-12 18:00:05.250316</th>\n",
       "      <td>1.018878</td>\n",
       "    </tr>\n",
       "    <tr>\n",
       "      <th>2018-01-12 18:00:05.250956</th>\n",
       "      <td>1.004082</td>\n",
       "    </tr>\n",
       "    <tr>\n",
       "      <th>2018-01-12 18:00:05.251596</th>\n",
       "      <td>1.064005</td>\n",
       "    </tr>\n",
       "    <tr>\n",
       "      <th>2018-01-12 18:00:05.252236</th>\n",
       "      <td>0.934911</td>\n",
       "    </tr>\n",
       "  </tbody>\n",
       "</table>\n",
       "<p>1893243 rows × 1 columns</p>\n",
       "</div>"
      ],
      "text/plain": [
       "                              ENV3_1\n",
       "0                                   \n",
       "2018-01-07 08:00:12.725004  0.776226\n",
       "2018-01-07 08:00:12.725644  0.800269\n",
       "2018-01-07 08:00:12.726284  0.636036\n",
       "2018-01-07 08:00:12.726924  0.640104\n",
       "2018-01-07 08:00:12.727564  0.653051\n",
       "...                              ...\n",
       "2018-01-12 18:00:05.249676  1.004822\n",
       "2018-01-12 18:00:05.250316  1.018878\n",
       "2018-01-12 18:00:05.250956  1.004082\n",
       "2018-01-12 18:00:05.251596  1.064005\n",
       "2018-01-12 18:00:05.252236  0.934911\n",
       "\n",
       "[1893243 rows x 1 columns]"
      ]
     },
     "execution_count": 4,
     "metadata": {},
     "output_type": "execute_result"
    }
   ],
   "source": [
    "df"
   ]
  },
  {
   "cell_type": "code",
   "execution_count": 5,
   "id": "fdb5f5d7",
   "metadata": {},
   "outputs": [],
   "source": [
    "def func_rms(rms_df,col_name,threshold,sample_value):\n",
    "    rms_df['square_values'] = rms_df[col_name]**2\n",
    "    rms_df.drop(columns=[col_name],inplace=True)\n",
    "    rms_df=rms_df.resample(sample_value).mean()\n",
    "    rms_df.columns=['RMS']\n",
    "    rms_df['RMS'] = rms_df['RMS'].apply(lambda x : x**0.5)\n",
    "    #print(rms_df)\n",
    "    outlier_df=rms_df[rms_df['RMS']<=threshold]\n",
    "    outlier_df.columns=['Non Running']\n",
    "    outlier_df.index=pd.to_datetime(outlier_df.index)\n",
    "    final_df=rms_df[:]\n",
    "    final_df.drop(final_df[final_df['RMS'] <=threshold].index, inplace= True)\n",
    "    final_df.dropna(inplace=True)\n",
    "    #print(final_df[final_df['RMS']==0])\n",
    "    fit1 = SimpleExpSmoothing(final_df['RMS']).fit(smoothing_level=0.2,optimized = False)\n",
    "    #print(fit1.fittedvalues)\n",
    "    final_df['Smooth RMS']=list(fit1.fittedvalues)\n",
    "    final_df.drop(columns=['RMS'],inplace=True)\n",
    "    rms_df=pd.concat([rms_df,final_df], axis=1, join='outer')\n",
    "    rms_df['Smooth RMS']=rms_df['Smooth RMS'].interpolate('linear')\n",
    "    rms_df=pd.concat([rms_df,outlier_df], axis=1, join='outer')\n",
    "    rms_df.to_csv(\"Output\\Data\\\\\"+col_name+\"_RMS.csv\")  \n",
    "\n",
    "    #plots\n",
    "    fig=go.Figure()\n",
    "    fig.add_trace(go.Scatter(x=rms_df.index,y=rms_df['Smooth RMS'],mode='lines',name = 'Smooth RMS',line=dict(color=\"#ffae42\")))\n",
    "    fig.add_trace(go.Scatter(x=rms_df.index,y=rms_df['RMS'],mode='markers',name = 'RMS',line=dict(color=\"#5dd55d\")))\n",
    "    fig.add_trace(go.Scatter(x=rms_df.index,y=rms_df['Non Running'],mode='markers',name = 'Non Running',line=dict(color=\"#ff0000\")))\n",
    "    fig.update_layout(hovermode=\"x\")\n",
    "    fig.update_layout(xaxis=dict(showgrid=True),yaxis=dict(showgrid=True),title={'text':'RMS DATA','xanchor':'center','x':0.5})\n",
    "    fig.update_xaxes(title_text='Date')\n",
    "    fig.update_yaxes(title_text='Amplitude')\n",
    "    fig.write_html(\"Output\\Plots\\\\\"+col_name+\"_RMS.html\")\n",
    "    "
   ]
  },
  {
   "cell_type": "code",
   "execution_count": 6,
   "id": "96296cd5",
   "metadata": {},
   "outputs": [],
   "source": [
    "def func_peak(peak_df,col_name,threshold,sample_value):\n",
    "    peak_df=peak_df.resample(sample_value).max()\n",
    "    peak_df.columns=['peak']\n",
    "    outlier_df=peak_df[peak_df['peak']<=threshold]\n",
    "    outlier_df.columns=['Non Running']\n",
    "    #outlier_df.index=pd.to_datetime(outlier_df.index)\n",
    "    final_df=peak_df[:]\n",
    "    final_df.drop(final_df[final_df['peak'] <=threshold].index, inplace= True)\n",
    "    final_df.dropna(inplace=True)\n",
    "    fit1 = SimpleExpSmoothing(final_df['peak']).fit(smoothing_level=0.2,optimized = False)\n",
    "    #print(fit1.fittedvalues)\n",
    "    final_df['Smooth peak']=list(fit1.fittedvalues)\n",
    "    final_df.drop(columns=['peak'],inplace=True)\n",
    "    peak_df=pd.concat([peak_df,final_df], axis=1, join='outer')\n",
    "    peak_df['Smooth peak']=peak_df['Smooth peak'].interpolate('linear')\n",
    "    peak_df=pd.concat([peak_df,outlier_df], axis=1, join='outer')\n",
    "    peak_df.to_csv(\"Output\\Data\\\\\"+col_name+\"_peak.csv\")  \n",
    "\n",
    "    #plots\n",
    "    fig=go.Figure()\n",
    "    fig.add_trace(go.Scatter(x=peak_df.index,y=peak_df['Smooth peak'],mode='lines',name = 'Smooth Peak',line=dict(color=\"#ffae42\")))\n",
    "    fig.add_trace(go.Scatter(x=peak_df.index,y=peak_df['peak'],mode='markers',name = 'Peak',line=dict(color=\"#5dd55d\")))\n",
    "    fig.add_trace(go.Scatter(x=peak_df.index,y=peak_df['Non Running'],mode='markers',name = 'Non Running',line=dict(color=\"#ff0000\")))\n",
    "    fig.update_layout(hovermode=\"x\")\n",
    "    fig.update_layout(xaxis=dict(showgrid=True),yaxis=dict(showgrid=True),title={'text':'PEAK DATA','xanchor':'center','x':0.5})\n",
    "    fig.update_xaxes(title_text='Date')\n",
    "    fig.update_yaxes(title_text='Amplitude')\n",
    "    fig.write_html(\"Output\\Plots\\\\\"+col_name+\"_peak.html\")\n",
    "    "
   ]
  },
  {
   "cell_type": "code",
   "execution_count": 9,
   "id": "70bd83a7",
   "metadata": {},
   "outputs": [],
   "source": [
    "def func_kurt(kurt_df,col_name,threshold,sample_value):\n",
    "    kurt_df=kurt_df.resample(sample_value).apply(lambda x:kurtosis(x,fisher=False))\n",
    "    kurt_df.columns=['kurtosis']\n",
    "    outlier_df=kurt_df[kurt_df['kurtosis']<=threshold]\n",
    "    outlier_df.columns=['Non Running']\n",
    "    #outlier_df.index=pd.to_datetime(outlier_df.index)\n",
    "    final_df=kurt_df[:]\n",
    "    final_df.drop(final_df[final_df['kurtosis'] <=threshold].index, inplace= True)\n",
    "    final_df.dropna(inplace=True)\n",
    "    fit1 = SimpleExpSmoothing(final_df['kurtosis']).fit(smoothing_level=0.2,optimized = False)\n",
    "    #print(fit1.fittedvalues)\n",
    "    final_df['Smooth kurtosis']=list(fit1.fittedvalues)\n",
    "    final_df.drop(columns=['kurtosis'],inplace=True)\n",
    "    kurt_df=pd.concat([kurt_df,final_df], axis=1, join='outer')\n",
    "    kurt_df['Smooth kurtosis']=kurt_df['Smooth kurtosis'].interpolate('linear')\n",
    "    kurt_df=pd.concat([kurt_df,outlier_df], axis=1, join='outer')\n",
    "    kurt_df.to_csv(\"Output\\Data\\\\\"+col_name+\"_kurtosis.csv\")  \n",
    "\n",
    "    #plots\n",
    "    fig=go.Figure()\n",
    "    fig.add_trace(go.Scatter(x=kurt_df.index,y=kurt_df['Smooth kurtosis'],mode='lines',name = 'Smooth Kurtosis',line=dict(color=\"#ffae42\")))\n",
    "    fig.add_trace(go.Scatter(x=kurt_df.index,y=kurt_df['kurtosis'],mode='markers',name = 'Kurtosis',line=dict(color=\"#5dd55d\")))\n",
    "    fig.add_trace(go.Scatter(x=kurt_df.index,y=kurt_df['Non Running'],mode='markers',name = 'Non Running',line=dict(color=\"#ff0000\")))\n",
    "    fig.update_layout(hovermode=\"x\")\n",
    "    fig.update_layout(xaxis=dict(showgrid=True),yaxis=dict(showgrid=True),title={'text':'KURTOSIS DATA','xanchor':'center','x':0.5})\n",
    "    fig.update_xaxes(title_text='Date')\n",
    "    fig.update_yaxes(title_text='Amplitude')\n",
    "    fig.write_html(\"Output\\Plots\\\\\"+col_name+\"_kurtosis.html\")\n",
    "    "
   ]
  },
  {
   "cell_type": "code",
   "execution_count": 10,
   "id": "912185cd",
   "metadata": {},
   "outputs": [
    {
     "name": "stderr",
     "output_type": "stream",
     "text": [
      "C:\\Users\\2000139\\AppData\\Roaming\\Python\\Python38\\site-packages\\statsmodels\\tsa\\base\\tsa_model.py:471: ValueWarning:\n",
      "\n",
      "A date index has been provided, but it has no associated frequency information and so will be ignored when e.g. forecasting.\n",
      "\n"
     ]
    },
    {
     "ename": "OSError",
     "evalue": "Cannot save file into a non-existent directory: 'Output\\Data'",
     "output_type": "error",
     "traceback": [
      "\u001b[1;31m---------------------------------------------------------------------------\u001b[0m",
      "\u001b[1;31mOSError\u001b[0m                                   Traceback (most recent call last)",
      "\u001b[1;32m~\\AppData\\Local\\Temp\\ipykernel_13848\\3287212465.py\u001b[0m in \u001b[0;36m<cell line: 1>\u001b[1;34m()\u001b[0m\n\u001b[1;32m----> 1\u001b[1;33m \u001b[0mfunc_rms\u001b[0m\u001b[1;33m(\u001b[0m\u001b[0mdf\u001b[0m\u001b[1;33m[\u001b[0m\u001b[1;33m:\u001b[0m\u001b[1;33m]\u001b[0m\u001b[1;33m,\u001b[0m\u001b[0mcol_name\u001b[0m\u001b[1;33m,\u001b[0m\u001b[1;36m0.1\u001b[0m\u001b[1;33m,\u001b[0m\u001b[1;34m'D'\u001b[0m\u001b[1;33m)\u001b[0m\u001b[1;33m\u001b[0m\u001b[1;33m\u001b[0m\u001b[0m\n\u001b[0m",
      "\u001b[1;32m~\\AppData\\Local\\Temp\\ipykernel_13848\\1677422185.py\u001b[0m in \u001b[0;36mfunc_rms\u001b[1;34m(rms_df, col_name, threshold, sample_value)\u001b[0m\n\u001b[0;32m     20\u001b[0m     \u001b[0mrms_df\u001b[0m\u001b[1;33m[\u001b[0m\u001b[1;34m'Smooth RMS'\u001b[0m\u001b[1;33m]\u001b[0m\u001b[1;33m=\u001b[0m\u001b[0mrms_df\u001b[0m\u001b[1;33m[\u001b[0m\u001b[1;34m'Smooth RMS'\u001b[0m\u001b[1;33m]\u001b[0m\u001b[1;33m.\u001b[0m\u001b[0minterpolate\u001b[0m\u001b[1;33m(\u001b[0m\u001b[1;34m'linear'\u001b[0m\u001b[1;33m)\u001b[0m\u001b[1;33m\u001b[0m\u001b[1;33m\u001b[0m\u001b[0m\n\u001b[0;32m     21\u001b[0m     \u001b[0mrms_df\u001b[0m\u001b[1;33m=\u001b[0m\u001b[0mpd\u001b[0m\u001b[1;33m.\u001b[0m\u001b[0mconcat\u001b[0m\u001b[1;33m(\u001b[0m\u001b[1;33m[\u001b[0m\u001b[0mrms_df\u001b[0m\u001b[1;33m,\u001b[0m\u001b[0moutlier_df\u001b[0m\u001b[1;33m]\u001b[0m\u001b[1;33m,\u001b[0m \u001b[0maxis\u001b[0m\u001b[1;33m=\u001b[0m\u001b[1;36m1\u001b[0m\u001b[1;33m,\u001b[0m \u001b[0mjoin\u001b[0m\u001b[1;33m=\u001b[0m\u001b[1;34m'outer'\u001b[0m\u001b[1;33m)\u001b[0m\u001b[1;33m\u001b[0m\u001b[1;33m\u001b[0m\u001b[0m\n\u001b[1;32m---> 22\u001b[1;33m     \u001b[0mrms_df\u001b[0m\u001b[1;33m.\u001b[0m\u001b[0mto_csv\u001b[0m\u001b[1;33m(\u001b[0m\u001b[1;34m\"Output\\Data\\\\\"\u001b[0m\u001b[1;33m+\u001b[0m\u001b[0mcol_name\u001b[0m\u001b[1;33m+\u001b[0m\u001b[1;34m\"_RMS.csv\"\u001b[0m\u001b[1;33m)\u001b[0m\u001b[1;33m\u001b[0m\u001b[1;33m\u001b[0m\u001b[0m\n\u001b[0m\u001b[0;32m     23\u001b[0m \u001b[1;33m\u001b[0m\u001b[0m\n\u001b[0;32m     24\u001b[0m     \u001b[1;31m#plots\u001b[0m\u001b[1;33m\u001b[0m\u001b[1;33m\u001b[0m\u001b[1;33m\u001b[0m\u001b[0m\n",
      "\u001b[1;32m~\\AppData\\Roaming\\Python\\Python38\\site-packages\\pandas\\core\\generic.py\u001b[0m in \u001b[0;36mto_csv\u001b[1;34m(self, path_or_buf, sep, na_rep, float_format, columns, header, index, index_label, mode, encoding, compression, quoting, quotechar, line_terminator, chunksize, date_format, doublequote, escapechar, decimal, errors, storage_options)\u001b[0m\n\u001b[0;32m   3549\u001b[0m         )\n\u001b[0;32m   3550\u001b[0m \u001b[1;33m\u001b[0m\u001b[0m\n\u001b[1;32m-> 3551\u001b[1;33m         return DataFrameRenderer(formatter).to_csv(\n\u001b[0m\u001b[0;32m   3552\u001b[0m             \u001b[0mpath_or_buf\u001b[0m\u001b[1;33m,\u001b[0m\u001b[1;33m\u001b[0m\u001b[1;33m\u001b[0m\u001b[0m\n\u001b[0;32m   3553\u001b[0m             \u001b[0mline_terminator\u001b[0m\u001b[1;33m=\u001b[0m\u001b[0mline_terminator\u001b[0m\u001b[1;33m,\u001b[0m\u001b[1;33m\u001b[0m\u001b[1;33m\u001b[0m\u001b[0m\n",
      "\u001b[1;32m~\\AppData\\Roaming\\Python\\Python38\\site-packages\\pandas\\io\\formats\\format.py\u001b[0m in \u001b[0;36mto_csv\u001b[1;34m(self, path_or_buf, encoding, sep, columns, index_label, mode, compression, quoting, quotechar, line_terminator, chunksize, date_format, doublequote, escapechar, errors, storage_options)\u001b[0m\n\u001b[0;32m   1178\u001b[0m             \u001b[0mformatter\u001b[0m\u001b[1;33m=\u001b[0m\u001b[0mself\u001b[0m\u001b[1;33m.\u001b[0m\u001b[0mfmt\u001b[0m\u001b[1;33m,\u001b[0m\u001b[1;33m\u001b[0m\u001b[1;33m\u001b[0m\u001b[0m\n\u001b[0;32m   1179\u001b[0m         )\n\u001b[1;32m-> 1180\u001b[1;33m         \u001b[0mcsv_formatter\u001b[0m\u001b[1;33m.\u001b[0m\u001b[0msave\u001b[0m\u001b[1;33m(\u001b[0m\u001b[1;33m)\u001b[0m\u001b[1;33m\u001b[0m\u001b[1;33m\u001b[0m\u001b[0m\n\u001b[0m\u001b[0;32m   1181\u001b[0m \u001b[1;33m\u001b[0m\u001b[0m\n\u001b[0;32m   1182\u001b[0m         \u001b[1;32mif\u001b[0m \u001b[0mcreated_buffer\u001b[0m\u001b[1;33m:\u001b[0m\u001b[1;33m\u001b[0m\u001b[1;33m\u001b[0m\u001b[0m\n",
      "\u001b[1;32m~\\AppData\\Roaming\\Python\\Python38\\site-packages\\pandas\\io\\formats\\csvs.py\u001b[0m in \u001b[0;36msave\u001b[1;34m(self)\u001b[0m\n\u001b[0;32m    239\u001b[0m         \"\"\"\n\u001b[0;32m    240\u001b[0m         \u001b[1;31m# apply compression and byte/text conversion\u001b[0m\u001b[1;33m\u001b[0m\u001b[1;33m\u001b[0m\u001b[1;33m\u001b[0m\u001b[0m\n\u001b[1;32m--> 241\u001b[1;33m         with get_handle(\n\u001b[0m\u001b[0;32m    242\u001b[0m             \u001b[0mself\u001b[0m\u001b[1;33m.\u001b[0m\u001b[0mfilepath_or_buffer\u001b[0m\u001b[1;33m,\u001b[0m\u001b[1;33m\u001b[0m\u001b[1;33m\u001b[0m\u001b[0m\n\u001b[0;32m    243\u001b[0m             \u001b[0mself\u001b[0m\u001b[1;33m.\u001b[0m\u001b[0mmode\u001b[0m\u001b[1;33m,\u001b[0m\u001b[1;33m\u001b[0m\u001b[1;33m\u001b[0m\u001b[0m\n",
      "\u001b[1;32m~\\AppData\\Roaming\\Python\\Python38\\site-packages\\pandas\\io\\common.py\u001b[0m in \u001b[0;36mget_handle\u001b[1;34m(path_or_buf, mode, encoding, compression, memory_map, is_text, errors, storage_options)\u001b[0m\n\u001b[0;32m    695\u001b[0m     \u001b[1;31m# Only for write methods\u001b[0m\u001b[1;33m\u001b[0m\u001b[1;33m\u001b[0m\u001b[1;33m\u001b[0m\u001b[0m\n\u001b[0;32m    696\u001b[0m     \u001b[1;32mif\u001b[0m \u001b[1;34m\"r\"\u001b[0m \u001b[1;32mnot\u001b[0m \u001b[1;32min\u001b[0m \u001b[0mmode\u001b[0m \u001b[1;32mand\u001b[0m \u001b[0mis_path\u001b[0m\u001b[1;33m:\u001b[0m\u001b[1;33m\u001b[0m\u001b[1;33m\u001b[0m\u001b[0m\n\u001b[1;32m--> 697\u001b[1;33m         \u001b[0mcheck_parent_directory\u001b[0m\u001b[1;33m(\u001b[0m\u001b[0mstr\u001b[0m\u001b[1;33m(\u001b[0m\u001b[0mhandle\u001b[0m\u001b[1;33m)\u001b[0m\u001b[1;33m)\u001b[0m\u001b[1;33m\u001b[0m\u001b[1;33m\u001b[0m\u001b[0m\n\u001b[0m\u001b[0;32m    698\u001b[0m \u001b[1;33m\u001b[0m\u001b[0m\n\u001b[0;32m    699\u001b[0m     \u001b[1;32mif\u001b[0m \u001b[0mcompression\u001b[0m\u001b[1;33m:\u001b[0m\u001b[1;33m\u001b[0m\u001b[1;33m\u001b[0m\u001b[0m\n",
      "\u001b[1;32m~\\AppData\\Roaming\\Python\\Python38\\site-packages\\pandas\\io\\common.py\u001b[0m in \u001b[0;36mcheck_parent_directory\u001b[1;34m(path)\u001b[0m\n\u001b[0;32m    569\u001b[0m     \u001b[0mparent\u001b[0m \u001b[1;33m=\u001b[0m \u001b[0mPath\u001b[0m\u001b[1;33m(\u001b[0m\u001b[0mpath\u001b[0m\u001b[1;33m)\u001b[0m\u001b[1;33m.\u001b[0m\u001b[0mparent\u001b[0m\u001b[1;33m\u001b[0m\u001b[1;33m\u001b[0m\u001b[0m\n\u001b[0;32m    570\u001b[0m     \u001b[1;32mif\u001b[0m \u001b[1;32mnot\u001b[0m \u001b[0mparent\u001b[0m\u001b[1;33m.\u001b[0m\u001b[0mis_dir\u001b[0m\u001b[1;33m(\u001b[0m\u001b[1;33m)\u001b[0m\u001b[1;33m:\u001b[0m\u001b[1;33m\u001b[0m\u001b[1;33m\u001b[0m\u001b[0m\n\u001b[1;32m--> 571\u001b[1;33m         \u001b[1;32mraise\u001b[0m \u001b[0mOSError\u001b[0m\u001b[1;33m(\u001b[0m\u001b[1;34mrf\"Cannot save file into a non-existent directory: '{parent}'\"\u001b[0m\u001b[1;33m)\u001b[0m\u001b[1;33m\u001b[0m\u001b[1;33m\u001b[0m\u001b[0m\n\u001b[0m\u001b[0;32m    572\u001b[0m \u001b[1;33m\u001b[0m\u001b[0m\n\u001b[0;32m    573\u001b[0m \u001b[1;33m\u001b[0m\u001b[0m\n",
      "\u001b[1;31mOSError\u001b[0m: Cannot save file into a non-existent directory: 'Output\\Data'"
     ]
    }
   ],
   "source": [
    "func_rms(df[:],col_name,0.1,'D')"
   ]
  },
  {
   "cell_type": "code",
   "execution_count": null,
   "id": "daa55d21",
   "metadata": {},
   "outputs": [],
   "source": [
    "func_peak(df[:],col_name,0.1,'D')"
   ]
  },
  {
   "cell_type": "code",
   "execution_count": null,
   "id": "9f77b4f4",
   "metadata": {},
   "outputs": [],
   "source": [
    "func_kurt(df[:],col_name,0,'D')"
   ]
  },
  {
   "cell_type": "code",
   "execution_count": null,
   "id": "8b020af9",
   "metadata": {},
   "outputs": [],
   "source": []
  }
 ],
 "metadata": {
  "kernelspec": {
   "display_name": "Python 3 (ipykernel)",
   "language": "python",
   "name": "python3"
  },
  "language_info": {
   "codemirror_mode": {
    "name": "ipython",
    "version": 3
   },
   "file_extension": ".py",
   "mimetype": "text/x-python",
   "name": "python",
   "nbconvert_exporter": "python",
   "pygments_lexer": "ipython3",
   "version": "3.8.10"
  }
 },
 "nbformat": 4,
 "nbformat_minor": 5
}
