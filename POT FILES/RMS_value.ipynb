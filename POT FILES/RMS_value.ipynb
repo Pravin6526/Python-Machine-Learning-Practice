{
 "cells": [
  {
   "cell_type": "code",
   "execution_count": 1,
   "id": "4df18b73",
   "metadata": {},
   "outputs": [
    {
     "data": {
      "text/html": [
       "        <script type=\"text/javascript\">\n",
       "        window.PlotlyConfig = {MathJaxConfig: 'local'};\n",
       "        if (window.MathJax && window.MathJax.Hub && window.MathJax.Hub.Config) {window.MathJax.Hub.Config({SVG: {font: \"STIX-Web\"}});}\n",
       "        if (typeof require !== 'undefined') {\n",
       "        require.undef(\"plotly\");\n",
       "        requirejs.config({\n",
       "            paths: {\n",
       "                'plotly': ['https://cdn.plot.ly/plotly-2.12.1.min']\n",
       "            }\n",
       "        });\n",
       "        require(['plotly'], function(Plotly) {\n",
       "            window._Plotly = Plotly;\n",
       "        });\n",
       "        }\n",
       "        </script>\n",
       "        "
      ]
     },
     "metadata": {},
     "output_type": "display_data"
    },
    {
     "data": {
      "text/html": [
       "        <script type=\"text/javascript\">\n",
       "        window.PlotlyConfig = {MathJaxConfig: 'local'};\n",
       "        if (window.MathJax && window.MathJax.Hub && window.MathJax.Hub.Config) {window.MathJax.Hub.Config({SVG: {font: \"STIX-Web\"}});}\n",
       "        if (typeof require !== 'undefined') {\n",
       "        require.undef(\"plotly\");\n",
       "        requirejs.config({\n",
       "            paths: {\n",
       "                'plotly': ['https://cdn.plot.ly/plotly-2.12.1.min']\n",
       "            }\n",
       "        });\n",
       "        require(['plotly'], function(Plotly) {\n",
       "            window._Plotly = Plotly;\n",
       "        });\n",
       "        }\n",
       "        </script>\n",
       "        "
      ]
     },
     "metadata": {},
     "output_type": "display_data"
    }
   ],
   "source": [
    "import warnings\n",
    "warnings.filterwarnings(\"ignore\")\n",
    "#Working on plotly\n",
    "import chart_studio.plotly as py\n",
    "import cufflinks as cf\n",
    "import plotly.express as px\n",
    "from plotly.offline import download_plotlyjs, init_notebook_mode,plot,iplot\n",
    "init_notebook_mode(connected=True)\n",
    "import plotly.graph_objs as go\n",
    "cf.go_offline()\n",
    "import pandas as pd\n",
    "import numpy as np\n",
    "import matplotlib.pyplot as plt\n",
    "%matplotlib inline\n",
    "import os"
   ]
  },
  {
   "cell_type": "code",
   "execution_count": 2,
   "id": "05092125",
   "metadata": {},
   "outputs": [],
   "source": [
    "files=[]\n",
    "input_path=r'C:\\Users\\2000139\\ShurovoData_2018H2'\n",
    "for (r,d,f) in os.walk(input_path):\n",
    "    files.append(f)"
   ]
  },
  {
   "cell_type": "code",
   "execution_count": 3,
   "id": "f2f38fdc",
   "metadata": {},
   "outputs": [],
   "source": [
    "files=files[0]"
   ]
  },
  {
   "cell_type": "code",
   "execution_count": 4,
   "id": "c01fbeb2",
   "metadata": {},
   "outputs": [
    {
     "name": "stdout",
     "output_type": "stream",
     "text": [
      "DISPL_X_MAX_T_1.txt\n",
      "DISPL_X_mean_T_1.txt\n",
      "DISPL_Y_MAX_T_1.txt\n",
      "DISPL_Y_mean_T_1.txt\n",
      "ENV3_1.txt\n",
      "ENV4_1.txt\n",
      "ENV5_1.txt\n",
      "PtP_ENV3_T_1.txt\n",
      "PtP_ENV4_T_1.txt\n",
      "PtP_ENV5_T_1.txt\n",
      "PtP_RAW3_T_1.txt\n",
      "PtP_RAW4_T_1.txt\n",
      "PtP_RAW5_T_1.txt\n",
      "RAW3_1.txt\n",
      "RAW4_1.txt\n",
      "RAW5_1.txt\n",
      "RMS_ENV3_T_1.txt\n",
      "RMS_ENV4_T_1.txt\n",
      "RMS_ENV5_T_1.txt\n",
      "RMS_RAW3_T_1.txt\n",
      "RMS_RAW4_T_1.txt\n",
      "RMS_RAW5_T_1.txt\n",
      "SPEED_avg_1.txt\n",
      "TORQ_avg_1.txt\n",
      "TORQ_max_1.txt\n",
      "TORQ_ptop_1.txt\n",
      "VEL_X_mean_T_1.txt\n",
      "VEL_Y_mean_T_1.txt\n"
     ]
    }
   ],
   "source": [
    "for file in files:\n",
    "    print(file)"
   ]
  },
  {
   "cell_type": "code",
   "execution_count": 5,
   "id": "66177d07",
   "metadata": {},
   "outputs": [],
   "source": [
    "def stastical_data(path,col_name):\n",
    "    df=pd.read_csv(path)\n",
    "    print(col_name)\n",
    "    df.columns=[col_name]\n",
    "    df = pd.DataFrame(df[col_name].str.split('\\t',2).tolist())\n",
    "    df[df.isnull().any(axis=1)].head(50)\n",
    "    df.dropna(inplace=True)\n",
    "    df[0]=pd.to_datetime(df[0])\n",
    "    df.index=df[0]\n",
    "    df.index=df.index.date\n",
    "    df.drop(columns=[0],inplace=True)\n",
    "    df.columns=[col_name]\n",
    "    df.isnull().sum()\n",
    "    df=df.astype({col_name:float,})\n",
    "    df['square_values'] = df[col_name]*df[col_name]\n",
    "    final_df=df.groupby(df.index).agg({'square_values':['mean']})\n",
    "    final_df\n",
    "    header = np.array(['RMS'])\n",
    "    final_df.columns=header\n",
    "    final_df['RMS'] = final_df['RMS'].apply(lambda x : x**0.5)\n",
    "    print(\"Pre-Processing is done\")\n",
    "    \n",
    "    fig=go.Figure()\n",
    "    #fig.add_trace(go.Scatter(x=RMS_copy.index,y=RMS_copy.RMS,name='RMS'))\n",
    "    px.scatter(final_df.RMS,labels={'x':'Date','y':'Value'})\n",
    "    \n",
    "    #fig.add_trace(go.Scatter(x=RMS_copy.index,y=RMS_copy.RMS,name='RMS'))\n",
    "    px.line(final_df.RMS,labels={'x':'Date','y':'Value'})\n",
    "    \n",
    "    final_df.to_csv(\"stastical_output\\RMS\\\\\"+col_name+\".csv\",header=True)\n",
    "\n",
    "    print(\"completed\")"
   ]
  },
  {
   "cell_type": "code",
   "execution_count": 6,
   "id": "e731b5f9",
   "metadata": {},
   "outputs": [
    {
     "name": "stdout",
     "output_type": "stream",
     "text": [
      "DISPL_X_MAX_T_1\n",
      "Pre-Processing is done\n",
      "completed\n",
      "DISPL_X_mean_T_1\n",
      "Pre-Processing is done\n",
      "completed\n",
      "DISPL_Y_MAX_T_1\n",
      "Pre-Processing is done\n",
      "completed\n",
      "DISPL_Y_mean_T_1\n",
      "Pre-Processing is done\n",
      "completed\n",
      "ENV3_1\n",
      "Pre-Processing is done\n",
      "completed\n",
      "ENV4_1\n",
      "Pre-Processing is done\n",
      "completed\n",
      "ENV5_1\n",
      "Pre-Processing is done\n",
      "completed\n",
      "PtP_ENV3_T_1\n",
      "Pre-Processing is done\n",
      "completed\n",
      "PtP_ENV4_T_1\n",
      "Pre-Processing is done\n",
      "completed\n",
      "PtP_ENV5_T_1\n",
      "Pre-Processing is done\n",
      "completed\n",
      "PtP_RAW3_T_1\n",
      "Pre-Processing is done\n",
      "completed\n",
      "PtP_RAW4_T_1\n",
      "Pre-Processing is done\n",
      "completed\n",
      "PtP_RAW5_T_1\n",
      "Pre-Processing is done\n",
      "completed\n",
      "RAW3_1\n",
      "Pre-Processing is done\n",
      "completed\n",
      "RAW4_1\n",
      "Pre-Processing is done\n",
      "completed\n",
      "RAW5_1\n",
      "Pre-Processing is done\n",
      "completed\n",
      "RMS_ENV3_T_1\n",
      "Pre-Processing is done\n",
      "completed\n",
      "RMS_ENV4_T_1\n",
      "Pre-Processing is done\n",
      "completed\n",
      "RMS_ENV5_T_1\n",
      "Pre-Processing is done\n",
      "completed\n",
      "RMS_RAW3_T_1\n",
      "Pre-Processing is done\n",
      "completed\n",
      "RMS_RAW4_T_1\n",
      "Pre-Processing is done\n",
      "completed\n",
      "RMS_RAW5_T_1\n",
      "Pre-Processing is done\n",
      "completed\n",
      "SPEED_avg_1\n",
      "Pre-Processing is done\n",
      "completed\n",
      "TORQ_avg_1\n",
      "Pre-Processing is done\n",
      "completed\n",
      "TORQ_max_1\n",
      "Pre-Processing is done\n",
      "completed\n",
      "TORQ_ptop_1\n",
      "Pre-Processing is done\n",
      "completed\n",
      "VEL_X_mean_T_1\n",
      "Pre-Processing is done\n",
      "completed\n",
      "VEL_Y_mean_T_1\n",
      "Pre-Processing is done\n",
      "completed\n"
     ]
    }
   ],
   "source": [
    "for file in files:\n",
    "    stastical_data(input_path+'\\\\'+file,file.split('.')[0])"
   ]
  },
  {
   "cell_type": "code",
   "execution_count": null,
   "id": "4cdf2356",
   "metadata": {},
   "outputs": [],
   "source": []
  }
 ],
 "metadata": {
  "kernelspec": {
   "display_name": "Python 3 (ipykernel)",
   "language": "python",
   "name": "python3"
  },
  "language_info": {
   "codemirror_mode": {
    "name": "ipython",
    "version": 3
   },
   "file_extension": ".py",
   "mimetype": "text/x-python",
   "name": "python",
   "nbconvert_exporter": "python",
   "pygments_lexer": "ipython3",
   "version": "3.8.10"
  }
 },
 "nbformat": 4,
 "nbformat_minor": 5
}
