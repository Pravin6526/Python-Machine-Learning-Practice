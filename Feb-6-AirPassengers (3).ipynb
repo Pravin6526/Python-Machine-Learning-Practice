{
 "cells": [
  {
   "cell_type": "markdown",
   "id": "470d74dd",
   "metadata": {},
   "source": [
    "### The classic Box & Jenkins airline data. Monthly totals of international airline passengers, 1949 to 1960.\n",
    "### A monthly time series, in thousands."
   ]
  },
  {
   "cell_type": "code",
   "execution_count": 51,
   "id": "37d907ad",
   "metadata": {},
   "outputs": [],
   "source": [
    "import pandas as pd\n",
    "import numpy as np\n",
    "import matplotlib.pyplot as plt\n",
    "import pmdarima as pm"
   ]
  },
  {
   "cell_type": "code",
   "execution_count": 52,
   "id": "ccfb91af",
   "metadata": {},
   "outputs": [
    {
     "data": {
      "text/html": [
       "<div>\n",
       "<style scoped>\n",
       "    .dataframe tbody tr th:only-of-type {\n",
       "        vertical-align: middle;\n",
       "    }\n",
       "\n",
       "    .dataframe tbody tr th {\n",
       "        vertical-align: top;\n",
       "    }\n",
       "\n",
       "    .dataframe thead th {\n",
       "        text-align: right;\n",
       "    }\n",
       "</style>\n",
       "<table border=\"1\" class=\"dataframe\">\n",
       "  <thead>\n",
       "    <tr style=\"text-align: right;\">\n",
       "      <th></th>\n",
       "      <th>Passengers</th>\n",
       "    </tr>\n",
       "    <tr>\n",
       "      <th>index</th>\n",
       "      <th></th>\n",
       "    </tr>\n",
       "  </thead>\n",
       "  <tbody>\n",
       "    <tr>\n",
       "      <th>1949-01-31</th>\n",
       "      <td>112.0</td>\n",
       "    </tr>\n",
       "    <tr>\n",
       "      <th>1949-02-28</th>\n",
       "      <td>118.0</td>\n",
       "    </tr>\n",
       "    <tr>\n",
       "      <th>1949-03-31</th>\n",
       "      <td>132.0</td>\n",
       "    </tr>\n",
       "    <tr>\n",
       "      <th>1949-04-30</th>\n",
       "      <td>129.0</td>\n",
       "    </tr>\n",
       "    <tr>\n",
       "      <th>1949-05-31</th>\n",
       "      <td>121.0</td>\n",
       "    </tr>\n",
       "    <tr>\n",
       "      <th>...</th>\n",
       "      <td>...</td>\n",
       "    </tr>\n",
       "    <tr>\n",
       "      <th>1960-08-31</th>\n",
       "      <td>606.0</td>\n",
       "    </tr>\n",
       "    <tr>\n",
       "      <th>1960-09-30</th>\n",
       "      <td>NaN</td>\n",
       "    </tr>\n",
       "    <tr>\n",
       "      <th>1960-10-31</th>\n",
       "      <td>NaN</td>\n",
       "    </tr>\n",
       "    <tr>\n",
       "      <th>1960-11-30</th>\n",
       "      <td>390.0</td>\n",
       "    </tr>\n",
       "    <tr>\n",
       "      <th>1960-12-31</th>\n",
       "      <td>432.0</td>\n",
       "    </tr>\n",
       "  </tbody>\n",
       "</table>\n",
       "<p>144 rows × 1 columns</p>\n",
       "</div>"
      ],
      "text/plain": [
       "            Passengers\n",
       "index                 \n",
       "1949-01-31       112.0\n",
       "1949-02-28       118.0\n",
       "1949-03-31       132.0\n",
       "1949-04-30       129.0\n",
       "1949-05-31       121.0\n",
       "...                ...\n",
       "1960-08-31       606.0\n",
       "1960-09-30         NaN\n",
       "1960-10-31         NaN\n",
       "1960-11-30       390.0\n",
       "1960-12-31       432.0\n",
       "\n",
       "[144 rows x 1 columns]"
      ]
     },
     "execution_count": 52,
     "metadata": {},
     "output_type": "execute_result"
    }
   ],
   "source": [
    "### reading the dataset\n",
    "df_actual=pd.read_csv(\"AirPassengersImpute.csv\",index_col=[0])\n",
    "df_actual['index']=pd.date_range(start='1949/01/01',end='1961',freq='M')#created a data index\n",
    "df_actual.set_index('index',inplace=True) #set index as date\n",
    "df_actual = df_actual.rename(columns={'x': 'Passengers'})# change the column name x to Passengers\n",
    "df_actual"
   ]
  },
  {
   "cell_type": "code",
   "execution_count": 53,
   "id": "b0217759",
   "metadata": {},
   "outputs": [
    {
     "name": "stdout",
     "output_type": "stream",
     "text": [
      "<class 'pandas.core.frame.DataFrame'>\n",
      "DatetimeIndex: 144 entries, 1949-01-31 to 1960-12-31\n",
      "Data columns (total 1 columns):\n",
      " #   Column      Non-Null Count  Dtype  \n",
      "---  ------      --------------  -----  \n",
      " 0   Passengers  132 non-null    float64\n",
      "dtypes: float64(1)\n",
      "memory usage: 2.2 KB\n"
     ]
    }
   ],
   "source": [
    "df_actual.info()"
   ]
  },
  {
   "cell_type": "code",
   "execution_count": 54,
   "id": "22ede054",
   "metadata": {},
   "outputs": [
    {
     "name": "stdout",
     "output_type": "stream",
     "text": [
      "percentage of missing values:  8.33 %\n"
     ]
    }
   ],
   "source": [
    "#Missing Values in the dataset\n",
    "df_actual['Passengers'].isnull().sum()\n",
    "print('percentage of missing values: ',round((df_actual['Passengers'].isnull().sum()/len(df_actual))*100,2),'%')"
   ]
  },
  {
   "cell_type": "markdown",
   "id": "96ca7f36",
   "metadata": {},
   "source": [
    "# Filling the missing values"
   ]
  },
  {
   "cell_type": "code",
   "execution_count": 55,
   "id": "75d3782d",
   "metadata": {},
   "outputs": [
    {
     "data": {
      "image/png": "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