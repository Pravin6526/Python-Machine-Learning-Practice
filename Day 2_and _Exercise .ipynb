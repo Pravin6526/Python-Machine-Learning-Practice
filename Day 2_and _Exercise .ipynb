{
 "cells": [
  {
   "cell_type": "code",
   "execution_count": 1,
   "id": "ae23014a",
   "metadata": {},
   "outputs": [],
   "source": [
    "#in and not in\n",
    "seq=[5,6,7,89,'hello','d',656436]"
   ]
  },
  {
   "cell_type": "code",
   "execution_count": 2,
   "id": "6820cba4",
   "metadata": {},
   "outputs": [
    {
     "data": {
      "text/plain": [
       "True"
      ]
     },
     "execution_count": 2,
     "metadata": {},
     "output_type": "execute_result"
    }
   ],
   "source": [
    "'d'in seq"
   ]
  },
  {
   "cell_type": "code",
   "execution_count": 3,
   "id": "e08cd57c",
   "metadata": {},
   "outputs": [
    {
     "data": {
      "text/plain": [
       "False"
      ]
     },
     "execution_count": 3,
     "metadata": {},
     "output_type": "execute_result"
    }
   ],
   "source": [
    "'d' not in seq"
   ]
  },
  {
   "cell_type": "code",
   "execution_count": 4,
   "id": "6ab2b320",
   "metadata": {},
   "outputs": [
    {
     "data": {
      "text/plain": [
       "False"
      ]
     },
     "execution_count": 4,
     "metadata": {},
     "output_type": "execute_result"
    }
   ],
   "source": [
    "8 in seq"
   ]
  },
  {
   "cell_type": "code",
   "execution_count": 5,
   "id": "00a399a4",
   "metadata": {},
   "outputs": [
    {
     "data": {
      "text/plain": [
       "True"
      ]
     },
     "execution_count": 5,
     "metadata": {},
     "output_type": "execute_result"
    }
   ],
   "source": [
    "'h' in 'hello'"
   ]
  },
  {
   "cell_type": "code",
   "execution_count": 6,
   "id": "e5075292",
   "metadata": {},
   "outputs": [
    {
     "data": {
      "text/plain": [
       "(1, 2)"
      ]
     },
     "execution_count": 6,
     "metadata": {},
     "output_type": "execute_result"
    }
   ],
   "source": [
    "#tuple Unpacking\n",
    "s=[(1,2),(3,4),(5,6)]\n",
    "s[0]"
   ]
  },
  {
   "cell_type": "code",
   "execution_count": 7,
   "id": "8f39bb11",
   "metadata": {},
   "outputs": [
    {
     "data": {
      "text/plain": [
       "4"
      ]
     },
     "execution_count": 7,
     "metadata": {},
     "output_type": "execute_result"
    }
   ],
   "source": [
    "s[1][1]"
   ]
  },
  {
   "cell_type": "code",
   "execution_count": 8,
   "id": "8f46e935",
   "metadata": {},
   "outputs": [
    {
     "data": {
      "text/plain": [
       "1"
      ]
     },
     "execution_count": 8,
     "metadata": {},
     "output_type": "execute_result"
    }
   ],
   "source": [
    "p=(1,2,3,4,5,6,7,8,9)\n",
    "p[0]"
   ]
  },
  {
   "cell_type": "code",
   "execution_count": 9,
   "id": "c9bedc95",
   "metadata": {},
   "outputs": [
    {
     "name": "stdout",
     "output_type": "stream",
     "text": [
      "(1, 2)\n",
      "(3, 4)\n",
      "(5, 6)\n"
     ]
    }
   ],
   "source": [
    "for i in s:\n",
    "    print(i)"
   ]
  },
  {
   "cell_type": "code",
   "execution_count": 10,
   "id": "39b536e6",
   "metadata": {},
   "outputs": [
    {
     "name": "stdout",
     "output_type": "stream",
     "text": [
      "(1, 2) (3, 4) (5, 6) "
     ]
    }
   ],
   "source": [
    "for i in s:\n",
    "    print(i,end=' ')"
   ]
  },
  {
   "cell_type": "code",
   "execution_count": 11,
   "id": "6864002d",
   "metadata": {},
   "outputs": [
    {
     "name": "stdout",
     "output_type": "stream",
     "text": [
      "(1, 2)@@@(3, 4)@@@(5, 6)@@@"
     ]
    }
   ],
   "source": [
    "for i in s:\n",
    "    print(i,end='@@@')"
   ]
  },
  {
   "cell_type": "code",
   "execution_count": 12,
   "id": "cb426630",
   "metadata": {},
   "outputs": [
    {
     "data": {
      "text/plain": [
       "[(1, 2), (3, 4), (5, 6)]"
      ]
     },
     "execution_count": 12,
     "metadata": {},
     "output_type": "execute_result"
    }
   ],
   "source": [
    "s"
   ]
  },
  {
   "cell_type": "code",
   "execution_count": 13,
   "id": "1cd4d298",
   "metadata": {},
   "outputs": [
    {
     "name": "stdout",
     "output_type": "stream",
     "text": [
      "1 3 5 "
     ]
    }
   ],
   "source": [
    "#want 1,3,5\n",
    "for i in s:\n",
    "    print(i[0],end=' ')"
   ]
  },
  {
   "cell_type": "code",
   "execution_count": 14,
   "id": "db98939c",
   "metadata": {},
   "outputs": [
    {
     "name": "stdout",
     "output_type": "stream",
     "text": [
      "1 3 5 "
     ]
    }
   ],
   "source": [
    "#want 1,3,5\n",
    "for (i,j) in s:\n",
    "    print(i,end=' ')"
   ]
  },
  {
   "cell_type": "code",
   "execution_count": 15,
   "id": "08f98655",
   "metadata": {},
   "outputs": [
    {
     "name": "stdout",
     "output_type": "stream",
     "text": [
      "2 4 6 "
     ]
    }
   ],
   "source": [
    "#want 2,4,6\n",
    "for i in s:\n",
    "    print(i[1],end=' ')"
   ]
  },
  {
   "cell_type": "code",
   "execution_count": 16,
   "id": "8863fa72",
   "metadata": {},
   "outputs": [
    {
     "name": "stdout",
     "output_type": "stream",
     "text": [
      "2 4 6 "
     ]
    }
   ],
   "source": [
    "#want 2,4,6\n",
    "for (i,j) in s:\n",
    "    print(j,end=' ')"
   ]
  },
  {
   "cell_type": "code",
   "execution_count": 17,
   "id": "ae752e18",
   "metadata": {},
   "outputs": [
    {
     "name": "stdout",
     "output_type": "stream",
     "text": [
      "1 2 3 4 5 6 "
     ]
    }
   ],
   "source": [
    "#want 1,2,3,4,5,6\n",
    "for i in s:\n",
    "    print(i[0],i[1],end=' ')"
   ]
  },
  {
   "cell_type": "code",
   "execution_count": 18,
   "id": "cfc5b338",
   "metadata": {},
   "outputs": [
    {
     "name": "stdout",
     "output_type": "stream",
     "text": [
      "1 2 3 4 5 6 "
     ]
    }
   ],
   "source": [
    "#want 1,2,3,4,5,6\n",
    "for (i,j) in s:\n",
    "    print(i,j,end=' ')"
   ]
  },
  {
   "cell_type": "code",
   "execution_count": 19,
   "id": "907c17fa",
   "metadata": {},
   "outputs": [
    {
     "data": {
      "text/plain": [
       "2401"
      ]
     },
     "execution_count": 19,
     "metadata": {},
     "output_type": "execute_result"
    }
   ],
   "source": [
    "#what is 7 to the power of 4\n",
    "7**4"
   ]
  },
  {
   "cell_type": "code",
   "execution_count": 20,
   "id": "9720dc94",
   "metadata": {},
   "outputs": [
    {
     "data": {
      "text/plain": [
       "['Hii', 'There', 'Pravin']"
      ]
     },
     "execution_count": 20,
     "metadata": {},
     "output_type": "execute_result"
    }
   ],
   "source": [
    "#split the string into list\n",
    "s=\"Hii There Pravin\"\n",
    "l=s.split(' ')\n",
    "l"
   ]
  },
  {
   "cell_type": "code",
   "execution_count": 21,
   "id": "004508a3",
   "metadata": {},
   "outputs": [
    {
     "name": "stdout",
     "output_type": "stream",
     "text": [
      "the diameter of Earth is 12742 kelometer\n"
     ]
    }
   ],
   "source": [
    "Planet='Earth'\n",
    "diameter=12742\n",
    "print('the diameter of {} is {} kelometer'.format(Planet,diameter))"
   ]
  },
  {
   "cell_type": "code",
   "execution_count": 22,
   "id": "97971095",
   "metadata": {},
   "outputs": [
    {
     "data": {
      "text/plain": [
       "'the diameter of Earth is 12742 kelometer'"
      ]
     },
     "execution_count": 22,
     "metadata": {},
     "output_type": "execute_result"
    }
   ],
   "source": [
    "'the diameter of {} is {} kelometer'.format(Planet,diameter)"
   ]
  },
  {
   "cell_type": "code",
   "execution_count": 23,
   "id": "7d906099",
   "metadata": {},
   "outputs": [],
   "source": [
    "#grab word Hello\n",
    "lst=[1,2,[3,4],[5,[100,200,['Hello']],23,11],1,7]"
   ]
  },
  {
   "cell_type": "code",
   "execution_count": 24,
   "id": "c07f7647",
   "metadata": {},
   "outputs": [
    {
     "data": {
      "text/plain": [
       "'Hello'"
      ]
     },
     "execution_count": 24,
     "metadata": {},
     "output_type": "execute_result"
    }
   ],
   "source": [
    "lst[3][1][2][0]"
   ]
  },
  {
   "cell_type": "code",
   "execution_count": 25,
   "id": "84ccedd0",
   "metadata": {},
   "outputs": [
    {
     "data": {
      "text/plain": [
       "['pravinkatkar100000', 'gmail.com']"
      ]
     },
     "execution_count": 25,
     "metadata": {},
     "output_type": "execute_result"
    }
   ],
   "source": [
    "def get_domain(email):\n",
    "    d=email.split('@')\n",
    "    return d\n",
    "get_domain('pravinkatkar100000@gmail.com')"
   ]
  },
  {
   "cell_type": "code",
   "execution_count": 26,
   "id": "fde095f6",
   "metadata": {},
   "outputs": [
    {
     "data": {
      "text/plain": [
       "True"
      ]
     },
     "execution_count": 26,
     "metadata": {},
     "output_type": "execute_result"
    }
   ],
   "source": [
    "def find_Dog(s):\n",
    "    return 'dog' in s\n",
    "find_Dog('Is there a dog here')"
   ]
  },
  {
   "cell_type": "code",
   "execution_count": 27,
   "id": "408440eb",
   "metadata": {},
   "outputs": [
    {
     "name": "stdout",
     "output_type": "stream",
     "text": [
      "pravinkatkar100@gmail.com\n"
     ]
    }
   ],
   "source": [
    "email='PRAVINKATKAR100@GMAIL.COM'\n",
    "print(email.lower())"
   ]
  },
  {
   "cell_type": "code",
   "execution_count": 28,
   "id": "8a531051",
   "metadata": {},
   "outputs": [
    {
     "data": {
      "text/plain": [
       "5"
      ]
     },
     "execution_count": 28,
     "metadata": {},
     "output_type": "execute_result"
    }
   ],
   "source": [
    "#count the word in string\n",
    "def count_dog(st):\n",
    "    s=st.lower()\n",
    "    return s.count('dog') \n",
    "count_dog('this dog runs faster than the other dog dude Dog Dog dog !')"
   ]
  },
  {
   "cell_type": "code",
   "execution_count": 29,
   "id": "1a164048",
   "metadata": {},
   "outputs": [
    {
     "data": {
      "text/plain": [
       "['dog', 'cat', 'great']"
      ]
     },
     "execution_count": 29,
     "metadata": {},
     "output_type": "execute_result"
    }
   ],
   "source": [
    "#use lambda function to filter out the words that does not start with starts with 's'\n",
    "seq=['salad','dog','soup','cat','great']\n",
    "l=lambda word:word[0]!='s'\n",
    "list(filter(l,seq))"
   ]
  },
  {
   "cell_type": "code",
   "execution_count": 30,
   "id": "5bb9e7a0",
   "metadata": {},
   "outputs": [
    {
     "data": {
      "text/plain": [
       "[False, True, False, True, True]"
      ]
     },
     "execution_count": 30,
     "metadata": {},
     "output_type": "execute_result"
    }
   ],
   "source": [
    "list(map(l,seq))"
   ]
  },
  {
   "cell_type": "code",
   "execution_count": 31,
   "id": "e7a2b1a3",
   "metadata": {},
   "outputs": [],
   "source": [
    "#write function to speed limit and is birthday\n",
    "def Caught_speeding(speed,is_birthday):\n",
    "    if(is_birthday==True):\n",
    "        speed=speed-5\n",
    "        if(speed>60 and speed<=80):\n",
    "            print('Small Ticket')\n",
    "        elif(speed>80):\n",
    "            print('Big Ticket')\n",
    "        else:\n",
    "            print('No Ticket')\n",
    "    else:\n",
    "        if(speed>60 and speed<=80):\n",
    "            print('Small Ticket')\n",
    "        elif(speed>80):\n",
    "            print('Big Ticket')\n",
    "        else:\n",
    "            print('No Ticket')\n",
    "    "
   ]
  },
  {
   "cell_type": "code",
   "execution_count": 32,
   "id": "a50f55a6",
   "metadata": {},
   "outputs": [
    {
     "name": "stdout",
     "output_type": "stream",
     "text": [
      "Small Ticket\n"
     ]
    }
   ],
   "source": [
    "Caught_speeding(81,True)"
   ]
  },
  {
   "cell_type": "code",
   "execution_count": 33,
   "id": "3f165e40",
   "metadata": {},
   "outputs": [
    {
     "name": "stdout",
     "output_type": "stream",
     "text": [
      "Big Ticket\n"
     ]
    }
   ],
   "source": [
    "Caught_speeding(81,False)"
   ]
  },
  {
   "cell_type": "code",
   "execution_count": 34,
   "id": "4eb94f02",
   "metadata": {},
   "outputs": [
    {
     "name": "stdout",
     "output_type": "stream",
     "text": [
      "No Ticket\n"
     ]
    }
   ],
   "source": [
    "Caught_speeding(59,False)"
   ]
  },
  {
   "cell_type": "code",
   "execution_count": 35,
   "id": "6d5a4ddc",
   "metadata": {},
   "outputs": [
    {
     "name": "stdout",
     "output_type": "stream",
     "text": [
      "Enter your Value :dgfcxf7676gvgvg\n",
      "7676\n"
     ]
    }
   ],
   "source": [
    "#given string mix with digit extract and print negative number if string starts with '-'\n",
    "stt=input(\"Enter your Value :\")\n",
    "n=\"\"\n",
    "num=[0,1,2,3,4,5,6,7,8,9]\n",
    "if(stt==\"\"):\n",
    "    print(\"Please enter some input\")\n",
    "else:\n",
    "    if(stt[0]==\"-\"):\n",
    "        n=n+stt[0]\n",
    "    for c in stt:\n",
    "        if c in str(num):\n",
    "            n=n+c\n",
    "    print(n)"
   ]
  },
  {
   "cell_type": "code",
   "execution_count": 50,
   "id": "5aad1f8d",
   "metadata": {},
   "outputs": [
    {
     "name": "stdout",
     "output_type": "stream",
     "text": [
      "Enter Your Number : 9088652\n",
      "Number Is : 28133072\n",
      "Reverse Is : 27033182\n",
      "Number Is : 55166254\n",
      "Reverse Is : 45266155\n",
      "Number Is : 100432409\n",
      "Reverse Is : 904234001\n",
      "Number Is : 1004666410\n",
      "Reverse Is : 0146664001\n",
      "Number Is : 1151330411\n",
      "Reverse Is : 1140331511\n",
      "Number Is : 2291661922\n",
      "Reverse Is : 2291661922\n",
      "Palindrome Number is : 2291661922\n"
     ]
    }
   ],
   "source": [
    "#chech no is palindrome if not then add those no with reverse and then check do that it until it will palindrome.\n",
    "num1=input(\"Enter Your Number : \")\n",
    "num2=num1[::-1]\n",
    "num3=str(int(num1)+int(num2))\n",
    "while str(num3)!=str(num3[::-1]):\n",
    "    num3=str(int(num3)+int(num3[::-1]))\n",
    "    print(\"Number Is :\",num3)\n",
    "    print(\"Reverse Is :\",num3[::-1])\n",
    "print(\"Palindrome Number is :\",num3)"
   ]
  },
  {
   "cell_type": "code",
   "execution_count": null,
   "id": "4ec85e89",
   "metadata": {},
   "outputs": [],
   "source": []
  }
 ],
 "metadata": {
  "kernelspec": {
   "display_name": "Python 3 (ipykernel)",
   "language": "python",
   "name": "python3"
  },
  "language_info": {
   "codemirror_mode": {
    "name": "ipython",
    "version": 3
   },
   "file_extension": ".py",
   "mimetype": "text/x-python",
   "name": "python",
   "nbconvert_exporter": "python",
   "pygments_lexer": "ipython3",
   "version": "3.8.10"
  }
 },
 "nbformat": 4,
 "nbformat_minor": 5
}
