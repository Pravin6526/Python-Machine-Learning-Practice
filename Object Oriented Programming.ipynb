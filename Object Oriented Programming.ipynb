{
 "cells": [
  {
   "cell_type": "code",
   "execution_count": 1,
   "id": "d5db7acd",
   "metadata": {},
   "outputs": [],
   "source": [
    "class test:                             #class can have multiple functions but function can not have class\n",
    "    pass"
   ]
  },
  {
   "cell_type": "code",
   "execution_count": 2,
   "id": "0e3f8510",
   "metadata": {},
   "outputs": [],
   "source": [
    "def test():\n",
    "    pass"
   ]
  },
  {
   "cell_type": "code",
   "execution_count": 3,
   "id": "628f34b5",
   "metadata": {},
   "outputs": [],
   "source": [
    "class person:\n",
    "    pass\n",
    "p=person()"
   ]
  },
  {
   "cell_type": "code",
   "execution_count": 4,
   "id": "ac2cdb5b",
   "metadata": {},
   "outputs": [
    {
     "data": {
      "text/plain": [
       "<__main__.person at 0x1cb44276ca0>"
      ]
     },
     "execution_count": 4,
     "metadata": {},
     "output_type": "execute_result"
    }
   ],
   "source": [
    "p"
   ]
  },
  {
   "cell_type": "code",
   "execution_count": 5,
   "id": "18f92228",
   "metadata": {},
   "outputs": [],
   "source": [
    "p.name='sachin'"
   ]
  },
  {
   "cell_type": "code",
   "execution_count": 6,
   "id": "49a3871c",
   "metadata": {},
   "outputs": [],
   "source": [
    "p.surname='Tendulkar'"
   ]
  },
  {
   "cell_type": "code",
   "execution_count": 7,
   "id": "01a2f3e2",
   "metadata": {},
   "outputs": [],
   "source": [
    "p.dob=245678"
   ]
  },
  {
   "cell_type": "code",
   "execution_count": 8,
   "id": "ec8ce2db",
   "metadata": {},
   "outputs": [],
   "source": [
    "q=person()"
   ]
  },
  {
   "cell_type": "code",
   "execution_count": 9,
   "id": "e2493a0a",
   "metadata": {},
   "outputs": [],
   "source": [
    "q.name='rahul'"
   ]
  },
  {
   "cell_type": "code",
   "execution_count": 10,
   "id": "cab4a9ac",
   "metadata": {},
   "outputs": [],
   "source": [
    "q.surname='sharma'"
   ]
  },
  {
   "cell_type": "code",
   "execution_count": 11,
   "id": "81ed62f9",
   "metadata": {},
   "outputs": [],
   "source": [
    "q.dob=2233455"
   ]
  },
  {
   "cell_type": "code",
   "execution_count": 12,
   "id": "8e21b7f7",
   "metadata": {},
   "outputs": [],
   "source": [
    "p.name='saurav'"
   ]
  },
  {
   "cell_type": "code",
   "execution_count": 13,
   "id": "1ee953e5",
   "metadata": {},
   "outputs": [],
   "source": [
    "p.surname='tiwari'"
   ]
  },
  {
   "cell_type": "code",
   "execution_count": 14,
   "id": "dd6e4527",
   "metadata": {},
   "outputs": [],
   "source": [
    "p.dob=45678"
   ]
  },
  {
   "cell_type": "code",
   "execution_count": 15,
   "id": "53d1cda3",
   "metadata": {},
   "outputs": [],
   "source": [
    "class person:\n",
    "    def __init__(self,name,surname,dob):\n",
    "        self.name=name\n",
    "        self.surname=surname\n",
    "        self.dob=dob "
   ]
  },
  {
   "cell_type": "code",
   "execution_count": 16,
   "id": "a495906c",
   "metadata": {},
   "outputs": [
    {
     "name": "stdout",
     "output_type": "stream",
     "text": [
      "<__main__.person object at 0x000001CB442AAA00>\n"
     ]
    }
   ],
   "source": [
    "p=person('rohit','sharma','23456')\n",
    "print(p)"
   ]
  },
  {
   "cell_type": "code",
   "execution_count": 17,
   "id": "71fbbd72",
   "metadata": {},
   "outputs": [],
   "source": [
    "p1=person('pravin','katkar',2345)"
   ]
  },
  {
   "cell_type": "code",
   "execution_count": 18,
   "id": "b24f850f",
   "metadata": {},
   "outputs": [
    {
     "data": {
      "text/plain": [
       "'pravin'"
      ]
     },
     "execution_count": 18,
     "metadata": {},
     "output_type": "execute_result"
    }
   ],
   "source": [
    "p1.name"
   ]
  },
  {
   "cell_type": "code",
   "execution_count": 19,
   "id": "d5acfd40",
   "metadata": {},
   "outputs": [
    {
     "data": {
      "text/plain": [
       "'rohit'"
      ]
     },
     "execution_count": 19,
     "metadata": {},
     "output_type": "execute_result"
    }
   ],
   "source": [
    "p.name"
   ]
  },
  {
   "cell_type": "code",
   "execution_count": 20,
   "id": "5927052d",
   "metadata": {},
   "outputs": [
    {
     "data": {
      "text/plain": [
       "'rahul'"
      ]
     },
     "execution_count": 20,
     "metadata": {},
     "output_type": "execute_result"
    }
   ],
   "source": [
    "q.name"
   ]
  },
  {
   "cell_type": "code",
   "execution_count": 21,
   "id": "881e1627",
   "metadata": {},
   "outputs": [],
   "source": [
    "class person:\n",
    "    def __init__(self,name,surname,dob):\n",
    "        self.name=name\n",
    "        self.surname=surname\n",
    "        self.dob=dob \n",
    "    def test(self,n,m):\n",
    "        return n+m"
   ]
  },
  {
   "cell_type": "code",
   "execution_count": 22,
   "id": "ac0e5237",
   "metadata": {},
   "outputs": [],
   "source": [
    "p2=person('gautam','hdfcc',341)"
   ]
  },
  {
   "cell_type": "code",
   "execution_count": 23,
   "id": "c659de33",
   "metadata": {},
   "outputs": [
    {
     "data": {
      "text/plain": [
       "'gautam'"
      ]
     },
     "execution_count": 23,
     "metadata": {},
     "output_type": "execute_result"
    }
   ],
   "source": [
    "p2.name"
   ]
  },
  {
   "cell_type": "code",
   "execution_count": 24,
   "id": "8a4e53aa",
   "metadata": {},
   "outputs": [
    {
     "data": {
      "text/plain": [
       "9"
      ]
     },
     "execution_count": 24,
     "metadata": {},
     "output_type": "execute_result"
    }
   ],
   "source": [
    "p2.test(4,5)"
   ]
  },
  {
   "cell_type": "code",
   "execution_count": 25,
   "id": "bb9bbfe5",
   "metadata": {},
   "outputs": [],
   "source": [
    "class person:\n",
    "    def __init__(self,name,surname,dob):\n",
    "        self.name=name\n",
    "        self.surname=surname\n",
    "        self.dob=dob \n",
    "    def test(self,n,m):\n",
    "        return n+m+dob"
   ]
  },
  {
   "cell_type": "code",
   "execution_count": 26,
   "id": "27783c60",
   "metadata": {},
   "outputs": [
    {
     "data": {
      "text/plain": [
       "'gautam'"
      ]
     },
     "execution_count": 26,
     "metadata": {},
     "output_type": "execute_result"
    }
   ],
   "source": [
    "p2.name"
   ]
  },
  {
   "cell_type": "code",
   "execution_count": 27,
   "id": "2b50e353",
   "metadata": {},
   "outputs": [
    {
     "data": {
      "text/plain": [
       "9"
      ]
     },
     "execution_count": 27,
     "metadata": {},
     "output_type": "execute_result"
    }
   ],
   "source": [
    "p2.test(4,5)"
   ]
  },
  {
   "cell_type": "code",
   "execution_count": 28,
   "id": "92351101",
   "metadata": {},
   "outputs": [
    {
     "data": {
      "text/plain": [
       "341"
      ]
     },
     "execution_count": 28,
     "metadata": {},
     "output_type": "execute_result"
    }
   ],
   "source": [
    "p2.dob"
   ]
  },
  {
   "cell_type": "code",
   "execution_count": 29,
   "id": "8860e13b",
   "metadata": {},
   "outputs": [],
   "source": [
    "class person:\n",
    "    def __init__(self,name,surname,dob):\n",
    "        self.name=name\n",
    "        self.surname=surname\n",
    "        self.dob=dob \n",
    "    def test(self,n,m):\n",
    "        return n+m+self.dob"
   ]
  },
  {
   "cell_type": "code",
   "execution_count": 30,
   "id": "719e9ccf",
   "metadata": {},
   "outputs": [],
   "source": [
    "p3=person('kakak','fhjg',456)"
   ]
  },
  {
   "cell_type": "code",
   "execution_count": 31,
   "id": "ea0bcd1f",
   "metadata": {},
   "outputs": [
    {
     "data": {
      "text/plain": [
       "460"
      ]
     },
     "execution_count": 31,
     "metadata": {},
     "output_type": "execute_result"
    }
   ],
   "source": [
    "p3.test(2,2)"
   ]
  },
  {
   "cell_type": "code",
   "execution_count": 32,
   "id": "6b4f99d7",
   "metadata": {},
   "outputs": [],
   "source": [
    "class person:\n",
    "    def __init__(self,name,surname,dob):\n",
    "        self.name=name\n",
    "        self.surname=surname\n",
    "        self.dob=dob \n",
    "    def test(self,n,m):\n",
    "        return n+m+self.dob  \n",
    "    def __str__(self):\n",
    "        return 'this is my class'"
   ]
  },
  {
   "cell_type": "code",
   "execution_count": 33,
   "id": "acc587ab",
   "metadata": {},
   "outputs": [],
   "source": [
    "p=person('sachin','tfff',56)"
   ]
  },
  {
   "cell_type": "code",
   "execution_count": 34,
   "id": "5d4916a8",
   "metadata": {},
   "outputs": [
    {
     "name": "stdout",
     "output_type": "stream",
     "text": [
      "this is my class\n"
     ]
    }
   ],
   "source": [
    "print(p)"
   ]
  },
  {
   "cell_type": "code",
   "execution_count": 35,
   "id": "38cdf6a2",
   "metadata": {},
   "outputs": [],
   "source": [
    "def __str__(self):\n",
    "    return 'this is my class'"
   ]
  },
  {
   "cell_type": "code",
   "execution_count": 36,
   "id": "b4c95977",
   "metadata": {},
   "outputs": [],
   "source": [
    "#prefered way\n",
    "class person:\n",
    "    def __init__(self,name,surname,dob):\n",
    "        self.name=name\n",
    "        self.surname=surname\n",
    "        self.dob=dob \n",
    "    def test(self,n,m):\n",
    "        return n+m+self.dob  \n",
    "    def __str__(self):\n",
    "        return '%s is first name and his surname is %s and dob is %d'%(self.name,self.surname,self.dob)"
   ]
  },
  {
   "cell_type": "code",
   "execution_count": 37,
   "id": "b6e5163c",
   "metadata": {},
   "outputs": [],
   "source": [
    "p=person('sachin','tendulkar',4567)"
   ]
  },
  {
   "cell_type": "code",
   "execution_count": 38,
   "id": "855801e5",
   "metadata": {},
   "outputs": [
    {
     "data": {
      "text/plain": [
       "{'name': 'sachin', 'surname': 'tendulkar', 'dob': 4567}"
      ]
     },
     "execution_count": 38,
     "metadata": {},
     "output_type": "execute_result"
    }
   ],
   "source": [
    "p.__dict__"
   ]
  },
  {
   "cell_type": "code",
   "execution_count": 39,
   "id": "0ed15c1d",
   "metadata": {},
   "outputs": [
    {
     "name": "stdout",
     "output_type": "stream",
     "text": [
      "sachin is first name and his surname is tendulkar and dob is 4567\n"
     ]
    }
   ],
   "source": [
    "print(p)"
   ]
  },
  {
   "cell_type": "code",
   "execution_count": 40,
   "id": "d96151af",
   "metadata": {},
   "outputs": [
    {
     "data": {
      "text/plain": [
       "4580"
      ]
     },
     "execution_count": 40,
     "metadata": {},
     "output_type": "execute_result"
    }
   ],
   "source": [
    "p.test(10,3)"
   ]
  },
  {
   "cell_type": "code",
   "execution_count": 41,
   "id": "406dc535",
   "metadata": {},
   "outputs": [],
   "source": [
    "class test:\n",
    "    pass"
   ]
  },
  {
   "cell_type": "code",
   "execution_count": 42,
   "id": "a895efe7",
   "metadata": {},
   "outputs": [],
   "source": [
    "p=test()"
   ]
  },
  {
   "cell_type": "code",
   "execution_count": 43,
   "id": "35c5529f",
   "metadata": {},
   "outputs": [],
   "source": [
    "p.name='ravi'"
   ]
  },
  {
   "cell_type": "code",
   "execution_count": 44,
   "id": "ac23dea9",
   "metadata": {},
   "outputs": [],
   "source": [
    "p.surname='sssss'"
   ]
  },
  {
   "cell_type": "code",
   "execution_count": 45,
   "id": "5677e6ab",
   "metadata": {},
   "outputs": [],
   "source": [
    "p.dob=56756"
   ]
  },
  {
   "cell_type": "code",
   "execution_count": 46,
   "id": "7761cb65",
   "metadata": {},
   "outputs": [
    {
     "name": "stdout",
     "output_type": "stream",
     "text": [
      "<__main__.test object at 0x000001CB442409A0>\n"
     ]
    }
   ],
   "source": [
    "print(p)"
   ]
  },
  {
   "cell_type": "code",
   "execution_count": 47,
   "id": "dcfb4ad2",
   "metadata": {},
   "outputs": [
    {
     "data": {
      "text/plain": [
       "'ravi'"
      ]
     },
     "execution_count": 47,
     "metadata": {},
     "output_type": "execute_result"
    }
   ],
   "source": [
    "p.name"
   ]
  },
  {
   "cell_type": "code",
   "execution_count": 48,
   "id": "9a348097",
   "metadata": {},
   "outputs": [
    {
     "data": {
      "text/plain": [
       "'sssss'"
      ]
     },
     "execution_count": 48,
     "metadata": {},
     "output_type": "execute_result"
    }
   ],
   "source": [
    "p.surname"
   ]
  },
  {
   "cell_type": "code",
   "execution_count": 49,
   "id": "eb84d376",
   "metadata": {},
   "outputs": [
    {
     "data": {
      "text/plain": [
       "56756"
      ]
     },
     "execution_count": 49,
     "metadata": {},
     "output_type": "execute_result"
    }
   ],
   "source": [
    "p.dob"
   ]
  },
  {
   "cell_type": "code",
   "execution_count": 50,
   "id": "34499f1b",
   "metadata": {},
   "outputs": [],
   "source": [
    "class person:\n",
    "    def pass_name(self,name):\n",
    "        self.name=name\n",
    "    def pass_surname(self,surname):\n",
    "        self.surname=surname\n",
    "    def pass_dob(self,dob):\n",
    "        self.dob=dob"
   ]
  },
  {
   "cell_type": "code",
   "execution_count": 51,
   "id": "a2f4ca30",
   "metadata": {},
   "outputs": [],
   "source": [
    "p=person()"
   ]
  },
  {
   "cell_type": "code",
   "execution_count": 52,
   "id": "874979c9",
   "metadata": {},
   "outputs": [],
   "source": [
    "#p.name"
   ]
  },
  {
   "cell_type": "code",
   "execution_count": 53,
   "id": "6fbd42ba",
   "metadata": {},
   "outputs": [],
   "source": [
    "p.pass_name('rahul')"
   ]
  },
  {
   "cell_type": "code",
   "execution_count": 54,
   "id": "f34077b4",
   "metadata": {},
   "outputs": [
    {
     "data": {
      "text/plain": [
       "'rahul'"
      ]
     },
     "execution_count": 54,
     "metadata": {},
     "output_type": "execute_result"
    }
   ],
   "source": [
    "p.name"
   ]
  },
  {
   "cell_type": "code",
   "execution_count": 55,
   "id": "c72ea07b",
   "metadata": {},
   "outputs": [],
   "source": [
    "class person:\n",
    "    def __init__(self,name,surname,dob):\n",
    "        self._name=name\n",
    "        self._surname=surname\n",
    "        self._dob=dob \n",
    "    def test(self,n,m):\n",
    "        return n+m+self._dob  \n",
    "    def __str__(self):\n",
    "        return '%s is first name and his surname is %s and dob is %d'%(self.name,self.surname,self.dob)"
   ]
  },
  {
   "cell_type": "code",
   "execution_count": 56,
   "id": "ef6b0039",
   "metadata": {},
   "outputs": [],
   "source": [
    "p=person('shreyas','hello',68776)"
   ]
  },
  {
   "cell_type": "code",
   "execution_count": 57,
   "id": "8e0ceb6b",
   "metadata": {},
   "outputs": [
    {
     "data": {
      "text/plain": [
       "'shreyas'"
      ]
     },
     "execution_count": 57,
     "metadata": {},
     "output_type": "execute_result"
    }
   ],
   "source": [
    "p._name"
   ]
  },
  {
   "cell_type": "code",
   "execution_count": 58,
   "id": "d32a0def",
   "metadata": {},
   "outputs": [
    {
     "data": {
      "text/plain": [
       "{'_name': 'shreyas', '_surname': 'hello', '_dob': 68776}"
      ]
     },
     "execution_count": 58,
     "metadata": {},
     "output_type": "execute_result"
    }
   ],
   "source": [
    "p.__dict__"
   ]
  },
  {
   "cell_type": "code",
   "execution_count": 59,
   "id": "34394523",
   "metadata": {},
   "outputs": [
    {
     "data": {
      "text/plain": [
       "['__class__',\n",
       " '__delattr__',\n",
       " '__dict__',\n",
       " '__dir__',\n",
       " '__doc__',\n",
       " '__eq__',\n",
       " '__format__',\n",
       " '__ge__',\n",
       " '__getattribute__',\n",
       " '__gt__',\n",
       " '__hash__',\n",
       " '__init__',\n",
       " '__init_subclass__',\n",
       " '__le__',\n",
       " '__lt__',\n",
       " '__module__',\n",
       " '__ne__',\n",
       " '__new__',\n",
       " '__reduce__',\n",
       " '__reduce_ex__',\n",
       " '__repr__',\n",
       " '__setattr__',\n",
       " '__sizeof__',\n",
       " '__str__',\n",
       " '__subclasshook__',\n",
       " '__weakref__',\n",
       " 'test']"
      ]
     },
     "execution_count": 59,
     "metadata": {},
     "output_type": "execute_result"
    }
   ],
   "source": [
    "dir(person)"
   ]
  },
  {
   "cell_type": "markdown",
   "id": "df59b378",
   "metadata": {},
   "source": [
    "# Inheritance "
   ]
  },
  {
   "cell_type": "code",
   "execution_count": 60,
   "id": "f8ca2d85",
   "metadata": {},
   "outputs": [],
   "source": [
    "class person:\n",
    "    def __init__(self,name,surname,dob):\n",
    "        self.name=name\n",
    "        self.surname=surname\n",
    "        self.dob=dob \n",
    "    def test(self,n,m):\n",
    "        return n+m+self.dob  \n",
    "    def __str__(self):\n",
    "        return '%s is first name and his surname is %s and dob is %d'%(self.name,self.surname,self.dob)\n",
    "class student(person):\n",
    "    def __init__(self,roll_no,college_name,*args):\n",
    "        super(student,self).__init__(* args)\n",
    "        self.roll_no=roll_no\n",
    "        self.college_name=college_name\n",
    "    "
   ]
  },
  {
   "cell_type": "code",
   "execution_count": 61,
   "id": "03aa7bf5",
   "metadata": {},
   "outputs": [],
   "source": [
    "#student(455,'xyz')"
   ]
  },
  {
   "cell_type": "code",
   "execution_count": 62,
   "id": "35996d4c",
   "metadata": {},
   "outputs": [],
   "source": [
    "stud=student(456,'xyz','sachin','tendulakar',1970)"
   ]
  },
  {
   "cell_type": "code",
   "execution_count": 63,
   "id": "345c4852",
   "metadata": {},
   "outputs": [
    {
     "data": {
      "text/plain": [
       "'sachin'"
      ]
     },
     "execution_count": 63,
     "metadata": {},
     "output_type": "execute_result"
    }
   ],
   "source": [
    "stud.name"
   ]
  },
  {
   "cell_type": "code",
   "execution_count": 64,
   "id": "03a58340",
   "metadata": {},
   "outputs": [
    {
     "data": {
      "text/plain": [
       "'tendulakar'"
      ]
     },
     "execution_count": 64,
     "metadata": {},
     "output_type": "execute_result"
    }
   ],
   "source": [
    "stud.surname"
   ]
  },
  {
   "cell_type": "code",
   "execution_count": 65,
   "id": "60672ced",
   "metadata": {},
   "outputs": [
    {
     "data": {
      "text/plain": [
       "'xyz'"
      ]
     },
     "execution_count": 65,
     "metadata": {},
     "output_type": "execute_result"
    }
   ],
   "source": [
    "stud.college_name"
   ]
  },
  {
   "cell_type": "code",
   "execution_count": 66,
   "id": "2b81a67c",
   "metadata": {},
   "outputs": [
    {
     "data": {
      "text/plain": [
       "1984"
      ]
     },
     "execution_count": 66,
     "metadata": {},
     "output_type": "execute_result"
    }
   ],
   "source": [
    "stud.test(9,5)"
   ]
  },
  {
   "cell_type": "code",
   "execution_count": 67,
   "id": "67df607b",
   "metadata": {},
   "outputs": [],
   "source": [
    "class a:\n",
    "    def test(self):\n",
    "        print(\"rahul is my name\")\n",
    "    "
   ]
  },
  {
   "cell_type": "code",
   "execution_count": 68,
   "id": "5df1a79e",
   "metadata": {},
   "outputs": [],
   "source": [
    "class b:\n",
    "    def test(self):\n",
    "        print(\"sharma is my surname\")"
   ]
  },
  {
   "cell_type": "code",
   "execution_count": 69,
   "id": "484d2144",
   "metadata": {},
   "outputs": [
    {
     "name": "stdout",
     "output_type": "stream",
     "text": [
      "rahul is my name\n",
      "sharma is my surname\n"
     ]
    }
   ],
   "source": [
    "class c(a,b):\n",
    "    obj_a=a()\n",
    "    obj_b=b()\n",
    "    obj_a.test()\n",
    "    obj_b.test()"
   ]
  },
  {
   "cell_type": "code",
   "execution_count": 70,
   "id": "651949fa",
   "metadata": {},
   "outputs": [
    {
     "name": "stdout",
     "output_type": "stream",
     "text": [
      "rahul is my name\n"
     ]
    }
   ],
   "source": [
    "obj_c=c()\n",
    "obj_c.test()"
   ]
  },
  {
   "cell_type": "code",
   "execution_count": 71,
   "id": "a28000ed",
   "metadata": {},
   "outputs": [
    {
     "name": "stdout",
     "output_type": "stream",
     "text": [
      "rahul is my name\n",
      "sharma is my surname\n"
     ]
    }
   ],
   "source": [
    "class c(b,a):\n",
    "    obj_a=a()\n",
    "    obj_b=b()\n",
    "    obj_a.test()\n",
    "    obj_b.test()"
   ]
  },
  {
   "cell_type": "code",
   "execution_count": 72,
   "id": "3c790190",
   "metadata": {},
   "outputs": [
    {
     "name": "stdout",
     "output_type": "stream",
     "text": [
      "sharma is my surname\n"
     ]
    }
   ],
   "source": [
    "obj_c=c()\n",
    "obj_c.test()"
   ]
  },
  {
   "cell_type": "code",
   "execution_count": 76,
   "id": "b35538a1",
   "metadata": {},
   "outputs": [],
   "source": [
    "class person:\n",
    "    def __init__(self,a,b,c):\n",
    "        self.a=a\n",
    "        self.b=b\n",
    "        self.c=c\n",
    "    def __str__(self):\n",
    "        return \"my name is khan\"\n",
    "        "
   ]
  },
  {
   "cell_type": "code",
   "execution_count": 77,
   "id": "ca39366e",
   "metadata": {},
   "outputs": [],
   "source": [
    "p=person(3,4,5)"
   ]
  },
  {
   "cell_type": "code",
   "execution_count": 75,
   "id": "04622fe2",
   "metadata": {},
   "outputs": [
    {
     "data": {
      "text/plain": [
       "3"
      ]
     },
     "execution_count": 75,
     "metadata": {},
     "output_type": "execute_result"
    }
   ],
   "source": [
    "p.a"
   ]
  },
  {
   "cell_type": "code",
   "execution_count": 78,
   "id": "32d56f54",
   "metadata": {},
   "outputs": [
    {
     "name": "stdout",
     "output_type": "stream",
     "text": [
      "my name is khan\n"
     ]
    }
   ],
   "source": [
    "print(p)"
   ]
  },
  {
   "cell_type": "code",
   "execution_count": 89,
   "id": "0c4013ea",
   "metadata": {},
   "outputs": [],
   "source": [
    "class student(person):\n",
    "    def __init__(self,stud_id,*args):\n",
    "        super(student,self).__init__(* args)\n",
    "        self.stud_is=stud_id\n",
    "    def __str__(self):\n",
    "        return super(student,self).__str__() + ' i am student'"
   ]
  },
  {
   "cell_type": "code",
   "execution_count": 90,
   "id": "18f9068e",
   "metadata": {},
   "outputs": [],
   "source": [
    "s=student(5,6,7,55)"
   ]
  },
  {
   "cell_type": "code",
   "execution_count": 91,
   "id": "2d5dc32f",
   "metadata": {},
   "outputs": [
    {
     "name": "stdout",
     "output_type": "stream",
     "text": [
      "my name is khan i am student\n"
     ]
    }
   ],
   "source": [
    "print(s)"
   ]
  },
  {
   "cell_type": "markdown",
   "id": "7303e62d",
   "metadata": {},
   "source": [
    "# Encapsulation "
   ]
  },
  {
   "cell_type": "code",
   "execution_count": 2,
   "id": "8bae6395",
   "metadata": {},
   "outputs": [
    {
     "data": {
      "text/plain": [
       "[0, 1, 2, 3, 4]"
      ]
     },
     "execution_count": 2,
     "metadata": {},
     "output_type": "execute_result"
    }
   ],
   "source": [
    "list(range(5))"
   ]
  },
  {
   "cell_type": "code",
   "execution_count": 5,
   "id": "5813d474",
   "metadata": {},
   "outputs": [],
   "source": [
    "class tyre:\n",
    "    def __init__(self,branch,baise,opt_pre):\n",
    "        self.branch=branch\n",
    "        self.baise=baise\n",
    "        self.opt_pre=opt_pre\n",
    "    def __str__(self):\n",
    "        return str(self.branch)+str(self.baise)+str(self.opt_pre)"
   ]
  },
  {
   "cell_type": "code",
   "execution_count": 6,
   "id": "6ffe0adc",
   "metadata": {},
   "outputs": [],
   "source": [
    "t=tyre('xyx',56,33)"
   ]
  },
  {
   "cell_type": "code",
   "execution_count": 7,
   "id": "a7662de0",
   "metadata": {},
   "outputs": [
    {
     "name": "stdout",
     "output_type": "stream",
     "text": [
      "xyx5633\n"
     ]
    }
   ],
   "source": [
    "print(t)"
   ]
  },
  {
   "cell_type": "code",
   "execution_count": 8,
   "id": "58ebd26a",
   "metadata": {},
   "outputs": [],
   "source": [
    "class engine:\n",
    "    def __init__(self,fuel,noise):\n",
    "        self.fuel=fuel\n",
    "        self.noise=noise\n",
    "    def __str__(self):\n",
    "        return str(self.fuel)+' '+str(self.noise)"
   ]
  },
  {
   "cell_type": "code",
   "execution_count": 9,
   "id": "c81ea4ba",
   "metadata": {},
   "outputs": [],
   "source": [
    "e=engine('petrol',44)"
   ]
  },
  {
   "cell_type": "code",
   "execution_count": 10,
   "id": "f85a49da",
   "metadata": {},
   "outputs": [
    {
     "name": "stdout",
     "output_type": "stream",
     "text": [
      "petrol 44\n"
     ]
    }
   ],
   "source": [
    "print(e)"
   ]
  },
  {
   "cell_type": "code",
   "execution_count": 20,
   "id": "3f52f80b",
   "metadata": {},
   "outputs": [],
   "source": [
    "class body:\n",
    "    def __init__(self,body_size):\n",
    "        self.body_size=body_size\n",
    "    def __str__(self):\n",
    "        return \"this is my defination of class\"+\" \"+str(self.body_size)"
   ]
  },
  {
   "cell_type": "code",
   "execution_count": 21,
   "id": "e8956206",
   "metadata": {},
   "outputs": [],
   "source": [
    "b=body(\"SMALL\")"
   ]
  },
  {
   "cell_type": "code",
   "execution_count": 22,
   "id": "4ef26d43",
   "metadata": {},
   "outputs": [
    {
     "name": "stdout",
     "output_type": "stream",
     "text": [
      "this is my defination of class SMALL\n"
     ]
    }
   ],
   "source": [
    "print(b)"
   ]
  },
  {
   "cell_type": "code",
   "execution_count": 23,
   "id": "6225e185",
   "metadata": {},
   "outputs": [],
   "source": [
    "class car:\n",
    "    def __init__(self,ti,ei,bi):\n",
    "        self.ti=ti\n",
    "        self.bi=bi\n",
    "        self.ei=ei\n",
    "    def __str__(self):\n",
    "        return str(self.ti)+' '+str(self.ei)+' '+str(self.bi)"
   ]
  },
  {
   "cell_type": "code",
   "execution_count": 24,
   "id": "6234038b",
   "metadata": {},
   "outputs": [],
   "source": [
    "c=car(\"ABC\",'agv','fgh')"
   ]
  },
  {
   "cell_type": "code",
   "execution_count": 26,
   "id": "5415ee72",
   "metadata": {},
   "outputs": [
    {
     "name": "stdout",
     "output_type": "stream",
     "text": [
      "ABC agv fgh\n"
     ]
    }
   ],
   "source": [
    "print(c)"
   ]
  },
  {
   "cell_type": "code",
   "execution_count": 27,
   "id": "4b7e9790",
   "metadata": {},
   "outputs": [],
   "source": [
    "c=car(t,e,b)                           #composite Encapsulation"
   ]
  },
  {
   "cell_type": "code",
   "execution_count": 28,
   "id": "5600c7bb",
   "metadata": {},
   "outputs": [
    {
     "name": "stdout",
     "output_type": "stream",
     "text": [
      "xyx5633 petrol 44 this is my defination of class SMALL\n"
     ]
    }
   ],
   "source": [
    "print(c)"
   ]
  },
  {
   "cell_type": "code",
   "execution_count": 31,
   "id": "b6a6f405",
   "metadata": {},
   "outputs": [],
   "source": [
    "c1=car(t,e,\"this is my def of engine class\")                    #dynamic incapsulation"
   ]
  },
  {
   "cell_type": "code",
   "execution_count": 32,
   "id": "6a48002e",
   "metadata": {},
   "outputs": [
    {
     "name": "stdout",
     "output_type": "stream",
     "text": [
      "xyx5633 petrol 44 this is my def of engine class\n"
     ]
    }
   ],
   "source": [
    "print(c1)"
   ]
  },
  {
   "cell_type": "markdown",
   "id": "d267ee0a",
   "metadata": {},
   "source": [
    "# Polymorphism "
   ]
  },
  {
   "cell_type": "code",
   "execution_count": 35,
   "id": "bb446646",
   "metadata": {},
   "outputs": [],
   "source": [
    "def add(a,b):\n",
    "    return a+b"
   ]
  },
  {
   "cell_type": "code",
   "execution_count": 36,
   "id": "b193ab60",
   "metadata": {},
   "outputs": [
    {
     "data": {
      "text/plain": [
       "9"
      ]
     },
     "execution_count": 36,
     "metadata": {},
     "output_type": "execute_result"
    }
   ],
   "source": [
    "add(4,5)"
   ]
  },
  {
   "cell_type": "code",
   "execution_count": 37,
   "id": "52cae3a2",
   "metadata": {},
   "outputs": [
    {
     "data": {
      "text/plain": [
       "'abcsdf'"
      ]
     },
     "execution_count": 37,
     "metadata": {},
     "output_type": "execute_result"
    }
   ],
   "source": [
    "add('abc','sdf')"
   ]
  },
  {
   "cell_type": "code",
   "execution_count": 38,
   "id": "3305836f",
   "metadata": {},
   "outputs": [
    {
     "data": {
      "text/plain": [
       "[1, 2, 3, 4, 5, 6, 7, 8]"
      ]
     },
     "execution_count": 38,
     "metadata": {},
     "output_type": "execute_result"
    }
   ],
   "source": [
    "add([1,2,3,4],[5,6,7,8])"
   ]
  },
  {
   "cell_type": "code",
   "execution_count": 39,
   "id": "e831a335",
   "metadata": {},
   "outputs": [],
   "source": [
    "def mult(a,b):\n",
    "    return a*b"
   ]
  },
  {
   "cell_type": "code",
   "execution_count": 40,
   "id": "33a85c32",
   "metadata": {},
   "outputs": [
    {
     "data": {
      "text/plain": [
       "20"
      ]
     },
     "execution_count": 40,
     "metadata": {},
     "output_type": "execute_result"
    }
   ],
   "source": [
    "mult(4,5)"
   ]
  },
  {
   "cell_type": "code",
   "execution_count": 41,
   "id": "1a788f32",
   "metadata": {},
   "outputs": [
    {
     "ename": "TypeError",
     "evalue": "can't multiply sequence by non-int of type 'str'",
     "output_type": "error",
     "traceback": [
      "\u001b[1;31m---------------------------------------------------------------------------\u001b[0m",
      "\u001b[1;31mTypeError\u001b[0m                                 Traceback (most recent call last)",
      "\u001b[1;32m~\\AppData\\Local\\Temp\\ipykernel_15616\\2686406731.py\u001b[0m in \u001b[0;36m<cell line: 1>\u001b[1;34m()\u001b[0m\n\u001b[1;32m----> 1\u001b[1;33m \u001b[0mmult\u001b[0m\u001b[1;33m(\u001b[0m\u001b[1;34m'abc'\u001b[0m\u001b[1;33m,\u001b[0m\u001b[1;34m'sdf'\u001b[0m\u001b[1;33m)\u001b[0m\u001b[1;33m\u001b[0m\u001b[1;33m\u001b[0m\u001b[0m\n\u001b[0m",
      "\u001b[1;32m~\\AppData\\Local\\Temp\\ipykernel_15616\\3060703238.py\u001b[0m in \u001b[0;36mmult\u001b[1;34m(a, b)\u001b[0m\n\u001b[0;32m      1\u001b[0m \u001b[1;32mdef\u001b[0m \u001b[0mmult\u001b[0m\u001b[1;33m(\u001b[0m\u001b[0ma\u001b[0m\u001b[1;33m,\u001b[0m\u001b[0mb\u001b[0m\u001b[1;33m)\u001b[0m\u001b[1;33m:\u001b[0m\u001b[1;33m\u001b[0m\u001b[1;33m\u001b[0m\u001b[0m\n\u001b[1;32m----> 2\u001b[1;33m     \u001b[1;32mreturn\u001b[0m \u001b[0ma\u001b[0m\u001b[1;33m*\u001b[0m\u001b[0mb\u001b[0m\u001b[1;33m\u001b[0m\u001b[1;33m\u001b[0m\u001b[0m\n\u001b[0m",
      "\u001b[1;31mTypeError\u001b[0m: can't multiply sequence by non-int of type 'str'"
     ]
    }
   ],
   "source": [
    "mult('abc','sdf')"
   ]
  },
  {
   "cell_type": "code",
   "execution_count": 42,
   "id": "3bb27a24",
   "metadata": {},
   "outputs": [
    {
     "ename": "TypeError",
     "evalue": "can't multiply sequence by non-int of type 'list'",
     "output_type": "error",
     "traceback": [
      "\u001b[1;31m---------------------------------------------------------------------------\u001b[0m",
      "\u001b[1;31mTypeError\u001b[0m                                 Traceback (most recent call last)",
      "\u001b[1;32m~\\AppData\\Local\\Temp\\ipykernel_15616\\450459303.py\u001b[0m in \u001b[0;36m<cell line: 1>\u001b[1;34m()\u001b[0m\n\u001b[1;32m----> 1\u001b[1;33m \u001b[0mmult\u001b[0m\u001b[1;33m(\u001b[0m\u001b[1;33m[\u001b[0m\u001b[1;36m1\u001b[0m\u001b[1;33m,\u001b[0m\u001b[1;36m2\u001b[0m\u001b[1;33m,\u001b[0m\u001b[1;36m3\u001b[0m\u001b[1;33m,\u001b[0m\u001b[1;36m4\u001b[0m\u001b[1;33m]\u001b[0m\u001b[1;33m,\u001b[0m\u001b[1;33m[\u001b[0m\u001b[1;36m5\u001b[0m\u001b[1;33m,\u001b[0m\u001b[1;36m6\u001b[0m\u001b[1;33m,\u001b[0m\u001b[1;36m7\u001b[0m\u001b[1;33m,\u001b[0m\u001b[1;36m8\u001b[0m\u001b[1;33m]\u001b[0m\u001b[1;33m)\u001b[0m\u001b[1;33m\u001b[0m\u001b[1;33m\u001b[0m\u001b[0m\n\u001b[0m",
      "\u001b[1;32m~\\AppData\\Local\\Temp\\ipykernel_15616\\3060703238.py\u001b[0m in \u001b[0;36mmult\u001b[1;34m(a, b)\u001b[0m\n\u001b[0;32m      1\u001b[0m \u001b[1;32mdef\u001b[0m \u001b[0mmult\u001b[0m\u001b[1;33m(\u001b[0m\u001b[0ma\u001b[0m\u001b[1;33m,\u001b[0m\u001b[0mb\u001b[0m\u001b[1;33m)\u001b[0m\u001b[1;33m:\u001b[0m\u001b[1;33m\u001b[0m\u001b[1;33m\u001b[0m\u001b[0m\n\u001b[1;32m----> 2\u001b[1;33m     \u001b[1;32mreturn\u001b[0m \u001b[0ma\u001b[0m\u001b[1;33m*\u001b[0m\u001b[0mb\u001b[0m\u001b[1;33m\u001b[0m\u001b[1;33m\u001b[0m\u001b[0m\n\u001b[0m",
      "\u001b[1;31mTypeError\u001b[0m: can't multiply sequence by non-int of type 'list'"
     ]
    }
   ],
   "source": [
    "mult([1,2,3,4],[5,6,7,8])"
   ]
  },
  {
   "cell_type": "code",
   "execution_count": null,
   "id": "753f5e71",
   "metadata": {},
   "outputs": [],
   "source": []
  }
 ],
 "metadata": {
  "kernelspec": {
   "display_name": "Python 3 (ipykernel)",
   "language": "python",
   "name": "python3"
  },
  "language_info": {
   "codemirror_mode": {
    "name": "ipython",
    "version": 3
   },
   "file_extension": ".py",
   "mimetype": "text/x-python",
   "name": "python",
   "nbconvert_exporter": "python",
   "pygments_lexer": "ipython3",
   "version": "3.8.10"
  }
 },
 "nbformat": 4,
 "nbformat_minor": 5
}
