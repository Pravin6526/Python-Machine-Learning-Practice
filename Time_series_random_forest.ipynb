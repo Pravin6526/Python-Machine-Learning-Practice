{
 "cells": [
  {
   "cell_type": "code",
   "execution_count": 1,
   "metadata": {},
   "outputs": [],
   "source": [
    "import pandas as pd\n",
    "from sklearn.feature_selection import RFE"
   ]
  },
  {
   "cell_type": "code",
   "execution_count": 4,
   "metadata": {},
   "outputs": [],
   "source": [
    "from sklearn.ensemble import RandomForestRegressor\n",
    "from pandas import DataFrame\n",
    "import numpy as np\n",
    "from datetime import timedelta\n",
    "#import Calender"
   ]
  },
  {
   "cell_type": "code",
   "execution_count": 5,
   "metadata": {},
   "outputs": [
    {
     "data": {
      "text/html": [
       "<div>\n",
       "<style scoped>\n",
       "    .dataframe tbody tr th:only-of-type {\n",
       "        vertical-align: middle;\n",
       "    }\n",
       "\n",
       "    .dataframe tbody tr th {\n",
       "        vertical-align: top;\n",
       "    }\n",
       "\n",
       "    .dataframe thead th {\n",
       "        text-align: right;\n",
       "    }\n",
       "</style>\n",
       "<table border=\"1\" class=\"dataframe\">\n",
       "  <thead>\n",
       "    <tr style=\"text-align: right;\">\n",
       "      <th></th>\n",
       "      <th>date_time</th>\n",
       "      <th>deg_C</th>\n",
       "      <th>relative_humidity</th>\n",
       "      <th>absolute_humidity</th>\n",
       "      <th>sensor_1</th>\n",
       "      <th>sensor_2</th>\n",
       "      <th>sensor_3</th>\n",
       "      <th>sensor_4</th>\n",
       "      <th>sensor_5</th>\n",
       "      <th>target_carbon_monoxide</th>\n",
       "      <th>target_benzene</th>\n",
       "      <th>target_nitrogen_oxides</th>\n",
       "    </tr>\n",
       "  </thead>\n",
       "  <tbody>\n",
       "    <tr>\n",
       "      <th>0</th>\n",
       "      <td>2010-03-10 18:00:00</td>\n",
       "      <td>13.1</td>\n",
       "      <td>46.0</td>\n",
       "      <td>0.7578</td>\n",
       "      <td>1387.2</td>\n",
       "      <td>1087.8</td>\n",
       "      <td>1056.0</td>\n",
       "      <td>1742.8</td>\n",
       "      <td>1293.4</td>\n",
       "      <td>2.5</td>\n",
       "      <td>12.0</td>\n",
       "      <td>167.7</td>\n",
       "    </tr>\n",
       "    <tr>\n",
       "      <th>1</th>\n",
       "      <td>2010-03-10 19:00:00</td>\n",
       "      <td>13.2</td>\n",
       "      <td>45.3</td>\n",
       "      <td>0.7255</td>\n",
       "      <td>1279.1</td>\n",
       "      <td>888.2</td>\n",
       "      <td>1197.5</td>\n",
       "      <td>1449.9</td>\n",
       "      <td>1010.9</td>\n",
       "      <td>2.1</td>\n",
       "      <td>9.9</td>\n",
       "      <td>98.9</td>\n",
       "    </tr>\n",
       "    <tr>\n",
       "      <th>2</th>\n",
       "      <td>2010-03-10 20:00:00</td>\n",
       "      <td>12.6</td>\n",
       "      <td>56.2</td>\n",
       "      <td>0.7502</td>\n",
       "      <td>1331.9</td>\n",
       "      <td>929.6</td>\n",
       "      <td>1060.2</td>\n",
       "      <td>1586.1</td>\n",
       "      <td>1117.0</td>\n",
       "      <td>2.2</td>\n",
       "      <td>9.2</td>\n",
       "      <td>127.1</td>\n",
       "    </tr>\n",
       "    <tr>\n",
       "      <th>3</th>\n",
       "      <td>2010-03-10 21:00:00</td>\n",
       "      <td>11.0</td>\n",
       "      <td>62.4</td>\n",
       "      <td>0.7867</td>\n",
       "      <td>1321.0</td>\n",
       "      <td>929.0</td>\n",
       "      <td>1102.9</td>\n",
       "      <td>1536.5</td>\n",
       "      <td>1263.2</td>\n",
       "      <td>2.2</td>\n",
       "      <td>9.7</td>\n",
       "      <td>177.2</td>\n",
       "    </tr>\n",
       "    <tr>\n",
       "      <th>4</th>\n",
       "      <td>2010-03-10 22:00:00</td>\n",
       "      <td>11.9</td>\n",
       "      <td>59.0</td>\n",
       "      <td>0.7888</td>\n",
       "      <td>1272.0</td>\n",
       "      <td>852.7</td>\n",
       "      <td>1180.9</td>\n",
       "      <td>1415.5</td>\n",
       "      <td>1132.2</td>\n",
       "      <td>1.5</td>\n",
       "      <td>6.4</td>\n",
       "      <td>121.8</td>\n",
       "    </tr>\n",
       "  </tbody>\n",
       "</table>\n",
       "</div>"
      ],
      "text/plain": [
       "             date_time  deg_C  relative_humidity  absolute_humidity  sensor_1  \\\n",
       "0  2010-03-10 18:00:00   13.1               46.0             0.7578    1387.2   \n",
       "1  2010-03-10 19:00:00   13.2               45.3             0.7255    1279.1   \n",
       "2  2010-03-10 20:00:00   12.6               56.2             0.7502    1331.9   \n",
       "3  2010-03-10 21:00:00   11.0               62.4             0.7867    1321.0   \n",
       "4  2010-03-10 22:00:00   11.9               59.0             0.7888    1272.0   \n",
       "\n",
       "   sensor_2  sensor_3  sensor_4  sensor_5  target_carbon_monoxide  \\\n",
       "0    1087.8    1056.0    1742.8    1293.4                     2.5   \n",
       "1     888.2    1197.5    1449.9    1010.9                     2.1   \n",
       "2     929.6    1060.2    1586.1    1117.0                     2.2   \n",
       "3     929.0    1102.9    1536.5    1263.2                     2.2   \n",
       "4     852.7    1180.9    1415.5    1132.2                     1.5   \n",
       "\n",
       "   target_benzene  target_nitrogen_oxides  \n",
       "0            12.0                   167.7  \n",
       "1             9.9                    98.9  \n",
       "2             9.2                   127.1  \n",
       "3             9.7                   177.2  \n",
       "4             6.4                   121.8  "
      ]
     },
     "execution_count": 5,
     "metadata": {},
     "output_type": "execute_result"
    }
   ],
   "source": [
    "df_train = pd.read_csv('train.csv')\n",
    "df_train.head()"
   ]
  },
  {
   "cell_type": "code",
   "execution_count": 7,
   "metadata": {},
   "outputs": [
    {
     "ename": "AttributeError",
     "evalue": "'DataFrame' object has no attribute 'value'",
     "output_type": "error",
     "traceback": [
      "\u001b[1;31m---------------------------------------------------------------------------\u001b[0m",
      "\u001b[1;31mAttributeError\u001b[0m                            Traceback (most recent call last)",
      "\u001b[1;32m<ipython-input-7-3aa4dd312b6b>\u001b[0m in \u001b[0;36m<module>\u001b[1;34m\u001b[0m\n\u001b[0;32m      1\u001b[0m \u001b[1;32mfrom\u001b[0m \u001b[0mstatsmodels\u001b[0m\u001b[1;33m.\u001b[0m\u001b[0mtsa\u001b[0m\u001b[1;33m.\u001b[0m\u001b[0mstattools\u001b[0m \u001b[1;32mimport\u001b[0m \u001b[0madfuller\u001b[0m\u001b[1;33m\u001b[0m\u001b[1;33m\u001b[0m\u001b[0m\n\u001b[0;32m      2\u001b[0m \u001b[1;32mfrom\u001b[0m \u001b[0mnumpy\u001b[0m \u001b[1;32mimport\u001b[0m \u001b[0mlog\u001b[0m\u001b[1;33m\u001b[0m\u001b[1;33m\u001b[0m\u001b[0m\n\u001b[1;32m----> 3\u001b[1;33m \u001b[0mresult\u001b[0m \u001b[1;33m=\u001b[0m \u001b[0madfuller\u001b[0m\u001b[1;33m(\u001b[0m\u001b[0mdf_train\u001b[0m\u001b[1;33m.\u001b[0m\u001b[0mvalue\u001b[0m\u001b[1;33m.\u001b[0m\u001b[0mdropna\u001b[0m\u001b[1;33m(\u001b[0m\u001b[1;33m)\u001b[0m\u001b[1;33m)\u001b[0m\u001b[1;33m\u001b[0m\u001b[1;33m\u001b[0m\u001b[0m\n\u001b[0m\u001b[0;32m      4\u001b[0m \u001b[0mprint\u001b[0m\u001b[1;33m(\u001b[0m\u001b[1;34m'p-value: %f'\u001b[0m \u001b[1;33m%\u001b[0m \u001b[0mresult\u001b[0m\u001b[1;33m[\u001b[0m\u001b[1;36m1\u001b[0m\u001b[1;33m]\u001b[0m\u001b[1;33m)\u001b[0m\u001b[1;33m\u001b[0m\u001b[1;33m\u001b[0m\u001b[0m\n",
      "\u001b[1;32m~\\Anaconda3\\lib\\site-packages\\pandas\\core\\generic.py\u001b[0m in \u001b[0;36m__getattr__\u001b[1;34m(self, name)\u001b[0m\n\u001b[0;32m   5137\u001b[0m             \u001b[1;32mif\u001b[0m \u001b[0mself\u001b[0m\u001b[1;33m.\u001b[0m\u001b[0m_info_axis\u001b[0m\u001b[1;33m.\u001b[0m\u001b[0m_can_hold_identifiers_and_holds_name\u001b[0m\u001b[1;33m(\u001b[0m\u001b[0mname\u001b[0m\u001b[1;33m)\u001b[0m\u001b[1;33m:\u001b[0m\u001b[1;33m\u001b[0m\u001b[1;33m\u001b[0m\u001b[0m\n\u001b[0;32m   5138\u001b[0m                 \u001b[1;32mreturn\u001b[0m \u001b[0mself\u001b[0m\u001b[1;33m[\u001b[0m\u001b[0mname\u001b[0m\u001b[1;33m]\u001b[0m\u001b[1;33m\u001b[0m\u001b[1;33m\u001b[0m\u001b[0m\n\u001b[1;32m-> 5139\u001b[1;33m             \u001b[1;32mreturn\u001b[0m \u001b[0mobject\u001b[0m\u001b[1;33m.\u001b[0m\u001b[0m__getattribute__\u001b[0m\u001b[1;33m(\u001b[0m\u001b[0mself\u001b[0m\u001b[1;33m,\u001b[0m \u001b[0mname\u001b[0m\u001b[1;33m)\u001b[0m\u001b[1;33m\u001b[0m\u001b[1;33m\u001b[0m\u001b[0m\n\u001b[0m\u001b[0;32m   5140\u001b[0m \u001b[1;33m\u001b[0m\u001b[0m\n\u001b[0;32m   5141\u001b[0m     \u001b[1;32mdef\u001b[0m \u001b[0m__setattr__\u001b[0m\u001b[1;33m(\u001b[0m\u001b[0mself\u001b[0m\u001b[1;33m,\u001b[0m \u001b[0mname\u001b[0m\u001b[1;33m:\u001b[0m \u001b[0mstr\u001b[0m\u001b[1;33m,\u001b[0m \u001b[0mvalue\u001b[0m\u001b[1;33m)\u001b[0m \u001b[1;33m->\u001b[0m \u001b[1;32mNone\u001b[0m\u001b[1;33m:\u001b[0m\u001b[1;33m\u001b[0m\u001b[1;33m\u001b[0m\u001b[0m\n",
      "\u001b[1;31mAttributeError\u001b[0m: 'DataFrame' object has no attribute 'value'"
     ]
    }
   ],
   "source": [
    "from statsmodels.tsa.stattools import adfuller\n",
    "from numpy import log\n",
    "result = adfuller(df_train.value.dropna())\n",
    "print('p-value: %f' % result[1])"
   ]
  },
  {
   "cell_type": "code",
   "execution_count": null,
   "metadata": {},
   "outputs": [],
   "source": []
  }
 ],
 "metadata": {
  "kernelspec": {
   "display_name": "Python 3",
   "language": "python",
   "name": "python3"
  },
  "language_info": {
   "codemirror_mode": {
    "name": "ipython",
    "version": 3
   },
   "file_extension": ".py",
   "mimetype": "text/x-python",
   "name": "python",
   "nbconvert_exporter": "python",
   "pygments_lexer": "ipython3",
   "version": "3.8.5"
  }
 },
 "nbformat": 4,
 "nbformat_minor": 4
}
