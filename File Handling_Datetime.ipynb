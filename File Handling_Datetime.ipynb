{
 "cells": [
  {
   "cell_type": "code",
   "execution_count": 1,
   "id": "ea19b153",
   "metadata": {},
   "outputs": [
    {
     "data": {
      "text/plain": [
       "['ghgxhwh', 'dejjij', 'djij', 'djij', 'oqkz', 'sdgd', 'ydud']"
      ]
     },
     "execution_count": 1,
     "metadata": {},
     "output_type": "execute_result"
    }
   ],
   "source": [
    "\"ghgxhwh dejjij djij djij oqkz sdgd ydud\".split()"
   ]
  },
  {
   "cell_type": "code",
   "execution_count": 2,
   "id": "10a76bee",
   "metadata": {},
   "outputs": [],
   "source": [
    "import datetime"
   ]
  },
  {
   "cell_type": "code",
   "execution_count": 3,
   "id": "f4c3cdfd",
   "metadata": {},
   "outputs": [
    {
     "data": {
      "text/plain": [
       "datetime.datetime(2022, 9, 9, 1, 11, 28, 998401)"
      ]
     },
     "execution_count": 3,
     "metadata": {},
     "output_type": "execute_result"
    }
   ],
   "source": [
    "datetime.datetime.now()"
   ]
  },
  {
   "cell_type": "code",
   "execution_count": 4,
   "id": "9fda79cf",
   "metadata": {},
   "outputs": [
    {
     "data": {
      "text/plain": [
       "datetime.datetime"
      ]
     },
     "execution_count": 4,
     "metadata": {},
     "output_type": "execute_result"
    }
   ],
   "source": [
    "type(datetime.datetime.now())"
   ]
  },
  {
   "cell_type": "code",
   "execution_count": 5,
   "id": "dd45b55b",
   "metadata": {},
   "outputs": [
    {
     "data": {
      "text/plain": [
       "datetime.date(2022, 9, 9)"
      ]
     },
     "execution_count": 5,
     "metadata": {},
     "output_type": "execute_result"
    }
   ],
   "source": [
    "datetime.date.today()"
   ]
  },
  {
   "cell_type": "code",
   "execution_count": 6,
   "id": "3f7cf88e",
   "metadata": {},
   "outputs": [
    {
     "data": {
      "text/plain": [
       "['MAXYEAR',\n",
       " 'MINYEAR',\n",
       " '__builtins__',\n",
       " '__cached__',\n",
       " '__doc__',\n",
       " '__file__',\n",
       " '__loader__',\n",
       " '__name__',\n",
       " '__package__',\n",
       " '__spec__',\n",
       " 'date',\n",
       " 'datetime',\n",
       " 'datetime_CAPI',\n",
       " 'sys',\n",
       " 'time',\n",
       " 'timedelta',\n",
       " 'timezone',\n",
       " 'tzinfo']"
      ]
     },
     "execution_count": 6,
     "metadata": {},
     "output_type": "execute_result"
    }
   ],
   "source": [
    "dir(datetime)"
   ]
  },
  {
   "cell_type": "code",
   "execution_count": 7,
   "id": "428729dd",
   "metadata": {},
   "outputs": [
    {
     "name": "stdout",
     "output_type": "stream",
     "text": [
      "Today's date is: 9\n",
      "Today's month is: 9\n",
      "Today's year is: 2022\n"
     ]
    }
   ],
   "source": [
    "import datetime\n",
    "from datetime import date\n",
    "today=date.today()\n",
    "print(\"Today's date is:\",today.day)\n",
    "print(\"Today's month is:\",today.month)\n",
    "print(\"Today's year is:\",today.year)"
   ]
  },
  {
   "cell_type": "code",
   "execution_count": 8,
   "id": "56affb1c",
   "metadata": {},
   "outputs": [
    {
     "name": "stdout",
     "output_type": "stream",
     "text": [
      "Current hour is: 7\n",
      "current Minutes is: 55\n",
      "Seconds: 50\n",
      "microseconds: 0\n"
     ]
    }
   ],
   "source": [
    "from datetime import time\n",
    "t=time(7,55,50)\n",
    "print(\"Current hour is:\",t.hour)\n",
    "print(\"current Minutes is:\",t.minute)\n",
    "print(\"Seconds:\",t.second)\n",
    "print(\"microseconds:\",t.microsecond)"
   ]
  },
  {
   "cell_type": "markdown",
   "id": "237405d6",
   "metadata": {},
   "source": [
    "#    File Handling"
   ]
  },
  {
   "cell_type": "code",
   "execution_count": 9,
   "id": "e8cc59e8",
   "metadata": {},
   "outputs": [],
   "source": [
    "import os"
   ]
  },
  {
   "cell_type": "code",
   "execution_count": 10,
   "id": "70707efd",
   "metadata": {},
   "outputs": [],
   "source": [
    "os.chdir(\"C://Users//2000139//OneDrive - TCS COM PROD//Desktop//dataset\")"
   ]
  },
  {
   "cell_type": "code",
   "execution_count": 11,
   "id": "ce3a47b5",
   "metadata": {},
   "outputs": [
    {
     "data": {
      "text/plain": [
       "<_io.TextIOWrapper name='india.txt' mode='r' encoding='cp1252'>"
      ]
     },
     "execution_count": 11,
     "metadata": {},
     "output_type": "execute_result"
    }
   ],
   "source": [
    "open(\"india.txt\",mode='r')"
   ]
  },
  {
   "cell_type": "code",
   "execution_count": 12,
   "id": "7a1db3a2",
   "metadata": {},
   "outputs": [
    {
     "data": {
      "text/plain": [
       "<_io.TextIOWrapper name='india.txt' mode='w' encoding='cp1252'>"
      ]
     },
     "execution_count": 12,
     "metadata": {},
     "output_type": "execute_result"
    }
   ],
   "source": [
    "open(\"india.txt\",mode='w')"
   ]
  },
  {
   "cell_type": "code",
   "execution_count": 13,
   "id": "c87ac2d6",
   "metadata": {},
   "outputs": [],
   "source": [
    "#'r'- read.'w'-write, 'x'-execute, 'a'=append, 't'-text, 'b'-binary '+'-read and write \n",
    "f=open(\"india.txt\",mode='r',encoding=\"utf-8\")   \n",
    "f.close()"
   ]
  },
  {
   "cell_type": "code",
   "execution_count": 14,
   "id": "3cac33d6",
   "metadata": {},
   "outputs": [],
   "source": [
    "try:\n",
    "    f=open(\"india.txt\",mode='r',encoding=\"utf-8\")\n",
    "finally:\n",
    "    f.close()"
   ]
  },
  {
   "cell_type": "code",
   "execution_count": 15,
   "id": "5efc2fef",
   "metadata": {},
   "outputs": [],
   "source": [
    "with open(\"india.txt\",mode='w') as f:\n",
    "    f.write(\"Hello Everyone we are Learning file Handling \\n\")\n",
    "    f.write(\"hii i am Pravin Bhauso Katkar \\n\")\n",
    "    f.write(\"Goodbye Guy's !!! \\n\")\n",
    "    f.close()"
   ]
  },
  {
   "cell_type": "code",
   "execution_count": 16,
   "id": "9899627b",
   "metadata": {},
   "outputs": [],
   "source": [
    "f=open(\"C:\\\\Users\\\\2000139\\\\OneDrive - TCS COM PROD\\\\Desktop\\\\dataset\\\\india.txt\",\"r\")"
   ]
  },
  {
   "cell_type": "code",
   "execution_count": 17,
   "id": "5b538034",
   "metadata": {},
   "outputs": [
    {
     "data": {
      "text/plain": [
       "\"Hello Everyone we are Learning file Handling \\nhii i am Pravin Bhauso Katkar \\nGoodbye Guy's !!! \\n\""
      ]
     },
     "execution_count": 17,
     "metadata": {},
     "output_type": "execute_result"
    }
   ],
   "source": [
    "f.read()"
   ]
  },
  {
   "cell_type": "code",
   "execution_count": 18,
   "id": "a6b78a9f",
   "metadata": {},
   "outputs": [
    {
     "data": {
      "text/plain": [
       "''"
      ]
     },
     "execution_count": 18,
     "metadata": {},
     "output_type": "execute_result"
    }
   ],
   "source": [
    "f.read()"
   ]
  },
  {
   "cell_type": "code",
   "execution_count": 19,
   "id": "0515e24f",
   "metadata": {},
   "outputs": [
    {
     "data": {
      "text/plain": [
       "99"
      ]
     },
     "execution_count": 19,
     "metadata": {},
     "output_type": "execute_result"
    }
   ],
   "source": [
    "f.tell()"
   ]
  },
  {
   "cell_type": "code",
   "execution_count": 20,
   "id": "55fa56cd",
   "metadata": {},
   "outputs": [
    {
     "data": {
      "text/plain": [
       "99"
      ]
     },
     "execution_count": 20,
     "metadata": {},
     "output_type": "execute_result"
    }
   ],
   "source": [
    "f.tell()"
   ]
  },
  {
   "cell_type": "code",
   "execution_count": 21,
   "id": "5d715339",
   "metadata": {},
   "outputs": [
    {
     "data": {
      "text/plain": [
       "0"
      ]
     },
     "execution_count": 21,
     "metadata": {},
     "output_type": "execute_result"
    }
   ],
   "source": [
    "f.seek(0)"
   ]
  },
  {
   "cell_type": "code",
   "execution_count": 22,
   "id": "44ebeca3",
   "metadata": {},
   "outputs": [
    {
     "data": {
      "text/plain": [
       "'Hello'"
      ]
     },
     "execution_count": 22,
     "metadata": {},
     "output_type": "execute_result"
    }
   ],
   "source": [
    "f.read(5)"
   ]
  },
  {
   "cell_type": "code",
   "execution_count": 23,
   "id": "0443f355",
   "metadata": {},
   "outputs": [
    {
     "data": {
      "text/plain": [
       "\" Everyone we are Learning file Handling \\nhii i am Pravin Bhauso Katkar \\nGoodbye Guy's !!! \\n\""
      ]
     },
     "execution_count": 23,
     "metadata": {},
     "output_type": "execute_result"
    }
   ],
   "source": [
    "f.read()"
   ]
  },
  {
   "cell_type": "code",
   "execution_count": 24,
   "id": "f655cc78",
   "metadata": {},
   "outputs": [
    {
     "name": "stdout",
     "output_type": "stream",
     "text": [
      "\n"
     ]
    }
   ],
   "source": [
    "print(f.read())"
   ]
  },
  {
   "cell_type": "code",
   "execution_count": 25,
   "id": "7053f4b1",
   "metadata": {},
   "outputs": [
    {
     "data": {
      "text/plain": [
       "''"
      ]
     },
     "execution_count": 25,
     "metadata": {},
     "output_type": "execute_result"
    }
   ],
   "source": [
    "f.readline()"
   ]
  },
  {
   "cell_type": "code",
   "execution_count": 26,
   "id": "b8b3dc1b",
   "metadata": {},
   "outputs": [],
   "source": [
    "for i in f:\n",
    "    print(i,end='')"
   ]
  },
  {
   "cell_type": "code",
   "execution_count": null,
   "id": "7ba34087",
   "metadata": {},
   "outputs": [],
   "source": []
  }
 ],
 "metadata": {
  "kernelspec": {
   "display_name": "Python 3 (ipykernel)",
   "language": "python",
   "name": "python3"
  },
  "language_info": {
   "codemirror_mode": {
    "name": "ipython",
    "version": 3
   },
   "file_extension": ".py",
   "mimetype": "text/x-python",
   "name": "python",
   "nbconvert_exporter": "python",
   "pygments_lexer": "ipython3",
   "version": "3.8.10"
  }
 },
 "nbformat": 4,
 "nbformat_minor": 5
}
