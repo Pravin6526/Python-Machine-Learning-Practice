{
 "cells": [
  {
   "cell_type": "code",
   "execution_count": 1,
   "id": "1f89f224",
   "metadata": {},
   "outputs": [
    {
     "name": "stdout",
     "output_type": "stream",
     "text": [
      "content written successfully\n"
     ]
    }
   ],
   "source": [
    "try:\n",
    "    f=open('testfile','w')\n",
    "    f.write('test write this')\n",
    "except IOError:\n",
    "    print('Error: could not find file or read data')\n",
    "else:\n",
    "    print('content written successfully')\n",
    "    f.close()"
   ]
  },
  {
   "cell_type": "code",
   "execution_count": 2,
   "id": "2f23e180",
   "metadata": {},
   "outputs": [
    {
     "data": {
      "text/plain": [
       "<_io.TextIOWrapper name='xyz.txt' mode='w' encoding='cp1252'>"
      ]
     },
     "execution_count": 2,
     "metadata": {},
     "output_type": "execute_result"
    }
   ],
   "source": [
    "open('xyz.txt','w')"
   ]
  },
  {
   "cell_type": "code",
   "execution_count": 3,
   "id": "c2137869",
   "metadata": {},
   "outputs": [
    {
     "name": "stdout",
     "output_type": "stream",
     "text": [
      "it means try operation worked !!!  \n",
      "This is finally\n"
     ]
    }
   ],
   "source": [
    "try:\n",
    "    open('xyz.txt')\n",
    "except IOerror:\n",
    "    print('please check file exists or not')\n",
    "else:\n",
    "    print('it means try operation worked !!!  ')\n",
    "finally:\n",
    "    print('This is finally')"
   ]
  },
  {
   "cell_type": "code",
   "execution_count": 4,
   "id": "6d34cd87",
   "metadata": {},
   "outputs": [
    {
     "name": "stdout",
     "output_type": "stream",
     "text": [
      "please check file exists or not\n",
      "This is finally\n"
     ]
    }
   ],
   "source": [
    "try:\n",
    "    x=1/0\n",
    "    print(x)\n",
    "except ZeroDivisionError:\n",
    "    print('please check file exists or not')\n",
    "else:\n",
    "    print('it means try operation worked !!!  ')\n",
    "finally:\n",
    "    print('This is finally')"
   ]
  },
  {
   "cell_type": "code",
   "execution_count": 6,
   "id": "8ff67540",
   "metadata": {},
   "outputs": [
    {
     "name": "stdout",
     "output_type": "stream",
     "text": [
      "file is not writable\n"
     ]
    }
   ],
   "source": [
    "try:\n",
    "    f=open('test','r')\n",
    "    f.write('test write this')\n",
    "except:\n",
    "    print('file is not writable')"
   ]
  },
  {
   "cell_type": "code",
   "execution_count": 16,
   "id": "aa728fba",
   "metadata": {},
   "outputs": [],
   "source": [
    "def askint():\n",
    "    try:\n",
    "        val=int(input(\"please enter an integer : \"))\n",
    "    except:\n",
    "        print('looks like you did not write integer')\n",
    "    finally:\n",
    "        print(\"Finally. I Executed\")\n",
    "    print(val)\n",
    "    "
   ]
  },
  {
   "cell_type": "code",
   "execution_count": 17,
   "id": "32ef4773",
   "metadata": {},
   "outputs": [
    {
     "name": "stdout",
     "output_type": "stream",
     "text": [
      "please enter an integer : 45\n",
      "Finally. I Executed\n",
      "45\n"
     ]
    }
   ],
   "source": [
    "askint()"
   ]
  },
  {
   "cell_type": "code",
   "execution_count": 14,
   "id": "eb4248e1",
   "metadata": {},
   "outputs": [
    {
     "name": "stdout",
     "output_type": "stream",
     "text": [
      "this is second exception\n"
     ]
    }
   ],
   "source": [
    "try:\n",
    "    f=open('test','r')\n",
    "    f.write('test write this')\n",
    "except ZeroDivisionError:\n",
    "    print('file is not writable')\n",
    "except:\n",
    "    print('this is second exception')"
   ]
  },
  {
   "cell_type": "code",
   "execution_count": 15,
   "id": "ae122874",
   "metadata": {},
   "outputs": [
    {
     "name": "stdout",
     "output_type": "stream",
     "text": [
      "this is second exception\n"
     ]
    }
   ],
   "source": [
    "try:\n",
    "    f=open('test','r')\n",
    "    f.write('test write this')\n",
    "except ZeroDivisionError:\n",
    "    print('file is not writable')\n",
    "except FileNotFoundError:\n",
    "    print('this is second exception')\n",
    "except:\n",
    "    print('this is third exception')"
   ]
  },
  {
   "cell_type": "code",
   "execution_count": null,
   "id": "79795511",
   "metadata": {},
   "outputs": [],
   "source": []
  },
  {
   "cell_type": "code",
   "execution_count": null,
   "id": "3fc3806e",
   "metadata": {},
   "outputs": [],
   "source": []
  }
 ],
 "metadata": {
  "kernelspec": {
   "display_name": "Python 3 (ipykernel)",
   "language": "python",
   "name": "python3"
  },
  "language_info": {
   "codemirror_mode": {
    "name": "ipython",
    "version": 3
   },
   "file_extension": ".py",
   "mimetype": "text/x-python",
   "name": "python",
   "nbconvert_exporter": "python",
   "pygments_lexer": "ipython3",
   "version": "3.8.10"
  }
 },
 "nbformat": 4,
 "nbformat_minor": 5
}
