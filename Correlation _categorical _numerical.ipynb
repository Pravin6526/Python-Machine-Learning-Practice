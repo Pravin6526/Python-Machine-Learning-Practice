{
 "cells": [
  {
   "cell_type": "code",
   "execution_count": 2,
   "metadata": {},
   "outputs": [],
   "source": [
    "#If your categorical variable is dichotomous (only two values),\n",
    "#then you can use the point-biserial correlation. There is a function to do this in the ltm package."
   ]
  },
  {
   "cell_type": "code",
   "execution_count": 9,
   "metadata": {},
   "outputs": [
    {
     "ename": "NameError",
     "evalue": "name 'library' is not defined",
     "output_type": "error",
     "traceback": [
      "\u001b[1;31m---------------------------------------------------------------------------\u001b[0m",
      "\u001b[1;31mNameError\u001b[0m                                 Traceback (most recent call last)",
      "\u001b[1;32m<ipython-input-9-d45cc76530cf>\u001b[0m in \u001b[0;36m<module>\u001b[1;34m\u001b[0m\n\u001b[1;32m----> 1\u001b[1;33m \u001b[0mlibrary\u001b[0m\u001b[1;33m(\u001b[0m\u001b[0mltm\u001b[0m\u001b[1;33m)\u001b[0m\u001b[1;33m\u001b[0m\u001b[1;33m\u001b[0m\u001b[0m\n\u001b[0m\u001b[0;32m      2\u001b[0m \u001b[1;31m# weakly correlated example\u001b[0m\u001b[1;33m\u001b[0m\u001b[1;33m\u001b[0m\u001b[1;33m\u001b[0m\u001b[0m\n\u001b[0;32m      3\u001b[0m \u001b[0mset\u001b[0m\u001b[1;33m.\u001b[0m\u001b[0mseed\u001b[0m\u001b[1;33m(\u001b[0m\u001b[1;36m123\u001b[0m\u001b[1;33m)\u001b[0m\u001b[1;33m\u001b[0m\u001b[1;33m\u001b[0m\u001b[0m\n\u001b[0;32m      4\u001b[0m \u001b[0mx\u001b[0m \u001b[1;33m<\u001b[0m\u001b[1;33m-\u001b[0m \u001b[0mrnorm\u001b[0m\u001b[1;33m(\u001b[0m\u001b[1;36m100\u001b[0m\u001b[1;33m)\u001b[0m\u001b[1;33m\u001b[0m\u001b[1;33m\u001b[0m\u001b[0m\n\u001b[0;32m      5\u001b[0m \u001b[0my\u001b[0m \u001b[1;33m<\u001b[0m\u001b[1;33m-\u001b[0m \u001b[0mfactor\u001b[0m\u001b[1;33m(\u001b[0m\u001b[0msample\u001b[0m\u001b[1;33m(\u001b[0m\u001b[0mc\u001b[0m\u001b[1;33m(\u001b[0m\u001b[1;34m\"A\"\u001b[0m\u001b[1;33m,\u001b[0m \u001b[1;34m\"B\"\u001b[0m\u001b[1;33m)\u001b[0m\u001b[1;33m,\u001b[0m \u001b[1;36m100\u001b[0m\u001b[1;33m,\u001b[0m \u001b[0mreplace\u001b[0m \u001b[1;33m=\u001b[0m \u001b[0mTRUE\u001b[0m\u001b[1;33m)\u001b[0m\u001b[1;33m)\u001b[0m\u001b[1;33m\u001b[0m\u001b[1;33m\u001b[0m\u001b[0m\n",
      "\u001b[1;31mNameError\u001b[0m: name 'library' is not defined"
     ]
    }
   ],
   "source": [
    "library(ltm)\n",
    "# weakly correlated example\n",
    "set.seed(123)\n",
    "x <- rnorm(100)\n",
    "y <- factor(sample(c(\"A\", \"B\"), 100, replace = TRUE))\n",
    "biserial.cor(x, y)\n",
    "\n",
    "# strongly correlated example\n",
    "biserial.cor(mtcars[mpg], mtcars[am])\n"
   ]
  },
  {
   "cell_type": "code",
   "execution_count": 10,
   "metadata": {},
   "outputs": [],
   "source": [
    "#You could do a logistic regression and use various evaluations of it (accuracy, etc.) in place of a correlation coefficient.\n",
    "#Again, this works best if your categorical variable is dichotomous."
   ]
  },
  {
   "cell_type": "code",
   "execution_count": 11,
   "metadata": {},
   "outputs": [
    {
     "ename": "SyntaxError",
     "evalue": "invalid syntax (<ipython-input-11-a1448cf6e2c9>, line 5)",
     "output_type": "error",
     "traceback": [
      "\u001b[1;36m  File \u001b[1;32m\"<ipython-input-11-a1448cf6e2c9>\"\u001b[1;36m, line \u001b[1;32m5\u001b[0m\n\u001b[1;33m    logit <- glm(y ~ x, family = \"binomial\")\u001b[0m\n\u001b[1;37m                   ^\u001b[0m\n\u001b[1;31mSyntaxError\u001b[0m\u001b[1;31m:\u001b[0m invalid syntax\n"
     ]
    }
   ],
   "source": [
    "# weakly correlated\n",
    "set.seed(123)\n",
    "x <- rnorm(100)\n",
    "y <- factor(sample(c(\"A\", \"B\"), 100, replace = TRUE))\n",
    "logit <- glm(y ~ x, family = \"binomial\")\n",
    "# Accuracy\n",
    "sum(round(predict(logit, type = \"response\")) == as.numeric(y)) / length(y)\n",
    "\n",
    "# Sensitivity\n",
    "sum(round(predict(logit, type = \"response\")) == as.numeric(y) & as.numeric(y) == 1) /\n",
    "                         sum(as.numeric(y))\n",
    "\n",
    "# Precision\n",
    "sum(round(predict(logit, type = \"response\")) == as.numeric(y) & as.numeric(y) == 1) /\n",
    "                         sum(round(predict(logit, type = \"response\") == 1))\n",
    "\n",
    "#enter code here\n",
    "# strongly correlated\n",
    "mt_logit <- glm(am~mpg, data = mtcars, family = \"binomial\")\n",
    "mt_pred <- round(predict(mt_logit, type = \"response\"))\n",
    "# Accuracy\n",
    "sum(mt_pred == mtcars$am) / nrow(mtcars)\n",
    "\n",
    "# Sensitivity\n",
    "sum(mt_pred == mtcars$am & mtcars$am == 1) /\n",
    "                         sum(mtcars$am)\n",
    "\n",
    "# Precision\n",
    "sum(mt_pred == mtcars$am & mtcars$am == 1) /\n",
    "                         sum(mt_pred == 1)"
   ]
  },
  {
   "cell_type": "code",
   "execution_count": null,
   "metadata": {},
   "outputs": [],
   "source": []
  }
 ],
 "metadata": {
  "kernelspec": {
   "display_name": "Python 3",
   "language": "python",
   "name": "python3"
  },
  "language_info": {
   "codemirror_mode": {
    "name": "ipython",
    "version": 3
   },
   "file_extension": ".py",
   "mimetype": "text/x-python",
   "name": "python",
   "nbconvert_exporter": "python",
   "pygments_lexer": "ipython3",
   "version": "3.8.5"
  }
 },
 "nbformat": 4,
 "nbformat_minor": 4
}
