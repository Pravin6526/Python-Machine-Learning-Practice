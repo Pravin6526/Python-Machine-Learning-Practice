{
 "cells": [
  {
   "cell_type": "code",
   "execution_count": 1,
   "metadata": {},
   "outputs": [],
   "source": [
    "import json\n",
    "import logging\n",
    "import os\n",
    "from pathlib import Path\n",
    "from urllib.request import urlopen, Request\n",
    "\n",
    "logger = logging.getLogger(__name__)\n",
    "\n",
    "types = {'image/jpeg', 'image/png'}\n",
    "\n",
    "\n",
    "def get_links(client_id):\n",
    "    headers = {'Authorization': 'Client-ID {}'.format(client_id)}\n",
    "    req = Request('https://api.imgur.com/3/gallery/random/random/', headers=headers, method='GET')\n",
    "    with urlopen(req) as resp:\n",
    "        data = json.loads(resp.read().decode('utf-8'))\n",
    "    return [item['link'] for item in data['data'] if 'type' in item and item['type'] in types]\n",
    "\n",
    "\n",
    "def download_link(directory, link):\n",
    "    download_path = directory / os.path.basename(link)\n",
    "    with urlopen(link) as image, download_path.open('wb') as f:\n",
    "        f.write(image.read())\n",
    "    logger.info('Downloaded %s', link)\n",
    "\n",
    "\n",
    "def setup_download_dir():\n",
    "    download_dir = Path('image')\n",
    "    if not download_dir.exists():\n",
    "        download_dir.mkdir()\n",
    "    return download_dir"
   ]
  },
  {
   "cell_type": "code",
   "execution_count": null,
   "metadata": {},
   "outputs": [],
   "source": []
  }
 ],
 "metadata": {
  "kernelspec": {
   "display_name": "Python 3",
   "language": "python",
   "name": "python3"
  },
  "language_info": {
   "codemirror_mode": {
    "name": "ipython",
    "version": 3
   },
   "file_extension": ".py",
   "mimetype": "text/x-python",
   "name": "python",
   "nbconvert_exporter": "python",
   "pygments_lexer": "ipython3",
   "version": "3.8.5"
  }
 },
 "nbformat": 4,
 "nbformat_minor": 4
}
