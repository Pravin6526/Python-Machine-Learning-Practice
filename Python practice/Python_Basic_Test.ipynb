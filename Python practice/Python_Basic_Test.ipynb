{
 "cells": [
  {
   "cell_type": "markdown",
   "metadata": {},
   "source": [
    "1.arrrage str that lowercase char comes first"
   ]
  },
  {
   "cell_type": "code",
   "execution_count": null,
   "metadata": {},
   "outputs": [],
   "source": [
    "x=\"\"\n",
    "y=\"\"\n",
    "a=input(\"ENter your string: \")\n",
    "n=len(a)\n",
    "for i in range(0,n):\n",
    "    if (a[i]==a[i].lower()):\n",
    "        x=x+a[i]\n",
    "    elif (a[i]==a[i].upper()):\n",
    "        y=y+a[i]\n",
    "print(x+y)"
   ]
  },
  {
   "cell_type": "markdown",
   "metadata": {},
   "source": [
    "2.count occurencess of all character"
   ]
  },
  {
   "cell_type": "code",
   "execution_count": 2,
   "metadata": {},
   "outputs": [
    {
     "name": "stdin",
     "output_type": "stream",
     "text": [
      "enter your string: pravinn\n"
     ]
    },
    {
     "name": "stdout",
     "output_type": "stream",
     "text": [
      "Count of all characters in string is :\n",
      " Counter({'n': 2, 'p': 1, 'r': 1, 'a': 1, 'v': 1, 'i': 1})\n"
     ]
    }
   ],
   "source": [
    "from collections import Counter  \n",
    "str1 =input(\"enter your string:\")\n",
    "res = Counter(str1) \n",
    "print (\"Count of all characters in string is :\\n \"+  str(res))"
   ]
  },
  {
   "cell_type": "markdown",
   "metadata": {},
   "source": [
    "3.create third list by pickinng odd index from first list and even index from second list"
   ]
  },
  {
   "cell_type": "code",
   "execution_count": 1,
   "metadata": {},
   "outputs": [
    {
     "name": "stdout",
     "output_type": "stream",
     "text": [
      "[2, 4, 6, 8, 11]\n"
     ]
    }
   ],
   "source": [
    "list1=[1,2,3,4,5]\n",
    "list2=[6,7,8,9,11]\n",
    "list3=list()\n",
    "odd_index=list1[1::2]\n",
    "even_index=list2[0::2]\n",
    "list3.extend(odd_index)\n",
    "list3.extend(even_index)\n",
    "print(list3)"
   ]
  },
  {
   "cell_type": "markdown",
   "metadata": {},
   "source": [
    "4.Given a list slice it into 3 equal chunks and reverse each list"
   ]
  },
  {
   "cell_type": "code",
   "execution_count": 9,
   "metadata": {},
   "outputs": [
    {
     "name": "stdout",
     "output_type": "stream",
     "text": [
      "[3, 2, 1]\n",
      "[6, 5, 4]\n",
      "[9, 8, 7]\n"
     ]
    }
   ],
   "source": [
    "list=[1,2,3,4,5,6,7,8,9]\n",
    "chunk1=slice(3)\n",
    "chunk2=slice(3,6)\n",
    "chunk3=slice(6,9)\n",
    "list1=list[chunk1]\n",
    "list1.reverse()\n",
    "list2=list[chunk2]\n",
    "list2.reverse()\n",
    "list3=list[chunk3]\n",
    "list3.reverse()\n",
    "print(list1)\n",
    "print(list2)\n",
    "print(list3)"
   ]
  },
  {
   "cell_type": "markdown",
   "metadata": {},
   "source": [
    "5.Given a following two sets find the intersection and remove those elements from the first set"
   ]
  },
  {
   "cell_type": "code",
   "execution_count": 8,
   "metadata": {},
   "outputs": [
    {
     "name": "stdout",
     "output_type": "stream",
     "text": [
      "{40, 50, 30}\n",
      "{10, 20}\n"
     ]
    }
   ],
   "source": [
    "set1={10,20,30,40,50}\n",
    "set2={30,40,50,60,60}\n",
    "res=set1.intersection(set2)\n",
    "print(res)\n",
    "print(set1-res)"
   ]
  },
  {
   "cell_type": "markdown",
   "metadata": {},
   "source": [
    "6.Remove duplicate from a list and create a tuple and find the minimum and maximum number"
   ]
  },
  {
   "cell_type": "code",
   "execution_count": 10,
   "metadata": {},
   "outputs": [
    {
     "name": "stdout",
     "output_type": "stream",
     "text": [
      "{1, 2, 4, 5, 6}\n",
      "(1, 2, 4, 5, 2, 1, 6)\n",
      "maximum number is: 6\n",
      "minimum number is: 1\n"
     ]
    }
   ],
   "source": [
    "list=[1,2,4,5,2,1,6]\n",
    "set1=set(list)\n",
    "print(set1)\n",
    "tuple1=tuple(list)\n",
    "print(tuple1)\n",
    "print(\"maximum number is:\",max(tuple1))\n",
    "print(\"minimum number is:\",min(tuple1))"
   ]
  },
  {
   "cell_type": "markdown",
   "metadata": {},
   "source": [
    "7.Armstrong number is a number that is equal to the sum of cubes of its digits. For example, 0, 1, 153, 370, 371 and 407 are the Armstrong numbers. Write a program to check if the input number is Armstrong number or not?"
   ]
  },
  {
   "cell_type": "code",
   "execution_count": 7,
   "metadata": {},
   "outputs": [
    {
     "name": "stdin",
     "output_type": "stream",
     "text": [
      "enter any number: 153\n"
     ]
    },
    {
     "name": "stdout",
     "output_type": "stream",
     "text": [
      "given number is armstrong:\n"
     ]
    }
   ],
   "source": [
    "num=int(input(\"enter any number:\"))\n",
    "sum=0\n",
    "temp=num\n",
    "while temp>0:\n",
    "    digit=temp%10\n",
    "    sum=sum+digit**3\n",
    "    temp=temp//10\n",
    "if(num==sum):\n",
    "    print(\"given number is armstrong:\")\n",
    "else:\n",
    "    print(\"given number is not armstrong\")"
   ]
  },
  {
   "cell_type": "markdown",
   "metadata": {},
   "source": [
    "8 .We have two events and some guests are expected to attend it. Find out which members attended only one event and not the other."
   ]
  },
  {
   "cell_type": "code",
   "execution_count": 5,
   "metadata": {},
   "outputs": [
    {
     "name": "stdout",
     "output_type": "stream",
     "text": [
      "{10, 20}\n"
     ]
    }
   ],
   "source": [
    "set1={10,20,30,40,50}\n",
    "set2={30,40,50,60,60}\n",
    "print(set1.difference(set2))"
   ]
  },
  {
   "cell_type": "markdown",
   "metadata": {},
   "source": [
    "9.Create a module to generate Fibonacci series. Import the module and test the code."
   ]
  },
  {
   "cell_type": "code",
   "execution_count": 4,
   "metadata": {},
   "outputs": [
    {
     "name": "stdout",
     "output_type": "stream",
     "text": [
      "0\n",
      "1\n",
      "1\n",
      "2\n",
      "3\n",
      "5\n",
      "8\n",
      "13\n",
      "21\n",
      "34\n",
      "55\n",
      "89\n"
     ]
    }
   ],
   "source": [
    "def fibo(k):\n",
    "    n1=0\n",
    "    n2=1\n",
    "    print(n1)\n",
    "    print(n2)\n",
    "    for i in range(k):\n",
    "        n3=n1+n2\n",
    "        print(n3)\n",
    "        n1=n2\n",
    "        n2=n3\n",
    "        return\n",
    "fibo(10)"
   ]
  },
  {
   "cell_type": "markdown",
   "metadata": {},
   "source": [
    "10.What is the difference between 2 weeks, 5day, 1 hour and 33 seconds to 4 days, 11 hrs., 4 minutes and 54 seconds"
   ]
  },
  {
   "cell_type": "code",
   "execution_count": null,
   "metadata": {},
   "outputs": [],
   "source": []
  },
  {
   "cell_type": "markdown",
   "metadata": {},
   "source": [
    "11.Calculate the weekly wages per hours in dollars and if the overtime is above 40 then calculate overtime Using formula: - totalWages = hourlyWage*40 + (1.5*hourlyWage) *overtime and wages using formula: - totalWages = hourlyWage*totalHours"
   ]
  },
  {
   "cell_type": "code",
   "execution_count": null,
   "metadata": {},
   "outputs": [],
   "source": [
    "hours = int(input('how many hours did you work? '))\n",
    "rate = 1.5\n",
    "totalrate = (hours/2)+hours*(rate+1.5)\n",
    "if (hours<40):\n",
    " print(\"you earn:\",totalrate)\n",
    "\n",
    "else:\n",
    "    overhours=hours-40\n",
    "    overtime=overhours*rate\n",
    "    totalWages = totalrate + overtime\n",
    "    print(\"you earn:\",totalWages)\n"
   ]
  },
  {
   "cell_type": "markdown",
   "metadata": {},
   "source": []
  }
 ],
 "metadata": {
  "kernelspec": {
   "display_name": "Python 3",
   "language": "python",
   "name": "python3"
  },
  "language_info": {
   "codemirror_mode": {
    "name": "ipython",
    "version": 3
   },
   "file_extension": ".py",
   "mimetype": "text/x-python",
   "name": "python",
   "nbconvert_exporter": "python",
   "pygments_lexer": "ipython3",
   "version": "3.7.1"
  }
 },
 "nbformat": 4,
 "nbformat_minor": 2
}
