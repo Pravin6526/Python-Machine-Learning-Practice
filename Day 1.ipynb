{
 "cells": [
  {
   "cell_type": "code",
   "execution_count": 1,
   "id": "1c6b6975",
   "metadata": {},
   "outputs": [
    {
     "data": {
      "text/plain": [
       "[1, 4, 9, 16, 25, 36, 49, 64, 81, 100]"
      ]
     },
     "execution_count": 1,
     "metadata": {},
     "output_type": "execute_result"
    }
   ],
   "source": [
    "square=[i**2 for i in range(1,11)]\n",
    "square"
   ]
  },
  {
   "cell_type": "code",
   "execution_count": 3,
   "id": "44f23312",
   "metadata": {},
   "outputs": [
    {
     "data": {
      "text/plain": [
       "[2, 4, 6, 8, 10, 12, 14, 16, 12, 8, 6, 10, 18, 18]"
      ]
     },
     "execution_count": 3,
     "metadata": {},
     "output_type": "execute_result"
    }
   ],
   "source": [
    "list1=[1,2,3,4,5,6,7,8,6,4,3,5,9,9]\n",
    "l=[i+i for i in list1]\n",
    "l"
   ]
  },
  {
   "cell_type": "code",
   "execution_count": 10,
   "id": "1288fa94",
   "metadata": {},
   "outputs": [
    {
     "name": "stdout",
     "output_type": "stream",
     "text": [
      "True\n"
     ]
    }
   ],
   "source": [
    "s='nayan'\n",
    "if (s==s[::-1]):\n",
    "    print(\"True\")\n",
    "else:\n",
    "    print(\"False\")"
   ]
  },
  {
   "cell_type": "code",
   "execution_count": 14,
   "id": "6d2484be",
   "metadata": {},
   "outputs": [
    {
     "data": {
      "text/plain": [
       "'hi hello this is good hi'"
      ]
     },
     "execution_count": 14,
     "metadata": {},
     "output_type": "execute_result"
    }
   ],
   "source": [
    "#list to string convert\n",
    "list1=[\"hi\",\"hello\",\"this\",\"is\",\"good\",\"hi\"]\n",
    "list_to_string=' '.join(list1)\n",
    "list_to_string"
   ]
  },
  {
   "cell_type": "code",
   "execution_count": 15,
   "id": "5f954f7c",
   "metadata": {},
   "outputs": [
    {
     "data": {
      "text/plain": [
       "('hi', 'hello', 'this', 'is', 'good', 'hi')"
      ]
     },
     "execution_count": 15,
     "metadata": {},
     "output_type": "execute_result"
    }
   ],
   "source": [
    "#list to Tuple\n",
    "t=tuple(list1)\n",
    "t"
   ]
  },
  {
   "cell_type": "code",
   "execution_count": 16,
   "id": "a47e4116",
   "metadata": {},
   "outputs": [
    {
     "data": {
      "text/plain": [
       "2"
      ]
     },
     "execution_count": 16,
     "metadata": {},
     "output_type": "execute_result"
    }
   ],
   "source": [
    "#count Occurence\n",
    "c=list1.count(\"hi\")\n",
    "c"
   ]
  },
  {
   "cell_type": "code",
   "execution_count": 17,
   "id": "ce5d6b76",
   "metadata": {},
   "outputs": [
    {
     "data": {
      "text/plain": [
       "['hi', 'hello', 'this', 'is', 'good', 'hi', 'Weather ']"
      ]
     },
     "execution_count": 17,
     "metadata": {},
     "output_type": "execute_result"
    }
   ],
   "source": [
    "#append in list\n",
    "list1.append(\"Weather \")\n",
    "list1"
   ]
  },
  {
   "cell_type": "code",
   "execution_count": 69,
   "id": "8093c79a",
   "metadata": {},
   "outputs": [
    {
     "data": {
      "text/plain": [
       "['hi',\n",
       " 'hello',\n",
       " 'this',\n",
       " 'is',\n",
       " 'good',\n",
       " 'hi',\n",
       " 'Weather ',\n",
       " 1,\n",
       " 2,\n",
       " 3,\n",
       " 4,\n",
       " 5,\n",
       " 6,\n",
       " 7,\n",
       " 8,\n",
       " 9,\n",
       " 1,\n",
       " 2,\n",
       " 3,\n",
       " 4,\n",
       " 5,\n",
       " 6,\n",
       " 7,\n",
       " 8,\n",
       " 9]"
      ]
     },
     "execution_count": 69,
     "metadata": {},
     "output_type": "execute_result"
    }
   ],
   "source": [
    "#concat List\n",
    "list2=[1,2,3,4,5,6,7,8,9]\n",
    "list1.extend(list2)\n",
    "list1"
   ]
  },
  {
   "cell_type": "code",
   "execution_count": 70,
   "id": "d748ce51",
   "metadata": {},
   "outputs": [
    {
     "name": "stdout",
     "output_type": "stream",
     "text": [
      "['hi', 'hello', 'this', 'is', 'good', 'hi', 'Weather ', 1, 2, 3, 4, 5, 6, 7, 8, 9, 1, 2, 3, 4, 5, 6, 7, 8, 9, 1, 2, 3, 4, 5, 6, 7, 8, 9] "
     ]
    }
   ],
   "source": [
    "#concat List in single line\n",
    "list2=[1,2,3,4,5,6,7,8,9]\n",
    "list1.extend(list2)\n",
    "print(list1,end=' ')"
   ]
  },
  {
   "cell_type": "code",
   "execution_count": 24,
   "id": "461f7aaa",
   "metadata": {},
   "outputs": [
    {
     "data": {
      "text/plain": [
       "[7, 4, 5, 4, 5]"
      ]
     },
     "execution_count": 24,
     "metadata": {},
     "output_type": "execute_result"
    }
   ],
   "source": [
    "#map Function\n",
    "def test(a):\n",
    "    return len(a)\n",
    "x=map(test,('Pravin ','and ','also ','the ','best '))\n",
    "list(x)"
   ]
  },
  {
   "cell_type": "code",
   "execution_count": 21,
   "id": "32362997",
   "metadata": {},
   "outputs": [
    {
     "data": {
      "text/plain": [
       "('pravinkatkar10000', 'gmail.com')"
      ]
     },
     "execution_count": 21,
     "metadata": {},
     "output_type": "execute_result"
    }
   ],
   "source": [
    "# Username and Domain\n",
    "email=\"pravinkatkar10000@gmail.com\"\n",
    "username,domain=email.split('@')\n",
    "username,domain"
   ]
  },
  {
   "cell_type": "code",
   "execution_count": 30,
   "id": "9cecadc0",
   "metadata": {},
   "outputs": [
    {
     "data": {
      "text/plain": [
       "['applepineapple', 'bananacherry']"
      ]
     },
     "execution_count": 30,
     "metadata": {},
     "output_type": "execute_result"
    }
   ],
   "source": [
    "def test2(a,b):\n",
    "    return a+b\n",
    "y=map(test2,(\"apple\",\"banana\"),(\"pineapple\",\"cherry\"))\n",
    "list(y)"
   ]
  },
  {
   "cell_type": "code",
   "execution_count": 36,
   "id": "8f496f2e",
   "metadata": {},
   "outputs": [],
   "source": [
    "#lambda Function\n",
    "a,b=20,40\n",
    "x=lambda a,b:a+b"
   ]
  },
  {
   "cell_type": "code",
   "execution_count": 39,
   "id": "3822f20b",
   "metadata": {},
   "outputs": [
    {
     "name": "stdout",
     "output_type": "stream",
     "text": [
      "1 0\n"
     ]
    }
   ],
   "source": [
    "#find Second Smallest Number\n",
    "num=[1,2,3,4,5,6,7,8,9,0,6,3,2,6,8]\n",
    "s=float('inf')\n",
    "ss=float('inf')\n",
    "for n in num:\n",
    "    if(n<=s):\n",
    "        s,ss=n,s\n",
    "    elif(n<ss):\n",
    "        ss = n\n",
    "print(ss,s)\n",
    "    "
   ]
  },
  {
   "cell_type": "code",
   "execution_count": 41,
   "id": "7b0a9731",
   "metadata": {},
   "outputs": [
    {
     "name": "stdout",
     "output_type": "stream",
     "text": [
      "{'BMW': 3, 'Audi': 1, 'Jaguar': 2}\n"
     ]
    }
   ],
   "source": [
    "#given list of words print words and count of wordss in dictionary \n",
    "cars=[\"BMW\",\"BMW\",\"BMW\",\"Audi\",\"Jaguar\",\"Jaguar\"]\n",
    "final={}\n",
    "for car in cars:\n",
    "    if car not in final:\n",
    "        final.update({car:1}) \n",
    "    else:\n",
    "        final.update({car:final[car]+1})\n",
    "print(final)"
   ]
  },
  {
   "cell_type": "code",
   "execution_count": 49,
   "id": "7d887865",
   "metadata": {},
   "outputs": [
    {
     "data": {
      "text/plain": [
       "False"
      ]
     },
     "execution_count": 49,
     "metadata": {},
     "output_type": "execute_result"
    }
   ],
   "source": [
    "p='pravin'\n",
    "p.isdigit()"
   ]
  },
  {
   "cell_type": "code",
   "execution_count": 50,
   "id": "64956f1d",
   "metadata": {},
   "outputs": [
    {
     "data": {
      "text/plain": [
       "False"
      ]
     },
     "execution_count": 50,
     "metadata": {},
     "output_type": "execute_result"
    }
   ],
   "source": [
    "p.isdecimal()"
   ]
  },
  {
   "cell_type": "code",
   "execution_count": 51,
   "id": "4fa92ac6",
   "metadata": {},
   "outputs": [
    {
     "data": {
      "text/plain": [
       "True"
      ]
     },
     "execution_count": 51,
     "metadata": {},
     "output_type": "execute_result"
    }
   ],
   "source": [
    "p.islower()"
   ]
  },
  {
   "cell_type": "code",
   "execution_count": 52,
   "id": "c47cca14",
   "metadata": {},
   "outputs": [
    {
     "data": {
      "text/plain": [
       "str"
      ]
     },
     "execution_count": 52,
     "metadata": {},
     "output_type": "execute_result"
    }
   ],
   "source": [
    "type(p)"
   ]
  },
  {
   "cell_type": "code",
   "execution_count": 55,
   "id": "21975cfb",
   "metadata": {},
   "outputs": [
    {
     "data": {
      "text/plain": [
       "'ppppp'"
      ]
     },
     "execution_count": 55,
     "metadata": {},
     "output_type": "execute_result"
    }
   ],
   "source": [
    "5*'p'"
   ]
  },
  {
   "cell_type": "code",
   "execution_count": 56,
   "id": "fc5b9e7c",
   "metadata": {},
   "outputs": [
    {
     "data": {
      "text/plain": [
       "'50katkar'"
      ]
     },
     "execution_count": 56,
     "metadata": {},
     "output_type": "execute_result"
    }
   ],
   "source": [
    "#typeCasting\n",
    "a,b=50,'katkar'\n",
    "str(a)+b"
   ]
  },
  {
   "cell_type": "code",
   "execution_count": 57,
   "id": "7e61ab29",
   "metadata": {},
   "outputs": [
    {
     "data": {
      "text/plain": [
       "'my number is 50 and my name is katkar'"
      ]
     },
     "execution_count": 57,
     "metadata": {},
     "output_type": "execute_result"
    }
   ],
   "source": [
    "'my number is {} and my name is {}'.format(a,b)"
   ]
  },
  {
   "cell_type": "code",
   "execution_count": 58,
   "id": "8db6ee74",
   "metadata": {},
   "outputs": [
    {
     "data": {
      "text/plain": [
       "'my number is 50 and my name is katkar'"
      ]
     },
     "execution_count": 58,
     "metadata": {},
     "output_type": "execute_result"
    }
   ],
   "source": [
    "'my number is {one} and my name is {two}'.format(one=a,two=b)"
   ]
  },
  {
   "cell_type": "code",
   "execution_count": 59,
   "id": "61fa6716",
   "metadata": {},
   "outputs": [
    {
     "data": {
      "text/plain": [
       "'my number is 50 and my name is katkar katkar katkar'"
      ]
     },
     "execution_count": 59,
     "metadata": {},
     "output_type": "execute_result"
    }
   ],
   "source": [
    "'my number is {one} and my name is {two} {two} {two}'.format(one=a,two=b)"
   ]
  },
  {
   "cell_type": "code",
   "execution_count": 60,
   "id": "755c48fc",
   "metadata": {},
   "outputs": [
    {
     "name": "stdout",
     "output_type": "stream",
     "text": [
      "my number is 50 and my name is katkar\n"
     ]
    }
   ],
   "source": [
    "print('my number is {one} and my name is {two}'.format(one=a,two=b))"
   ]
  },
  {
   "cell_type": "code",
   "execution_count": 61,
   "id": "73e3419a",
   "metadata": {},
   "outputs": [],
   "source": [
    "b=[100,400,'india','sachin']"
   ]
  },
  {
   "cell_type": "code",
   "execution_count": 62,
   "id": "a64911e2",
   "metadata": {},
   "outputs": [
    {
     "data": {
      "text/plain": [
       "'chin'"
      ]
     },
     "execution_count": 62,
     "metadata": {},
     "output_type": "execute_result"
    }
   ],
   "source": [
    "#want only chin from list\n",
    "b[3][2:6]"
   ]
  },
  {
   "cell_type": "code",
   "execution_count": 64,
   "id": "13ca983c",
   "metadata": {},
   "outputs": [
    {
     "data": {
      "text/plain": [
       "'sac'"
      ]
     },
     "execution_count": 64,
     "metadata": {},
     "output_type": "execute_result"
    }
   ],
   "source": [
    " #sac\n",
    "b[3][0:3]"
   ]
  },
  {
   "cell_type": "code",
   "execution_count": 65,
   "id": "d5387a4b",
   "metadata": {},
   "outputs": [
    {
     "data": {
      "text/plain": [
       "'ind'"
      ]
     },
     "execution_count": 65,
     "metadata": {},
     "output_type": "execute_result"
    }
   ],
   "source": [
    "#ind\n",
    "b[2][0:3]"
   ]
  },
  {
   "cell_type": "code",
   "execution_count": 66,
   "id": "3d0c59b4",
   "metadata": {},
   "outputs": [
    {
     "data": {
      "text/plain": [
       "[100, 500, 'india', 'sachin']"
      ]
     },
     "execution_count": 66,
     "metadata": {},
     "output_type": "execute_result"
    }
   ],
   "source": [
    "#mutablity\n",
    "b[1]=500\n",
    "b"
   ]
  },
  {
   "cell_type": "code",
   "execution_count": 68,
   "id": "945307bf",
   "metadata": {},
   "outputs": [
    {
     "data": {
      "text/plain": [
       "[100, 500, 'india', 'Pravin']"
      ]
     },
     "execution_count": 68,
     "metadata": {},
     "output_type": "execute_result"
    }
   ],
   "source": [
    "b[3]='Pravin'\n",
    "b"
   ]
  },
  {
   "cell_type": "code",
   "execution_count": null,
   "id": "eae73304",
   "metadata": {},
   "outputs": [],
   "source": []
  }
 ],
 "metadata": {
  "kernelspec": {
   "display_name": "Python 3 (ipykernel)",
   "language": "python",
   "name": "python3"
  },
  "language_info": {
   "codemirror_mode": {
    "name": "ipython",
    "version": 3
   },
   "file_extension": ".py",
   "mimetype": "text/x-python",
   "name": "python",
   "nbconvert_exporter": "python",
   "pygments_lexer": "ipython3",
   "version": "3.8.10"
  }
 },
 "nbformat": 4,
 "nbformat_minor": 5
}
