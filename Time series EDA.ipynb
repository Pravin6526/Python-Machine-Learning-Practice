{
 "cells": [
  {
   "cell_type": "code",
   "execution_count": 1,
   "metadata": {},
   "outputs": [
    {
     "name": "stdout",
     "output_type": "stream",
     "text": [
      "Collecting pandas-datareader\n",
      "  Downloading pandas_datareader-0.10.0-py3-none-any.whl (109 kB)\n",
      "Requirement already satisfied: pandas>=0.23 in c:\\users\\2000139\\anaconda3\\lib\\site-packages (from pandas-datareader) (1.1.3)\n",
      "Requirement already satisfied: lxml in c:\\users\\2000139\\anaconda3\\lib\\site-packages (from pandas-datareader) (4.6.1)\n",
      "Requirement already satisfied: requests>=2.19.0 in c:\\users\\2000139\\anaconda3\\lib\\site-packages (from pandas-datareader) (2.24.0)\n",
      "Requirement already satisfied: python-dateutil>=2.7.3 in c:\\users\\2000139\\anaconda3\\lib\\site-packages (from pandas>=0.23->pandas-datareader) (2.8.1)\n",
      "Requirement already satisfied: numpy>=1.15.4 in c:\\users\\2000139\\anaconda3\\lib\\site-packages (from pandas>=0.23->pandas-datareader) (1.22.2)\n",
      "Requirement already satisfied: pytz>=2017.2 in c:\\users\\2000139\\anaconda3\\lib\\site-packages (from pandas>=0.23->pandas-datareader) (2020.1)\n",
      "Requirement already satisfied: urllib3!=1.25.0,!=1.25.1,<1.26,>=1.21.1 in c:\\users\\2000139\\anaconda3\\lib\\site-packages (from requests>=2.19.0->pandas-datareader) (1.25.11)\n",
      "Requirement already satisfied: idna<3,>=2.5 in c:\\users\\2000139\\anaconda3\\lib\\site-packages (from requests>=2.19.0->pandas-datareader) (2.10)\n",
      "Requirement already satisfied: certifi>=2017.4.17 in c:\\users\\2000139\\anaconda3\\lib\\site-packages (from requests>=2.19.0->pandas-datareader) (2020.6.20)\n",
      "Requirement already satisfied: chardet<4,>=3.0.2 in c:\\users\\2000139\\anaconda3\\lib\\site-packages (from requests>=2.19.0->pandas-datareader) (3.0.4)\n",
      "Requirement already satisfied: six>=1.5 in c:\\users\\2000139\\anaconda3\\lib\\site-packages (from python-dateutil>=2.7.3->pandas>=0.23->pandas-datareader) (1.15.0)\n",
      "Installing collected packages: pandas-datareader\n",
      "Successfully installed pandas-datareader-0.10.0\n"
     ]
    }
   ],
   "source": [
    "#install pandas data reader\n",
    "!pip install pandas-datareader"
   ]
  },
  {
   "cell_type": "code",
   "execution_count": 3,
   "metadata": {},
   "outputs": [],
   "source": [
    "import pandas_datareader as pdr\n",
    "import pandas as pd\n",
    "from datetime import datetime"
   ]
  },
  {
   "cell_type": "code",
   "execution_count": 7,
   "metadata": {},
   "outputs": [],
   "source": [
    "df_tesla=pdr.get_data_yahoo('TSLA')"
   ]
  },
  {
   "cell_type": "code",
   "execution_count": 43,
   "metadata": {},
   "outputs": [
    {
     "data": {
      "text/html": [
       "<div>\n",
       "<style scoped>\n",
       "    .dataframe tbody tr th:only-of-type {\n",
       "        vertical-align: middle;\n",
       "    }\n",
       "\n",
       "    .dataframe tbody tr th {\n",
       "        vertical-align: top;\n",
       "    }\n",
       "\n",
       "    .dataframe thead th {\n",
       "        text-align: right;\n",
       "    }\n",
       "</style>\n",
       "<table border=\"1\" class=\"dataframe\">\n",
       "  <thead>\n",
       "    <tr style=\"text-align: right;\">\n",
       "      <th></th>\n",
       "      <th>Date</th>\n",
       "      <th>High</th>\n",
       "      <th>Low</th>\n",
       "      <th>Open</th>\n",
       "      <th>Close</th>\n",
       "      <th>Volume</th>\n",
       "      <th>Adj Close</th>\n",
       "    </tr>\n",
       "  </thead>\n",
       "  <tbody>\n",
       "    <tr>\n",
       "      <th>0</th>\n",
       "      <td>2017-03-16</td>\n",
       "      <td>53.150002</td>\n",
       "      <td>51.812000</td>\n",
       "      <td>52.480000</td>\n",
       "      <td>52.410000</td>\n",
       "      <td>35661000.0</td>\n",
       "      <td>52.410000</td>\n",
       "    </tr>\n",
       "    <tr>\n",
       "      <th>1</th>\n",
       "      <td>2017-03-17</td>\n",
       "      <td>53.066002</td>\n",
       "      <td>52.240002</td>\n",
       "      <td>52.799999</td>\n",
       "      <td>52.299999</td>\n",
       "      <td>32487500.0</td>\n",
       "      <td>52.299999</td>\n",
       "    </tr>\n",
       "    <tr>\n",
       "      <th>2</th>\n",
       "      <td>2017-03-20</td>\n",
       "      <td>52.910000</td>\n",
       "      <td>51.764000</td>\n",
       "      <td>52.119999</td>\n",
       "      <td>52.383999</td>\n",
       "      <td>18071500.0</td>\n",
       "      <td>52.383999</td>\n",
       "    </tr>\n",
       "    <tr>\n",
       "      <th>3</th>\n",
       "      <td>2017-03-21</td>\n",
       "      <td>52.959999</td>\n",
       "      <td>50.048000</td>\n",
       "      <td>52.566002</td>\n",
       "      <td>50.136002</td>\n",
       "      <td>34543000.0</td>\n",
       "      <td>50.136002</td>\n",
       "    </tr>\n",
       "    <tr>\n",
       "      <th>4</th>\n",
       "      <td>2017-03-22</td>\n",
       "      <td>51.014000</td>\n",
       "      <td>50.102001</td>\n",
       "      <td>50.312000</td>\n",
       "      <td>51.001999</td>\n",
       "      <td>20296500.0</td>\n",
       "      <td>51.001999</td>\n",
       "    </tr>\n",
       "  </tbody>\n",
       "</table>\n",
       "</div>"
      ],
      "text/plain": [
       "        Date       High        Low       Open      Close      Volume  \\\n",
       "0 2017-03-16  53.150002  51.812000  52.480000  52.410000  35661000.0   \n",
       "1 2017-03-17  53.066002  52.240002  52.799999  52.299999  32487500.0   \n",
       "2 2017-03-20  52.910000  51.764000  52.119999  52.383999  18071500.0   \n",
       "3 2017-03-21  52.959999  50.048000  52.566002  50.136002  34543000.0   \n",
       "4 2017-03-22  51.014000  50.102001  50.312000  51.001999  20296500.0   \n",
       "\n",
       "   Adj Close  \n",
       "0  52.410000  \n",
       "1  52.299999  \n",
       "2  52.383999  \n",
       "3  50.136002  \n",
       "4  51.001999  "
      ]
     },
     "execution_count": 43,
     "metadata": {},
     "output_type": "execute_result"
    }
   ],
   "source": [
    "df_tesla.head()"
   ]
  },
  {
   "cell_type": "code",
   "execution_count": 14,
   "metadata": {},
   "outputs": [
    {
     "data": {
      "text/plain": [
       "<AxesSubplot:xlabel='Date'>"
      ]
     },
     "execution_count": 14,
     "metadata": {},
     "output_type": "execute_result"
    },
    {
     "data": {
      "image/png": "[encoded data removed]",
      "text/plain": [
       "<Figure size 864x288 with 1 Axes>"
      ]
     },
     "metadata": {
      "needs_background": "light"
     },
     "output_type": "display_data"
    }
   ],
   "source": [
    "df_tesla['High'].plot(figsize=(12,4))"
   ]
  },
  {
   "cell_type": "code",
   "execution_count": 15,
   "metadata": {},
   "outputs": [
    {
     "data": {
      "text/plain": [
       "<AxesSubplot:xlabel='Date'>"
      ]
     },
     "execution_count": 15,
     "metadata": {},
     "output_type": "execute_result"
    },
    {
     "data": {
      "image/png": "[encoded data removed]",
      "text/plain": [
       "<Figure size 864x288 with 1 Axes>"
      ]
     },
     "metadata": {
      "needs_background": "light"
     },
     "output_type": "display_data"
    }
   ],
   "source": [
    "df_tesla['Low'].plot(figsize=(12,4))"
   ]
  },
  {
   "cell_type": "code",
   "execution_count": 17,
   "metadata": {},
   "outputs": [
    {
     "data": {
      "text/plain": [
       "<AxesSubplot:xlabel='Date'>"
      ]
     },
     "execution_count": 17,
     "metadata": {},
     "output_type": "execute_result"
    },
    {
     "data": {
      "image/png": "[encoded data removed]",
      "text/plain": [
       "<Figure size 864x288 with 1 Axes>"
      ]
     },
     "metadata": {
      "needs_background": "light"
     },
     "output_type": "display_data"
    }
   ],
   "source": [
    "#x limit and y limit\n",
    "df_tesla['High'].plot(xlim=['2020-01-01','2021-10-01'],figsize=(12,4))"
   ]
  },
  {
   "cell_type": "code",
   "execution_count": 19,
   "metadata": {},
   "outputs": [
    {
     "data": {
      "text/plain": [
       "<AxesSubplot:xlabel='Date'>"
      ]
     },
     "execution_count": 19,
     "metadata": {},
     "output_type": "execute_result"
    },
    {
     "data": {
      "image/png": "[encoded data removed]",
      "text/plain": [
       "<Figure size 864x288 with 1 Axes>"
      ]
     },
     "metadata": {
      "needs_background": "light"
     },
     "output_type": "display_data"
    }
   ],
   "source": [
    "#x limit and y limit\n",
    "df_tesla['High'].plot(xlim=['2020-01-01','2021-10-01'],ylim=[0,1000],figsize=(12,4),c='green')"
   ]
  },
  {
   "cell_type": "code",
   "execution_count": 20,
   "metadata": {},
   "outputs": [
    {
     "data": {
      "text/plain": [
       "DatetimeIndex(['2017-03-16', '2017-03-17', '2017-03-20', '2017-03-21',\n",
       "               '2017-03-22', '2017-03-23', '2017-03-24', '2017-03-27',\n",
       "               '2017-03-28', '2017-03-29',\n",
       "               ...\n",
       "               '2022-03-02', '2022-03-03', '2022-03-04', '2022-03-07',\n",
       "               '2022-03-08', '2022-03-09', '2022-03-10', '2022-03-11',\n",
       "               '2022-03-14', '2022-03-15'],\n",
       "              dtype='datetime64[ns]', name='Date', length=1259, freq=None)"
      ]
     },
     "execution_count": 20,
     "metadata": {},
     "output_type": "execute_result"
    }
   ],
   "source": [
    "df_tesla.index"
   ]
  },
  {
   "cell_type": "code",
   "execution_count": 31,
   "metadata": {},
   "outputs": [],
   "source": [
    "index=df_tesla.loc['2020-01-01':'2021-10-01'].index"
   ]
  },
  {
   "cell_type": "code",
   "execution_count": 28,
   "metadata": {},
   "outputs": [
    {
     "data": {
      "text/plain": [
       "Date\n",
       "2020-01-02     84.900002\n",
       "2020-01-03     88.099998\n",
       "2020-01-06     88.094002\n",
       "2020-01-07     92.279999\n",
       "2020-01-08     94.739998\n",
       "                 ...    \n",
       "2021-09-27    773.119995\n",
       "2021-09-28    787.200012\n",
       "2021-09-29    779.799988\n",
       "2021-09-30    781.000000\n",
       "2021-10-01    778.400024\n",
       "Name: Open, Length: 442, dtype: float64"
      ]
     },
     "execution_count": 28,
     "metadata": {},
     "output_type": "execute_result"
    }
   ],
   "source": [
    "share_open=df_tesla.loc['2020-01-01':'2021-10-01']['Open']\n",
    "share_open"
   ]
  },
  {
   "cell_type": "code",
   "execution_count": 32,
   "metadata": {},
   "outputs": [],
   "source": [
    "import matplotlib.pyplot as plt\n",
    "%matplotlib inline"
   ]
  },
  {
   "cell_type": "code",
   "execution_count": 41,
   "metadata": {},
   "outputs": [
    {
     "data": {
      "text/plain": [
       "[<matplotlib.lines.Line2D at 0x1beea62d2b0>]"
      ]
     },
     "execution_count": 41,
     "metadata": {},
     "output_type": "execute_result"
    },
    {
     "data": {
      "image/png": "[encoded data removed]",
      "text/plain": [
       "<Figure size 432x288 with 1 Axes>"
      ]
     },
     "metadata": {
      "needs_background": "light"
     },
     "output_type": "display_data"
    }
   ],
   "source": [
    "figure,axis=plt.subplots()\n",
    "#preventing overlapping\n",
    "plt.tight_layout()\n",
    "figure.autofmt_xdate()\n",
    "axis.plot(index,share_open)"
   ]
  },
  {
   "cell_type": "code",
   "execution_count": 59,
   "metadata": {},
   "outputs": [
    {
     "data": {
      "text/html": [
       "<div>\n",
       "<style scoped>\n",
       "    .dataframe tbody tr th:only-of-type {\n",
       "        vertical-align: middle;\n",
       "    }\n",
       "\n",
       "    .dataframe tbody tr th {\n",
       "        vertical-align: top;\n",
       "    }\n",
       "\n",
       "    .dataframe thead th {\n",
       "        text-align: right;\n",
       "    }\n",
       "</style>\n",
       "<table border=\"1\" class=\"dataframe\">\n",
       "  <thead>\n",
       "    <tr style=\"text-align: right;\">\n",
       "      <th></th>\n",
       "      <th>Date</th>\n",
       "      <th>level_0</th>\n",
       "      <th>index</th>\n",
       "      <th>High</th>\n",
       "      <th>Low</th>\n",
       "      <th>Open</th>\n",
       "      <th>Close</th>\n",
       "      <th>Volume</th>\n",
       "      <th>Adj Close</th>\n",
       "    </tr>\n",
       "  </thead>\n",
       "  <tbody>\n",
       "    <tr>\n",
       "      <th>0</th>\n",
       "      <td>2017-03-16</td>\n",
       "      <td>0</td>\n",
       "      <td>0</td>\n",
       "      <td>53.150002</td>\n",
       "      <td>51.812000</td>\n",
       "      <td>52.480000</td>\n",
       "      <td>52.410000</td>\n",
       "      <td>35661000.0</td>\n",
       "      <td>52.410000</td>\n",
       "    </tr>\n",
       "    <tr>\n",
       "      <th>1</th>\n",
       "      <td>2017-03-17</td>\n",
       "      <td>1</td>\n",
       "      <td>1</td>\n",
       "      <td>53.066002</td>\n",
       "      <td>52.240002</td>\n",
       "      <td>52.799999</td>\n",
       "      <td>52.299999</td>\n",
       "      <td>32487500.0</td>\n",
       "      <td>52.299999</td>\n",
       "    </tr>\n",
       "    <tr>\n",
       "      <th>2</th>\n",
       "      <td>2017-03-20</td>\n",
       "      <td>2</td>\n",
       "      <td>2</td>\n",
       "      <td>52.910000</td>\n",
       "      <td>51.764000</td>\n",
       "      <td>52.119999</td>\n",
       "      <td>52.383999</td>\n",
       "      <td>18071500.0</td>\n",
       "      <td>52.383999</td>\n",
       "    </tr>\n",
       "    <tr>\n",
       "      <th>3</th>\n",
       "      <td>2017-03-21</td>\n",
       "      <td>3</td>\n",
       "      <td>3</td>\n",
       "      <td>52.959999</td>\n",
       "      <td>50.048000</td>\n",
       "      <td>52.566002</td>\n",
       "      <td>50.136002</td>\n",
       "      <td>34543000.0</td>\n",
       "      <td>50.136002</td>\n",
       "    </tr>\n",
       "    <tr>\n",
       "      <th>4</th>\n",
       "      <td>2017-03-22</td>\n",
       "      <td>4</td>\n",
       "      <td>4</td>\n",
       "      <td>51.014000</td>\n",
       "      <td>50.102001</td>\n",
       "      <td>50.312000</td>\n",
       "      <td>51.001999</td>\n",
       "      <td>20296500.0</td>\n",
       "      <td>51.001999</td>\n",
       "    </tr>\n",
       "    <tr>\n",
       "      <th>...</th>\n",
       "      <td>...</td>\n",
       "      <td>...</td>\n",
       "      <td>...</td>\n",
       "      <td>...</td>\n",
       "      <td>...</td>\n",
       "      <td>...</td>\n",
       "      <td>...</td>\n",
       "      <td>...</td>\n",
       "      <td>...</td>\n",
       "    </tr>\n",
       "    <tr>\n",
       "      <th>1254</th>\n",
       "      <td>2022-03-09</td>\n",
       "      <td>1254</td>\n",
       "      <td>1254</td>\n",
       "      <td>860.559998</td>\n",
       "      <td>832.010010</td>\n",
       "      <td>839.479980</td>\n",
       "      <td>858.969971</td>\n",
       "      <td>19728000.0</td>\n",
       "      <td>858.969971</td>\n",
       "    </tr>\n",
       "    <tr>\n",
       "      <th>1255</th>\n",
       "      <td>2022-03-10</td>\n",
       "      <td>1255</td>\n",
       "      <td>1255</td>\n",
       "      <td>854.450012</td>\n",
       "      <td>810.359985</td>\n",
       "      <td>851.450012</td>\n",
       "      <td>838.299988</td>\n",
       "      <td>19549500.0</td>\n",
       "      <td>838.299988</td>\n",
       "    </tr>\n",
       "    <tr>\n",
       "      <th>1256</th>\n",
       "      <td>2022-03-11</td>\n",
       "      <td>1256</td>\n",
       "      <td>1256</td>\n",
       "      <td>843.799988</td>\n",
       "      <td>793.770020</td>\n",
       "      <td>840.200012</td>\n",
       "      <td>795.349976</td>\n",
       "      <td>22272800.0</td>\n",
       "      <td>795.349976</td>\n",
       "    </tr>\n",
       "    <tr>\n",
       "      <th>1257</th>\n",
       "      <td>2022-03-14</td>\n",
       "      <td>1257</td>\n",
       "      <td>1257</td>\n",
       "      <td>800.700012</td>\n",
       "      <td>756.039978</td>\n",
       "      <td>780.609985</td>\n",
       "      <td>766.369995</td>\n",
       "      <td>23717400.0</td>\n",
       "      <td>766.369995</td>\n",
       "    </tr>\n",
       "    <tr>\n",
       "      <th>1258</th>\n",
       "      <td>2022-03-15</td>\n",
       "      <td>1258</td>\n",
       "      <td>1258</td>\n",
       "      <td>805.549988</td>\n",
       "      <td>756.570007</td>\n",
       "      <td>775.270020</td>\n",
       "      <td>801.890015</td>\n",
       "      <td>22280381.0</td>\n",
       "      <td>801.890015</td>\n",
       "    </tr>\n",
       "  </tbody>\n",
       "</table>\n",
       "<p>1259 rows × 9 columns</p>\n",
       "</div>"
      ],
      "text/plain": [
       "           Date  level_0  index        High         Low        Open  \\\n",
       "0    2017-03-16        0      0   53.150002   51.812000   52.480000   \n",
       "1    2017-03-17        1      1   53.066002   52.240002   52.799999   \n",
       "2    2017-03-20        2      2   52.910000   51.764000   52.119999   \n",
       "3    2017-03-21        3      3   52.959999   50.048000   52.566002   \n",
       "4    2017-03-22        4      4   51.014000   50.102001   50.312000   \n",
       "...         ...      ...    ...         ...         ...         ...   \n",
       "1254 2022-03-09     1254   1254  860.559998  832.010010  839.479980   \n",
       "1255 2022-03-10     1255   1255  854.450012  810.359985  851.450012   \n",
       "1256 2022-03-11     1256   1256  843.799988  793.770020  840.200012   \n",
       "1257 2022-03-14     1257   1257  800.700012  756.039978  780.609985   \n",
       "1258 2022-03-15     1258   1258  805.549988  756.570007  775.270020   \n",
       "\n",
       "           Close      Volume   Adj Close  \n",
       "0      52.410000  35661000.0   52.410000  \n",
       "1      52.299999  32487500.0   52.299999  \n",
       "2      52.383999  18071500.0   52.383999  \n",
       "3      50.136002  34543000.0   50.136002  \n",
       "4      51.001999  20296500.0   51.001999  \n",
       "...          ...         ...         ...  \n",
       "1254  858.969971  19728000.0  858.969971  \n",
       "1255  838.299988  19549500.0  838.299988  \n",
       "1256  795.349976  22272800.0  795.349976  \n",
       "1257  766.369995  23717400.0  766.369995  \n",
       "1258  801.890015  22280381.0  801.890015  \n",
       "\n",
       "[1259 rows x 9 columns]"
      ]
     },
     "execution_count": 59,
     "metadata": {},
     "output_type": "execute_result"
    }
   ],
   "source": [
    "df_tesla=df_tesla.reset_index()\n",
    "df_tesla"
   ]
  },
  {
   "cell_type": "code",
   "execution_count": 60,
   "metadata": {},
   "outputs": [
    {
     "name": "stdout",
     "output_type": "stream",
     "text": [
      "<class 'pandas.core.frame.DataFrame'>\n",
      "RangeIndex: 1259 entries, 0 to 1258\n",
      "Data columns (total 9 columns):\n",
      " #   Column     Non-Null Count  Dtype         \n",
      "---  ------     --------------  -----         \n",
      " 0   Date       1259 non-null   datetime64[ns]\n",
      " 1   level_0    1259 non-null   int64         \n",
      " 2   index      1259 non-null   int64         \n",
      " 3   High       1259 non-null   float64       \n",
      " 4   Low        1259 non-null   float64       \n",
      " 5   Open       1259 non-null   float64       \n",
      " 6   Close      1259 non-null   float64       \n",
      " 7   Volume     1259 non-null   float64       \n",
      " 8   Adj Close  1259 non-null   float64       \n",
      "dtypes: datetime64[ns](1), float64(6), int64(2)\n",
      "memory usage: 88.6 KB\n"
     ]
    }
   ],
   "source": [
    "df_tesla.info()"
   ]
  },
  {
   "cell_type": "code",
   "execution_count": 61,
   "metadata": {},
   "outputs": [
    {
     "data": {
      "text/plain": [
       "0      2017-03-16\n",
       "1      2017-03-17\n",
       "2      2017-03-20\n",
       "3      2017-03-21\n",
       "4      2017-03-22\n",
       "          ...    \n",
       "1254   2022-03-09\n",
       "1255   2022-03-10\n",
       "1256   2022-03-11\n",
       "1257   2022-03-14\n",
       "1258   2022-03-15\n",
       "Name: Date, Length: 1259, dtype: datetime64[ns]"
      ]
     },
     "execution_count": 61,
     "metadata": {},
     "output_type": "execute_result"
    }
   ],
   "source": [
    "pd.to_datetime(df_tesla['Date'])"
   ]
  },
  {
   "cell_type": "code",
   "execution_count": 62,
   "metadata": {},
   "outputs": [
    {
     "data": {
      "text/html": [
       "<div>\n",
       "<style scoped>\n",
       "    .dataframe tbody tr th:only-of-type {\n",
       "        vertical-align: middle;\n",
       "    }\n",
       "\n",
       "    .dataframe tbody tr th {\n",
       "        vertical-align: top;\n",
       "    }\n",
       "\n",
       "    .dataframe thead th {\n",
       "        text-align: right;\n",
       "    }\n",
       "</style>\n",
       "<table border=\"1\" class=\"dataframe\">\n",
       "  <thead>\n",
       "    <tr style=\"text-align: right;\">\n",
       "      <th></th>\n",
       "      <th>level_0</th>\n",
       "      <th>index</th>\n",
       "      <th>High</th>\n",
       "      <th>Low</th>\n",
       "      <th>Open</th>\n",
       "      <th>Close</th>\n",
       "      <th>Volume</th>\n",
       "      <th>Adj Close</th>\n",
       "    </tr>\n",
       "    <tr>\n",
       "      <th>Date</th>\n",
       "      <th></th>\n",
       "      <th></th>\n",
       "      <th></th>\n",
       "      <th></th>\n",
       "      <th></th>\n",
       "      <th></th>\n",
       "      <th></th>\n",
       "      <th></th>\n",
       "    </tr>\n",
       "  </thead>\n",
       "  <tbody>\n",
       "    <tr>\n",
       "      <th>2017-03-16</th>\n",
       "      <td>0</td>\n",
       "      <td>0</td>\n",
       "      <td>53.150002</td>\n",
       "      <td>51.812000</td>\n",
       "      <td>52.480000</td>\n",
       "      <td>52.410000</td>\n",
       "      <td>35661000.0</td>\n",
       "      <td>52.410000</td>\n",
       "    </tr>\n",
       "    <tr>\n",
       "      <th>2017-03-17</th>\n",
       "      <td>1</td>\n",
       "      <td>1</td>\n",
       "      <td>53.066002</td>\n",
       "      <td>52.240002</td>\n",
       "      <td>52.799999</td>\n",
       "      <td>52.299999</td>\n",
       "      <td>32487500.0</td>\n",
       "      <td>52.299999</td>\n",
       "    </tr>\n",
       "    <tr>\n",
       "      <th>2017-03-20</th>\n",
       "      <td>2</td>\n",
       "      <td>2</td>\n",
       "      <td>52.910000</td>\n",
       "      <td>51.764000</td>\n",
       "      <td>52.119999</td>\n",
       "      <td>52.383999</td>\n",
       "      <td>18071500.0</td>\n",
       "      <td>52.383999</td>\n",
       "    </tr>\n",
       "    <tr>\n",
       "      <th>2017-03-21</th>\n",
       "      <td>3</td>\n",
       "      <td>3</td>\n",
       "      <td>52.959999</td>\n",
       "      <td>50.048000</td>\n",
       "      <td>52.566002</td>\n",
       "      <td>50.136002</td>\n",
       "      <td>34543000.0</td>\n",
       "      <td>50.136002</td>\n",
       "    </tr>\n",
       "    <tr>\n",
       "      <th>2017-03-22</th>\n",
       "      <td>4</td>\n",
       "      <td>4</td>\n",
       "      <td>51.014000</td>\n",
       "      <td>50.102001</td>\n",
       "      <td>50.312000</td>\n",
       "      <td>51.001999</td>\n",
       "      <td>20296500.0</td>\n",
       "      <td>51.001999</td>\n",
       "    </tr>\n",
       "    <tr>\n",
       "      <th>...</th>\n",
       "      <td>...</td>\n",
       "      <td>...</td>\n",
       "      <td>...</td>\n",
       "      <td>...</td>\n",
       "      <td>...</td>\n",
       "      <td>...</td>\n",
       "      <td>...</td>\n",
       "      <td>...</td>\n",
       "    </tr>\n",
       "    <tr>\n",
       "      <th>2022-03-09</th>\n",
       "      <td>1254</td>\n",
       "      <td>1254</td>\n",
       "      <td>860.559998</td>\n",
       "      <td>832.010010</td>\n",
       "      <td>839.479980</td>\n",
       "      <td>858.969971</td>\n",
       "      <td>19728000.0</td>\n",
       "      <td>858.969971</td>\n",
       "    </tr>\n",
       "    <tr>\n",
       "      <th>2022-03-10</th>\n",
       "      <td>1255</td>\n",
       "      <td>1255</td>\n",
       "      <td>854.450012</td>\n",
       "      <td>810.359985</td>\n",
       "      <td>851.450012</td>\n",
       "      <td>838.299988</td>\n",
       "      <td>19549500.0</td>\n",
       "      <td>838.299988</td>\n",
       "    </tr>\n",
       "    <tr>\n",
       "      <th>2022-03-11</th>\n",
       "      <td>1256</td>\n",
       "      <td>1256</td>\n",
       "      <td>843.799988</td>\n",
       "      <td>793.770020</td>\n",
       "      <td>840.200012</td>\n",
       "      <td>795.349976</td>\n",
       "      <td>22272800.0</td>\n",
       "      <td>795.349976</td>\n",
       "    </tr>\n",
       "    <tr>\n",
       "      <th>2022-03-14</th>\n",
       "      <td>1257</td>\n",
       "      <td>1257</td>\n",
       "      <td>800.700012</td>\n",
       "      <td>756.039978</td>\n",
       "      <td>780.609985</td>\n",
       "      <td>766.369995</td>\n",
       "      <td>23717400.0</td>\n",
       "      <td>766.369995</td>\n",
       "    </tr>\n",
       "    <tr>\n",
       "      <th>2022-03-15</th>\n",
       "      <td>1258</td>\n",
       "      <td>1258</td>\n",
       "      <td>805.549988</td>\n",
       "      <td>756.570007</td>\n",
       "      <td>775.270020</td>\n",
       "      <td>801.890015</td>\n",
       "      <td>22280381.0</td>\n",
       "      <td>801.890015</td>\n",
       "    </tr>\n",
       "  </tbody>\n",
       "</table>\n",
       "<p>1259 rows × 8 columns</p>\n",
       "</div>"
      ],
      "text/plain": [
       "            level_0  index        High         Low        Open       Close  \\\n",
       "Date                                                                         \n",
       "2017-03-16        0      0   53.150002   51.812000   52.480000   52.410000   \n",
       "2017-03-17        1      1   53.066002   52.240002   52.799999   52.299999   \n",
       "2017-03-20        2      2   52.910000   51.764000   52.119999   52.383999   \n",
       "2017-03-21        3      3   52.959999   50.048000   52.566002   50.136002   \n",
       "2017-03-22        4      4   51.014000   50.102001   50.312000   51.001999   \n",
       "...             ...    ...         ...         ...         ...         ...   \n",
       "2022-03-09     1254   1254  860.559998  832.010010  839.479980  858.969971   \n",
       "2022-03-10     1255   1255  854.450012  810.359985  851.450012  838.299988   \n",
       "2022-03-11     1256   1256  843.799988  793.770020  840.200012  795.349976   \n",
       "2022-03-14     1257   1257  800.700012  756.039978  780.609985  766.369995   \n",
       "2022-03-15     1258   1258  805.549988  756.570007  775.270020  801.890015   \n",
       "\n",
       "                Volume   Adj Close  \n",
       "Date                                \n",
       "2017-03-16  35661000.0   52.410000  \n",
       "2017-03-17  32487500.0   52.299999  \n",
       "2017-03-20  18071500.0   52.383999  \n",
       "2017-03-21  34543000.0   50.136002  \n",
       "2017-03-22  20296500.0   51.001999  \n",
       "...                ...         ...  \n",
       "2022-03-09  19728000.0  858.969971  \n",
       "2022-03-10  19549500.0  838.299988  \n",
       "2022-03-11  22272800.0  795.349976  \n",
       "2022-03-14  23717400.0  766.369995  \n",
       "2022-03-15  22280381.0  801.890015  \n",
       "\n",
       "[1259 rows x 8 columns]"
      ]
     },
     "execution_count": 62,
     "metadata": {},
     "output_type": "execute_result"
    }
   ],
   "source": [
    "df_tesla=df_tesla.set_index(['Date'],drop=True)\n",
    "df_tesla"
   ]
  },
  {
   "cell_type": "code",
   "execution_count": 70,
   "metadata": {},
   "outputs": [],
   "source": [
    "df_tesla=df_tesla.drop(['level_0','index'], axis=1)"
   ]
  },
  {
   "cell_type": "code",
   "execution_count": 71,
   "metadata": {},
   "outputs": [
    {
     "data": {
      "text/html": [
       "<div>\n",
       "<style scoped>\n",
       "    .dataframe tbody tr th:only-of-type {\n",
       "        vertical-align: middle;\n",
       "    }\n",
       "\n",
       "    .dataframe tbody tr th {\n",
       "        vertical-align: top;\n",
       "    }\n",
       "\n",
       "    .dataframe thead th {\n",
       "        text-align: right;\n",
       "    }\n",
       "</style>\n",
       "<table border=\"1\" class=\"dataframe\">\n",
       "  <thead>\n",
       "    <tr style=\"text-align: right;\">\n",
       "      <th></th>\n",
       "      <th>High</th>\n",
       "      <th>Low</th>\n",
       "      <th>Open</th>\n",
       "      <th>Close</th>\n",
       "      <th>Volume</th>\n",
       "      <th>Adj Close</th>\n",
       "    </tr>\n",
       "    <tr>\n",
       "      <th>Date</th>\n",
       "      <th></th>\n",
       "      <th></th>\n",
       "      <th></th>\n",
       "      <th></th>\n",
       "      <th></th>\n",
       "      <th></th>\n",
       "    </tr>\n",
       "  </thead>\n",
       "  <tbody>\n",
       "    <tr>\n",
       "      <th>2017-03-16</th>\n",
       "      <td>53.150002</td>\n",
       "      <td>51.812000</td>\n",
       "      <td>52.480000</td>\n",
       "      <td>52.410000</td>\n",
       "      <td>35661000.0</td>\n",
       "      <td>52.410000</td>\n",
       "    </tr>\n",
       "    <tr>\n",
       "      <th>2017-03-17</th>\n",
       "      <td>53.066002</td>\n",
       "      <td>52.240002</td>\n",
       "      <td>52.799999</td>\n",
       "      <td>52.299999</td>\n",
       "      <td>32487500.0</td>\n",
       "      <td>52.299999</td>\n",
       "    </tr>\n",
       "    <tr>\n",
       "      <th>2017-03-20</th>\n",
       "      <td>52.910000</td>\n",
       "      <td>51.764000</td>\n",
       "      <td>52.119999</td>\n",
       "      <td>52.383999</td>\n",
       "      <td>18071500.0</td>\n",
       "      <td>52.383999</td>\n",
       "    </tr>\n",
       "    <tr>\n",
       "      <th>2017-03-21</th>\n",
       "      <td>52.959999</td>\n",
       "      <td>50.048000</td>\n",
       "      <td>52.566002</td>\n",
       "      <td>50.136002</td>\n",
       "      <td>34543000.0</td>\n",
       "      <td>50.136002</td>\n",
       "    </tr>\n",
       "    <tr>\n",
       "      <th>2017-03-22</th>\n",
       "      <td>51.014000</td>\n",
       "      <td>50.102001</td>\n",
       "      <td>50.312000</td>\n",
       "      <td>51.001999</td>\n",
       "      <td>20296500.0</td>\n",
       "      <td>51.001999</td>\n",
       "    </tr>\n",
       "    <tr>\n",
       "      <th>...</th>\n",
       "      <td>...</td>\n",
       "      <td>...</td>\n",
       "      <td>...</td>\n",
       "      <td>...</td>\n",
       "      <td>...</td>\n",
       "      <td>...</td>\n",
       "    </tr>\n",
       "    <tr>\n",
       "      <th>2022-03-09</th>\n",
       "      <td>860.559998</td>\n",
       "      <td>832.010010</td>\n",
       "      <td>839.479980</td>\n",
       "      <td>858.969971</td>\n",
       "      <td>19728000.0</td>\n",
       "      <td>858.969971</td>\n",
       "    </tr>\n",
       "    <tr>\n",
       "      <th>2022-03-10</th>\n",
       "      <td>854.450012</td>\n",
       "      <td>810.359985</td>\n",
       "      <td>851.450012</td>\n",
       "      <td>838.299988</td>\n",
       "      <td>19549500.0</td>\n",
       "      <td>838.299988</td>\n",
       "    </tr>\n",
       "    <tr>\n",
       "      <th>2022-03-11</th>\n",
       "      <td>843.799988</td>\n",
       "      <td>793.770020</td>\n",
       "      <td>840.200012</td>\n",
       "      <td>795.349976</td>\n",
       "      <td>22272800.0</td>\n",
       "      <td>795.349976</td>\n",
       "    </tr>\n",
       "    <tr>\n",
       "      <th>2022-03-14</th>\n",
       "      <td>800.700012</td>\n",
       "      <td>756.039978</td>\n",
       "      <td>780.609985</td>\n",
       "      <td>766.369995</td>\n",
       "      <td>23717400.0</td>\n",
       "      <td>766.369995</td>\n",
       "    </tr>\n",
       "    <tr>\n",
       "      <th>2022-03-15</th>\n",
       "      <td>805.549988</td>\n",
       "      <td>756.570007</td>\n",
       "      <td>775.270020</td>\n",
       "      <td>801.890015</td>\n",
       "      <td>22280381.0</td>\n",
       "      <td>801.890015</td>\n",
       "    </tr>\n",
       "  </tbody>\n",
       "</table>\n",
       "<p>1259 rows × 6 columns</p>\n",
       "</div>"
      ],
      "text/plain": [
       "                  High         Low        Open       Close      Volume  \\\n",
       "Date                                                                     \n",
       "2017-03-16   53.150002   51.812000   52.480000   52.410000  35661000.0   \n",
       "2017-03-17   53.066002   52.240002   52.799999   52.299999  32487500.0   \n",
       "2017-03-20   52.910000   51.764000   52.119999   52.383999  18071500.0   \n",
       "2017-03-21   52.959999   50.048000   52.566002   50.136002  34543000.0   \n",
       "2017-03-22   51.014000   50.102001   50.312000   51.001999  20296500.0   \n",
       "...                ...         ...         ...         ...         ...   \n",
       "2022-03-09  860.559998  832.010010  839.479980  858.969971  19728000.0   \n",
       "2022-03-10  854.450012  810.359985  851.450012  838.299988  19549500.0   \n",
       "2022-03-11  843.799988  793.770020  840.200012  795.349976  22272800.0   \n",
       "2022-03-14  800.700012  756.039978  780.609985  766.369995  23717400.0   \n",
       "2022-03-15  805.549988  756.570007  775.270020  801.890015  22280381.0   \n",
       "\n",
       "             Adj Close  \n",
       "Date                    \n",
       "2017-03-16   52.410000  \n",
       "2017-03-17   52.299999  \n",
       "2017-03-20   52.383999  \n",
       "2017-03-21   50.136002  \n",
       "2017-03-22   51.001999  \n",
       "...                ...  \n",
       "2022-03-09  858.969971  \n",
       "2022-03-10  838.299988  \n",
       "2022-03-11  795.349976  \n",
       "2022-03-14  766.369995  \n",
       "2022-03-15  801.890015  \n",
       "\n",
       "[1259 rows x 6 columns]"
      ]
     },
     "execution_count": 71,
     "metadata": {},
     "output_type": "execute_result"
    }
   ],
   "source": [
    "df_tesla"
   ]
  },
  {
   "cell_type": "code",
   "execution_count": 75,
   "metadata": {},
   "outputs": [],
   "source": [
    "date=datetime.now()"
   ]
  },
  {
   "cell_type": "code",
   "execution_count": null,
   "metadata": {},
   "outputs": [],
   "source": [
    "#start_time=datetime.now()\n",
    "#fun\n",
    "#end_time=datetime.now()\n",
    "#print(end_time-start_time)"
   ]
  },
  {
   "cell_type": "code",
   "execution_count": 76,
   "metadata": {},
   "outputs": [
    {
     "data": {
      "text/plain": [
       "datetime.date(2022, 3, 16)"
      ]
     },
     "execution_count": 76,
     "metadata": {},
     "output_type": "execute_result"
    }
   ],
   "source": [
    "date.date()"
   ]
  },
  {
   "cell_type": "code",
   "execution_count": 77,
   "metadata": {},
   "outputs": [
    {
     "data": {
      "text/plain": [
       "16"
      ]
     },
     "execution_count": 77,
     "metadata": {},
     "output_type": "execute_result"
    }
   ],
   "source": [
    "date.day"
   ]
  },
  {
   "cell_type": "code",
   "execution_count": 80,
   "metadata": {},
   "outputs": [
    {
     "data": {
      "text/plain": [
       "2"
      ]
     },
     "execution_count": 80,
     "metadata": {},
     "output_type": "execute_result"
    }
   ],
   "source": [
    "date.weekday()"
   ]
  },
  {
   "cell_type": "code",
   "execution_count": 82,
   "metadata": {},
   "outputs": [
    {
     "data": {
      "text/plain": [
       "2022"
      ]
     },
     "execution_count": 82,
     "metadata": {},
     "output_type": "execute_result"
    }
   ],
   "source": [
    "date.year"
   ]
  },
  {
   "cell_type": "code",
   "execution_count": 83,
   "metadata": {},
   "outputs": [
    {
     "data": {
      "text/plain": [
       "3"
      ]
     },
     "execution_count": 83,
     "metadata": {},
     "output_type": "execute_result"
    }
   ],
   "source": [
    "date.month"
   ]
  },
  {
   "cell_type": "markdown",
   "metadata": {},
   "source": [
    "# time resampling"
   ]
  },
  {
   "cell_type": "code",
   "execution_count": 84,
   "metadata": {},
   "outputs": [
    {
     "data": {
      "text/html": [
       "<div>\n",
       "<style scoped>\n",
       "    .dataframe tbody tr th:only-of-type {\n",
       "        vertical-align: middle;\n",
       "    }\n",
       "\n",
       "    .dataframe tbody tr th {\n",
       "        vertical-align: top;\n",
       "    }\n",
       "\n",
       "    .dataframe thead th {\n",
       "        text-align: right;\n",
       "    }\n",
       "</style>\n",
       "<table border=\"1\" class=\"dataframe\">\n",
       "  <thead>\n",
       "    <tr style=\"text-align: right;\">\n",
       "      <th></th>\n",
       "      <th>High</th>\n",
       "      <th>Low</th>\n",
       "      <th>Open</th>\n",
       "      <th>Close</th>\n",
       "      <th>Volume</th>\n",
       "      <th>Adj Close</th>\n",
       "    </tr>\n",
       "    <tr>\n",
       "      <th>Date</th>\n",
       "      <th></th>\n",
       "      <th></th>\n",
       "      <th></th>\n",
       "      <th></th>\n",
       "      <th></th>\n",
       "      <th></th>\n",
       "    </tr>\n",
       "  </thead>\n",
       "  <tbody>\n",
       "    <tr>\n",
       "      <th>2017-03-16</th>\n",
       "      <td>53.150002</td>\n",
       "      <td>51.812000</td>\n",
       "      <td>52.480000</td>\n",
       "      <td>52.410000</td>\n",
       "      <td>35661000.0</td>\n",
       "      <td>52.410000</td>\n",
       "    </tr>\n",
       "    <tr>\n",
       "      <th>2017-03-17</th>\n",
       "      <td>53.066002</td>\n",
       "      <td>52.240002</td>\n",
       "      <td>52.799999</td>\n",
       "      <td>52.299999</td>\n",
       "      <td>32487500.0</td>\n",
       "      <td>52.299999</td>\n",
       "    </tr>\n",
       "    <tr>\n",
       "      <th>2017-03-20</th>\n",
       "      <td>52.910000</td>\n",
       "      <td>51.764000</td>\n",
       "      <td>52.119999</td>\n",
       "      <td>52.383999</td>\n",
       "      <td>18071500.0</td>\n",
       "      <td>52.383999</td>\n",
       "    </tr>\n",
       "    <tr>\n",
       "      <th>2017-03-21</th>\n",
       "      <td>52.959999</td>\n",
       "      <td>50.048000</td>\n",
       "      <td>52.566002</td>\n",
       "      <td>50.136002</td>\n",
       "      <td>34543000.0</td>\n",
       "      <td>50.136002</td>\n",
       "    </tr>\n",
       "    <tr>\n",
       "      <th>2017-03-22</th>\n",
       "      <td>51.014000</td>\n",
       "      <td>50.102001</td>\n",
       "      <td>50.312000</td>\n",
       "      <td>51.001999</td>\n",
       "      <td>20296500.0</td>\n",
       "      <td>51.001999</td>\n",
       "    </tr>\n",
       "    <tr>\n",
       "      <th>...</th>\n",
       "      <td>...</td>\n",
       "      <td>...</td>\n",
       "      <td>...</td>\n",
       "      <td>...</td>\n",
       "      <td>...</td>\n",
       "      <td>...</td>\n",
       "    </tr>\n",
       "    <tr>\n",
       "      <th>2022-03-09</th>\n",
       "      <td>860.559998</td>\n",
       "      <td>832.010010</td>\n",
       "      <td>839.479980</td>\n",
       "      <td>858.969971</td>\n",
       "      <td>19728000.0</td>\n",
       "      <td>858.969971</td>\n",
       "    </tr>\n",
       "    <tr>\n",
       "      <th>2022-03-10</th>\n",
       "      <td>854.450012</td>\n",
       "      <td>810.359985</td>\n",
       "      <td>851.450012</td>\n",
       "      <td>838.299988</td>\n",
       "      <td>19549500.0</td>\n",
       "      <td>838.299988</td>\n",
       "    </tr>\n",
       "    <tr>\n",
       "      <th>2022-03-11</th>\n",
       "      <td>843.799988</td>\n",
       "      <td>793.770020</td>\n",
       "      <td>840.200012</td>\n",
       "      <td>795.349976</td>\n",
       "      <td>22272800.0</td>\n",
       "      <td>795.349976</td>\n",
       "    </tr>\n",
       "    <tr>\n",
       "      <th>2022-03-14</th>\n",
       "      <td>800.700012</td>\n",
       "      <td>756.039978</td>\n",
       "      <td>780.609985</td>\n",
       "      <td>766.369995</td>\n",
       "      <td>23717400.0</td>\n",
       "      <td>766.369995</td>\n",
       "    </tr>\n",
       "    <tr>\n",
       "      <th>2022-03-15</th>\n",
       "      <td>805.549988</td>\n",
       "      <td>756.570007</td>\n",
       "      <td>775.270020</td>\n",
       "      <td>801.890015</td>\n",
       "      <td>22280381.0</td>\n",
       "      <td>801.890015</td>\n",
       "    </tr>\n",
       "  </tbody>\n",
       "</table>\n",
       "<p>1259 rows × 6 columns</p>\n",
       "</div>"
      ],
      "text/plain": [
       "                  High         Low        Open       Close      Volume  \\\n",
       "Date                                                                     \n",
       "2017-03-16   53.150002   51.812000   52.480000   52.410000  35661000.0   \n",
       "2017-03-17   53.066002   52.240002   52.799999   52.299999  32487500.0   \n",
       "2017-03-20   52.910000   51.764000   52.119999   52.383999  18071500.0   \n",
       "2017-03-21   52.959999   50.048000   52.566002   50.136002  34543000.0   \n",
       "2017-03-22   51.014000   50.102001   50.312000   51.001999  20296500.0   \n",
       "...                ...         ...         ...         ...         ...   \n",
       "2022-03-09  860.559998  832.010010  839.479980  858.969971  19728000.0   \n",
       "2022-03-10  854.450012  810.359985  851.450012  838.299988  19549500.0   \n",
       "2022-03-11  843.799988  793.770020  840.200012  795.349976  22272800.0   \n",
       "2022-03-14  800.700012  756.039978  780.609985  766.369995  23717400.0   \n",
       "2022-03-15  805.549988  756.570007  775.270020  801.890015  22280381.0   \n",
       "\n",
       "             Adj Close  \n",
       "Date                    \n",
       "2017-03-16   52.410000  \n",
       "2017-03-17   52.299999  \n",
       "2017-03-20   52.383999  \n",
       "2017-03-21   50.136002  \n",
       "2017-03-22   51.001999  \n",
       "...                ...  \n",
       "2022-03-09  858.969971  \n",
       "2022-03-10  838.299988  \n",
       "2022-03-11  795.349976  \n",
       "2022-03-14  766.369995  \n",
       "2022-03-15  801.890015  \n",
       "\n",
       "[1259 rows x 6 columns]"
      ]
     },
     "execution_count": 84,
     "metadata": {},
     "output_type": "execute_result"
    }
   ],
   "source": [
    "df_tesla"
   ]
  },
  {
   "cell_type": "code",
   "execution_count": 87,
   "metadata": {},
   "outputs": [
    {
     "data": {
      "text/plain": [
       "<AxesSubplot:xlabel='Date'>"
      ]
     },
     "execution_count": 87,
     "metadata": {},
     "output_type": "execute_result"
    },
    {
     "data": {
      "image/png": "[encoded data removed]",
      "text/plain": [
       "<Figure size 432x288 with 1 Axes>"
      ]
     },
     "metadata": {
      "needs_background": "light"
     },
     "output_type": "display_data"
    }
   ],
   "source": [
    "#A rule means year and frequency\n",
    "df_tesla.resample(rule='A').max()['Open'].plot()"
   ]
  },
  {
   "cell_type": "code",
   "execution_count": 91,
   "metadata": {},
   "outputs": [
    {
     "data": {
      "text/plain": [
       "<AxesSubplot:xlabel='Date'>"
      ]
     },
     "execution_count": 91,
     "metadata": {},
     "output_type": "execute_result"
    },
    {
     "data": {
      "image/png": "[encoded data removed]",
      "text/plain": [
       "<Figure size 432x288 with 1 Axes>"
      ]
     },
     "metadata": {
      "needs_background": "light"
     },
     "output_type": "display_data"
    }
   ],
   "source": [
    "#quaterly\n",
    "df_tesla['Open'].resample(rule='BA').mean().plot(kind='bar')"
   ]
  },
  {
   "cell_type": "code",
   "execution_count": null,
   "metadata": {},
   "outputs": [],
   "source": []
  }
 ],
 "metadata": {
  "kernelspec": {
   "display_name": "Python 3 (ipykernel)",
   "language": "python",
   "name": "python3"
  },
  "language_info": {
   "codemirror_mode": {
    "name": "ipython",
    "version": 3
   },
   "file_extension": ".py",
   "mimetype": "text/x-python",
   "name": "python",
   "nbconvert_exporter": "python",
   "pygments_lexer": "ipython3",
   "version": "3.8.10"
  }
 },
 "nbformat": 4,
 "nbformat_minor": 4
}
