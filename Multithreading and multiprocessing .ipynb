{
 "cells": [
  {
   "cell_type": "code",
   "execution_count": 2,
   "metadata": {},
   "outputs": [
    {
     "name": "stdout",
     "output_type": "stream",
     "text": [
      "Time taken in seconds - 0.0\n"
     ]
    }
   ],
   "source": [
    "import time, os\n",
    "from threading import Thread, current_thread\n",
    "from multiprocessing import Process, current_process\n",
    "  \n",
    "  \n",
    "COUNT = 200000000\n",
    "SLEEP = 10\n",
    "  \n",
    "def io_bound(sec):\n",
    "  \n",
    "    pid = os.getpid()\n",
    "    threadName = current_thread().name\n",
    "    processName = current_process().name\n",
    "  \n",
    "    print(f\"{pid} * {processName} * {threadName} \\\n",
    "        ---> Start sleeping...\")\n",
    "    time.sleep(sec)\n",
    "    print(f\"{pid} * {processName} * {threadName} \\\n",
    "        ---> Finished sleeping...\")\n",
    "  \n",
    "def cpu_bound(n):\n",
    "  \n",
    "    pid = os.getpid()\n",
    "    threadName = current_thread().name\n",
    "    processName = current_process().name\n",
    "  \n",
    "    print(f\"{pid} * {processName} * {threadName} \\\n",
    "        ---> Start counting...\")\n",
    "  \n",
    "    while n>0:\n",
    "        n -= 1\n",
    "  \n",
    "    print(f\"{pid} * {processName} * {threadName} \\\n",
    "        ---> Finished counting...\")\n",
    "  \n",
    "if __name__==\"__main__\":\n",
    "    start = time.time()\n",
    "  \n",
    "    # YOUR CODE SNIPPET HERE\n",
    "  \n",
    "    end = time.time()\n",
    "    print('Time taken in seconds -', end - start)"
   ]
  },
  {
   "cell_type": "code",
   "execution_count": 5,
   "metadata": {},
   "outputs": [
    {
     "name": "stdout",
     "output_type": "stream",
     "text": [
      "14468 * MainProcess * MainThread         ---> Start sleeping...\n",
      "14468 * MainProcess * MainThread         ---> Finished sleeping...\n",
      "14468 * MainProcess * MainThread         ---> Start sleeping...\n",
      "14468 * MainProcess * MainThread         ---> Finished sleeping...\n"
     ]
    }
   ],
   "source": [
    "io_bound(SLEEP)\n",
    "io_bound(SLEEP)"
   ]
  },
  {
   "cell_type": "code",
   "execution_count": 6,
   "metadata": {},
   "outputs": [
    {
     "name": "stdout",
     "output_type": "stream",
     "text": [
      "14468 * MainProcess * Thread-8         ---> Start sleeping...\n",
      "14468 * MainProcess * Thread-9         ---> Start sleeping...\n",
      "14468 * MainProcess * Thread-8         ---> Finished sleeping...\n",
      "14468 * MainProcess * Thread-9         ---> Finished sleeping...\n"
     ]
    }
   ],
   "source": [
    "t1 = Thread(target = io_bound, args =(SLEEP, ))\n",
    "t2 = Thread(target = io_bound, args =(SLEEP, ))\n",
    "t1.start()\n",
    "t2.start()\n",
    "t1.join()\n",
    "t2.join()"
   ]
  },
  {
   "cell_type": "code",
   "execution_count": null,
   "metadata": {},
   "outputs": [],
   "source": []
  }
 ],
 "metadata": {
  "kernelspec": {
   "display_name": "Python 3",
   "language": "python",
   "name": "python3"
  },
  "language_info": {
   "codemirror_mode": {
    "name": "ipython",
    "version": 3
   },
   "file_extension": ".py",
   "mimetype": "text/x-python",
   "name": "python",
   "nbconvert_exporter": "python",
   "pygments_lexer": "ipython3",
   "version": "3.8.5"
  }
 },
 "nbformat": 4,
 "nbformat_minor": 4
}
