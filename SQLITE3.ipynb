{
 "cells": [
  {
   "cell_type": "code",
   "execution_count": 1,
   "id": "df89dfd1",
   "metadata": {},
   "outputs": [
    {
     "name": "stdout",
     "output_type": "stream",
     "text": [
      "Overwriting xyx.txt\n"
     ]
    }
   ],
   "source": [
    "%%writefile xyx.txt\n",
    "my name is khan\n",
    "dxfgvgbhbhjnjghc\n",
    "rftgux hghgyubx b bd\n",
    " nbhubn nm\n",
    "    db xhbh hd hw g hw\n",
    "    b gxybyx b gxh gwhs\n",
    "     db g h xbhs hc s\n",
    "        n hx j sh c\n",
    "        v h b gc v "
   ]
  },
  {
   "cell_type": "code",
   "execution_count": 2,
   "id": "13c1c951",
   "metadata": {},
   "outputs": [],
   "source": [
    "from io import StringIO"
   ]
  },
  {
   "cell_type": "code",
   "execution_count": 3,
   "id": "1c89951a",
   "metadata": {},
   "outputs": [
    {
     "name": "stdout",
     "output_type": "stream",
     "text": [
      "hello\n"
     ]
    }
   ],
   "source": [
    "s=input()"
   ]
  },
  {
   "cell_type": "code",
   "execution_count": 4,
   "id": "b5cbbd54",
   "metadata": {},
   "outputs": [
    {
     "data": {
      "text/plain": [
       "'hello'"
      ]
     },
     "execution_count": 4,
     "metadata": {},
     "output_type": "execute_result"
    }
   ],
   "source": [
    "s"
   ]
  },
  {
   "cell_type": "code",
   "execution_count": 5,
   "id": "7d754650",
   "metadata": {},
   "outputs": [],
   "source": [
    "s1=StringIO(s) "
   ]
  },
  {
   "cell_type": "code",
   "execution_count": 6,
   "id": "7dfbc3bd",
   "metadata": {},
   "outputs": [
    {
     "data": {
      "text/plain": [
       "_io.StringIO"
      ]
     },
     "execution_count": 6,
     "metadata": {},
     "output_type": "execute_result"
    }
   ],
   "source": [
    "type(s1)"
   ]
  },
  {
   "cell_type": "code",
   "execution_count": 7,
   "id": "fd212f6d",
   "metadata": {},
   "outputs": [
    {
     "data": {
      "text/plain": [
       "str"
      ]
     },
     "execution_count": 7,
     "metadata": {},
     "output_type": "execute_result"
    }
   ],
   "source": [
    "type(s)"
   ]
  },
  {
   "cell_type": "code",
   "execution_count": 8,
   "id": "6113f7e0",
   "metadata": {},
   "outputs": [
    {
     "data": {
      "text/plain": [
       "'hello'"
      ]
     },
     "execution_count": 8,
     "metadata": {},
     "output_type": "execute_result"
    }
   ],
   "source": [
    "s1.read()"
   ]
  },
  {
   "cell_type": "code",
   "execution_count": 9,
   "id": "b4e5e57c",
   "metadata": {},
   "outputs": [
    {
     "data": {
      "text/plain": [
       "5"
      ]
     },
     "execution_count": 9,
     "metadata": {},
     "output_type": "execute_result"
    }
   ],
   "source": [
    "s1.tell()"
   ]
  },
  {
   "cell_type": "markdown",
   "id": "9564c3c1",
   "metadata": {},
   "source": [
    "# Database Programming "
   ]
  },
  {
   "cell_type": "code",
   "execution_count": 10,
   "id": "a524f45e",
   "metadata": {},
   "outputs": [],
   "source": [
    "#sql alchemy, sqlite2, MySQL , mangodb , cassandra , influx DB"
   ]
  },
  {
   "cell_type": "code",
   "execution_count": 11,
   "id": "c327e47e",
   "metadata": {},
   "outputs": [],
   "source": [
    "#sqlite3"
   ]
  },
  {
   "cell_type": "code",
   "execution_count": 12,
   "id": "9cc13bda",
   "metadata": {},
   "outputs": [],
   "source": [
    "import sqlite3"
   ]
  },
  {
   "cell_type": "code",
   "execution_count": 13,
   "id": "0fab49a3",
   "metadata": {},
   "outputs": [],
   "source": [
    "c=sqlite3.connect(\"SUNDAY\")"
   ]
  },
  {
   "cell_type": "code",
   "execution_count": 14,
   "id": "c9400b93",
   "metadata": {},
   "outputs": [
    {
     "data": {
      "text/plain": [
       "<sqlite3.Connection at 0x208f4b56030>"
      ]
     },
     "execution_count": 14,
     "metadata": {},
     "output_type": "execute_result"
    }
   ],
   "source": [
    "c"
   ]
  },
  {
   "cell_type": "code",
   "execution_count": 15,
   "id": "f9964e39",
   "metadata": {},
   "outputs": [
    {
     "ename": "OperationalError",
     "evalue": "table abc already exists",
     "output_type": "error",
     "traceback": [
      "\u001b[1;31m---------------------------------------------------------------------------\u001b[0m",
      "\u001b[1;31mOperationalError\u001b[0m                          Traceback (most recent call last)",
      "\u001b[1;32m~\\AppData\\Local\\Temp\\ipykernel_16176\\695479848.py\u001b[0m in \u001b[0;36m<cell line: 1>\u001b[1;34m()\u001b[0m\n\u001b[1;32m----> 1\u001b[1;33m \u001b[0mc\u001b[0m\u001b[1;33m.\u001b[0m\u001b[0mexecute\u001b[0m\u001b[1;33m(\u001b[0m\u001b[1;34m\"create table abc(id int,name text,score int)\"\u001b[0m\u001b[1;33m)\u001b[0m\u001b[1;33m\u001b[0m\u001b[1;33m\u001b[0m\u001b[0m\n\u001b[0m",
      "\u001b[1;31mOperationalError\u001b[0m: table abc already exists"
     ]
    }
   ],
   "source": [
    "c.execute(\"create table abc(id int,name text,score int)\")"
   ]
  },
  {
   "cell_type": "code",
   "execution_count": 16,
   "id": "7d5a0a9d",
   "metadata": {},
   "outputs": [
    {
     "data": {
      "text/plain": [
       "<sqlite3.Cursor at 0x208f4b57110>"
      ]
     },
     "execution_count": 16,
     "metadata": {},
     "output_type": "execute_result"
    }
   ],
   "source": [
    "c.execute(\"insert into abc(id,name,score) values(345,'Pravin',84)\")"
   ]
  },
  {
   "cell_type": "code",
   "execution_count": 17,
   "id": "2b5e18ac",
   "metadata": {},
   "outputs": [
    {
     "data": {
      "text/plain": [
       "<sqlite3.Cursor at 0x208f4b570a0>"
      ]
     },
     "execution_count": 17,
     "metadata": {},
     "output_type": "execute_result"
    }
   ],
   "source": [
    "c.execute(\"insert into abc(id,name,score) values(346,'katkar ',88)\")"
   ]
  },
  {
   "cell_type": "code",
   "execution_count": 18,
   "id": "88a06d1a",
   "metadata": {},
   "outputs": [
    {
     "data": {
      "text/plain": [
       "<sqlite3.Cursor at 0x208f4b57260>"
      ]
     },
     "execution_count": 18,
     "metadata": {},
     "output_type": "execute_result"
    }
   ],
   "source": [
    "c.execute(\"insert into abc(id,name,score) values(347,'Pranav',85)\")"
   ]
  },
  {
   "cell_type": "code",
   "execution_count": 19,
   "id": "65dd1e9d",
   "metadata": {},
   "outputs": [
    {
     "data": {
      "text/plain": [
       "<sqlite3.Cursor at 0x208f4b57340>"
      ]
     },
     "execution_count": 19,
     "metadata": {},
     "output_type": "execute_result"
    }
   ],
   "source": [
    "c.execute(\"insert into abc(id,name,score) values(348,'rahul',80)\")"
   ]
  },
  {
   "cell_type": "code",
   "execution_count": 20,
   "id": "3849bda1",
   "metadata": {},
   "outputs": [
    {
     "data": {
      "text/plain": [
       "<sqlite3.Cursor at 0x208f4b575e0>"
      ]
     },
     "execution_count": 20,
     "metadata": {},
     "output_type": "execute_result"
    }
   ],
   "source": [
    "c.execute('select * from abc')"
   ]
  },
  {
   "cell_type": "code",
   "execution_count": 21,
   "id": "ed8d580a",
   "metadata": {},
   "outputs": [],
   "source": [
    "c.commit()"
   ]
  },
  {
   "cell_type": "code",
   "execution_count": 22,
   "id": "1cf40dad",
   "metadata": {},
   "outputs": [
    {
     "data": {
      "text/plain": [
       "[(345, 'Pravin', 84),\n",
       " (346, 'katkar ', 88),\n",
       " (347, 'Pranav', 85),\n",
       " (348, 'rahul', 80),\n",
       " (345, 'Pravin', 84),\n",
       " (346, 'katkar ', 88),\n",
       " (347, 'Pranav', 85),\n",
       " (348, 'rahul', 80)]"
      ]
     },
     "execution_count": 22,
     "metadata": {},
     "output_type": "execute_result"
    }
   ],
   "source": [
    "list(c.execute('select * from abc'))"
   ]
  },
  {
   "cell_type": "code",
   "execution_count": 23,
   "id": "61b93d85",
   "metadata": {},
   "outputs": [
    {
     "data": {
      "text/plain": [
       "(346, 'katkar ', 88)"
      ]
     },
     "execution_count": 23,
     "metadata": {},
     "output_type": "execute_result"
    }
   ],
   "source": [
    "list(c.execute('select * from abc'))[1]"
   ]
  },
  {
   "cell_type": "code",
   "execution_count": 24,
   "id": "22b2f6fd",
   "metadata": {},
   "outputs": [
    {
     "data": {
      "text/plain": [
       "'katkar '"
      ]
     },
     "execution_count": 24,
     "metadata": {},
     "output_type": "execute_result"
    }
   ],
   "source": [
    "list(c.execute('select * from abc'))[1][1]"
   ]
  },
  {
   "cell_type": "code",
   "execution_count": 25,
   "id": "d2f616c2",
   "metadata": {},
   "outputs": [
    {
     "name": "stdout",
     "output_type": "stream",
     "text": [
      "(345, 'Pravin', 84)\n",
      "(346, 'katkar ', 88)\n",
      "(347, 'Pranav', 85)\n",
      "(348, 'rahul', 80)\n",
      "(345, 'Pravin', 84)\n",
      "(346, 'katkar ', 88)\n",
      "(347, 'Pranav', 85)\n",
      "(348, 'rahul', 80)\n"
     ]
    }
   ],
   "source": [
    "for i in  c.execute('select * from abc'):\n",
    "    print(i)"
   ]
  },
  {
   "cell_type": "code",
   "execution_count": 26,
   "id": "99ef1530",
   "metadata": {},
   "outputs": [
    {
     "name": "stdout",
     "output_type": "stream",
     "text": [
      "(348, 'rahul', 80)\n",
      "(348, 'rahul', 80)\n",
      "(345, 'Pravin', 84)\n",
      "(345, 'Pravin', 84)\n",
      "(347, 'Pranav', 85)\n",
      "(347, 'Pranav', 85)\n",
      "(346, 'katkar ', 88)\n",
      "(346, 'katkar ', 88)\n"
     ]
    }
   ],
   "source": [
    "for i in  c.execute('select * from abc order by score'):\n",
    "    print(i)"
   ]
  },
  {
   "cell_type": "code",
   "execution_count": 27,
   "id": "ec7f371b",
   "metadata": {},
   "outputs": [
    {
     "name": "stdout",
     "output_type": "stream",
     "text": [
      "(345, 'Pravin', 84)\n",
      "(345, 'Pravin', 84)\n"
     ]
    }
   ],
   "source": [
    "for i in  c.execute(\"select * from abc where name ='Pravin'\"):\n",
    "    print(i)"
   ]
  },
  {
   "cell_type": "code",
   "execution_count": null,
   "id": "2c9ea878",
   "metadata": {},
   "outputs": [],
   "source": []
  }
 ],
 "metadata": {
  "kernelspec": {
   "display_name": "Python 3 (ipykernel)",
   "language": "python",
   "name": "python3"
  },
  "language_info": {
   "codemirror_mode": {
    "name": "ipython",
    "version": 3
   },
   "file_extension": ".py",
   "mimetype": "text/x-python",
   "name": "python",
   "nbconvert_exporter": "python",
   "pygments_lexer": "ipython3",
   "version": "3.8.10"
  }
 },
 "nbformat": 4,
 "nbformat_minor": 5
}
